{
 "cells": [
  {
   "cell_type": "markdown",
   "metadata": {},
   "source": [
    "<font color='black' size=6 face='Times New Roman'>Решение соревнования kaggle \"Porn Detection\" by <b>Safronenkov R. S.</b></font>"
   ]
  },
  {
   "cell_type": "markdown",
   "metadata": {},
   "source": [
    "<a href=https://www.kaggle.com/c/parkml2020>Park 2020. Porn detection.</a>"
   ]
  },
  {
   "cell_type": "code",
   "execution_count": 1,
   "metadata": {},
   "outputs": [
    {
     "name": "stderr",
     "output_type": "stream",
     "text": [
      "[nltk_data] Downloading package stopwords to\n",
      "[nltk_data]     C:\\Users\\Asus\\AppData\\Roaming\\nltk_data...\n",
      "[nltk_data]   Package stopwords is already up-to-date!\n",
      "[nltk_data] Downloading package punkt to\n",
      "[nltk_data]     C:\\Users\\Asus\\AppData\\Roaming\\nltk_data...\n",
      "[nltk_data]   Package punkt is already up-to-date!\n"
     ]
    }
   ],
   "source": [
    "import numpy as np\n",
    "import pandas as pd\n",
    "import matplotlib.pyplot as plt\n",
    "plt.style.use('ggplot')\n",
    "\n",
    "import re\n",
    "import nltk\n",
    "nltk.download('stopwords')\n",
    "nltk.download('punkt')\n",
    "import pymorphy2\n",
    "from collections import Counter\n",
    "\n",
    "from sklearn.feature_extraction.text import CountVectorizer, TfidfVectorizer\n",
    "from sklearn.naive_bayes import MultinomialNB\n",
    "from sklearn.ensemble import RandomForestClassifier, VotingClassifier\n",
    "from sklearn.linear_model import LogisticRegression\n",
    "from sklearn.metrics import f1_score\n",
    "from sklearn.pipeline import Pipeline, FeatureUnion\n",
    "from sklearn.base import TransformerMixin\n",
    "from sklearn.model_selection import train_test_split\n",
    "from sklearn.preprocessing import MinMaxScaler\n",
    "\n",
    "from tqdm import notebook"
   ]
  },
  {
   "cell_type": "code",
   "execution_count": 2,
   "metadata": {},
   "outputs": [],
   "source": [
    "seed = 5 # оно тоже дало свой прирост\n",
    "np.random.seed(seed)"
   ]
  },
  {
   "cell_type": "code",
   "execution_count": 3,
   "metadata": {},
   "outputs": [],
   "source": [
    "def tokenize_text(text): # простой токенизатор, без знаков препинания\n",
    "    return re.findall(r'[\\w]+', text.lower())\n",
    "\n",
    "def tokenize_corpus(corpus): # для удобства токенизации всего корпуса\n",
    "    return [tokenize_text(text) for text in notebook.tqdm(corpus)]\n",
    "\n",
    "def join_tokenized_sentences(tokenized_sentences): # соединить токенизированный корпус обратно\n",
    "    sentence_list = []\n",
    "    for doc in notebook.tqdm(tokenized_sentences):\n",
    "        sentence = str()\n",
    "        for token in doc:\n",
    "            sentence += token + ' '\n",
    "        sentence_list.append(sentence.rstrip())\n",
    "    return sentence_list\n",
    "\n",
    "def lemmatize(token): # лемматизация с использованием pymorphy2\n",
    "    if lemmatizer.word_is_known(token):\n",
    "        if token not in lemmatizer_cache:\n",
    "            lemmatizer_cache[token] = lemmatizer.parse(token)[0].normal_form\n",
    "        return lemmatizer_cache[token]\n",
    "    return token"
   ]
  },
  {
   "cell_type": "code",
   "execution_count": 4,
   "metadata": {},
   "outputs": [
    {
     "data": {
      "text/html": [
       "<div>\n",
       "<style scoped>\n",
       "    .dataframe tbody tr th:only-of-type {\n",
       "        vertical-align: middle;\n",
       "    }\n",
       "\n",
       "    .dataframe tbody tr th {\n",
       "        vertical-align: top;\n",
       "    }\n",
       "\n",
       "    .dataframe thead th {\n",
       "        text-align: right;\n",
       "    }\n",
       "</style>\n",
       "<table border=\"1\" class=\"dataframe\">\n",
       "  <thead>\n",
       "    <tr style=\"text-align: right;\">\n",
       "      <th></th>\n",
       "      <th>id</th>\n",
       "      <th>url</th>\n",
       "      <th>title</th>\n",
       "      <th>target</th>\n",
       "    </tr>\n",
       "  </thead>\n",
       "  <tbody>\n",
       "    <tr>\n",
       "      <th>0</th>\n",
       "      <td>0</td>\n",
       "      <td>m.kp.md</td>\n",
       "      <td>Экс-министр экономики Молдовы - главе МИДЭИ, ц...</td>\n",
       "      <td>False</td>\n",
       "    </tr>\n",
       "    <tr>\n",
       "      <th>1</th>\n",
       "      <td>1</td>\n",
       "      <td>www.kp.by</td>\n",
       "      <td>Эта песня стала известна многим телезрителям б...</td>\n",
       "      <td>False</td>\n",
       "    </tr>\n",
       "    <tr>\n",
       "      <th>2</th>\n",
       "      <td>2</td>\n",
       "      <td>fanserials.tv</td>\n",
       "      <td>Банши 4 сезон 2 серия Бремя красоты смотреть о...</td>\n",
       "      <td>False</td>\n",
       "    </tr>\n",
       "    <tr>\n",
       "      <th>3</th>\n",
       "      <td>3</td>\n",
       "      <td>colorbox.spb.ru</td>\n",
       "      <td>Не Беси Меня Картинки</td>\n",
       "      <td>False</td>\n",
       "    </tr>\n",
       "    <tr>\n",
       "      <th>4</th>\n",
       "      <td>4</td>\n",
       "      <td>tula-sport.ru</td>\n",
       "      <td>В Новомосковске сыграют следж-хоккеисты алекси...</td>\n",
       "      <td>False</td>\n",
       "    </tr>\n",
       "  </tbody>\n",
       "</table>\n",
       "</div>"
      ],
      "text/plain": [
       "   id              url                                              title  \\\n",
       "0   0          m.kp.md  Экс-министр экономики Молдовы - главе МИДЭИ, ц...   \n",
       "1   1        www.kp.by  Эта песня стала известна многим телезрителям б...   \n",
       "2   2    fanserials.tv  Банши 4 сезон 2 серия Бремя красоты смотреть о...   \n",
       "3   3  colorbox.spb.ru                              Не Беси Меня Картинки   \n",
       "4   4    tula-sport.ru  В Новомосковске сыграют следж-хоккеисты алекси...   \n",
       "\n",
       "   target  \n",
       "0   False  \n",
       "1   False  \n",
       "2   False  \n",
       "3   False  \n",
       "4   False  "
      ]
     },
     "execution_count": 4,
     "metadata": {},
     "output_type": "execute_result"
    }
   ],
   "source": [
    "df_train = pd.read_csv(\"./data/train.csv\")\n",
    "\n",
    "df_train.head()"
   ]
  },
  {
   "cell_type": "code",
   "execution_count": 5,
   "metadata": {},
   "outputs": [
    {
     "data": {
      "text/html": [
       "<div>\n",
       "<style scoped>\n",
       "    .dataframe tbody tr th:only-of-type {\n",
       "        vertical-align: middle;\n",
       "    }\n",
       "\n",
       "    .dataframe tbody tr th {\n",
       "        vertical-align: top;\n",
       "    }\n",
       "\n",
       "    .dataframe thead th {\n",
       "        text-align: right;\n",
       "    }\n",
       "</style>\n",
       "<table border=\"1\" class=\"dataframe\">\n",
       "  <thead>\n",
       "    <tr style=\"text-align: right;\">\n",
       "      <th></th>\n",
       "      <th>id</th>\n",
       "      <th>url</th>\n",
       "      <th>title</th>\n",
       "    </tr>\n",
       "  </thead>\n",
       "  <tbody>\n",
       "    <tr>\n",
       "      <th>0</th>\n",
       "      <td>135309</td>\n",
       "      <td>www.kommersant.ru</td>\n",
       "      <td>Шестой кассационный суд в Самаре начнет работу...</td>\n",
       "    </tr>\n",
       "    <tr>\n",
       "      <th>1</th>\n",
       "      <td>135310</td>\n",
       "      <td>urexpert.online</td>\n",
       "      <td>Что такое индексация алиментов, кем и в каких ...</td>\n",
       "    </tr>\n",
       "    <tr>\n",
       "      <th>2</th>\n",
       "      <td>135311</td>\n",
       "      <td>imperimeha.ru</td>\n",
       "      <td>Женщинам | Империя Меха - Part 12</td>\n",
       "    </tr>\n",
       "    <tr>\n",
       "      <th>3</th>\n",
       "      <td>135312</td>\n",
       "      <td>national-porn.com</td>\n",
       "      <td>Небритые, волосатые киски: Порно всех стран и ...</td>\n",
       "    </tr>\n",
       "    <tr>\n",
       "      <th>4</th>\n",
       "      <td>135313</td>\n",
       "      <td>2gis.ru</td>\n",
       "      <td>67</td>\n",
       "    </tr>\n",
       "  </tbody>\n",
       "</table>\n",
       "</div>"
      ],
      "text/plain": [
       "       id                url  \\\n",
       "0  135309  www.kommersant.ru   \n",
       "1  135310    urexpert.online   \n",
       "2  135311      imperimeha.ru   \n",
       "3  135312  national-porn.com   \n",
       "4  135313            2gis.ru   \n",
       "\n",
       "                                               title  \n",
       "0  Шестой кассационный суд в Самаре начнет работу...  \n",
       "1  Что такое индексация алиментов, кем и в каких ...  \n",
       "2                  Женщинам | Империя Меха - Part 12  \n",
       "3  Небритые, волосатые киски: Порно всех стран и ...  \n",
       "4                                                 67  "
      ]
     },
     "execution_count": 5,
     "metadata": {},
     "output_type": "execute_result"
    }
   ],
   "source": [
    "test_df = pd.read_csv(\"./data/test.csv\")\n",
    "\n",
    "test_df.head()"
   ]
  },
  {
   "cell_type": "code",
   "execution_count": 6,
   "metadata": {},
   "outputs": [],
   "source": [
    "train_df, val_df, tar_train, tar_val = train_test_split(df_train.drop('target', axis=1), df_train.target,\n",
    "                                                  test_size=0.2, random_state=seed)"
   ]
  },
  {
   "cell_type": "code",
   "execution_count": 7,
   "metadata": {},
   "outputs": [],
   "source": [
    "train_df = train_df.join(tar_train)\n",
    "val_df = val_df.join(tar_val)"
   ]
  },
  {
   "cell_type": "code",
   "execution_count": 8,
   "metadata": {},
   "outputs": [
    {
     "data": {
      "text/plain": [
       "((108247, 4), (27062, 4))"
      ]
     },
     "execution_count": 8,
     "metadata": {},
     "output_type": "execute_result"
    }
   ],
   "source": [
    "train_df.shape, val_df.shape"
   ]
  },
  {
   "cell_type": "code",
   "execution_count": 9,
   "metadata": {},
   "outputs": [
    {
     "data": {
      "image/png": "[encoded data removed]",
      "text/plain": [
       "<Figure size 1382.4x777.6 with 1 Axes>"
      ]
     },
     "metadata": {},
     "output_type": "display_data"
    }
   ],
   "source": [
    "train_df.title.str.len().hist(bins=200, figsize=(19.20, 10.80))\n",
    "plt.show()"
   ]
  },
  {
   "cell_type": "markdown",
   "metadata": {},
   "source": [
    "<font color='black' size=6 face='Times New Roman'><b>Токенизация</b></font>"
   ]
  },
  {
   "cell_type": "code",
   "execution_count": 10,
   "metadata": {},
   "outputs": [
    {
     "data": {
      "text/plain": [
       "False    94958\n",
       "True     13289\n",
       "Name: target, dtype: int64"
      ]
     },
     "execution_count": 10,
     "metadata": {},
     "output_type": "execute_result"
    }
   ],
   "source": [
    "train_df[\"target\"].value_counts()"
   ]
  },
  {
   "cell_type": "code",
   "execution_count": 11,
   "metadata": {},
   "outputs": [
    {
     "data": {
      "text/plain": [
       "array(['Уточнение запроса поиска маршрута',\n",
       "       'Эбби Грин - Недотрога читать онлайн',\n",
       "       'Как сделать домик для детей своими руками. Детский домик своими руками. Фото и идеи',\n",
       "       ..., '10 признаков хорошего детского гастроэнтеролога',\n",
       "       'Слава героя и поэта в сравнении с заслугой лесовода тускнеет. Ф. Шиллер',\n",
       "       'Куртки для мальчиков — страница 3, Дочки и Сыночки'], dtype=object)"
      ]
     },
     "execution_count": 11,
     "metadata": {},
     "output_type": "execute_result"
    }
   ],
   "source": [
    "corpus_train = train_df.title.values\n",
    "corpus_val = val_df.title.values\n",
    "corpus_test = test_df.title.values\n",
    "corpus_train"
   ]
  },
  {
   "cell_type": "code",
   "execution_count": 12,
   "metadata": {},
   "outputs": [
    {
     "data": {
      "application/vnd.jupyter.widget-view+json": {
       "model_id": "9f6d198ed9ac4258a5033c456ad96ae3",
       "version_major": 2,
       "version_minor": 0
      },
      "text/plain": [
       "HBox(children=(FloatProgress(value=0.0, max=108247.0), HTML(value='')))"
      ]
     },
     "metadata": {},
     "output_type": "display_data"
    },
    {
     "name": "stdout",
     "output_type": "stream",
     "text": [
      "\n"
     ]
    },
    {
     "data": {
      "application/vnd.jupyter.widget-view+json": {
       "model_id": "959662e35d654e63b399ecbfef4253f8",
       "version_major": 2,
       "version_minor": 0
      },
      "text/plain": [
       "HBox(children=(FloatProgress(value=0.0, max=27062.0), HTML(value='')))"
      ]
     },
     "metadata": {},
     "output_type": "display_data"
    },
    {
     "name": "stdout",
     "output_type": "stream",
     "text": [
      "\n"
     ]
    },
    {
     "data": {
      "application/vnd.jupyter.widget-view+json": {
       "model_id": "416bd83cd993453790007a5f9abdfdfa",
       "version_major": 2,
       "version_minor": 0
      },
      "text/plain": [
       "HBox(children=(FloatProgress(value=0.0, max=165378.0), HTML(value='')))"
      ]
     },
     "metadata": {},
     "output_type": "display_data"
    },
    {
     "name": "stdout",
     "output_type": "stream",
     "text": [
      "\n"
     ]
    }
   ],
   "source": [
    "docs_train = tokenize_corpus(corpus_train)\n",
    "docs_val = tokenize_corpus(corpus_val)\n",
    "docs_test = tokenize_corpus(corpus_test)"
   ]
  },
  {
   "cell_type": "markdown",
   "metadata": {},
   "source": [
    "<font color='black' size=6 face='Times New Roman'><b>Стоп слова</b></font>"
   ]
  },
  {
   "cell_type": "code",
   "execution_count": 17,
   "metadata": {},
   "outputs": [
    {
     "data": {
      "application/vnd.jupyter.widget-view+json": {
       "model_id": "0de627a35a5b46f8ba0881edd691bb11",
       "version_major": 2,
       "version_minor": 0
      },
      "text/plain": [
       "HBox(children=(FloatProgress(value=0.0, max=108247.0), HTML(value='')))"
      ]
     },
     "metadata": {},
     "output_type": "display_data"
    },
    {
     "name": "stdout",
     "output_type": "stream",
     "text": [
      "\n"
     ]
    }
   ],
   "source": [
    "occurence = Counter()\n",
    "\n",
    "for doc in notebook.tqdm(docs_train):\n",
    "    for token in doc:\n",
    "        occurence[token] += 1"
   ]
  },
  {
   "cell_type": "code",
   "execution_count": 18,
   "metadata": {},
   "outputs": [
    {
     "data": {
      "text/plain": [
       "[('в', 30076),\n",
       " ('на', 18324),\n",
       " ('и', 18275),\n",
       " ('ru', 11271),\n",
       " ('онлайн', 9664),\n",
       " ('с', 8968),\n",
       " ('для', 8064),\n",
       " ('по', 6781),\n",
       " ('бесплатно', 6648),\n",
       " ('скачать', 6190),\n",
       " ('1', 5592),\n",
       " ('mail', 5446),\n",
       " ('2', 5123),\n",
       " ('купить', 5085),\n",
       " ('фото', 5073),\n",
       " ('страница', 4645),\n",
       " ('4', 4577),\n",
       " ('смотреть', 4489),\n",
       " ('от', 4266),\n",
       " ('поиск', 4222)]"
      ]
     },
     "execution_count": 18,
     "metadata": {},
     "output_type": "execute_result"
    }
   ],
   "source": [
    "occurence.most_common(20)"
   ]
  },
  {
   "cell_type": "code",
   "execution_count": 19,
   "metadata": {},
   "outputs": [
    {
     "data": {
      "application/vnd.jupyter.widget-view+json": {
       "model_id": "a62f2e321fa549e3bc285005f84d6441",
       "version_major": 2,
       "version_minor": 0
      },
      "text/plain": [
       "HBox(children=(FloatProgress(value=0.0, max=108247.0), HTML(value='')))"
      ]
     },
     "metadata": {},
     "output_type": "display_data"
    },
    {
     "name": "stdout",
     "output_type": "stream",
     "text": [
      "\n"
     ]
    }
   ],
   "source": [
    "cooccurence = Counter()\n",
    "\n",
    "for doc in notebook.tqdm(docs_train):\n",
    "    for i in range(len(doc) - 1):\n",
    "        cooccurence[(doc[i], doc[i + 1])] += 1"
   ]
  },
  {
   "cell_type": "code",
   "execution_count": 20,
   "metadata": {},
   "outputs": [
    {
     "data": {
      "text/plain": [
       "[(('mail', 'ru'), 5364),\n",
       " (('смотреть', 'онлайн'), 3085),\n",
       " (('поиск', 'mail'), 2778),\n",
       " (('результатов', 'поиск'), 2087),\n",
       " (('4', '4'), 1734),\n",
       " (('купить', 'в'), 1678),\n",
       " (('скачать', 'бесплатно'), 1649),\n",
       " (('онлайн', 'бесплатно'), 1582),\n",
       " (('читать', 'онлайн'), 1457),\n",
       " (('в', 'хорошем'), 1329),\n",
       " (('тыс', 'результатов'), 1282),\n",
       " (('порно', 'видео'), 1214),\n",
       " (('в', 'интернет'), 1207),\n",
       " (('в', 'москве'), 1197),\n",
       " (('хорошем', 'качестве'), 1115),\n",
       " (('интернет', 'магазине'), 1111),\n",
       " (('интернет', 'магазин'), 1105),\n",
       " (('бесплатно', 'в'), 1059),\n",
       " (('на', 'olx'), 1027),\n",
       " (('мой', 'мир'), 912)]"
      ]
     },
     "execution_count": 20,
     "metadata": {},
     "output_type": "execute_result"
    }
   ],
   "source": [
    "cooccurence.most_common(20)"
   ]
  },
  {
   "cell_type": "code",
   "execution_count": 21,
   "metadata": {},
   "outputs": [],
   "source": [
    "N = sum(occurence.values())"
   ]
  },
  {
   "cell_type": "code",
   "execution_count": 22,
   "metadata": {},
   "outputs": [],
   "source": [
    "pmi = Counter()\n",
    "min_cooccur = 5\n",
    "\n",
    "for pair in cooccurence:\n",
    "    if cooccurence[pair] >= min_cooccur:\n",
    "        pmi[pair] = np.log(cooccurence[pair] * N / occurence[pair[0]] / occurence[pair[1]])"
   ]
  },
  {
   "cell_type": "code",
   "execution_count": 23,
   "metadata": {},
   "outputs": [
    {
     "data": {
      "text/plain": [
       "[(('xarid', 'qilish'), 12.308283506228321),\n",
       " (('camila', 'cabello'), 12.308283506228321),\n",
       " (('змінами', 'перевірено'), 12.308283506228321),\n",
       " (('країна', 'майстрів'), 12.308283506228321),\n",
       " (('посети', 'мирок'), 12.308283506228321),\n",
       " (('саудовской', 'аравии'), 12.308283506228321),\n",
       " (('ingyenes', 'pornу'), 12.308283506228321),\n",
       " (('pornу', 'videуk'), 12.308283506228321),\n",
       " (('xander', 'corvus'), 12.308283506228321),\n",
       " (('filmux', 'naujausi'), 12.308283506228321),\n",
       " (('shiq', 'matni'), 12.308283506228321),\n",
       " (('фгбну', 'внииспк'), 12.308283506228321),\n",
       " (('nowy', 'styl'), 12.308283506228321),\n",
       " (('sosyal', 'tanışma'), 12.125961949434366),\n",
       " (('джудит', 'макнот'), 12.125961949434366),\n",
       " (('komplett', 'zusehen'), 12.125961949434366),\n",
       " (('zusehen', 'alleserien'), 12.125961949434366),\n",
       " (('ганг', 'банг'), 12.125961949434366),\n",
       " (('bottega', 'veneta'), 12.125961949434366),\n",
       " (('enrique', 'iglesias'), 12.125961949434366)]"
      ]
     },
     "execution_count": 23,
     "metadata": {},
     "output_type": "execute_result"
    }
   ],
   "source": [
    "pmi.most_common(20)"
   ]
  },
  {
   "cell_type": "markdown",
   "metadata": {},
   "source": [
    "<font color='black' size=6 face='Times New Roman'><b>Лемматизация</b></font>"
   ]
  },
  {
   "cell_type": "code",
   "execution_count": 24,
   "metadata": {},
   "outputs": [],
   "source": [
    "stopwords = nltk.corpus.stopwords.words('russian')\n",
    "stopwords.extend(nltk.corpus.stopwords.words('english'))\n",
    "stopwords_set = set(stopwords)"
   ]
  },
  {
   "cell_type": "code",
   "execution_count": 25,
   "metadata": {},
   "outputs": [],
   "source": [
    "lemmatizer = pymorphy2.MorphAnalyzer()"
   ]
  },
  {
   "cell_type": "code",
   "execution_count": 26,
   "metadata": {},
   "outputs": [
    {
     "data": {
      "application/vnd.jupyter.widget-view+json": {
       "model_id": "c9e8147d5b614bc08756029ca419634e",
       "version_major": 2,
       "version_minor": 0
      },
      "text/plain": [
       "HBox(children=(FloatProgress(value=0.0, max=108247.0), HTML(value='')))"
      ]
     },
     "metadata": {},
     "output_type": "display_data"
    },
    {
     "name": "stdout",
     "output_type": "stream",
     "text": [
      "\n"
     ]
    }
   ],
   "source": [
    "lemmatizer_cache = {}\n",
    "lemmatized_docs_train = [[lemmatize(token) for token in text] for text in notebook.tqdm(docs_train)]\n",
    "\n",
    "cleared_docs_train = [[token for token in text if token not in stopwords_set] for text in lemmatized_docs_train]"
   ]
  },
  {
   "cell_type": "code",
   "execution_count": 27,
   "metadata": {},
   "outputs": [
    {
     "data": {
      "application/vnd.jupyter.widget-view+json": {
       "model_id": "37b4f29a44cc4078b98b95e53f943301",
       "version_major": 2,
       "version_minor": 0
      },
      "text/plain": [
       "HBox(children=(FloatProgress(value=0.0, max=27062.0), HTML(value='')))"
      ]
     },
     "metadata": {},
     "output_type": "display_data"
    },
    {
     "name": "stdout",
     "output_type": "stream",
     "text": [
      "\n"
     ]
    }
   ],
   "source": [
    "lemmatizer_cache = {}\n",
    "lemmatized_docs_val = [[lemmatize(token) for token in text] for text in notebook.tqdm(docs_val)]\n",
    "\n",
    "cleared_docs_val = [[token for token in text if token not in stopwords_set] for text in lemmatized_docs_val]"
   ]
  },
  {
   "cell_type": "code",
   "execution_count": 28,
   "metadata": {},
   "outputs": [
    {
     "data": {
      "application/vnd.jupyter.widget-view+json": {
       "model_id": "147ae77248b2414382b63ec5e77ded5b",
       "version_major": 2,
       "version_minor": 0
      },
      "text/plain": [
       "HBox(children=(FloatProgress(value=0.0, max=165378.0), HTML(value='')))"
      ]
     },
     "metadata": {},
     "output_type": "display_data"
    },
    {
     "name": "stdout",
     "output_type": "stream",
     "text": [
      "\n"
     ]
    }
   ],
   "source": [
    "lemmatizer_cache = {}\n",
    "lemmatized_docs_test = [[lemmatize(token) for token in text] for text in notebook.tqdm(docs_test)]\n",
    "\n",
    "cleared_docs_test = [[token for token in text if token not in stopwords_set] for text in lemmatized_docs_test]"
   ]
  },
  {
   "cell_type": "code",
   "execution_count": 29,
   "metadata": {},
   "outputs": [
    {
     "data": {
      "text/plain": [
       "['уточнение', 'запрос', 'поиск', 'маршрут']"
      ]
     },
     "execution_count": 29,
     "metadata": {},
     "output_type": "execute_result"
    }
   ],
   "source": [
    "cleared_docs_train[0]"
   ]
  },
  {
   "cell_type": "code",
   "execution_count": 30,
   "metadata": {},
   "outputs": [
    {
     "data": {
      "text/plain": [
       "['скин', 'каталог', 'файл', 'dav1dmods', 'мода', 'для', 'gta', 'sa']"
      ]
     },
     "execution_count": 30,
     "metadata": {},
     "output_type": "execute_result"
    }
   ],
   "source": [
    "cleared_docs_val[0]"
   ]
  },
  {
   "cell_type": "code",
   "execution_count": 31,
   "metadata": {},
   "outputs": [
    {
     "data": {
      "text/html": [
       "<div>\n",
       "<style scoped>\n",
       "    .dataframe tbody tr th:only-of-type {\n",
       "        vertical-align: middle;\n",
       "    }\n",
       "\n",
       "    .dataframe tbody tr th {\n",
       "        vertical-align: top;\n",
       "    }\n",
       "\n",
       "    .dataframe thead th {\n",
       "        text-align: right;\n",
       "    }\n",
       "</style>\n",
       "<table border=\"1\" class=\"dataframe\">\n",
       "  <thead>\n",
       "    <tr style=\"text-align: right;\">\n",
       "      <th></th>\n",
       "      <th>id</th>\n",
       "      <th>url</th>\n",
       "      <th>title</th>\n",
       "      <th>target</th>\n",
       "    </tr>\n",
       "  </thead>\n",
       "  <tbody>\n",
       "    <tr>\n",
       "      <th>78684</th>\n",
       "      <td>78684</td>\n",
       "      <td>www.yaplakal.com</td>\n",
       "      <td>ЯПлакалъ - Профиль пользователя</td>\n",
       "      <td>False</td>\n",
       "    </tr>\n",
       "    <tr>\n",
       "      <th>54131</th>\n",
       "      <td>54131</td>\n",
       "      <td>mail.ru</td>\n",
       "      <td>Audi показала новый кроссовер – он похож на сп...</td>\n",
       "      <td>False</td>\n",
       "    </tr>\n",
       "    <tr>\n",
       "      <th>129470</th>\n",
       "      <td>129470</td>\n",
       "      <td>www.mamba.ru</td>\n",
       "      <td>Владимир, 44, Воронеж</td>\n",
       "      <td>False</td>\n",
       "    </tr>\n",
       "    <tr>\n",
       "      <th>113652</th>\n",
       "      <td>113652</td>\n",
       "      <td>rutorgame.org</td>\n",
       "      <td>Скачать Severance: Blade of Darkness торрент б...</td>\n",
       "      <td>False</td>\n",
       "    </tr>\n",
       "    <tr>\n",
       "      <th>126121</th>\n",
       "      <td>126121</td>\n",
       "      <td>uldelo.ru</td>\n",
       "      <td>Деловое обозрение | Материалы тэга афиша</td>\n",
       "      <td>False</td>\n",
       "    </tr>\n",
       "  </tbody>\n",
       "</table>\n",
       "</div>"
      ],
      "text/plain": [
       "            id               url  \\\n",
       "78684    78684  www.yaplakal.com   \n",
       "54131    54131           mail.ru   \n",
       "129470  129470      www.mamba.ru   \n",
       "113652  113652     rutorgame.org   \n",
       "126121  126121         uldelo.ru   \n",
       "\n",
       "                                                    title  target  \n",
       "78684                     ЯПлакалъ - Профиль пользователя   False  \n",
       "54131   Audi показала новый кроссовер – он похож на сп...   False  \n",
       "129470                              Владимир, 44, Воронеж   False  \n",
       "113652  Скачать Severance: Blade of Darkness торрент б...   False  \n",
       "126121           Деловое обозрение | Материалы тэга афиша   False  "
      ]
     },
     "execution_count": 31,
     "metadata": {},
     "output_type": "execute_result"
    }
   ],
   "source": [
    "train_df.sample(5)"
   ]
  },
  {
   "cell_type": "markdown",
   "metadata": {},
   "source": [
    "<font color='black' size=5 face='Times New Roman'>Соединяю разделенные предложения обратно, для удобства их передачи в pipeline</font>"
   ]
  },
  {
   "cell_type": "code",
   "execution_count": 32,
   "metadata": {},
   "outputs": [
    {
     "data": {
      "application/vnd.jupyter.widget-view+json": {
       "model_id": "12f52806a7044efc9aab38ae114b40b7",
       "version_major": 2,
       "version_minor": 0
      },
      "text/plain": [
       "HBox(children=(FloatProgress(value=0.0, max=108247.0), HTML(value='')))"
      ]
     },
     "metadata": {},
     "output_type": "display_data"
    },
    {
     "name": "stdout",
     "output_type": "stream",
     "text": [
      "\n"
     ]
    },
    {
     "data": {
      "application/vnd.jupyter.widget-view+json": {
       "model_id": "6644e8a4a14946a5b066fe1933012d21",
       "version_major": 2,
       "version_minor": 0
      },
      "text/plain": [
       "HBox(children=(FloatProgress(value=0.0, max=27062.0), HTML(value='')))"
      ]
     },
     "metadata": {},
     "output_type": "display_data"
    },
    {
     "name": "stdout",
     "output_type": "stream",
     "text": [
      "\n"
     ]
    },
    {
     "data": {
      "application/vnd.jupyter.widget-view+json": {
       "model_id": "cb12bf3dbed74c979ef68119fbb2c2fc",
       "version_major": 2,
       "version_minor": 0
      },
      "text/plain": [
       "HBox(children=(FloatProgress(value=0.0, max=165378.0), HTML(value='')))"
      ]
     },
     "metadata": {},
     "output_type": "display_data"
    },
    {
     "name": "stdout",
     "output_type": "stream",
     "text": [
      "\n"
     ]
    }
   ],
   "source": [
    "sentence_list_train = join_tokenized_sentences(cleared_docs_train)\n",
    "sentence_list_val = join_tokenized_sentences(cleared_docs_val)\n",
    "sentence_list_test = join_tokenized_sentences(cleared_docs_test)"
   ]
  },
  {
   "cell_type": "code",
   "execution_count": 33,
   "metadata": {},
   "outputs": [],
   "source": [
    "train_df['title'] = sentence_list_train\n",
    "val_df['title'] = sentence_list_val\n",
    "test_df['title'] = sentence_list_test"
   ]
  },
  {
   "cell_type": "code",
   "execution_count": 34,
   "metadata": {},
   "outputs": [
    {
     "data": {
      "text/html": [
       "<div>\n",
       "<style scoped>\n",
       "    .dataframe tbody tr th:only-of-type {\n",
       "        vertical-align: middle;\n",
       "    }\n",
       "\n",
       "    .dataframe tbody tr th {\n",
       "        vertical-align: top;\n",
       "    }\n",
       "\n",
       "    .dataframe thead th {\n",
       "        text-align: right;\n",
       "    }\n",
       "</style>\n",
       "<table border=\"1\" class=\"dataframe\">\n",
       "  <thead>\n",
       "    <tr style=\"text-align: right;\">\n",
       "      <th></th>\n",
       "      <th>id</th>\n",
       "      <th>url</th>\n",
       "      <th>title</th>\n",
       "      <th>target</th>\n",
       "    </tr>\n",
       "  </thead>\n",
       "  <tbody>\n",
       "    <tr>\n",
       "      <th>114152</th>\n",
       "      <td>114152</td>\n",
       "      <td>www.orgpage.ru</td>\n",
       "      <td>ломбард около метро текстильщик москва</td>\n",
       "      <td>False</td>\n",
       "    </tr>\n",
       "    <tr>\n",
       "      <th>116116</th>\n",
       "      <td>116116</td>\n",
       "      <td>hdrezkaag.net</td>\n",
       "      <td>смотреть русский фильм боевик бесплатно в хоро...</td>\n",
       "      <td>False</td>\n",
       "    </tr>\n",
       "    <tr>\n",
       "      <th>85642</th>\n",
       "      <td>85642</td>\n",
       "      <td>olx.uz</td>\n",
       "      <td>требоваться кассир оператор и водитель с свой ...</td>\n",
       "      <td>False</td>\n",
       "    </tr>\n",
       "    <tr>\n",
       "      <th>28143</th>\n",
       "      <td>28143</td>\n",
       "      <td>www.lecheniye-alkogolizma.ru</td>\n",
       "      <td>наркологический клиника наркоздрав</td>\n",
       "      <td>False</td>\n",
       "    </tr>\n",
       "    <tr>\n",
       "      <th>60322</th>\n",
       "      <td>60322</td>\n",
       "      <td>piratam.net</td>\n",
       "      <td>true remembrance истина память vnshiba satomia...</td>\n",
       "      <td>False</td>\n",
       "    </tr>\n",
       "  </tbody>\n",
       "</table>\n",
       "</div>"
      ],
      "text/plain": [
       "            id                           url  \\\n",
       "114152  114152                www.orgpage.ru   \n",
       "116116  116116                 hdrezkaag.net   \n",
       "85642    85642                        olx.uz   \n",
       "28143    28143  www.lecheniye-alkogolizma.ru   \n",
       "60322    60322                   piratam.net   \n",
       "\n",
       "                                                    title  target  \n",
       "114152             ломбард около метро текстильщик москва   False  \n",
       "116116  смотреть русский фильм боевик бесплатно в хоро...   False  \n",
       "85642   требоваться кассир оператор и водитель с свой ...   False  \n",
       "28143                  наркологический клиника наркоздрав   False  \n",
       "60322   true remembrance истина память vnshiba satomia...   False  "
      ]
     },
     "execution_count": 34,
     "metadata": {},
     "output_type": "execute_result"
    }
   ],
   "source": [
    "train_df.sample(5)"
   ]
  },
  {
   "cell_type": "code",
   "execution_count": 35,
   "metadata": {},
   "outputs": [],
   "source": [
    "y_train = train_df[\"target\"].astype(int).values\n",
    "y_val = val_df[\"target\"].astype(int).values"
   ]
  },
  {
   "cell_type": "markdown",
   "metadata": {},
   "source": [
    "<font color='black' size=6 face='Times New Roman'><b>Обучение модели</b></font>"
   ]
  },
  {
   "cell_type": "code",
   "execution_count": 36,
   "metadata": {},
   "outputs": [],
   "source": [
    "class ColumnExtractor(TransformerMixin): # для того, чтобы сшивать фичи\n",
    "    \n",
    "    def __init__(self, column_name):\n",
    "        self.column_name = column_name\n",
    "    \n",
    "    def fit(self, X, y=None):\n",
    "        return self\n",
    "    \n",
    "    def transform(self, X, y=None):\n",
    "        return X[self.column_name].values"
   ]
  },
  {
   "cell_type": "code",
   "execution_count": 46,
   "metadata": {},
   "outputs": [],
   "source": [
    "from sklearn.model_selection import RandomizedSearchCV"
   ]
  },
  {
   "cell_type": "code",
   "execution_count": 42,
   "metadata": {},
   "outputs": [],
   "source": [
    "model = VotingClassifier(estimators = [('forest', RandomForestClassifier(n_estimators=100,\n",
    "                                                                         min_samples_leaf=1,\n",
    "                                                                         random_state=seed,\n",
    "                                                                         max_depth=200,\n",
    "                                                                         max_features='sqrt', # корень из кол-ва фичей \n",
    "                                                                         n_jobs=-1)),\n",
    "                                       ('logreg', LogisticRegression(solver='liblinear',\n",
    "                                                                     C=5.0,\n",
    "                                                                     random_state=seed)),\n",
    "#                                        ('bayes', MultinomialNB())], # с ним хуже\n",
    "                                      ],\n",
    "                         voting='soft',\n",
    "                         n_jobs=-1)"
   ]
  },
  {
   "cell_type": "code",
   "execution_count": 43,
   "metadata": {},
   "outputs": [],
   "source": [
    "pipeline = Pipeline([\n",
    "    (\n",
    "        'features', \n",
    "        FeatureUnion([\n",
    "            (\n",
    "                'url', \n",
    "                Pipeline([\n",
    "                    ('extractor', ColumnExtractor('url')),\n",
    "                    (\n",
    "                        'vectorizer', \n",
    "                        TfidfVectorizer( # 2-6-граммы, выше 90% и меньше 5 удаляю\n",
    "                            lowercase=True, ngram_range=(2, 6),\n",
    "                            stop_words=stopwords_set, min_df=5, max_df=0.9, analyzer='char' \n",
    "                        )\n",
    "                    )\n",
    "                ])\n",
    "            ),\n",
    "            (\n",
    "                'title',\n",
    "                Pipeline([\n",
    "                    ('extractor', ColumnExtractor('title')),\n",
    "                    (\n",
    "                        'vectorizer', \n",
    "                        CountVectorizer( # единичные слова, выше 90% и меньше 5 удаляю\n",
    "                            lowercase=True, ngram_range=(1, 1),\n",
    "                            stop_words=stopwords_set, min_df=5, max_df=0.75\n",
    "                        )\n",
    "                    )\n",
    "                ]),\n",
    "            ),\n",
    "        ])\n",
    "    ),\n",
    "    ('clf', model)\n",
    "])"
   ]
  },
  {
   "cell_type": "code",
   "execution_count": 53,
   "metadata": {},
   "outputs": [],
   "source": [
    "from sklearn.metrics import make_scorer\n",
    "\n",
    "f1 = make_scorer(f1_score , average='macro')"
   ]
  },
  {
   "cell_type": "code",
   "execution_count": 58,
   "metadata": {},
   "outputs": [],
   "source": [
    "params = {'clf__forest__n_estimators': range(100, 200, 10),\n",
    "          'clf__forest__max_depth': range(10, 200, 10),\n",
    "          'clf__forest__max_features': [\"auto\", \"sqrt\", \"log2\"],\n",
    "#           'clf__logreg__C': range(0.1, 5, 0.1),\n",
    "          'clf__logreg__solver':['newton-cg', 'lbfgs', 'liblinear', 'sag', 'saga']}\n",
    "searcher = RandomizedSearchCV(pipeline, param_distributions=params, n_jobs=-1, scoring=f1, random_state=seed)"
   ]
  },
  {
   "cell_type": "code",
   "execution_count": null,
   "metadata": {},
   "outputs": [],
   "source": [
    "searcher.fit(train_df, y_train)"
   ]
  },
  {
   "cell_type": "code",
   "execution_count": null,
   "metadata": {},
   "outputs": [],
   "source": [
    "searcher.best_params_"
   ]
  },
  {
   "cell_type": "code",
   "execution_count": 44,
   "metadata": {},
   "outputs": [
    {
     "name": "stdout",
     "output_type": "stream",
     "text": [
      "Wall time: 2min 11s\n"
     ]
    },
    {
     "data": {
      "text/plain": [
       "Pipeline(steps=[('features',\n",
       "                 FeatureUnion(transformer_list=[('url',\n",
       "                                                 Pipeline(steps=[('extractor',\n",
       "                                                                  <__main__.ColumnExtractor object at 0x000001FB5184F348>),\n",
       "                                                                 ('vectorizer',\n",
       "                                                                  TfidfVectorizer(analyzer='char',\n",
       "                                                                                  max_df=0.9,\n",
       "                                                                                  min_df=5,\n",
       "                                                                                  ngram_range=(2,\n",
       "                                                                                               6),\n",
       "                                                                                  stop_words=set()))])),\n",
       "                                                ('title',\n",
       "                                                 Pipeline(steps=[('extractor',\n",
       "                                                                  <__main__.ColumnExtractor object at 0x000001FB5184F408>),\n",
       "                                                                 ('vectorizer',\n",
       "                                                                  CountVectorizer(max_df=0.75,\n",
       "                                                                                  min_df=5,\n",
       "                                                                                  stop_words=set()))]))])),\n",
       "                ('clf',\n",
       "                 VotingClassifier(estimators=[('forest',\n",
       "                                               RandomForestClassifier(max_depth=200,\n",
       "                                                                      max_features='sqrt',\n",
       "                                                                      n_jobs=-1,\n",
       "                                                                      random_state=5)),\n",
       "                                              ('logreg',\n",
       "                                               LogisticRegression(C=5.0,\n",
       "                                                                  random_state=5,\n",
       "                                                                  solver='liblinear'))],\n",
       "                                  n_jobs=-1, voting='soft'))])"
      ]
     },
     "execution_count": 44,
     "metadata": {},
     "output_type": "execute_result"
    }
   ],
   "source": [
    "%%time\n",
    "\n",
    "pipeline.fit(train_df, y_train)"
   ]
  },
  {
   "cell_type": "code",
   "execution_count": 45,
   "metadata": {},
   "outputs": [
    {
     "name": "stdout",
     "output_type": "stream",
     "text": [
      "Train score = 0.996640368427013, val score = 0.9851054416752691\n"
     ]
    }
   ],
   "source": [
    "print('Train score = {}, val score = {}'.format(f1_score(y_train, pipeline.predict(train_df)),\n",
    "                                                f1_score(y_val, pipeline.predict(val_df))))"
   ]
  },
  {
   "cell_type": "markdown",
   "metadata": {},
   "source": [
    "<font color='black' size=6 face='Times New Roman'><b>Submit</b></font>"
   ]
  },
  {
   "cell_type": "code",
   "execution_count": 98,
   "metadata": {},
   "outputs": [],
   "source": [
    "test_df[\"target\"] = pipeline.predict(test_df).astype(bool)\n",
    "\n",
    "test_df[[\"id\", \"target\"]].to_csv(\"./data/submission.csv\", index=False)"
   ]
  },
  {
   "cell_type": "code",
   "execution_count": 99,
   "metadata": {},
   "outputs": [
    {
     "data": {
      "text/html": [
       "<div>\n",
       "<style scoped>\n",
       "    .dataframe tbody tr th:only-of-type {\n",
       "        vertical-align: middle;\n",
       "    }\n",
       "\n",
       "    .dataframe tbody tr th {\n",
       "        vertical-align: top;\n",
       "    }\n",
       "\n",
       "    .dataframe thead th {\n",
       "        text-align: right;\n",
       "    }\n",
       "</style>\n",
       "<table border=\"1\" class=\"dataframe\">\n",
       "  <thead>\n",
       "    <tr style=\"text-align: right;\">\n",
       "      <th></th>\n",
       "      <th>id</th>\n",
       "      <th>url</th>\n",
       "      <th>title</th>\n",
       "      <th>target</th>\n",
       "    </tr>\n",
       "  </thead>\n",
       "  <tbody>\n",
       "    <tr>\n",
       "      <th>160918</th>\n",
       "      <td>296227</td>\n",
       "      <td>porno-vik.ru</td>\n",
       "      <td>обнажённый зрелый сучка присесть и распахнуть ...</td>\n",
       "      <td>True</td>\n",
       "    </tr>\n",
       "    <tr>\n",
       "      <th>91860</th>\n",
       "      <td>227169</td>\n",
       "      <td>biqle.com</td>\n",
       "      <td>милашка играть с свой дырочка amateur solo web...</td>\n",
       "      <td>True</td>\n",
       "    </tr>\n",
       "    <tr>\n",
       "      <th>45499</th>\n",
       "      <td>180808</td>\n",
       "      <td>amatorskoe.org</td>\n",
       "      <td>частный секс втроём с русский молодой девушка ...</td>\n",
       "      <td>True</td>\n",
       "    </tr>\n",
       "    <tr>\n",
       "      <th>54915</th>\n",
       "      <td>190224</td>\n",
       "      <td>porno-tour.xxx</td>\n",
       "      <td>свинегры ебут красавица и кончать на язык блядь</td>\n",
       "      <td>True</td>\n",
       "    </tr>\n",
       "    <tr>\n",
       "      <th>47000</th>\n",
       "      <td>182309</td>\n",
       "      <td>www.pornktube.porn</td>\n",
       "      <td>search videos for faimely affair</td>\n",
       "      <td>True</td>\n",
       "    </tr>\n",
       "  </tbody>\n",
       "</table>\n",
       "</div>"
      ],
      "text/plain": [
       "            id                 url  \\\n",
       "160918  296227        porno-vik.ru   \n",
       "91860   227169           biqle.com   \n",
       "45499   180808      amatorskoe.org   \n",
       "54915   190224      porno-tour.xxx   \n",
       "47000   182309  www.pornktube.porn   \n",
       "\n",
       "                                                    title  target  \n",
       "160918  обнажённый зрелый сучка присесть и распахнуть ...    True  \n",
       "91860   милашка играть с свой дырочка amateur solo web...    True  \n",
       "45499   частный секс втроём с русский молодой девушка ...    True  \n",
       "54915     свинегры ебут красавица и кончать на язык блядь    True  \n",
       "47000                    search videos for faimely affair    True  "
      ]
     },
     "execution_count": 99,
     "metadata": {},
     "output_type": "execute_result"
    }
   ],
   "source": [
    "test_df[test_df.target == True].sample(5)"
   ]
  },
  {
   "cell_type": "code",
   "execution_count": 100,
   "metadata": {},
   "outputs": [
    {
     "data": {
      "text/plain": [
       "(20012, 4)"
      ]
     },
     "execution_count": 100,
     "metadata": {},
     "output_type": "execute_result"
    }
   ],
   "source": [
    "test_df[test_df.target == True].shape # в лучшей попытке было 19989"
   ]
  },
  {
   "cell_type": "markdown",
   "metadata": {},
   "source": [
    "<font color='black' size=4 face='Times New Roman'>Максимально чего добивался на валидации <b>0.9861601884570081</b>, получилось с помощью классификатора с голосованием, состоящего из <b>случайного леса</b> и <b>логистической регрессии</b> с ослабленной регуляризацией. Увеличение колличества деревьев от 100 и выше, ухудшало модель, видимо делало её слишком сложной, ровно как и увеличение коэффициента C в логистической регрессии. Попытки добавить другие классификаторы не увенчались успехом, Наивный Байес ухудшает модель, а другие (SVM и KNN), работают очень медленно на больших данных. В качестве преобработки я выбрал <b>2-6-граммы для URL и Tfidf</b>, просто слова для <b>Title с CountVectorizer</b>, предварительно лемматизировав и удалив стоп слова. Для Title Tfidf показал худшие результаты, ровно как и использование n-грамм. Сделал <b>word2vec</b> для title, наблюдалось сильное переобучение, при том не было существенных увеличений качества на тренировочной выборке, в связи с этим решил не использовать его.</font>"
   ]
  }
 ],
 "metadata": {
  "kernelspec": {
   "display_name": "Python 3",
   "language": "python",
   "name": "python3"
  },
  "language_info": {
   "codemirror_mode": {
    "name": "ipython",
    "version": 3
   },
   "file_extension": ".py",
   "mimetype": "text/x-python",
   "name": "python",
   "nbconvert_exporter": "python",
   "pygments_lexer": "ipython3",
   "version": "3.7.6"
  }
 },
 "nbformat": 4,
 "nbformat_minor": 2
}
