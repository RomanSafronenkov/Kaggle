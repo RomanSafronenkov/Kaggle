{
 "cells": [
  {
   "cell_type": "markdown",
   "metadata": {},
   "source": [
    "<h1>Решение соревнования kaggle \"Porn Detection\"</h1>"
   ]
  },
  {
   "cell_type": "code",
   "execution_count": 1,
   "metadata": {},
   "outputs": [],
   "source": [
    "import numpy as np\n",
    "import pandas as pd\n",
    "import matplotlib.pyplot as plt\n",
    "plt.style.use('ggplot')\n",
    "\n",
    "import re\n",
    "import nltk\n",
    "import pymorphy2\n",
    "from collections import Counter\n",
    "\n",
    "from sklearn.feature_extraction.text import CountVectorizer, TfidfVectorizer\n",
    "from sklearn.naive_bayes import MultinomialNB\n",
    "from sklearn.ensemble import RandomForestClassifier, VotingClassifier\n",
    "from sklearn.linear_model import LogisticRegression\n",
    "from sklearn.metrics import f1_score\n",
    "from sklearn.pipeline import Pipeline, FeatureUnion\n",
    "from sklearn.base import TransformerMixin\n",
    "from tqdm import notebook"
   ]
  },
  {
   "cell_type": "code",
   "execution_count": 2,
   "metadata": {},
   "outputs": [],
   "source": [
    "def tokenize_text(text):\n",
    "    return re.findall(r'[\\w\\d]+', text.lower())"
   ]
  },
  {
   "cell_type": "code",
   "execution_count": 4,
   "metadata": {},
   "outputs": [
    {
     "data": {
      "text/html": [
       "<div>\n",
       "<style scoped>\n",
       "    .dataframe tbody tr th:only-of-type {\n",
       "        vertical-align: middle;\n",
       "    }\n",
       "\n",
       "    .dataframe tbody tr th {\n",
       "        vertical-align: top;\n",
       "    }\n",
       "\n",
       "    .dataframe thead th {\n",
       "        text-align: right;\n",
       "    }\n",
       "</style>\n",
       "<table border=\"1\" class=\"dataframe\">\n",
       "  <thead>\n",
       "    <tr style=\"text-align: right;\">\n",
       "      <th></th>\n",
       "      <th>id</th>\n",
       "      <th>url</th>\n",
       "      <th>title</th>\n",
       "      <th>target</th>\n",
       "    </tr>\n",
       "  </thead>\n",
       "  <tbody>\n",
       "    <tr>\n",
       "      <th>0</th>\n",
       "      <td>0</td>\n",
       "      <td>m.kp.md</td>\n",
       "      <td>Экс-министр экономики Молдовы - главе МИДЭИ, ц...</td>\n",
       "      <td>False</td>\n",
       "    </tr>\n",
       "    <tr>\n",
       "      <th>1</th>\n",
       "      <td>1</td>\n",
       "      <td>www.kp.by</td>\n",
       "      <td>Эта песня стала известна многим телезрителям б...</td>\n",
       "      <td>False</td>\n",
       "    </tr>\n",
       "    <tr>\n",
       "      <th>2</th>\n",
       "      <td>2</td>\n",
       "      <td>fanserials.tv</td>\n",
       "      <td>Банши 4 сезон 2 серия Бремя красоты смотреть о...</td>\n",
       "      <td>False</td>\n",
       "    </tr>\n",
       "    <tr>\n",
       "      <th>3</th>\n",
       "      <td>3</td>\n",
       "      <td>colorbox.spb.ru</td>\n",
       "      <td>Не Беси Меня Картинки</td>\n",
       "      <td>False</td>\n",
       "    </tr>\n",
       "    <tr>\n",
       "      <th>4</th>\n",
       "      <td>4</td>\n",
       "      <td>tula-sport.ru</td>\n",
       "      <td>В Новомосковске сыграют следж-хоккеисты алекси...</td>\n",
       "      <td>False</td>\n",
       "    </tr>\n",
       "  </tbody>\n",
       "</table>\n",
       "</div>"
      ],
      "text/plain": [
       "   id              url                                              title  \\\n",
       "0   0          m.kp.md  Экс-министр экономики Молдовы - главе МИДЭИ, ц...   \n",
       "1   1        www.kp.by  Эта песня стала известна многим телезрителям б...   \n",
       "2   2    fanserials.tv  Банши 4 сезон 2 серия Бремя красоты смотреть о...   \n",
       "3   3  colorbox.spb.ru                              Не Беси Меня Картинки   \n",
       "4   4    tula-sport.ru  В Новомосковске сыграют следж-хоккеисты алекси...   \n",
       "\n",
       "   target  \n",
       "0   False  \n",
       "1   False  \n",
       "2   False  \n",
       "3   False  \n",
       "4   False  "
      ]
     },
     "execution_count": 4,
     "metadata": {},
     "output_type": "execute_result"
    }
   ],
   "source": [
    "train_df = pd.read_csv(\"./data/train.csv\")\n",
    "\n",
    "train_df.head()"
   ]
  },
  {
   "cell_type": "code",
   "execution_count": 5,
   "metadata": {},
   "outputs": [
    {
     "data": {
      "text/html": [
       "<div>\n",
       "<style scoped>\n",
       "    .dataframe tbody tr th:only-of-type {\n",
       "        vertical-align: middle;\n",
       "    }\n",
       "\n",
       "    .dataframe tbody tr th {\n",
       "        vertical-align: top;\n",
       "    }\n",
       "\n",
       "    .dataframe thead th {\n",
       "        text-align: right;\n",
       "    }\n",
       "</style>\n",
       "<table border=\"1\" class=\"dataframe\">\n",
       "  <thead>\n",
       "    <tr style=\"text-align: right;\">\n",
       "      <th></th>\n",
       "      <th>id</th>\n",
       "      <th>url</th>\n",
       "      <th>title</th>\n",
       "    </tr>\n",
       "  </thead>\n",
       "  <tbody>\n",
       "    <tr>\n",
       "      <th>0</th>\n",
       "      <td>135309</td>\n",
       "      <td>www.kommersant.ru</td>\n",
       "      <td>Шестой кассационный суд в Самаре начнет работу...</td>\n",
       "    </tr>\n",
       "    <tr>\n",
       "      <th>1</th>\n",
       "      <td>135310</td>\n",
       "      <td>urexpert.online</td>\n",
       "      <td>Что такое индексация алиментов, кем и в каких ...</td>\n",
       "    </tr>\n",
       "    <tr>\n",
       "      <th>2</th>\n",
       "      <td>135311</td>\n",
       "      <td>imperimeha.ru</td>\n",
       "      <td>Женщинам | Империя Меха - Part 12</td>\n",
       "    </tr>\n",
       "    <tr>\n",
       "      <th>3</th>\n",
       "      <td>135312</td>\n",
       "      <td>national-porn.com</td>\n",
       "      <td>Небритые, волосатые киски: Порно всех стран и ...</td>\n",
       "    </tr>\n",
       "    <tr>\n",
       "      <th>4</th>\n",
       "      <td>135313</td>\n",
       "      <td>2gis.ru</td>\n",
       "      <td>67</td>\n",
       "    </tr>\n",
       "  </tbody>\n",
       "</table>\n",
       "</div>"
      ],
      "text/plain": [
       "       id                url  \\\n",
       "0  135309  www.kommersant.ru   \n",
       "1  135310    urexpert.online   \n",
       "2  135311      imperimeha.ru   \n",
       "3  135312  national-porn.com   \n",
       "4  135313            2gis.ru   \n",
       "\n",
       "                                               title  \n",
       "0  Шестой кассационный суд в Самаре начнет работу...  \n",
       "1  Что такое индексация алиментов, кем и в каких ...  \n",
       "2                  Женщинам | Империя Меха - Part 12  \n",
       "3  Небритые, волосатые киски: Порно всех стран и ...  \n",
       "4                                                 67  "
      ]
     },
     "execution_count": 5,
     "metadata": {},
     "output_type": "execute_result"
    }
   ],
   "source": [
    "test_df = pd.read_csv(\"./data/test.csv\")\n",
    "\n",
    "test_df.head()"
   ]
  },
  {
   "cell_type": "code",
   "execution_count": 6,
   "metadata": {},
   "outputs": [
    {
     "data": {
      "text/plain": [
       "<matplotlib.axes._subplots.AxesSubplot at 0x1433cc2a748>"
      ]
     },
     "execution_count": 6,
     "metadata": {},
     "output_type": "execute_result"
    },
    {
     "data": {
      "image/png": "[encoded data removed]",
      "text/plain": [
       "<Figure size 432x288 with 1 Axes>"
      ]
     },
     "metadata": {},
     "output_type": "display_data"
    }
   ],
   "source": [
    "train_df.title.str.len().hist(bins=400)"
   ]
  },
  {
   "cell_type": "markdown",
   "metadata": {},
   "source": [
    "<h2>Токенизация</h2>"
   ]
  },
  {
   "cell_type": "code",
   "execution_count": 7,
   "metadata": {},
   "outputs": [
    {
     "data": {
      "text/plain": [
       "False    118594\n",
       "True      16715\n",
       "Name: target, dtype: int64"
      ]
     },
     "execution_count": 7,
     "metadata": {},
     "output_type": "execute_result"
    }
   ],
   "source": [
    "train_df[\"target\"].value_counts()"
   ]
  },
  {
   "cell_type": "code",
   "execution_count": 8,
   "metadata": {},
   "outputs": [],
   "source": [
    "train_df['url_title'] = train_df['url'] + ' ' + train_df['title']"
   ]
  },
  {
   "cell_type": "code",
   "execution_count": 9,
   "metadata": {},
   "outputs": [
    {
     "data": {
      "text/plain": [
       "array(['m.kp.md Экс-министр экономики Молдовы - главе МИДЭИ, цель которого сделать из республики не просителя, а донора: Надо избегать долгого нахождения н�',\n",
       "       'www.kp.by Эта песня стала известна многим телезрителям благодаря сериалу Диверсант-2',\n",
       "       'fanserials.tv Банши 4 сезон 2 серия Бремя красоты смотреть онлайн!',\n",
       "       ...,\n",
       "       'topclassiccarsforsale.com 1941 Plymouth Special Deluxe Hot Rod, Automatic,Small Block,Power Steering, A/C for sale: photos, technical specifications, description',\n",
       "       \"wowcream.ru Купить It's Skin Сыворотка питательная Power 10 Formula YE Effector, 30 мл в Москве - WOWCREAM\",\n",
       "       'www.ubu.ru Технический спирт в канистрах и флаконах, купить в Москве'],\n",
       "      dtype=object)"
      ]
     },
     "execution_count": 9,
     "metadata": {},
     "output_type": "execute_result"
    }
   ],
   "source": [
    "corpus = train_df.url_title.values\n",
    "corpus"
   ]
  },
  {
   "cell_type": "code",
   "execution_count": 10,
   "metadata": {},
   "outputs": [
    {
     "data": {
      "application/vnd.jupyter.widget-view+json": {
       "model_id": "a5cd84f2fdb5442aa5f8e66b04a8cbe4",
       "version_major": 2,
       "version_minor": 0
      },
      "text/plain": [
       "HBox(children=(FloatProgress(value=0.0, max=135309.0), HTML(value='')))"
      ]
     },
     "metadata": {},
     "output_type": "display_data"
    },
    {
     "name": "stdout",
     "output_type": "stream",
     "text": [
      "\n"
     ]
    }
   ],
   "source": [
    "docs = [tokenize_text(text) for text in notebook.tqdm(corpus)]\n",
    "# docs = [[token.text for token in razdel.tokenize(text)] for text in notebook.tqdm(corpus)]"
   ]
  },
  {
   "cell_type": "markdown",
   "metadata": {},
   "source": [
    "<h2>Стоп слова</h2>"
   ]
  },
  {
   "cell_type": "code",
   "execution_count": 10,
   "metadata": {},
   "outputs": [
    {
     "data": {
      "application/vnd.jupyter.widget-view+json": {
       "model_id": "8b8072ffcaa346e5b1b5d6cc9b924c2a",
       "version_major": 2,
       "version_minor": 0
      },
      "text/plain": [
       "HBox(children=(FloatProgress(value=0.0, max=135309.0), HTML(value='')))"
      ]
     },
     "metadata": {},
     "output_type": "display_data"
    },
    {
     "name": "stdout",
     "output_type": "stream",
     "text": [
      "\n"
     ]
    }
   ],
   "source": [
    "occurence = Counter()\n",
    "\n",
    "for doc in notebook.tqdm(docs):\n",
    "    for token in doc:\n",
    "        occurence[token] += 1"
   ]
  },
  {
   "cell_type": "code",
   "execution_count": 11,
   "metadata": {},
   "outputs": [
    {
     "data": {
      "text/plain": [
       "[('ru', 90385),\n",
       " ('в', 37542),\n",
       " ('www', 25111),\n",
       " ('на', 22882),\n",
       " ('и', 22716),\n",
       " ('com', 22026),\n",
       " ('mail', 14722),\n",
       " ('онлайн', 11971),\n",
       " ('с', 11260),\n",
       " ('для', 10174),\n",
       " ('net', 8891),\n",
       " ('по', 8444),\n",
       " ('бесплатно', 8243),\n",
       " ('скачать', 7751),\n",
       " ('1', 7164),\n",
       " ('2', 6471),\n",
       " ('фото', 6378),\n",
       " ('купить', 6315),\n",
       " ('ua', 6091),\n",
       " ('страница', 5847)]"
      ]
     },
     "execution_count": 11,
     "metadata": {},
     "output_type": "execute_result"
    }
   ],
   "source": [
    "occurence.most_common(20)"
   ]
  },
  {
   "cell_type": "code",
   "execution_count": 12,
   "metadata": {},
   "outputs": [],
   "source": [
    "stopwords = nltk.corpus.stopwords.words('russian')\n",
    "stopwords.extend(nltk.corpus.stopwords.words('english'))\n",
    "stopwords_set = set(stopwords)"
   ]
  },
  {
   "cell_type": "code",
   "execution_count": 13,
   "metadata": {},
   "outputs": [],
   "source": [
    "lemmatizer = pymorphy2.MorphAnalyzer()"
   ]
  },
  {
   "cell_type": "code",
   "execution_count": 14,
   "metadata": {},
   "outputs": [
    {
     "data": {
      "application/vnd.jupyter.widget-view+json": {
       "model_id": "1f5a186739db431f8b616e6185ffcab3",
       "version_major": 2,
       "version_minor": 0
      },
      "text/plain": [
       "HBox(children=(FloatProgress(value=0.0, max=135309.0), HTML(value='')))"
      ]
     },
     "metadata": {},
     "output_type": "display_data"
    },
    {
     "name": "stdout",
     "output_type": "stream",
     "text": [
      "\n"
     ]
    }
   ],
   "source": [
    "lemmatizer_cache = {}\n",
    "\n",
    "def lemmatize(token):\n",
    "    if lemmatizer.word_is_known(token):\n",
    "        if token not in lemmatizer_cache:\n",
    "            lemmatizer_cache[token] = lemmatizer.parse(token)[0].normal_form\n",
    "        return lemmatizer_cache[token]\n",
    "    return token\n",
    "\n",
    "lemmatized_docs = [[lemmatize(token) for token in text] for text in notebook.tqdm(docs)]\n",
    "# и заодно удалим стоп слова\n",
    "cleared_docs = [[token for token in text if token not in stopwords_set] for text in lemmatized_docs]"
   ]
  },
  {
   "cell_type": "code",
   "execution_count": 15,
   "metadata": {},
   "outputs": [
    {
     "data": {
      "text/plain": [
       "['mail',\n",
       " 'ru',\n",
       " 'фотография',\n",
       " 'ღ',\n",
       " 'ťąŧأąŋǻ',\n",
       " 'ﱢ',\n",
       " 'ღ',\n",
       " 'шелест',\n",
       " 'ړײ',\n",
       " 'ip',\n",
       " '842',\n",
       " 'фото',\n",
       " 'мир']"
      ]
     },
     "execution_count": 15,
     "metadata": {},
     "output_type": "execute_result"
    }
   ],
   "source": [
    "cleared_docs[69024]"
   ]
  },
  {
   "cell_type": "code",
   "execution_count": 16,
   "metadata": {},
   "outputs": [
    {
     "data": {
      "text/html": [
       "<div>\n",
       "<style scoped>\n",
       "    .dataframe tbody tr th:only-of-type {\n",
       "        vertical-align: middle;\n",
       "    }\n",
       "\n",
       "    .dataframe tbody tr th {\n",
       "        vertical-align: top;\n",
       "    }\n",
       "\n",
       "    .dataframe thead th {\n",
       "        text-align: right;\n",
       "    }\n",
       "</style>\n",
       "<table border=\"1\" class=\"dataframe\">\n",
       "  <thead>\n",
       "    <tr style=\"text-align: right;\">\n",
       "      <th></th>\n",
       "      <th>id</th>\n",
       "      <th>url</th>\n",
       "      <th>title</th>\n",
       "      <th>target</th>\n",
       "      <th>url_title</th>\n",
       "    </tr>\n",
       "  </thead>\n",
       "  <tbody>\n",
       "    <tr>\n",
       "      <th>116596</th>\n",
       "      <td>116596</td>\n",
       "      <td>bessporno.tv</td>\n",
       "      <td>Брюнетка позволяет парню ебать жопу и делать а...</td>\n",
       "      <td>True</td>\n",
       "      <td>bessporno.tv Брюнетка позволяет парню ебать жо...</td>\n",
       "    </tr>\n",
       "    <tr>\n",
       "      <th>99544</th>\n",
       "      <td>99544</td>\n",
       "      <td>pornotor.org</td>\n",
       "      <td>скачать торрент [chaturbate.com] Misss vikki s...</td>\n",
       "      <td>True</td>\n",
       "      <td>pornotor.org скачать торрент [chaturbate.com] ...</td>\n",
       "    </tr>\n",
       "    <tr>\n",
       "      <th>74318</th>\n",
       "      <td>74318</td>\n",
       "      <td>anketolog.ru</td>\n",
       "      <td>Сбор ответов на анкету</td>\n",
       "      <td>False</td>\n",
       "      <td>anketolog.ru Сбор ответов на анкету</td>\n",
       "    </tr>\n",
       "    <tr>\n",
       "      <th>113243</th>\n",
       "      <td>113243</td>\n",
       "      <td>lechinle.tk</td>\n",
       "      <td>Thai pone. Xxxxx video girl and horse hd. Lesb...</td>\n",
       "      <td>True</td>\n",
       "      <td>lechinle.tk Thai pone. Xxxxx video girl and ho...</td>\n",
       "    </tr>\n",
       "    <tr>\n",
       "      <th>40579</th>\n",
       "      <td>40579</td>\n",
       "      <td>fotostrana.ru</td>\n",
       "      <td>Тамара: «Подлинная суть человека не в том, что...</td>\n",
       "      <td>False</td>\n",
       "      <td>fotostrana.ru Тамара: «Подлинная суть человека...</td>\n",
       "    </tr>\n",
       "  </tbody>\n",
       "</table>\n",
       "</div>"
      ],
      "text/plain": [
       "            id            url  \\\n",
       "116596  116596   bessporno.tv   \n",
       "99544    99544   pornotor.org   \n",
       "74318    74318   anketolog.ru   \n",
       "113243  113243    lechinle.tk   \n",
       "40579    40579  fotostrana.ru   \n",
       "\n",
       "                                                    title  target  \\\n",
       "116596  Брюнетка позволяет парню ебать жопу и делать а...    True   \n",
       "99544   скачать торрент [chaturbate.com] Misss vikki s...    True   \n",
       "74318                              Сбор ответов на анкету   False   \n",
       "113243  Thai pone. Xxxxx video girl and horse hd. Lesb...    True   \n",
       "40579   Тамара: «Подлинная суть человека не в том, что...   False   \n",
       "\n",
       "                                                url_title  \n",
       "116596  bessporno.tv Брюнетка позволяет парню ебать жо...  \n",
       "99544   pornotor.org скачать торрент [chaturbate.com] ...  \n",
       "74318                 anketolog.ru Сбор ответов на анкету  \n",
       "113243  lechinle.tk Thai pone. Xxxxx video girl and ho...  \n",
       "40579   fotostrana.ru Тамара: «Подлинная суть человека...  "
      ]
     },
     "execution_count": 16,
     "metadata": {},
     "output_type": "execute_result"
    }
   ],
   "source": [
    "train_df.sample(5)"
   ]
  },
  {
   "cell_type": "code",
   "execution_count": 17,
   "metadata": {},
   "outputs": [
    {
     "data": {
      "text/plain": [
       "['kp',\n",
       " 'md',\n",
       " 'экс',\n",
       " 'министр',\n",
       " 'экономика',\n",
       " 'молдова',\n",
       " 'глава',\n",
       " 'мидэи',\n",
       " 'цель',\n",
       " 'который',\n",
       " 'сделать',\n",
       " 'республика',\n",
       " 'проситель',\n",
       " 'донор',\n",
       " 'избегать',\n",
       " 'долгий',\n",
       " 'нахождение',\n",
       " 'н']"
      ]
     },
     "execution_count": 17,
     "metadata": {},
     "output_type": "execute_result"
    }
   ],
   "source": [
    "cleared_docs[0]"
   ]
  },
  {
   "cell_type": "code",
   "execution_count": 18,
   "metadata": {},
   "outputs": [],
   "source": [
    "vectorizer = TfidfVectorizer(tokenizer=lambda x: x, lowercase=False, max_df=0.8, min_df=2, norm='l2')\n",
    "# vectorizer = CountVectorizer(tokenizer=lambda x: x, lowercase=False)"
   ]
  },
  {
   "cell_type": "code",
   "execution_count": 19,
   "metadata": {},
   "outputs": [],
   "source": [
    "X_train = vectorizer.fit_transform(cleared_docs)"
   ]
  },
  {
   "cell_type": "code",
   "execution_count": 20,
   "metadata": {},
   "outputs": [],
   "source": [
    "y_train = train_df[\"target\"].astype(int).values"
   ]
  },
  {
   "cell_type": "markdown",
   "metadata": {},
   "source": [
    "# ML"
   ]
  },
  {
   "cell_type": "code",
   "execution_count": 21,
   "metadata": {},
   "outputs": [],
   "source": [
    "model = VotingClassifier(estimators = [('forest', RandomForestClassifier(n_estimators=30,\n",
    "                                                                         min_samples_leaf=1)),\n",
    "                                       ('logreg', LogisticRegression(solver='liblinear')),\n",
    "                                       ('bayes', MultinomialNB())], voting='soft')"
   ]
  },
  {
   "cell_type": "code",
   "execution_count": 22,
   "metadata": {},
   "outputs": [],
   "source": [
    "class ColumnExtractor(TransformerMixin):\n",
    "    \n",
    "    def __init__(self, column_name):\n",
    "        self.column_name = column_name\n",
    "    \n",
    "    def fit(self, X, y=None):\n",
    "        return self\n",
    "    \n",
    "    def transform(self, X, y=None):\n",
    "        return X[self.column_name].values"
   ]
  },
  {
   "cell_type": "code",
   "execution_count": 23,
   "metadata": {},
   "outputs": [],
   "source": [
    "pipeline = Pipeline([\n",
    "    (\n",
    "        'features', \n",
    "        FeatureUnion([\n",
    "            (\n",
    "                'title', \n",
    "                Pipeline([\n",
    "                    ('extractor', ColumnExtractor('url')),\n",
    "                    (\n",
    "                        'vectorizer', \n",
    "                        TfidfVectorizer(\n",
    "                            lowercase=True, ngram_range=(3, 4), token_pattern=\"[\\w\\d]+\",\n",
    "                            stop_words=stopwords_set, min_df=5, max_df=0.75, analyzer='char'\n",
    "                        )\n",
    "                    )\n",
    "                ])\n",
    "            ),\n",
    "            (\n",
    "                'body',\n",
    "                Pipeline([\n",
    "                    ('extractor', ColumnExtractor('title')),\n",
    "                    (\n",
    "                        'vectorizer', \n",
    "                        CountVectorizer(\n",
    "                            lowercase=True, ngram_range=(1, 1), token_pattern=\"[\\w\\d]+\",\n",
    "                            stop_words=stopwords_set, min_df=3, max_df=0.75\n",
    "                        )\n",
    "                    )\n",
    "                ])\n",
    "            )\n",
    "        ])\n",
    "    ),\n",
    "    ('clf', model)\n",
    "])"
   ]
  },
  {
   "cell_type": "code",
   "execution_count": 36,
   "metadata": {},
   "outputs": [
    {
     "data": {
      "text/plain": [
       "Pipeline(steps=[('features',\n",
       "                 FeatureUnion(transformer_list=[('title',\n",
       "                                                 Pipeline(steps=[('extractor',\n",
       "                                                                  <__main__.ColumnExtractor object at 0x000001518090C1C8>),\n",
       "                                                                 ('vectorizer',\n",
       "                                                                  TfidfVectorizer(analyzer='char',\n",
       "                                                                                  max_df=0.75,\n",
       "                                                                                  min_df=5,\n",
       "                                                                                  ngram_range=(3,\n",
       "                                                                                               4),\n",
       "                                                                                  stop_words={'a',\n",
       "                                                                                              'about',\n",
       "                                                                                              'above',\n",
       "                                                                                              'after',\n",
       "                                                                                              'again',\n",
       "                                                                                              'against',\n",
       "                                                                                              'ain',\n",
       "                                                                                              'all',\n",
       "                                                                                              'am',\n",
       "                                                                                              'an',\n",
       "                                                                                              'and',\n",
       "                                                                                              'any',\n",
       "                                                                                              'are',\n",
       "                                                                                              'aren',\n",
       "                                                                                              \"aren't\",...\n",
       "                                                                                              'are',\n",
       "                                                                                              'aren',\n",
       "                                                                                              \"aren't\",\n",
       "                                                                                              'as',\n",
       "                                                                                              'at',\n",
       "                                                                                              'be',\n",
       "                                                                                              'because',\n",
       "                                                                                              'been',\n",
       "                                                                                              'before',\n",
       "                                                                                              'being',\n",
       "                                                                                              'below',\n",
       "                                                                                              'between',\n",
       "                                                                                              'both',\n",
       "                                                                                              'but',\n",
       "                                                                                              'by',\n",
       "                                                                                              'can',\n",
       "                                                                                              'couldn',\n",
       "                                                                                              \"couldn't\", ...},\n",
       "                                                                                  token_pattern='[\\\\w\\\\d]+'))]))])),\n",
       "                ('clf',\n",
       "                 VotingClassifier(estimators=[('forest',\n",
       "                                               RandomForestClassifier(n_estimators=30)),\n",
       "                                              ('logreg',\n",
       "                                               LogisticRegression(solver='liblinear')),\n",
       "                                              ('bayes', MultinomialNB())],\n",
       "                                  voting='soft'))])"
      ]
     },
     "execution_count": 36,
     "metadata": {},
     "output_type": "execute_result"
    }
   ],
   "source": [
    "%%time\n",
    "\n",
    "pipeline.fit(train_df, y_train)"
   ]
  },
  {
   "cell_type": "code",
   "execution_count": 37,
   "metadata": {},
   "outputs": [
    {
     "data": {
      "text/plain": [
       "0.9941172939552193"
      ]
     },
     "execution_count": 37,
     "metadata": {},
     "output_type": "execute_result"
    }
   ],
   "source": [
    "f1_score(\n",
    "    y_train,\n",
    "    pipeline.predict(train_df)\n",
    ")"
   ]
  },
  {
   "cell_type": "code",
   "execution_count": 26,
   "metadata": {},
   "outputs": [
    {
     "name": "stdout",
     "output_type": "stream",
     "text": [
      "Wall time: 43.7 s\n"
     ]
    }
   ],
   "source": [
    "# %%time\n",
    "\n",
    "# model.fit(\n",
    "#     X_train,\n",
    "#     y_train\n",
    "# )\n",
    "\n",
    "# y_pred = model.predict(\n",
    "#     X_train\n",
    "# )"
   ]
  },
  {
   "cell_type": "code",
   "execution_count": 27,
   "metadata": {},
   "outputs": [
    {
     "data": {
      "text/plain": [
       "0.9879888942539836"
      ]
     },
     "execution_count": 27,
     "metadata": {},
     "output_type": "execute_result"
    }
   ],
   "source": [
    "# f1_score(y_train, y_pred)"
   ]
  },
  {
   "cell_type": "markdown",
   "metadata": {},
   "source": [
    "### Submit"
   ]
  },
  {
   "cell_type": "code",
   "execution_count": 28,
   "metadata": {},
   "outputs": [],
   "source": [
    "test_df['url_title'] = test_df['url'] + ' ' + test_df['title']"
   ]
  },
  {
   "cell_type": "code",
   "execution_count": 29,
   "metadata": {},
   "outputs": [
    {
     "data": {
      "application/vnd.jupyter.widget-view+json": {
       "model_id": "73cbac487092497d862170b125b4fd9b",
       "version_major": 2,
       "version_minor": 0
      },
      "text/plain": [
       "HBox(children=(FloatProgress(value=0.0, max=165378.0), HTML(value='')))"
      ]
     },
     "metadata": {},
     "output_type": "display_data"
    },
    {
     "name": "stdout",
     "output_type": "stream",
     "text": [
      "\n"
     ]
    }
   ],
   "source": [
    "corpus_test = test_df.url_title.values\n",
    "docs_test = [tokenize_text(text) for text in notebook.tqdm(corpus_test)]"
   ]
  },
  {
   "cell_type": "code",
   "execution_count": 30,
   "metadata": {},
   "outputs": [
    {
     "data": {
      "application/vnd.jupyter.widget-view+json": {
       "model_id": "6251a31b54e64118af136ef33eb021a8",
       "version_major": 2,
       "version_minor": 0
      },
      "text/plain": [
       "HBox(children=(FloatProgress(value=0.0, max=165378.0), HTML(value='')))"
      ]
     },
     "metadata": {},
     "output_type": "display_data"
    },
    {
     "name": "stdout",
     "output_type": "stream",
     "text": [
      "\n"
     ]
    }
   ],
   "source": [
    "lemmatizer_cache = {}\n",
    "\n",
    "lemmatized_docs_test = [[lemmatize(token) for token in text] for text in notebook.tqdm(docs_test)]\n",
    "\n",
    "cleared_docs_test = [[token for token in text if token not in stopwords_set] for text in lemmatized_docs_test]"
   ]
  },
  {
   "cell_type": "code",
   "execution_count": 31,
   "metadata": {},
   "outputs": [],
   "source": [
    "X_test = cleared_docs_test"
   ]
  },
  {
   "cell_type": "code",
   "execution_count": 39,
   "metadata": {},
   "outputs": [],
   "source": [
    "X_test_vectorized = vectorizer.transform(X_test)\n",
    "\n",
    "# test_df[\"target\"] = model.predict(X_test_vectorized).astype(bool)\n",
    "test_df[\"target\"] = pipeline.predict(test_df).astype(bool)\n",
    "\n",
    "test_df[[\"id\", \"target\"]].to_csv(\"./data/submission.csv\", index=False)"
   ]
  },
  {
   "cell_type": "code",
   "execution_count": 40,
   "metadata": {},
   "outputs": [
    {
     "data": {
      "text/html": [
       "<div>\n",
       "<style scoped>\n",
       "    .dataframe tbody tr th:only-of-type {\n",
       "        vertical-align: middle;\n",
       "    }\n",
       "\n",
       "    .dataframe tbody tr th {\n",
       "        vertical-align: top;\n",
       "    }\n",
       "\n",
       "    .dataframe thead th {\n",
       "        text-align: right;\n",
       "    }\n",
       "</style>\n",
       "<table border=\"1\" class=\"dataframe\">\n",
       "  <thead>\n",
       "    <tr style=\"text-align: right;\">\n",
       "      <th></th>\n",
       "      <th>id</th>\n",
       "      <th>url</th>\n",
       "      <th>title</th>\n",
       "      <th>url_title</th>\n",
       "      <th>target</th>\n",
       "    </tr>\n",
       "  </thead>\n",
       "  <tbody>\n",
       "    <tr>\n",
       "      <th>3</th>\n",
       "      <td>135312</td>\n",
       "      <td>national-porn.com</td>\n",
       "      <td>Небритые, волосатые киски: Порно всех стран и ...</td>\n",
       "      <td>national-porn.com Небритые, волосатые киски: П...</td>\n",
       "      <td>True</td>\n",
       "    </tr>\n",
       "    <tr>\n",
       "      <th>11</th>\n",
       "      <td>135320</td>\n",
       "      <td>hotki.ru</td>\n",
       "      <td>Озабоченная старая баба и ее порно фотосессия</td>\n",
       "      <td>hotki.ru Озабоченная старая баба и ее порно фо...</td>\n",
       "      <td>True</td>\n",
       "    </tr>\n",
       "    <tr>\n",
       "      <th>12</th>\n",
       "      <td>135321</td>\n",
       "      <td>hah.life</td>\n",
       "      <td>﻿﻿مايا خليفه جنس مثير مترجم🔞 | ساخن🔥 Mia Khali...</td>\n",
       "      <td>hah.life ﻿﻿مايا خليفه جنس مثير مترجم🔞 | ساخن🔥 ...</td>\n",
       "      <td>True</td>\n",
       "    </tr>\n",
       "    <tr>\n",
       "      <th>17</th>\n",
       "      <td>135326</td>\n",
       "      <td>femdomcc.net</td>\n",
       "      <td>TheEnglishMansion - Dominant Dolly, Miss Jade ...</td>\n",
       "      <td>femdomcc.net TheEnglishMansion - Dominant Doll...</td>\n",
       "      <td>True</td>\n",
       "    </tr>\n",
       "    <tr>\n",
       "      <th>38</th>\n",
       "      <td>135347</td>\n",
       "      <td>24eropixel.net</td>\n",
       "      <td>Двадцатилетняя телка в свободное время красует...</td>\n",
       "      <td>24eropixel.net Двадцатилетняя телка в свободно...</td>\n",
       "      <td>True</td>\n",
       "    </tr>\n",
       "    <tr>\n",
       "      <th>...</th>\n",
       "      <td>...</td>\n",
       "      <td>...</td>\n",
       "      <td>...</td>\n",
       "      <td>...</td>\n",
       "      <td>...</td>\n",
       "    </tr>\n",
       "    <tr>\n",
       "      <th>165334</th>\n",
       "      <td>300643</td>\n",
       "      <td>24eropixel.net</td>\n",
       "      <td>Восемнадцатилетняя Мария снимается для эротиче...</td>\n",
       "      <td>24eropixel.net Восемнадцатилетняя Мария снимае...</td>\n",
       "      <td>True</td>\n",
       "    </tr>\n",
       "    <tr>\n",
       "      <th>165340</th>\n",
       "      <td>300649</td>\n",
       "      <td>havepussy.com</td>\n",
       "      <td>Сиськи, страница 9 » Эротические фото и порно ...</td>\n",
       "      <td>havepussy.com Сиськи, страница 9 » Эротические...</td>\n",
       "      <td>True</td>\n",
       "    </tr>\n",
       "    <tr>\n",
       "      <th>165365</th>\n",
       "      <td>300674</td>\n",
       "      <td>ancensored.com</td>\n",
       "      <td>Nicole Sheridan nude pics, page - 3 &lt; ANCENSORED</td>\n",
       "      <td>ancensored.com Nicole Sheridan nude pics, page...</td>\n",
       "      <td>True</td>\n",
       "    </tr>\n",
       "    <tr>\n",
       "      <th>165368</th>\n",
       "      <td>300677</td>\n",
       "      <td>ancensored.com</td>\n",
       "      <td>Naked Kelsi Monroe in Pussy Portraits &lt; ANCENS...</td>\n",
       "      <td>ancensored.com Naked Kelsi Monroe in Pussy Por...</td>\n",
       "      <td>True</td>\n",
       "    </tr>\n",
       "    <tr>\n",
       "      <th>165370</th>\n",
       "      <td>300679</td>\n",
       "      <td>rusvideos.tv</td>\n",
       "      <td>Русское порно с блондинками – эти девахи точно...</td>\n",
       "      <td>rusvideos.tv Русское порно с блондинками – эти...</td>\n",
       "      <td>True</td>\n",
       "    </tr>\n",
       "  </tbody>\n",
       "</table>\n",
       "<p>20262 rows × 5 columns</p>\n",
       "</div>"
      ],
      "text/plain": [
       "            id                url  \\\n",
       "3       135312  national-porn.com   \n",
       "11      135320           hotki.ru   \n",
       "12      135321           hah.life   \n",
       "17      135326       femdomcc.net   \n",
       "38      135347     24eropixel.net   \n",
       "...        ...                ...   \n",
       "165334  300643     24eropixel.net   \n",
       "165340  300649      havepussy.com   \n",
       "165365  300674     ancensored.com   \n",
       "165368  300677     ancensored.com   \n",
       "165370  300679       rusvideos.tv   \n",
       "\n",
       "                                                    title  \\\n",
       "3       Небритые, волосатые киски: Порно всех стран и ...   \n",
       "11          Озабоченная старая баба и ее порно фотосессия   \n",
       "12      ﻿﻿مايا خليفه جنس مثير مترجم🔞 | ساخن🔥 Mia Khali...   \n",
       "17      TheEnglishMansion - Dominant Dolly, Miss Jade ...   \n",
       "38      Двадцатилетняя телка в свободное время красует...   \n",
       "...                                                   ...   \n",
       "165334  Восемнадцатилетняя Мария снимается для эротиче...   \n",
       "165340  Сиськи, страница 9 » Эротические фото и порно ...   \n",
       "165365   Nicole Sheridan nude pics, page - 3 < ANCENSORED   \n",
       "165368  Naked Kelsi Monroe in Pussy Portraits < ANCENS...   \n",
       "165370  Русское порно с блондинками – эти девахи точно...   \n",
       "\n",
       "                                                url_title  target  \n",
       "3       national-porn.com Небритые, волосатые киски: П...    True  \n",
       "11      hotki.ru Озабоченная старая баба и ее порно фо...    True  \n",
       "12      hah.life ﻿﻿مايا خليفه جنس مثير مترجم🔞 | ساخن🔥 ...    True  \n",
       "17      femdomcc.net TheEnglishMansion - Dominant Doll...    True  \n",
       "38      24eropixel.net Двадцатилетняя телка в свободно...    True  \n",
       "...                                                   ...     ...  \n",
       "165334  24eropixel.net Восемнадцатилетняя Мария снимае...    True  \n",
       "165340  havepussy.com Сиськи, страница 9 » Эротические...    True  \n",
       "165365  ancensored.com Nicole Sheridan nude pics, page...    True  \n",
       "165368  ancensored.com Naked Kelsi Monroe in Pussy Por...    True  \n",
       "165370  rusvideos.tv Русское порно с блондинками – эти...    True  \n",
       "\n",
       "[20262 rows x 5 columns]"
      ]
     },
     "execution_count": 40,
     "metadata": {},
     "output_type": "execute_result"
    }
   ],
   "source": [
    "test_df[test_df.target == True]"
   ]
  },
  {
   "cell_type": "code",
   "execution_count": null,
   "metadata": {},
   "outputs": [],
   "source": []
  }
 ],
 "metadata": {
  "kernelspec": {
   "display_name": "Python 3",
   "language": "python",
   "name": "python3"
  },
  "language_info": {
   "codemirror_mode": {
    "name": "ipython",
    "version": 3
   },
   "file_extension": ".py",
   "mimetype": "text/x-python",
   "name": "python",
   "nbconvert_exporter": "python",
   "pygments_lexer": "ipython3",
   "version": "3.7.8"
  }
 },
 "nbformat": 4,
 "nbformat_minor": 2
}
