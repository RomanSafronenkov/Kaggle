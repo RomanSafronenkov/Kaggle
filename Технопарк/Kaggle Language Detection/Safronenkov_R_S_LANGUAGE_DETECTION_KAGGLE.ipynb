{
 "cells": [
  {
   "cell_type": "markdown",
   "metadata": {
    "id": "vjLnRZmc-04X"
   },
   "source": [
    "<font color='black' size=6 face='Times New Roman'>Решение соревнования kaggle \"Language Detection\" by <b>Safronenkov R. S.</b></font>"
   ]
  },
  {
   "cell_type": "markdown",
   "metadata": {
    "id": "rZ2wJrObv9cu"
   },
   "source": [
    "<a href=https://www.kaggle.com/c/introml2020-3/overview>IntroML 2020. Language detection</a>"
   ]
  },
  {
   "cell_type": "code",
   "execution_count": 1,
   "metadata": {
    "colab": {
     "base_uri": "https://localhost:8080/"
    },
    "id": "5JK9qhBQDFR7",
    "outputId": "695e3ec1-ed2b-4e0a-829d-371043d38605"
   },
   "outputs": [
    {
     "name": "stdout",
     "output_type": "stream",
     "text": [
      "Requirement already satisfied: pymorphy2 in /usr/local/lib/python3.6/dist-packages (0.9.1)\n",
      "Requirement already satisfied: dawg-python>=0.7.1 in /usr/local/lib/python3.6/dist-packages (from pymorphy2) (0.7.2)\n",
      "Requirement already satisfied: docopt>=0.6 in /usr/local/lib/python3.6/dist-packages (from pymorphy2) (0.6.2)\n",
      "Requirement already satisfied: pymorphy2-dicts-ru<3.0,>=2.4 in /usr/local/lib/python3.6/dist-packages (from pymorphy2) (2.4.417127.4579844)\n"
     ]
    }
   ],
   "source": [
    "# !pip install pymorphy2"
   ]
  },
  {
   "cell_type": "code",
   "execution_count": 2,
   "metadata": {
    "colab": {
     "base_uri": "https://localhost:8080/"
    },
    "id": "drmVR3ym-04b",
    "outputId": "74b073cd-ec96-409d-d86f-710ccc10fd00"
   },
   "outputs": [
    {
     "name": "stdout",
     "output_type": "stream",
     "text": [
      "[nltk_data] Downloading package stopwords to /root/nltk_data...\n",
      "[nltk_data]   Package stopwords is already up-to-date!\n"
     ]
    }
   ],
   "source": [
    "import pandas as pd\n",
    "import numpy as np\n",
    "import matplotlib.pyplot as plt\n",
    "plt.style.use('ggplot')\n",
    "\n",
    "from sklearn.model_selection import train_test_split\n",
    "from sklearn.preprocessing  import LabelEncoder, StandardScaler\n",
    "from sklearn.feature_extraction.text import TfidfVectorizer, CountVectorizer\n",
    "from sklearn.linear_model import SGDClassifier\n",
    "from sklearn.pipeline import Pipeline, FeatureUnion\n",
    "from sklearn.metrics import balanced_accuracy_score\n",
    "from sklearn.model_selection import train_test_split\n",
    "from sklearn.base import TransformerMixin\n",
    "from sklearn.ensemble import RandomForestClassifier\n",
    "\n",
    "import nltk\n",
    "nltk.download('stopwords')\n",
    "import pymorphy2\n",
    "import zipfile\n",
    "import gzip\n",
    "import os\n",
    "import re\n",
    "import string\n",
    "from tqdm import notebook\n",
    "from collections import Counter"
   ]
  },
  {
   "cell_type": "code",
   "execution_count": 3,
   "metadata": {
    "id": "DkIGb72I-04h"
   },
   "outputs": [],
   "source": [
    "def find_russian_words(text):\n",
    "    '''\n",
    "    Функция для удобства поиска любых слов, состоящих из букв русского алфавита\n",
    "    '''\n",
    "    return re.findall(r'[а-яё]', text.lower())\n",
    "\n",
    "def clear_data_from_russian_letters(dataframe, language):\n",
    "    '''\n",
    "    Функция для поиска индексов объектов, в которых встречаются русские буквы, в заданном языке\n",
    "    '''\n",
    "    index_list = []\n",
    "    indexes = train_df.sentence[train_df.language == language].index\n",
    "    for i, text in enumerate(train_df.sentence[train_df.language == language]):\n",
    "        if len(find_russian_words(text)) != 0:\n",
    "            index_list.append(indexes[i])\n",
    "    return index_list\n",
    "\n",
    "def find_ukrainian(text):\n",
    "    '''\n",
    "    Функция для удобства поиска любых слов, состоящих из букв украинского алфавита\n",
    "    '''\n",
    "    return re.findall('[^\\s]*і[^\\s]*', text.lower())\n",
    "\n",
    "def clear_data_from_uk_letters(dataframe, language):\n",
    "    '''\n",
    "    Функция для поиска индексов объектов, в которых встречаются украинские буквы, в заданном языке\n",
    "    '''\n",
    "    index_list = []\n",
    "    indexes = train_df.sentence[train_df.language == language].index\n",
    "    for i, text in enumerate(train_df.sentence[train_df.language == language]):\n",
    "        if len(find_ukrainian(text)) != 0:\n",
    "            index_list.append(indexes[i])\n",
    "    return index_list\n",
    "\n",
    "def delete_wrong_sentences(dataframe):\n",
    "    '''\n",
    "    Найти и удалить объекты русского языка и украинского в языках, в которых их быть не должно\n",
    "    '''\n",
    "    frame = dataframe.copy()\n",
    "    for language in notebook.tqdm(['fr', 'en', 'th', 'ku', 'et']):\n",
    "        index_list = clear_data_from_russian_letters(frame, language)\n",
    "        frame = frame.drop(index_list, axis=0)\n",
    "    index_list = clear_data_from_uk_letters(frame, 'ru')\n",
    "    frame = frame.drop(index_list, axis=0)\n",
    "    return frame\n",
    "\n",
    "def tokenize(text):\n",
    "    '''\n",
    "    Токенизатор текста\n",
    "    '''\n",
    "#     return nltk.tokenize.word_tokenize(text.lower())\n",
    "    return re.findall(r'[\\w]+', text.lower())\n",
    "\n",
    "def tokenize_corpus(corpus):\n",
    "    '''\n",
    "    Токенизировать корпус\n",
    "    '''\n",
    "    return [tokenize(text) for text in notebook.tqdm(corpus)]\n",
    "\n",
    "def lemmatize(token):\n",
    "    '''\n",
    "    Лемматизация с использованием pymorphy2\n",
    "    '''\n",
    "    if lemmatizer.word_is_known(token):\n",
    "        if token not in lemmatizer_cache:\n",
    "            lemmatizer_cache[token] = lemmatizer.parse(token)[0].normal_form\n",
    "        return lemmatizer_cache[token]\n",
    "    return token\n",
    "\n",
    "def join_tokenized_sentences(tokenized_sentences):\n",
    "    '''\n",
    "    Соединить токенизированный корпус обратно\n",
    "    '''\n",
    "    sentence_list = []\n",
    "    for doc in notebook.tqdm(tokenized_sentences):\n",
    "        sentence = str()\n",
    "        for token in doc:\n",
    "            sentence += token + ' '\n",
    "        sentence_list.append(sentence.rstrip())\n",
    "    return sentence_list\n",
    "\n",
    "def preprocess_corpus(corpus, lemmatization=True):\n",
    "    '''\n",
    "    Токенизировать, лемматизировать (опционально), удалить лишнее, собрать обратно для корпуса\n",
    "    '''\n",
    "    print('Tokenizing...')\n",
    "    tokenized_corpus = tokenize_corpus(corpus)\n",
    "    if lemmatization:\n",
    "        print('Lemmatizing...')\n",
    "        lemmatized_docs = [[lemmatize(token) for token in text] for text in notebook.tqdm(tokenized_corpus)]\n",
    "\n",
    "        cleared_docs = [[token for token in text if token not in stopwords_set] for text in lemmatized_docs]\n",
    "        print('Joining...')\n",
    "        joined = join_tokenized_sentences(cleared_docs)\n",
    "    else:\n",
    "        cleared_docs = [[token for token in text if token not in stopwords_set] for text in tokenized_corpus]\n",
    "        print('Joining...')\n",
    "        joined = join_tokenized_sentences(cleared_docs)\n",
    "    return joined\n",
    "\n",
    "def preprocess_df(df, **kwargs):\n",
    "    '''\n",
    "    Подготовка датафрейма\n",
    "    '''\n",
    "    frame = df.copy()\n",
    "    corpus = frame.sentence.values\n",
    "    joined = preprocess_corpus(corpus, **kwargs)\n",
    "    frame['sentence'] = joined\n",
    "    return frame"
   ]
  },
  {
   "cell_type": "code",
   "execution_count": 4,
   "metadata": {
    "id": "1FauITjfJHaN"
   },
   "outputs": [],
   "source": [
    "def find_words(text):\n",
    "    '''\n",
    "    Найти слова в тексте типа \"&apos, &ty\" и т.д.\n",
    "    '''\n",
    "    return re.findall(r'[\\w]*&[\\w]*', text.lower())\n",
    "\n",
    "def find_all_words(corpus):\n",
    "    '''\n",
    "    Найти все слова в корпусе типа \"&apos, &ty\" и т.д.\n",
    "    '''\n",
    "    set_of_words = []\n",
    "    for sentence in notebook.tqdm(corpus):\n",
    "        list_of_words = find_words(sentence)\n",
    "        set_of_words.extend(list_of_words)\n",
    "    return set(set_of_words)"
   ]
  },
  {
   "cell_type": "code",
   "execution_count": 5,
   "metadata": {
    "id": "AlzzyY1V9Hbe"
   },
   "outputs": [],
   "source": [
    "def count_mean_lenght(text):\n",
    "    '''\n",
    "    Посчитать среднюю длину слова в предложении\n",
    "    '''\n",
    "    lenght = 0\n",
    "    count = 0\n",
    "    for i in text.split(' '):\n",
    "        if i not in string.punctuation:\n",
    "            lenght += len(i)\n",
    "            count += 1\n",
    "    return round(lenght / (count + 1e-6), 3)"
   ]
  },
  {
   "cell_type": "code",
   "execution_count": 6,
   "metadata": {
    "id": "GUAB8YKE-04n"
   },
   "outputs": [],
   "source": [
    "seed = 42"
   ]
  },
  {
   "cell_type": "code",
   "execution_count": 7,
   "metadata": {
    "id": "-6TGPnqe-04w"
   },
   "outputs": [],
   "source": [
    "train_df = pd.read_csv('./data/train.csv.zip')\n",
    "test_df = pd.read_csv('./data/test.csv.zip')"
   ]
  },
  {
   "cell_type": "code",
   "execution_count": 8,
   "metadata": {
    "colab": {
     "base_uri": "https://localhost:8080/"
    },
    "id": "k0CHung2-040",
    "outputId": "b0cb3fd1-d029-45a8-aaf4-5849acc80950"
   },
   "outputs": [
    {
     "data": {
      "text/plain": [
       "((3159633, 2), (2784634, 2))"
      ]
     },
     "execution_count": 8,
     "metadata": {
      "tags": []
     },
     "output_type": "execute_result"
    }
   ],
   "source": [
    "train_df.shape, test_df.shape"
   ]
  },
  {
   "cell_type": "code",
   "execution_count": 9,
   "metadata": {
    "colab": {
     "base_uri": "https://localhost:8080/",
     "height": 509
    },
    "id": "lfJajDLh-044",
    "outputId": "1a6c4ae3-dca4-4a0d-e195-2d80debf168c"
   },
   "outputs": [
    {
     "data": {
      "text/html": [
       "<div>\n",
       "<style scoped>\n",
       "    .dataframe tbody tr th:only-of-type {\n",
       "        vertical-align: middle;\n",
       "    }\n",
       "\n",
       "    .dataframe tbody tr th {\n",
       "        vertical-align: top;\n",
       "    }\n",
       "\n",
       "    .dataframe thead th {\n",
       "        text-align: right;\n",
       "    }\n",
       "</style>\n",
       "<table border=\"1\" class=\"dataframe\">\n",
       "  <thead>\n",
       "    <tr style=\"text-align: right;\">\n",
       "      <th></th>\n",
       "      <th>sentence</th>\n",
       "      <th>language</th>\n",
       "    </tr>\n",
       "  </thead>\n",
       "  <tbody>\n",
       "    <tr>\n",
       "      <th>0</th>\n",
       "      <td>Pensez à la communication , le discours , les ...</td>\n",
       "      <td>fr</td>\n",
       "    </tr>\n",
       "    <tr>\n",
       "      <th>1</th>\n",
       "      <td>Můžete si ji pronajmout , vzít na splátky , ko...</td>\n",
       "      <td>cs</td>\n",
       "    </tr>\n",
       "    <tr>\n",
       "      <th>2</th>\n",
       "      <td>Každý starosta pochopil , že když mají tyto fo...</td>\n",
       "      <td>cs</td>\n",
       "    </tr>\n",
       "    <tr>\n",
       "      <th>3</th>\n",
       "      <td>Det är ytterligare bevis , men ändå — Jag krit...</td>\n",
       "      <td>sv</td>\n",
       "    </tr>\n",
       "    <tr>\n",
       "      <th>4</th>\n",
       "      <td>كان الأمر لا يصدق .</td>\n",
       "      <td>ar</td>\n",
       "    </tr>\n",
       "    <tr>\n",
       "      <th>5</th>\n",
       "      <td>Na primjer , pjesnik ga opisuje ovako .</td>\n",
       "      <td>hr</td>\n",
       "    </tr>\n",
       "    <tr>\n",
       "      <th>6</th>\n",
       "      <td>Semua rerumputan itu sekarang menutupi tanah s...</td>\n",
       "      <td>id</td>\n",
       "    </tr>\n",
       "    <tr>\n",
       "      <th>7</th>\n",
       "      <td>Det är en enorm utmaning för oss att göra det .</td>\n",
       "      <td>sv</td>\n",
       "    </tr>\n",
       "    <tr>\n",
       "      <th>8</th>\n",
       "      <td>Ono što ćete vidjeti - trebat ćete skočiti ovd...</td>\n",
       "      <td>hr</td>\n",
       "    </tr>\n",
       "    <tr>\n",
       "      <th>9</th>\n",
       "      <td>( Alqışlar ) Excel-dən istifadə etmişəm .</td>\n",
       "      <td>az</td>\n",
       "    </tr>\n",
       "    <tr>\n",
       "      <th>10</th>\n",
       "      <td>После увольнения я решил собрать своих друзей ...</td>\n",
       "      <td>ru</td>\n",
       "    </tr>\n",
       "    <tr>\n",
       "      <th>11</th>\n",
       "      <td>יכולתי בקלות למצוא את עצמי שם או ברחוב .</td>\n",
       "      <td>he</td>\n",
       "    </tr>\n",
       "    <tr>\n",
       "      <th>12</th>\n",
       "      <td>この過去の遺産と決別することが これまで以上に急務です 互いを深く隔てる社会的不平等を終わら...</td>\n",
       "      <td>ja</td>\n",
       "    </tr>\n",
       "    <tr>\n",
       "      <th>13</th>\n",
       "      <td>Ты знаешь , что это не гнев заставил моё сердц...</td>\n",
       "      <td>ru</td>\n",
       "    </tr>\n",
       "    <tr>\n",
       "      <th>14</th>\n",
       "      <td>Wie gehen wir so etwas also an ?</td>\n",
       "      <td>de</td>\n",
       "    </tr>\n",
       "  </tbody>\n",
       "</table>\n",
       "</div>"
      ],
      "text/plain": [
       "                                             sentence language\n",
       "0   Pensez à la communication , le discours , les ...       fr\n",
       "1   Můžete si ji pronajmout , vzít na splátky , ko...       cs\n",
       "2   Každý starosta pochopil , že když mají tyto fo...       cs\n",
       "3   Det är ytterligare bevis , men ändå — Jag krit...       sv\n",
       "4                                 كان الأمر لا يصدق .       ar\n",
       "5             Na primjer , pjesnik ga opisuje ovako .       hr\n",
       "6   Semua rerumputan itu sekarang menutupi tanah s...       id\n",
       "7     Det är en enorm utmaning för oss att göra det .       sv\n",
       "8   Ono što ćete vidjeti - trebat ćete skočiti ovd...       hr\n",
       "9           ( Alqışlar ) Excel-dən istifadə etmişəm .       az\n",
       "10  После увольнения я решил собрать своих друзей ...       ru\n",
       "11           יכולתי בקלות למצוא את עצמי שם או ברחוב .       he\n",
       "12  この過去の遺産と決別することが これまで以上に急務です 互いを深く隔てる社会的不平等を終わら...       ja\n",
       "13  Ты знаешь , что это не гнев заставил моё сердц...       ru\n",
       "14                   Wie gehen wir so etwas also an ?       de"
      ]
     },
     "execution_count": 9,
     "metadata": {
      "tags": []
     },
     "output_type": "execute_result"
    }
   ],
   "source": [
    "train_df.head(15)"
   ]
  },
  {
   "cell_type": "code",
   "execution_count": 10,
   "metadata": {
    "colab": {
     "base_uri": "https://localhost:8080/",
     "height": 517
    },
    "id": "6LjqcUJl-049",
    "outputId": "162cfd25-40ae-4e6b-f37c-0654fcd93c4b"
   },
   "outputs": [
    {
     "data": {
      "text/plain": [
       "<matplotlib.axes._subplots.AxesSubplot at 0x7f1f13e64208>"
      ]
     },
     "execution_count": 10,
     "metadata": {
      "tags": []
     },
     "output_type": "execute_result"
    },
    {
     "data": {
      "image/png": "[encoded data removed]",
      "text/plain": [
       "<Figure size 1382.4x777.6 with 1 Axes>"
      ]
     },
     "metadata": {
      "tags": []
     },
     "output_type": "display_data"
    }
   ],
   "source": [
    "train_df.language.hist(bins=200, figsize=(19.20, 10.80), xrot=60)"
   ]
  },
  {
   "cell_type": "code",
   "execution_count": 11,
   "metadata": {
    "colab": {
     "base_uri": "https://localhost:8080/"
    },
    "id": "EWRNG93P-05D",
    "outputId": "d6d2f50d-dd89-46d0-f46b-bfc901290457"
   },
   "outputs": [
    {
     "data": {
      "text/plain": [
       "sentence    1\n",
       "language    1\n",
       "dtype: int64"
      ]
     },
     "execution_count": 11,
     "metadata": {
      "tags": []
     },
     "output_type": "execute_result"
    }
   ],
   "source": [
    "train_df.isna().nunique() # нет NaN"
   ]
  },
  {
   "cell_type": "code",
   "execution_count": 12,
   "metadata": {
    "colab": {
     "base_uri": "https://localhost:8080/"
    },
    "id": "O6v4TwJa-05H",
    "outputId": "b03604f8-3cb7-4ad2-c0dc-d8eb7ce9814b"
   },
   "outputs": [
    {
     "data": {
      "text/plain": [
       "856703     это что мы не как на вы они но из то он так дл...\n",
       "3013714    Elle croit que &quot; &quot; C&apos; est comme...\n",
       "586015     L&apos; autre question importante est : combie...\n",
       "2142582    Mais étant donné ce dont je me sens capable dé...\n",
       "2478970                              Vous pouvez me croire .\n",
       "Name: sentence, dtype: object"
      ]
     },
     "execution_count": 12,
     "metadata": {
      "tags": []
     },
     "output_type": "execute_result"
    }
   ],
   "source": [
    "train_df.sentence[train_df.language == 'fr'].sample(5) # видно, что есть выбросы"
   ]
  },
  {
   "cell_type": "code",
   "execution_count": 13,
   "metadata": {
    "colab": {
     "base_uri": "https://localhost:8080/",
     "height": 67,
     "referenced_widgets": [
      "f38facad734a4d74b268e601263b0474",
      "f42ae0580b774798809e4bc9c67701d4",
      "271564c3f98647159c4c3263321dc1bf",
      "a9c38c762c9545a6befaf5c91fdca790",
      "7d9d5eb9258845efbf2c6a45a1c198ba",
      "9a2f0b3813b443808efe6750323333ab",
      "c65c514a9e904dbd9e0c00539315ddaf",
      "3d3ec01480aa44f1946074ab301f7337"
     ]
    },
    "id": "OyLozgYP-05L",
    "outputId": "b4dbd54e-620e-4221-c439-4a0783e07a92"
   },
   "outputs": [
    {
     "data": {
      "application/vnd.jupyter.widget-view+json": {
       "model_id": "f38facad734a4d74b268e601263b0474",
       "version_major": 2,
       "version_minor": 0
      },
      "text/plain": [
       "HBox(children=(FloatProgress(value=0.0, max=59.0), HTML(value='')))"
      ]
     },
     "metadata": {
      "tags": []
     },
     "output_type": "display_data"
    },
    {
     "name": "stdout",
     "output_type": "stream",
     "text": [
      "\n"
     ]
    }
   ],
   "source": [
    "lang_list = [] # посмотрим в каких языка встречаются слова русского языка\n",
    "for language in notebook.tqdm(train_df.language.unique()):\n",
    "    if len(clear_data_from_russian_letters(train_df, language)) != 0:\n",
    "        lang_list.append(language)"
   ]
  },
  {
   "cell_type": "code",
   "execution_count": 14,
   "metadata": {
    "colab": {
     "base_uri": "https://localhost:8080/"
    },
    "id": "-AhYRYBG-05Q",
    "outputId": "7f32df87-8988-4251-8313-a0a7c8e3fa2d"
   },
   "outputs": [
    {
     "data": {
      "text/plain": [
       "['fr',\n",
       " 'ru',\n",
       " 'en',\n",
       " 'bg',\n",
       " 'th',\n",
       " 'zh-cn',\n",
       " 'ku',\n",
       " 'es',\n",
       " 'et',\n",
       " 'sr',\n",
       " 'uk',\n",
       " 'lt',\n",
       " 'mn',\n",
       " 'mk',\n",
       " 'be',\n",
       " 'kk']"
      ]
     },
     "execution_count": 14,
     "metadata": {
      "tags": []
     },
     "output_type": "execute_result"
    }
   ],
   "source": [
    "lang_list # конечно, здесь есть языки в которых есть такие же буквы, как в русском алфавите, мы это учтем"
   ]
  },
  {
   "cell_type": "code",
   "execution_count": 15,
   "metadata": {
    "id": "2tfxXBBO-05V"
   },
   "outputs": [],
   "source": [
    "del(lang_list)"
   ]
  },
  {
   "cell_type": "code",
   "execution_count": 16,
   "metadata": {
    "colab": {
     "base_uri": "https://localhost:8080/",
     "height": 67,
     "referenced_widgets": [
      "b81064b252ab43d08e0ea45a1ccb03c6",
      "3637110e1908411783e1a265b12ac91a",
      "8c1b05f65f2c43e1ac74047adbc2f6a2",
      "7487746ee27b4e6b967d59ff31614539",
      "aadf60fd30834871adf006784ec19b3f",
      "4a3d2d08f20848e4a2cd8ec0c2d6c072",
      "88516e3eb9564ee3adcddb3583b23215",
      "cf0b58a5b3a44e88bca9791e7582adab"
     ]
    },
    "id": "mihSz3O8-05Z",
    "outputId": "97ccb63c-dbec-4e0d-95fd-58fd31a2698f"
   },
   "outputs": [
    {
     "data": {
      "application/vnd.jupyter.widget-view+json": {
       "model_id": "b81064b252ab43d08e0ea45a1ccb03c6",
       "version_major": 2,
       "version_minor": 0
      },
      "text/plain": [
       "HBox(children=(FloatProgress(value=0.0, max=5.0), HTML(value='')))"
      ]
     },
     "metadata": {
      "tags": []
     },
     "output_type": "display_data"
    },
    {
     "name": "stdout",
     "output_type": "stream",
     "text": [
      "\n"
     ]
    }
   ],
   "source": [
    "train_df = delete_wrong_sentences(train_df) # удаляем объекты, не подходящие по языку"
   ]
  },
  {
   "cell_type": "code",
   "execution_count": 17,
   "metadata": {
    "colab": {
     "base_uri": "https://localhost:8080/"
    },
    "id": "1YoDMuwm6c3h",
    "outputId": "2baae048-1bc8-4d82-8342-32fc39cdb7e5"
   },
   "outputs": [
    {
     "data": {
      "text/plain": [
       "1860700    แต ่ เมื ่ อผมอินกับเรื ่ องนี ้ เพิ ่ มขึ ้ น...\n",
       "743303                        Ma cos&apos; è un ectocotilo ?\n",
       "2993229      Κάθε ένας από εμάς έχει 23 ζεύγη χρωμοσωμάτων .\n",
       "155683                                      だから私はこの問いには答えません\n",
       "1270915    אבל תנו לי משהו כזה- ידידי מייק מארניין פיסל א...\n",
       "Name: sentence, dtype: object"
      ]
     },
     "execution_count": 17,
     "metadata": {
      "tags": []
     },
     "output_type": "execute_result"
    }
   ],
   "source": [
    "train_df.sentence.sample(5)"
   ]
  },
  {
   "cell_type": "code",
   "execution_count": 18,
   "metadata": {
    "id": "3h6B-Iug9WZd"
   },
   "outputs": [],
   "source": [
    "# train_df['mean_word_len'] = train_df.sentence.apply(lambda x:count_mean_lenght(x)) # это на деле не помогло"
   ]
  },
  {
   "cell_type": "code",
   "execution_count": 19,
   "metadata": {
    "colab": {
     "base_uri": "https://localhost:8080/",
     "height": 202
    },
    "id": "HhqGQWbf6sVe",
    "outputId": "74412b49-d0da-45f7-bc20-4785a40b2bcc"
   },
   "outputs": [
    {
     "data": {
      "text/html": [
       "<div>\n",
       "<style scoped>\n",
       "    .dataframe tbody tr th:only-of-type {\n",
       "        vertical-align: middle;\n",
       "    }\n",
       "\n",
       "    .dataframe tbody tr th {\n",
       "        vertical-align: top;\n",
       "    }\n",
       "\n",
       "    .dataframe thead th {\n",
       "        text-align: right;\n",
       "    }\n",
       "</style>\n",
       "<table border=\"1\" class=\"dataframe\">\n",
       "  <thead>\n",
       "    <tr style=\"text-align: right;\">\n",
       "      <th></th>\n",
       "      <th>sentence</th>\n",
       "      <th>language</th>\n",
       "    </tr>\n",
       "  </thead>\n",
       "  <tbody>\n",
       "    <tr>\n",
       "      <th>954105</th>\n",
       "      <td>Můj dědeček byl také obr.</td>\n",
       "      <td>cs</td>\n",
       "    </tr>\n",
       "    <tr>\n",
       "      <th>149722</th>\n",
       "      <td>1993 年 ， 約有 一萬一千個家庭及警察 ， 在洛杉磯種族暴動後 ， 從洛杉磯逃到北愛達...</td>\n",
       "      <td>zh-tw</td>\n",
       "    </tr>\n",
       "    <tr>\n",
       "      <th>914443</th>\n",
       "      <td>Saya jadi berpikir , kalau kita mulai bekerja ...</td>\n",
       "      <td>id</td>\n",
       "    </tr>\n",
       "    <tr>\n",
       "      <th>1993896</th>\n",
       "      <td>Medicamentele navighează prin tot corpul tău .</td>\n",
       "      <td>ro</td>\n",
       "    </tr>\n",
       "    <tr>\n",
       "      <th>628555</th>\n",
       "      <td>Чому бути , того не минути .</td>\n",
       "      <td>uk</td>\n",
       "    </tr>\n",
       "  </tbody>\n",
       "</table>\n",
       "</div>"
      ],
      "text/plain": [
       "                                                  sentence language\n",
       "954105                           Můj dědeček byl také obr.       cs\n",
       "149722   1993 年 ， 約有 一萬一千個家庭及警察 ， 在洛杉磯種族暴動後 ， 從洛杉磯逃到北愛達...    zh-tw\n",
       "914443   Saya jadi berpikir , kalau kita mulai bekerja ...       id\n",
       "1993896     Medicamentele navighează prin tot corpul tău .       ro\n",
       "628555                        Чому бути , того не минути .       uk"
      ]
     },
     "execution_count": 19,
     "metadata": {
      "tags": []
     },
     "output_type": "execute_result"
    }
   ],
   "source": [
    "train_df.sample(5)"
   ]
  },
  {
   "cell_type": "code",
   "execution_count": 20,
   "metadata": {
    "colab": {
     "base_uri": "https://localhost:8080/"
    },
    "id": "QgyhN7_n-05c",
    "outputId": "129fd02f-0e4b-491f-fd6a-c0ecba270ea1"
   },
   "outputs": [
    {
     "data": {
      "text/plain": [
       "2231195    уровень холестерина в 140 единиц у мужчины воз...\n",
       "319757                                   Наступило 17 июня .\n",
       "182296     Проходя через этот скорбный период , я с удивл...\n",
       "2144350                   Вы дали несколько подсказок , но …\n",
       "1824536                 А поставить галочку требует усилий .\n",
       "Name: sentence, dtype: object"
      ]
     },
     "execution_count": 20,
     "metadata": {
      "tags": []
     },
     "output_type": "execute_result"
    }
   ],
   "source": [
    "train_df.sentence[train_df.language == 'ru'].sample(5)"
   ]
  },
  {
   "cell_type": "code",
   "execution_count": 21,
   "metadata": {
    "colab": {
     "base_uri": "https://localhost:8080/"
    },
    "id": "SsKL2vKD-05g",
    "outputId": "84b903b2-d86d-4b05-eea4-3b4e1b2c0a83"
   },
   "outputs": [
    {
     "data": {
      "text/plain": [
       "(2884631, 2)"
      ]
     },
     "execution_count": 21,
     "metadata": {
      "tags": []
     },
     "output_type": "execute_result"
    }
   ],
   "source": [
    "train_df.shape"
   ]
  },
  {
   "cell_type": "markdown",
   "metadata": {
    "id": "s3NTOcGkv9eN"
   },
   "source": [
    "<font color='black' size=5 face='Times New Roman'>Разобьем на тренировочный и валидационный датасеты</font>"
   ]
  },
  {
   "cell_type": "code",
   "execution_count": 22,
   "metadata": {
    "id": "mmDKrEeg-05k"
   },
   "outputs": [],
   "source": [
    "train, test, y_tr, y_t = train_test_split(train_df.drop('language', axis=1),\n",
    "                                          train_df['language'],\n",
    "                                          test_size=0.2,\n",
    "                                          random_state=seed)"
   ]
  },
  {
   "cell_type": "code",
   "execution_count": 23,
   "metadata": {
    "colab": {
     "base_uri": "https://localhost:8080/"
    },
    "id": "yHSv0Z13-05p",
    "outputId": "f3049470-33a5-4de1-e324-f234d458eae4"
   },
   "outputs": [
    {
     "data": {
      "text/plain": [
       "((2307704, 1), (576927, 1))"
      ]
     },
     "execution_count": 23,
     "metadata": {
      "tags": []
     },
     "output_type": "execute_result"
    }
   ],
   "source": [
    "train.shape, test.shape"
   ]
  },
  {
   "cell_type": "code",
   "execution_count": 24,
   "metadata": {
    "id": "8794GsqC-05t"
   },
   "outputs": [],
   "source": [
    "train_df = train.join(y_tr)\n",
    "val_df = test.join(y_t)"
   ]
  },
  {
   "cell_type": "code",
   "execution_count": 25,
   "metadata": {
    "id": "1xM4BtbR-05w"
   },
   "outputs": [],
   "source": [
    "del(train, test, y_tr, y_t)"
   ]
  },
  {
   "cell_type": "code",
   "execution_count": 26,
   "metadata": {
    "colab": {
     "base_uri": "https://localhost:8080/",
     "height": 202
    },
    "id": "5OhT-qw3-050",
    "outputId": "085b17dd-8e9d-4a70-e318-f4d2d788189f"
   },
   "outputs": [
    {
     "data": {
      "text/html": [
       "<div>\n",
       "<style scoped>\n",
       "    .dataframe tbody tr th:only-of-type {\n",
       "        vertical-align: middle;\n",
       "    }\n",
       "\n",
       "    .dataframe tbody tr th {\n",
       "        vertical-align: top;\n",
       "    }\n",
       "\n",
       "    .dataframe thead th {\n",
       "        text-align: right;\n",
       "    }\n",
       "</style>\n",
       "<table border=\"1\" class=\"dataframe\">\n",
       "  <thead>\n",
       "    <tr style=\"text-align: right;\">\n",
       "      <th></th>\n",
       "      <th>sentence</th>\n",
       "      <th>language</th>\n",
       "    </tr>\n",
       "  </thead>\n",
       "  <tbody>\n",
       "    <tr>\n",
       "      <th>272662</th>\n",
       "      <td>На тази основа , ние го извадихме и казахме , ...</td>\n",
       "      <td>bg</td>\n",
       "    </tr>\n",
       "    <tr>\n",
       "      <th>1522325</th>\n",
       "      <td>Så nu finns det en al Qaida i islamiska Maghre...</td>\n",
       "      <td>sv</td>\n",
       "    </tr>\n",
       "    <tr>\n",
       "      <th>466388</th>\n",
       "      <td>E se você tiver expectativas corretas e admini...</td>\n",
       "      <td>pt-br</td>\n",
       "    </tr>\n",
       "    <tr>\n",
       "      <th>2689213</th>\n",
       "      <td>我们在一天早晨的拂晓之前离开了卡拉奇市 。</td>\n",
       "      <td>zh-cn</td>\n",
       "    </tr>\n",
       "    <tr>\n",
       "      <th>1808237</th>\n",
       "      <td>嫉妒让人身心俱疲</td>\n",
       "      <td>zh-cn</td>\n",
       "    </tr>\n",
       "  </tbody>\n",
       "</table>\n",
       "</div>"
      ],
      "text/plain": [
       "                                                  sentence language\n",
       "272662   На тази основа , ние го извадихме и казахме , ...       bg\n",
       "1522325  Så nu finns det en al Qaida i islamiska Maghre...       sv\n",
       "466388   E se você tiver expectativas corretas e admini...    pt-br\n",
       "2689213                              我们在一天早晨的拂晓之前离开了卡拉奇市 。    zh-cn\n",
       "1808237                                           嫉妒让人身心俱疲    zh-cn"
      ]
     },
     "execution_count": 26,
     "metadata": {
      "tags": []
     },
     "output_type": "execute_result"
    }
   ],
   "source": [
    "train_df.sample(5)"
   ]
  },
  {
   "cell_type": "markdown",
   "metadata": {
    "id": "N2O4ZUoav9ee"
   },
   "source": [
    "<font color='black' size=5 face='Times New Roman'>Найдем слова с символом &</font>"
   ]
  },
  {
   "cell_type": "code",
   "execution_count": 27,
   "metadata": {
    "colab": {
     "base_uri": "https://localhost:8080/",
     "height": 67,
     "referenced_widgets": [
      "5ce9c7294a374b98842484d3f9cd01d2",
      "d8c94dfe58a14174a64114ea4a3e6a6e",
      "827716c2d1b14bac8c320bd77c30f02d",
      "7f992bcac12746e3aad316594c430919",
      "90c9695b9d4343ff9a2225ecc546e434",
      "b36426b038b54e22a43874cabd813162",
      "32363675694c4db0833eadc8736d43df",
      "39a95aeaff6f40838cc61e4fa5a356d9"
     ]
    },
    "id": "qxhWcml4KCuo",
    "outputId": "f8c13a2a-8206-41cf-e45d-7eefb9adf079"
   },
   "outputs": [
    {
     "data": {
      "application/vnd.jupyter.widget-view+json": {
       "model_id": "5ce9c7294a374b98842484d3f9cd01d2",
       "version_major": 2,
       "version_minor": 0
      },
      "text/plain": [
       "HBox(children=(FloatProgress(value=0.0, max=2307704.0), HTML(value='')))"
      ]
     },
     "metadata": {
      "tags": []
     },
     "output_type": "display_data"
    },
    {
     "name": "stdout",
     "output_type": "stream",
     "text": [
      "\n"
     ]
    }
   ],
   "source": [
    "another_bad_words = find_all_words(train_df.sentence.values)"
   ]
  },
  {
   "cell_type": "code",
   "execution_count": 28,
   "metadata": {
    "id": "hbXWXbOdtZi1"
   },
   "outputs": [],
   "source": [
    "another = [] # и без & тоже учтем\n",
    "for i in another_bad_words:\n",
    "    if len(re.findall(r'&([\\w]+)', i)) != 0:\n",
    "        another.extend(re.findall(r'&([\\w]+)', i))\n",
    "another = set(another)"
   ]
  },
  {
   "cell_type": "code",
   "execution_count": 29,
   "metadata": {
    "colab": {
     "base_uri": "https://localhost:8080/"
    },
    "id": "5PTuiywDmbIf",
    "outputId": "ae2a3ba6-fafb-4491-85b8-863d8e277473"
   },
   "outputs": [
    {
     "data": {
      "text/plain": [
       "{'&',\n",
       " '&amp',\n",
       " '&apos',\n",
       " '&gt',\n",
       " '&lt',\n",
       " '&quot',\n",
       " 'a&apos',\n",
       " 'ad&apos',\n",
       " 'ain&apos',\n",
       " 'aird&apos',\n",
       " 'al&apos',\n",
       " 'all&apos',\n",
       " 'america&apos',\n",
       " 'anch&apos',\n",
       " 'attivita&apos',\n",
       " 'aujourd&apos',\n",
       " 'b&apos',\n",
       " 'begl&apos',\n",
       " 'bell&apos',\n",
       " 'bil&apos',\n",
       " 'bloomingdale&apos',\n",
       " 'britain&apos',\n",
       " 'bug&apos',\n",
       " 'bunn&apos',\n",
       " 'burt&apos',\n",
       " 'c&apos',\n",
       " 'can&apos',\n",
       " 'cap&apos',\n",
       " 'cent&apos',\n",
       " 'center&apos',\n",
       " 'ch&apos',\n",
       " 'children&apos',\n",
       " 'cinquan&apos',\n",
       " 'cinquant&apos',\n",
       " 'cio&apos',\n",
       " 'citta&apos',\n",
       " 'co&apos',\n",
       " 'coase&apos',\n",
       " 'com&apos',\n",
       " 'cos&apos',\n",
       " 'cosi&apos',\n",
       " 'd&apos',\n",
       " 'dal&apos',\n",
       " 'dall&apos',\n",
       " 'dawson&apos',\n",
       " 'del&apos',\n",
       " 'dell&apos',\n",
       " 'delll&apos',\n",
       " 'dem&apos',\n",
       " 'dev&apos',\n",
       " 'diciott&apos',\n",
       " 'domino&apos',\n",
       " 'don&apos',\n",
       " 'dov&apos',\n",
       " 'draeger&apos',\n",
       " 'e&apos',\n",
       " 'earle&apos',\n",
       " 'entr&apos',\n",
       " 'escalad&apos',\n",
       " 'fin&apos',\n",
       " 'fitch&apos',\n",
       " 'french&apos',\n",
       " 'gb&apos',\n",
       " 'gbe&apos',\n",
       " 'gl&apos',\n",
       " 'gliel&apos',\n",
       " 'google&apos',\n",
       " 'grand&apos',\n",
       " 'gulden&apos',\n",
       " 'haigh&apos',\n",
       " 'hell&apos',\n",
       " 'hellman&apos',\n",
       " 'here&apos',\n",
       " 'hunter&apos',\n",
       " 'i&apos',\n",
       " 'j&apos',\n",
       " 'jerry&apos',\n",
       " 'joe&apos',\n",
       " 'john&apos',\n",
       " 'johnson&apos',\n",
       " 'jusqu&apos',\n",
       " 'k&apos',\n",
       " 'king&apos',\n",
       " 'kiteflyer&apos',\n",
       " 'kp&apos',\n",
       " 'l&apos',\n",
       " 'le&apos',\n",
       " 'let&apos',\n",
       " 'll&apos',\n",
       " 'long&apos',\n",
       " 'lorsqu&apos',\n",
       " 'm&apos',\n",
       " 'ma&apos',\n",
       " 'macdonald&apos',\n",
       " 'macy&apos',\n",
       " 'man&apos',\n",
       " 'mcdonald&apos',\n",
       " 'men&apos',\n",
       " 'mezz&apos',\n",
       " 'mike&apos',\n",
       " 'moody&apos',\n",
       " 'n&apos',\n",
       " 'nature&apos',\n",
       " 'neanch&apos',\n",
       " 'negl&apos',\n",
       " 'nell&apos',\n",
       " 'nessun&apos',\n",
       " 'ng&apos',\n",
       " 'ni&apos',\n",
       " 'nien&apos',\n",
       " 'nient&apos',\n",
       " 'null&apos',\n",
       " 'o&apos',\n",
       " 'one&apos',\n",
       " 'other&apos',\n",
       " 'ottant&apos',\n",
       " 'p&apos',\n",
       " 'people&apos',\n",
       " 'personnelle&apos',\n",
       " 'pete&apos',\n",
       " 'piu&apos',\n",
       " 'po&apos',\n",
       " 'poc&apos',\n",
       " 'poor&apos',\n",
       " 'poverta&apos',\n",
       " 'presqu&apos',\n",
       " 'prim&apos',\n",
       " 'prior&apos',\n",
       " 'produttivita&apos',\n",
       " 'puisqu&apos',\n",
       " 'q&apos',\n",
       " 'qu&apos',\n",
       " 'qual&apos',\n",
       " 'qualcos&apos',\n",
       " 'qualcun&apos',\n",
       " 'quand&apos',\n",
       " 'quant&apos',\n",
       " 'quarant&apos',\n",
       " 'quattr&apos',\n",
       " 'queen&apos',\n",
       " 'quel&apos',\n",
       " 'quell&apos',\n",
       " 'quelqu&apos',\n",
       " 'quest&apos',\n",
       " 'qull&apos',\n",
       " 'quoiqu&apos',\n",
       " 'rapper&apos',\n",
       " 'reader&apos',\n",
       " 'riker&apos',\n",
       " 'rock&apos',\n",
       " 'rockett&apos',\n",
       " 'rubik&apos',\n",
       " 's&apos',\n",
       " 'sainsbury&apos',\n",
       " 'salâm&apos',\n",
       " 'sant&apos',\n",
       " 'schindler&apos',\n",
       " 'school&apos',\n",
       " 'sensing&apos',\n",
       " 'senz&apos',\n",
       " 'sessant&apos',\n",
       " 'she&apos',\n",
       " 'sonny&apos',\n",
       " 'sott&apos',\n",
       " 'stuckey&apos',\n",
       " 'sul&apos',\n",
       " 'sull&apos',\n",
       " 'sulll&apos',\n",
       " 'sultan&apos',\n",
       " 't&apos',\n",
       " 'tannen&apos',\n",
       " 'tian&apos',\n",
       " 'tiffany&apos',\n",
       " 'tootsie&apos',\n",
       " 'trent&apos',\n",
       " 'ts&apos',\n",
       " 'tutt&apos',\n",
       " 'u&apos',\n",
       " 'un&apos',\n",
       " 'una&apos',\n",
       " 'utilisern&apos',\n",
       " 'v&apos',\n",
       " 'vent&apos',\n",
       " 'ventiquattr&apos',\n",
       " 'vincent&apos',\n",
       " 'ward&apos',\n",
       " 'wavin&apos',\n",
       " 'whales&apos',\n",
       " 'women&apos',\n",
       " 'world&apos',\n",
       " 'y&apos',\n",
       " 'you&apos',\n",
       " 'ç&apos'}"
      ]
     },
     "execution_count": 29,
     "metadata": {
      "tags": []
     },
     "output_type": "execute_result"
    }
   ],
   "source": [
    "another_bad_words"
   ]
  },
  {
   "cell_type": "code",
   "execution_count": 30,
   "metadata": {
    "colab": {
     "base_uri": "https://localhost:8080/"
    },
    "id": "GESrrG1b3VMC",
    "outputId": "54a250c6-df11-4a61-b763-b11276b99487"
   },
   "outputs": [
    {
     "data": {
      "text/plain": [
       "{'amp', 'apos', 'gt', 'lt', 'quot'}"
      ]
     },
     "execution_count": 30,
     "metadata": {
      "tags": []
     },
     "output_type": "execute_result"
    }
   ],
   "source": [
    "another"
   ]
  },
  {
   "cell_type": "code",
   "execution_count": 31,
   "metadata": {
    "id": "zaYP69ET-06T"
   },
   "outputs": [],
   "source": [
    "# stopwords = nltk.corpus.stopwords.words('russian') # добавление стопслов не улучшило модель\n",
    "# stopwords.extend(nltk.corpus.stopwords.words('english'))\n",
    "# stopwords.extend(nltk.corpus.stopwords.words('french'))\n",
    "# stopwords.extend(nltk.corpus.stopwords.words('german'))\n",
    "stopwords = []\n",
    "stopwords.extend(another_bad_words)\n",
    "stopwords.extend(another)\n",
    "stopwords_set = set(stopwords)"
   ]
  },
  {
   "cell_type": "markdown",
   "metadata": {
    "id": "3hE7yjX8v9ez"
   },
   "source": [
    "<font color='black' size=5 face='Times New Roman'>Подготовим предложения к передаче в пайплайн с помощью функции <b>preprocess_df</b></font>"
   ]
  },
  {
   "cell_type": "code",
   "execution_count": 32,
   "metadata": {
    "id": "uMxZrfNf-06X"
   },
   "outputs": [],
   "source": [
    "# lemmatizer = pymorphy2.MorphAnalyzer() # лемматизатор, опционально, без него даже лучше получилось\n",
    "# lemmatizer_cache = {}"
   ]
  },
  {
   "cell_type": "code",
   "execution_count": 33,
   "metadata": {
    "colab": {
     "base_uri": "https://localhost:8080/",
     "height": 452,
     "referenced_widgets": [
      "237b3af6f74f40e8b127db88348271d1",
      "56be6ba15c134347be03e46f1e45a00d",
      "5fc3d371ee3c4c15b2cfdfe84430e5fa",
      "df78be7e3f8b4898ab357b1801632518",
      "30e11dffe75a479f9572ef5a1566aad1",
      "9d5737167ce94bc28ea73175f7318c54",
      "d80b9a7cf3f941748eb739ee87b640a4",
      "90382a0d949d486b82a9a5d892132e9a",
      "e9915b5092d940f780f88b68ce6252d1",
      "e01424f07cd54041849ce3d415f87389",
      "a98ca325f5d841228de28c558c3ba618",
      "714d76322fda4682952b8fbede80dc71",
      "89a300aa2bde419f9f0825027b8cba20",
      "354da9ddf14745c4a3d776f37fac6778",
      "1aabc1df8eb148c39d9b07c8737a0c43",
      "23d6283397654bd9a3f3f5812e3c2265",
      "31b735d81932498e921399a7eaedde10",
      "b8fd340e2f2541e2b242d1c548000f39",
      "3aa6925c66e44c3c845c5a25cad87601",
      "b5947df162a64da6b06de4be12be3154",
      "782ba9a320f542c196d2ca56d8ba8ca1",
      "8e6173a6c58b4f118aa6d3794b59b007",
      "eb5432e6ecb54fe69e87303d9a4e91c3",
      "796f7011cfe3409fadc30938a5bedc46",
      "934657af758743c6bb715cafef223181",
      "baab4295045f46b2a22a922469b6ac4d",
      "f056aa3bba1d4ef88afa119ae6bef49f",
      "b0cd0d3671754a2abc6208076a13cd19",
      "e4090cb67b574c01be582aa4baafa279",
      "61120ae86f3b409997341a81bb1c0014",
      "09e455e3d49549b593ad99b3a20739c4",
      "235a70873083453a8160ad7c92b39713",
      "1019b5a829f7426f920ca59811355056",
      "59bec2e1de1c4334b0baa5012b0c8355",
      "2ec0f47686c04d208b61b8f1fcaaae9f",
      "d8600d319bab4bc980a6be0b260db116",
      "0bda19164c164bbe8745394dd014646b",
      "029aa1e7bdb5448fa57095503b328833",
      "7dbeb56f74dd4153a82af801cf8bafa8",
      "0ef9ad77c6ff4b2cb4c96045c15f2e82",
      "27576af002b14b3e9fbd25108799dbc5",
      "7c14183af4e24b288896331e5718ef2c",
      "cdb5c10547ea498484abd0a2a842d389",
      "e4876d7929a64a6aa0588644c73fd275",
      "19e109e8595e41ffb5db0d40593ac223",
      "bbe87f8f48c64ed68b34b8fb419414c0",
      "4e35115bbebf4349b5b9e9e98fa925d6",
      "bac9e4fb82e54fad955b6477cc2eae26"
     ]
    },
    "id": "sfee9OVNOECq",
    "outputId": "5d0dd079-f2b5-4586-f0c8-10e2258a56cb"
   },
   "outputs": [
    {
     "name": "stdout",
     "output_type": "stream",
     "text": [
      "Tokenizing...\n"
     ]
    },
    {
     "data": {
      "application/vnd.jupyter.widget-view+json": {
       "model_id": "237b3af6f74f40e8b127db88348271d1",
       "version_major": 2,
       "version_minor": 0
      },
      "text/plain": [
       "HBox(children=(FloatProgress(value=0.0, max=2307704.0), HTML(value='')))"
      ]
     },
     "metadata": {
      "tags": []
     },
     "output_type": "display_data"
    },
    {
     "name": "stdout",
     "output_type": "stream",
     "text": [
      "\n",
      "Joining...\n"
     ]
    },
    {
     "data": {
      "application/vnd.jupyter.widget-view+json": {
       "model_id": "e9915b5092d940f780f88b68ce6252d1",
       "version_major": 2,
       "version_minor": 0
      },
      "text/plain": [
       "HBox(children=(FloatProgress(value=0.0, max=2307704.0), HTML(value='')))"
      ]
     },
     "metadata": {
      "tags": []
     },
     "output_type": "display_data"
    },
    {
     "name": "stdout",
     "output_type": "stream",
     "text": [
      "\n",
      "Tokenizing...\n"
     ]
    },
    {
     "data": {
      "application/vnd.jupyter.widget-view+json": {
       "model_id": "31b735d81932498e921399a7eaedde10",
       "version_major": 2,
       "version_minor": 0
      },
      "text/plain": [
       "HBox(children=(FloatProgress(value=0.0, max=576927.0), HTML(value='')))"
      ]
     },
     "metadata": {
      "tags": []
     },
     "output_type": "display_data"
    },
    {
     "name": "stdout",
     "output_type": "stream",
     "text": [
      "\n",
      "Joining...\n"
     ]
    },
    {
     "data": {
      "application/vnd.jupyter.widget-view+json": {
       "model_id": "934657af758743c6bb715cafef223181",
       "version_major": 2,
       "version_minor": 0
      },
      "text/plain": [
       "HBox(children=(FloatProgress(value=0.0, max=576927.0), HTML(value='')))"
      ]
     },
     "metadata": {
      "tags": []
     },
     "output_type": "display_data"
    },
    {
     "name": "stdout",
     "output_type": "stream",
     "text": [
      "\n",
      "Tokenizing...\n"
     ]
    },
    {
     "data": {
      "application/vnd.jupyter.widget-view+json": {
       "model_id": "1019b5a829f7426f920ca59811355056",
       "version_major": 2,
       "version_minor": 0
      },
      "text/plain": [
       "HBox(children=(FloatProgress(value=0.0, max=2784634.0), HTML(value='')))"
      ]
     },
     "metadata": {
      "tags": []
     },
     "output_type": "display_data"
    },
    {
     "name": "stdout",
     "output_type": "stream",
     "text": [
      "\n",
      "Joining...\n"
     ]
    },
    {
     "data": {
      "application/vnd.jupyter.widget-view+json": {
       "model_id": "27576af002b14b3e9fbd25108799dbc5",
       "version_major": 2,
       "version_minor": 0
      },
      "text/plain": [
       "HBox(children=(FloatProgress(value=0.0, max=2784634.0), HTML(value='')))"
      ]
     },
     "metadata": {
      "tags": []
     },
     "output_type": "display_data"
    },
    {
     "name": "stdout",
     "output_type": "stream",
     "text": [
      "\n",
      "CPU times: user 1min 32s, sys: 6.99 s, total: 1min 39s\n",
      "Wall time: 1min 39s\n"
     ]
    }
   ],
   "source": [
    "%%time\n",
    "train_df = preprocess_df(train_df, lemmatization=False)\n",
    "val_df = preprocess_df(val_df, lemmatization=False)\n",
    "test_df = preprocess_df(test_df, lemmatization=False)"
   ]
  },
  {
   "cell_type": "code",
   "execution_count": 35,
   "metadata": {
    "id": "R4ZfCidV-06m"
   },
   "outputs": [],
   "source": [
    "# del(lemmatizer, lemmatizer_cache)"
   ]
  },
  {
   "cell_type": "code",
   "execution_count": 36,
   "metadata": {
    "colab": {
     "base_uri": "https://localhost:8080/",
     "height": 202
    },
    "id": "kRCxVXXi-067",
    "outputId": "bbc9c604-9331-4d1a-cc8b-5ddfad34ec9c"
   },
   "outputs": [
    {
     "data": {
      "text/html": [
       "<div>\n",
       "<style scoped>\n",
       "    .dataframe tbody tr th:only-of-type {\n",
       "        vertical-align: middle;\n",
       "    }\n",
       "\n",
       "    .dataframe tbody tr th {\n",
       "        vertical-align: top;\n",
       "    }\n",
       "\n",
       "    .dataframe thead th {\n",
       "        text-align: right;\n",
       "    }\n",
       "</style>\n",
       "<table border=\"1\" class=\"dataframe\">\n",
       "  <thead>\n",
       "    <tr style=\"text-align: right;\">\n",
       "      <th></th>\n",
       "      <th>sentence</th>\n",
       "      <th>language</th>\n",
       "    </tr>\n",
       "  </thead>\n",
       "  <tbody>\n",
       "    <tr>\n",
       "      <th>1123888</th>\n",
       "      <td>و این ساختاری بسیار شکننده است</td>\n",
       "      <td>fa</td>\n",
       "    </tr>\n",
       "    <tr>\n",
       "      <th>2533468</th>\n",
       "      <td>the and of it that you to we this is in they s...</td>\n",
       "      <td>ta</td>\n",
       "    </tr>\n",
       "    <tr>\n",
       "      <th>1302520</th>\n",
       "      <td>e por fim eu acho que chega às crianças e no d...</td>\n",
       "      <td>pt-br</td>\n",
       "    </tr>\n",
       "    <tr>\n",
       "      <th>653033</th>\n",
       "      <td>mesmo à primeira vista os vossos olhos irão re...</td>\n",
       "      <td>pt</td>\n",
       "    </tr>\n",
       "    <tr>\n",
       "      <th>224942</th>\n",
       "      <td>и затоа продолжија</td>\n",
       "      <td>mk</td>\n",
       "    </tr>\n",
       "  </tbody>\n",
       "</table>\n",
       "</div>"
      ],
      "text/plain": [
       "                                                  sentence language\n",
       "1123888                     و این ساختاری بسیار شکننده است       fa\n",
       "2533468  the and of it that you to we this is in they s...       ta\n",
       "1302520  e por fim eu acho que chega às crianças e no d...    pt-br\n",
       "653033   mesmo à primeira vista os vossos olhos irão re...       pt\n",
       "224942                                  и затоа продолжија       mk"
      ]
     },
     "execution_count": 36,
     "metadata": {
      "tags": []
     },
     "output_type": "execute_result"
    }
   ],
   "source": [
    "train_df.sample(5)"
   ]
  },
  {
   "cell_type": "markdown",
   "metadata": {
    "id": "GCP2NkZIv9fC"
   },
   "source": [
    "<font color='black' size=5 face='Times New Roman'>Подготовка целевой переменной и передача в pipeline</font>"
   ]
  },
  {
   "cell_type": "code",
   "execution_count": 37,
   "metadata": {
    "id": "caQpy6xX-06-"
   },
   "outputs": [],
   "source": [
    "encoder = LabelEncoder()"
   ]
  },
  {
   "cell_type": "code",
   "execution_count": 38,
   "metadata": {
    "colab": {
     "base_uri": "https://localhost:8080/"
    },
    "id": "s4lOtv3Q-07C",
    "outputId": "fbfaa0fb-cc54-4fb5-90c1-11cd021dd654"
   },
   "outputs": [
    {
     "data": {
      "text/plain": [
       "LabelEncoder()"
      ]
     },
     "execution_count": 38,
     "metadata": {
      "tags": []
     },
     "output_type": "execute_result"
    }
   ],
   "source": [
    "encoder.fit(train_df[\"language\"])"
   ]
  },
  {
   "cell_type": "code",
   "execution_count": 39,
   "metadata": {
    "id": "BkbsGa-M-07G"
   },
   "outputs": [],
   "source": [
    "y_train = encoder.transform(train_df[\"language\"])\n",
    "y_val = encoder.transform(val_df[\"language\"])"
   ]
  },
  {
   "cell_type": "code",
   "execution_count": 40,
   "metadata": {
    "id": "zwZvi0pn-07O"
   },
   "outputs": [],
   "source": [
    "class ColumnExtractor(TransformerMixin): # для того, чтобы сшивать фичи\n",
    "    \n",
    "    def __init__(self, column_name):\n",
    "        self.column_name = column_name\n",
    "    \n",
    "    def fit(self, X, y=None):\n",
    "        return self\n",
    "    \n",
    "    def transform(self, X, y=None):\n",
    "        return X[self.column_name].values"
   ]
  },
  {
   "cell_type": "code",
   "execution_count": 41,
   "metadata": {
    "id": "EZ9WFV10GwDR"
   },
   "outputs": [],
   "source": [
    "# Нужно было для фичи со средней длиной предложения, не пригодилось\n",
    "# class ColumnExtractor_with_reshape(TransformerMixin): # для того, чтобы сшивать фичи\n",
    "    \n",
    "#     def __init__(self, column_name):\n",
    "#         self.column_name = column_name\n",
    "    \n",
    "#     def fit(self, X, y=None):\n",
    "#         return self\n",
    "    \n",
    "#     def transform(self, X, y=None):\n",
    "#         return X[self.column_name].values.reshape(-1, 1)"
   ]
  },
  {
   "cell_type": "code",
   "execution_count": 42,
   "metadata": {
    "id": "RaqrouCy-07R"
   },
   "outputs": [],
   "source": [
    "model = SGDClassifier(random_state=seed,\n",
    "                      loss='log',\n",
    "                      class_weight='balanced',\n",
    "                      alpha=0.0001,\n",
    "                      n_jobs=-1, \n",
    "                      learning_rate='optimal')"
   ]
  },
  {
   "cell_type": "code",
   "execution_count": 43,
   "metadata": {
    "id": "3eEAPnjf-07U"
   },
   "outputs": [],
   "source": [
    "pipeline = Pipeline([(\n",
    "    'sentence', Pipeline([\n",
    "        ('extractor', ColumnExtractor('sentence')),\n",
    "        ('vectorizer', CountVectorizer(lowercase=False,\n",
    "                                       ngram_range=(3, 3),\n",
    "                                       stop_words=None,\n",
    "                                       min_df=5,\n",
    "                                       max_df=0.95,\n",
    "                                       analyzer='char_wb',)\n",
    "        )\n",
    "    ])),\n",
    "    ('clf', model)\n",
    "])"
   ]
  },
  {
   "cell_type": "code",
   "execution_count": 44,
   "metadata": {
    "id": "_fEQ5scSESmm"
   },
   "outputs": [],
   "source": [
    "# pipeline = Pipeline([\n",
    "#     ('union', FeatureUnion([\n",
    "#                    ('sentence', Pipeline([\n",
    "#                                           ('extractor', ColumnExtractor('sentence')),\n",
    "#                                           ('vectorizer', CountVectorizer(lowercase=False,\n",
    "#                                        ngram_range=(3, 3),\n",
    "#                                        stop_words=None,\n",
    "#                                        min_df=5,\n",
    "#                                        max_df=0.95,\n",
    "#                                        analyzer='char_wb',))\n",
    "#                    ])),\n",
    "#                    ('mean_word_len', Pipeline([\n",
    "#                                                ('extractor', ColumnExtractor_with_reshape('mean_word_len')),\n",
    "#                                                ('scaler', StandardScaler())\n",
    "#                    ]))\n",
    "#     ])),\n",
    "#     ('clf', model)\n",
    "# ])"
   ]
  },
  {
   "cell_type": "code",
   "execution_count": 45,
   "metadata": {
    "colab": {
     "base_uri": "https://localhost:8080/"
    },
    "id": "ZAZTYL40-07Y",
    "outputId": "b5ce6493-3407-469c-88b2-32faf5cc5ef3"
   },
   "outputs": [
    {
     "name": "stdout",
     "output_type": "stream",
     "text": [
      "CPU times: user 17min 33s, sys: 5.47 s, total: 17min 38s\n",
      "Wall time: 10min 19s\n"
     ]
    },
    {
     "data": {
      "text/plain": [
       "Pipeline(memory=None,\n",
       "         steps=[('sentence',\n",
       "                 Pipeline(memory=None,\n",
       "                          steps=[('extractor',\n",
       "                                  <__main__.ColumnExtractor object at 0x7f1f1293c198>),\n",
       "                                 ('vectorizer',\n",
       "                                  CountVectorizer(analyzer='char_wb',\n",
       "                                                  binary=False,\n",
       "                                                  decode_error='strict',\n",
       "                                                  dtype=<class 'numpy.int64'>,\n",
       "                                                  encoding='utf-8',\n",
       "                                                  input='content',\n",
       "                                                  lowercase=False, max_df=0.95,\n",
       "                                                  max_features=None, min_df=5,\n",
       "                                                  ngram_range=(3, 3),\n",
       "                                                  pr...\n",
       "                 SGDClassifier(alpha=0.0001, average=False,\n",
       "                               class_weight='balanced', early_stopping=False,\n",
       "                               epsilon=0.1, eta0=0.0, fit_intercept=True,\n",
       "                               l1_ratio=0.15, learning_rate='optimal',\n",
       "                               loss='log', max_iter=1000, n_iter_no_change=5,\n",
       "                               n_jobs=-1, penalty='l2', power_t=0.5,\n",
       "                               random_state=42, shuffle=True, tol=0.001,\n",
       "                               validation_fraction=0.1, verbose=0,\n",
       "                               warm_start=False))],\n",
       "         verbose=False)"
      ]
     },
     "execution_count": 45,
     "metadata": {
      "tags": []
     },
     "output_type": "execute_result"
    }
   ],
   "source": [
    "%%time\n",
    "\n",
    "pipeline.fit(train_df, y_train)"
   ]
  },
  {
   "cell_type": "code",
   "execution_count": 46,
   "metadata": {
    "colab": {
     "base_uri": "https://localhost:8080/"
    },
    "id": "R3ildg5Z-07c",
    "outputId": "a6515af6-98dc-4874-902d-4240ad404267"
   },
   "outputs": [
    {
     "name": "stdout",
     "output_type": "stream",
     "text": [
      "Train score = 0.9127320438198694, val score = 0.904138715169548\n"
     ]
    }
   ],
   "source": [
    "print('Train score = {}, val score = {}'.format(balanced_accuracy_score(y_train, pipeline.predict(train_df)),\n",
    "                                                balanced_accuracy_score(y_val, pipeline.predict(val_df))))"
   ]
  },
  {
   "cell_type": "markdown",
   "metadata": {
    "id": "eF09L21Bv9ft"
   },
   "source": [
    "<font color='black' size=6 face='Times New Roman'>Submit результатов</font>"
   ]
  },
  {
   "cell_type": "code",
   "execution_count": 47,
   "metadata": {
    "id": "JSVOxNRv-07f"
   },
   "outputs": [],
   "source": [
    "submit_predictions = pipeline.predict(test_df)"
   ]
  },
  {
   "cell_type": "code",
   "execution_count": 48,
   "metadata": {
    "colab": {
     "base_uri": "https://localhost:8080/",
     "height": 202
    },
    "id": "E-fa0fUN-07k",
    "outputId": "48ede464-44d3-43af-ea4e-061c500a5f95"
   },
   "outputs": [
    {
     "data": {
      "text/html": [
       "<div>\n",
       "<style scoped>\n",
       "    .dataframe tbody tr th:only-of-type {\n",
       "        vertical-align: middle;\n",
       "    }\n",
       "\n",
       "    .dataframe tbody tr th {\n",
       "        vertical-align: top;\n",
       "    }\n",
       "\n",
       "    .dataframe thead th {\n",
       "        text-align: right;\n",
       "    }\n",
       "</style>\n",
       "<table border=\"1\" class=\"dataframe\">\n",
       "  <thead>\n",
       "    <tr style=\"text-align: right;\">\n",
       "      <th></th>\n",
       "      <th>index</th>\n",
       "      <th>sentence</th>\n",
       "      <th>language</th>\n",
       "    </tr>\n",
       "  </thead>\n",
       "  <tbody>\n",
       "    <tr>\n",
       "      <th>0</th>\n",
       "      <td>0</td>\n",
       "      <td>תודה לכם</td>\n",
       "      <td>he</td>\n",
       "    </tr>\n",
       "    <tr>\n",
       "      <th>1</th>\n",
       "      <td>1</td>\n",
       "      <td>precisamos de compaixão para começar e auto in...</td>\n",
       "      <td>pt-br</td>\n",
       "    </tr>\n",
       "    <tr>\n",
       "      <th>2</th>\n",
       "      <td>2</td>\n",
       "      <td>這個增長相當大 並且它將引發經濟的增長</td>\n",
       "      <td>zh-tw</td>\n",
       "    </tr>\n",
       "    <tr>\n",
       "      <th>3</th>\n",
       "      <td>3</td>\n",
       "      <td>시애틀에서 자란 제가 처음 가난을 보게 되던 때를 기억해요</td>\n",
       "      <td>ko</td>\n",
       "    </tr>\n",
       "    <tr>\n",
       "      <th>4</th>\n",
       "      <td>4</td>\n",
       "      <td>これをロボットに組み込みました</td>\n",
       "      <td>ja</td>\n",
       "    </tr>\n",
       "  </tbody>\n",
       "</table>\n",
       "</div>"
      ],
      "text/plain": [
       "   index                                           sentence language\n",
       "0      0                                           תודה לכם       he\n",
       "1      1  precisamos de compaixão para começar e auto in...    pt-br\n",
       "2      2                                這個增長相當大 並且它將引發經濟的增長    zh-tw\n",
       "3      3                   시애틀에서 자란 제가 처음 가난을 보게 되던 때를 기억해요       ko\n",
       "4      4                                    これをロボットに組み込みました       ja"
      ]
     },
     "execution_count": 48,
     "metadata": {
      "tags": []
     },
     "output_type": "execute_result"
    }
   ],
   "source": [
    "test_df['language'] = encoder.classes_[submit_predictions]\n",
    "\n",
    "test_df.head()"
   ]
  },
  {
   "cell_type": "code",
   "execution_count": 49,
   "metadata": {
    "colab": {
     "base_uri": "https://localhost:8080/",
     "height": 202
    },
    "id": "7UC_GNJR-07n",
    "outputId": "4958c8ca-0ae6-4ddb-9c37-f570215ada9a"
   },
   "outputs": [
    {
     "data": {
      "text/html": [
       "<div>\n",
       "<style scoped>\n",
       "    .dataframe tbody tr th:only-of-type {\n",
       "        vertical-align: middle;\n",
       "    }\n",
       "\n",
       "    .dataframe tbody tr th {\n",
       "        vertical-align: top;\n",
       "    }\n",
       "\n",
       "    .dataframe thead th {\n",
       "        text-align: right;\n",
       "    }\n",
       "</style>\n",
       "<table border=\"1\" class=\"dataframe\">\n",
       "  <thead>\n",
       "    <tr style=\"text-align: right;\">\n",
       "      <th></th>\n",
       "      <th>index</th>\n",
       "      <th>sentence</th>\n",
       "      <th>language</th>\n",
       "    </tr>\n",
       "  </thead>\n",
       "  <tbody>\n",
       "    <tr>\n",
       "      <th>2558555</th>\n",
       "      <td>2558555</td>\n",
       "      <td>حول العالم هناك امرأة تموت كل دقيقة ونصف بسبب ...</td>\n",
       "      <td>ar</td>\n",
       "    </tr>\n",
       "    <tr>\n",
       "      <th>2219020</th>\n",
       "      <td>2219020</td>\n",
       "      <td>ولكن لم يذهب أحد بالفعل الى مكان حدود الحياة ك...</td>\n",
       "      <td>ar</td>\n",
       "    </tr>\n",
       "    <tr>\n",
       "      <th>100782</th>\n",
       "      <td>100782</td>\n",
       "      <td>а бомбовый прицел сообщит когда сбрасывать бомбу</td>\n",
       "      <td>ru</td>\n",
       "    </tr>\n",
       "    <tr>\n",
       "      <th>530729</th>\n",
       "      <td>530729</td>\n",
       "      <td>loại thức ăn ấy đấy đúng rồi</td>\n",
       "      <td>vi</td>\n",
       "    </tr>\n",
       "    <tr>\n",
       "      <th>2571142</th>\n",
       "      <td>2571142</td>\n",
       "      <td>but as more people showed up wanting water the...</td>\n",
       "      <td>en</td>\n",
       "    </tr>\n",
       "  </tbody>\n",
       "</table>\n",
       "</div>"
      ],
      "text/plain": [
       "           index                                           sentence language\n",
       "2558555  2558555  حول العالم هناك امرأة تموت كل دقيقة ونصف بسبب ...       ar\n",
       "2219020  2219020  ولكن لم يذهب أحد بالفعل الى مكان حدود الحياة ك...       ar\n",
       "100782    100782   а бомбовый прицел сообщит когда сбрасывать бомбу       ru\n",
       "530729    530729                       loại thức ăn ấy đấy đúng rồi       vi\n",
       "2571142  2571142  but as more people showed up wanting water the...       en"
      ]
     },
     "execution_count": 49,
     "metadata": {
      "tags": []
     },
     "output_type": "execute_result"
    }
   ],
   "source": [
    "test_df.sample(5)"
   ]
  },
  {
   "cell_type": "code",
   "execution_count": 50,
   "metadata": {
    "id": "dgKW4EDb-07q"
   },
   "outputs": [],
   "source": [
    "test_df[['index',  'language']].to_csv('./submission.csv', index=False)"
   ]
  },
  {
   "cell_type": "markdown",
   "metadata": {
    "id": "h-nll9ED-07t"
   },
   "source": [
    "<font color='black' size=5 face='Times New Roman'>В итоге, лучшее что получал на валидации <b>0.904138715169548</b>, лемматизацию не делал, вышло хуже, лучше всего показал себя <b>CountVectorizer</b> и 3-граммы.</font>"
   ]
  }
 ],
 "metadata": {
  "colab": {
   "collapsed_sections": [],
   "name": "Safronenkov_R_S_LANGUAGE_DETECTION_KAGGLE.ipynb",
   "provenance": []
  },
  "kernelspec": {
   "display_name": "Python 3",
   "language": "python",
   "name": "python3"
  },
  "language_info": {
   "codemirror_mode": {
    "name": "ipython",
    "version": 3
   },
   "file_extension": ".py",
   "mimetype": "text/x-python",
   "name": "python",
   "nbconvert_exporter": "python",
   "pygments_lexer": "ipython3",
   "version": "3.7.6"
  },
  "widgets": {
   "application/vnd.jupyter.widget-state+json": {
    "029aa1e7bdb5448fa57095503b328833": {
     "model_module": "@jupyter-widgets/base",
     "model_name": "LayoutModel",
     "state": {
      "_model_module": "@jupyter-widgets/base",
      "_model_module_version": "1.2.0",
      "_model_name": "LayoutModel",
      "_view_count": null,
      "_view_module": "@jupyter-widgets/base",
      "_view_module_version": "1.2.0",
      "_view_name": "LayoutView",
      "align_content": null,
      "align_items": null,
      "align_self": null,
      "border": null,
      "bottom": null,
      "display": null,
      "flex": null,
      "flex_flow": null,
      "grid_area": null,
      "grid_auto_columns": null,
      "grid_auto_flow": null,
      "grid_auto_rows": null,
      "grid_column": null,
      "grid_gap": null,
      "grid_row": null,
      "grid_template_areas": null,
      "grid_template_columns": null,
      "grid_template_rows": null,
      "height": null,
      "justify_content": null,
      "justify_items": null,
      "left": null,
      "margin": null,
      "max_height": null,
      "max_width": null,
      "min_height": null,
      "min_width": null,
      "object_fit": null,
      "object_position": null,
      "order": null,
      "overflow": null,
      "overflow_x": null,
      "overflow_y": null,
      "padding": null,
      "right": null,
      "top": null,
      "visibility": null,
      "width": null
     }
    },
    "09e455e3d49549b593ad99b3a20739c4": {
     "model_module": "@jupyter-widgets/controls",
     "model_name": "DescriptionStyleModel",
     "state": {
      "_model_module": "@jupyter-widgets/controls",
      "_model_module_version": "1.5.0",
      "_model_name": "DescriptionStyleModel",
      "_view_count": null,
      "_view_module": "@jupyter-widgets/base",
      "_view_module_version": "1.2.0",
      "_view_name": "StyleView",
      "description_width": ""
     }
    },
    "0bda19164c164bbe8745394dd014646b": {
     "model_module": "@jupyter-widgets/controls",
     "model_name": "ProgressStyleModel",
     "state": {
      "_model_module": "@jupyter-widgets/controls",
      "_model_module_version": "1.5.0",
      "_model_name": "ProgressStyleModel",
      "_view_count": null,
      "_view_module": "@jupyter-widgets/base",
      "_view_module_version": "1.2.0",
      "_view_name": "StyleView",
      "bar_color": null,
      "description_width": "initial"
     }
    },
    "0ef9ad77c6ff4b2cb4c96045c15f2e82": {
     "model_module": "@jupyter-widgets/base",
     "model_name": "LayoutModel",
     "state": {
      "_model_module": "@jupyter-widgets/base",
      "_model_module_version": "1.2.0",
      "_model_name": "LayoutModel",
      "_view_count": null,
      "_view_module": "@jupyter-widgets/base",
      "_view_module_version": "1.2.0",
      "_view_name": "LayoutView",
      "align_content": null,
      "align_items": null,
      "align_self": null,
      "border": null,
      "bottom": null,
      "display": null,
      "flex": null,
      "flex_flow": null,
      "grid_area": null,
      "grid_auto_columns": null,
      "grid_auto_flow": null,
      "grid_auto_rows": null,
      "grid_column": null,
      "grid_gap": null,
      "grid_row": null,
      "grid_template_areas": null,
      "grid_template_columns": null,
      "grid_template_rows": null,
      "height": null,
      "justify_content": null,
      "justify_items": null,
      "left": null,
      "margin": null,
      "max_height": null,
      "max_width": null,
      "min_height": null,
      "min_width": null,
      "object_fit": null,
      "object_position": null,
      "order": null,
      "overflow": null,
      "overflow_x": null,
      "overflow_y": null,
      "padding": null,
      "right": null,
      "top": null,
      "visibility": null,
      "width": null
     }
    },
    "1019b5a829f7426f920ca59811355056": {
     "model_module": "@jupyter-widgets/controls",
     "model_name": "HBoxModel",
     "state": {
      "_dom_classes": [],
      "_model_module": "@jupyter-widgets/controls",
      "_model_module_version": "1.5.0",
      "_model_name": "HBoxModel",
      "_view_count": null,
      "_view_module": "@jupyter-widgets/controls",
      "_view_module_version": "1.5.0",
      "_view_name": "HBoxView",
      "box_style": "",
      "children": [
       "IPY_MODEL_2ec0f47686c04d208b61b8f1fcaaae9f",
       "IPY_MODEL_d8600d319bab4bc980a6be0b260db116"
      ],
      "layout": "IPY_MODEL_59bec2e1de1c4334b0baa5012b0c8355"
     }
    },
    "19e109e8595e41ffb5db0d40593ac223": {
     "model_module": "@jupyter-widgets/controls",
     "model_name": "ProgressStyleModel",
     "state": {
      "_model_module": "@jupyter-widgets/controls",
      "_model_module_version": "1.5.0",
      "_model_name": "ProgressStyleModel",
      "_view_count": null,
      "_view_module": "@jupyter-widgets/base",
      "_view_module_version": "1.2.0",
      "_view_name": "StyleView",
      "bar_color": null,
      "description_width": "initial"
     }
    },
    "1aabc1df8eb148c39d9b07c8737a0c43": {
     "model_module": "@jupyter-widgets/controls",
     "model_name": "DescriptionStyleModel",
     "state": {
      "_model_module": "@jupyter-widgets/controls",
      "_model_module_version": "1.5.0",
      "_model_name": "DescriptionStyleModel",
      "_view_count": null,
      "_view_module": "@jupyter-widgets/base",
      "_view_module_version": "1.2.0",
      "_view_name": "StyleView",
      "description_width": ""
     }
    },
    "235a70873083453a8160ad7c92b39713": {
     "model_module": "@jupyter-widgets/base",
     "model_name": "LayoutModel",
     "state": {
      "_model_module": "@jupyter-widgets/base",
      "_model_module_version": "1.2.0",
      "_model_name": "LayoutModel",
      "_view_count": null,
      "_view_module": "@jupyter-widgets/base",
      "_view_module_version": "1.2.0",
      "_view_name": "LayoutView",
      "align_content": null,
      "align_items": null,
      "align_self": null,
      "border": null,
      "bottom": null,
      "display": null,
      "flex": null,
      "flex_flow": null,
      "grid_area": null,
      "grid_auto_columns": null,
      "grid_auto_flow": null,
      "grid_auto_rows": null,
      "grid_column": null,
      "grid_gap": null,
      "grid_row": null,
      "grid_template_areas": null,
      "grid_template_columns": null,
      "grid_template_rows": null,
      "height": null,
      "justify_content": null,
      "justify_items": null,
      "left": null,
      "margin": null,
      "max_height": null,
      "max_width": null,
      "min_height": null,
      "min_width": null,
      "object_fit": null,
      "object_position": null,
      "order": null,
      "overflow": null,
      "overflow_x": null,
      "overflow_y": null,
      "padding": null,
      "right": null,
      "top": null,
      "visibility": null,
      "width": null
     }
    },
    "237b3af6f74f40e8b127db88348271d1": {
     "model_module": "@jupyter-widgets/controls",
     "model_name": "HBoxModel",
     "state": {
      "_dom_classes": [],
      "_model_module": "@jupyter-widgets/controls",
      "_model_module_version": "1.5.0",
      "_model_name": "HBoxModel",
      "_view_count": null,
      "_view_module": "@jupyter-widgets/controls",
      "_view_module_version": "1.5.0",
      "_view_name": "HBoxView",
      "box_style": "",
      "children": [
       "IPY_MODEL_5fc3d371ee3c4c15b2cfdfe84430e5fa",
       "IPY_MODEL_df78be7e3f8b4898ab357b1801632518"
      ],
      "layout": "IPY_MODEL_56be6ba15c134347be03e46f1e45a00d"
     }
    },
    "23d6283397654bd9a3f3f5812e3c2265": {
     "model_module": "@jupyter-widgets/base",
     "model_name": "LayoutModel",
     "state": {
      "_model_module": "@jupyter-widgets/base",
      "_model_module_version": "1.2.0",
      "_model_name": "LayoutModel",
      "_view_count": null,
      "_view_module": "@jupyter-widgets/base",
      "_view_module_version": "1.2.0",
      "_view_name": "LayoutView",
      "align_content": null,
      "align_items": null,
      "align_self": null,
      "border": null,
      "bottom": null,
      "display": null,
      "flex": null,
      "flex_flow": null,
      "grid_area": null,
      "grid_auto_columns": null,
      "grid_auto_flow": null,
      "grid_auto_rows": null,
      "grid_column": null,
      "grid_gap": null,
      "grid_row": null,
      "grid_template_areas": null,
      "grid_template_columns": null,
      "grid_template_rows": null,
      "height": null,
      "justify_content": null,
      "justify_items": null,
      "left": null,
      "margin": null,
      "max_height": null,
      "max_width": null,
      "min_height": null,
      "min_width": null,
      "object_fit": null,
      "object_position": null,
      "order": null,
      "overflow": null,
      "overflow_x": null,
      "overflow_y": null,
      "padding": null,
      "right": null,
      "top": null,
      "visibility": null,
      "width": null
     }
    },
    "271564c3f98647159c4c3263321dc1bf": {
     "model_module": "@jupyter-widgets/controls",
     "model_name": "FloatProgressModel",
     "state": {
      "_dom_classes": [],
      "_model_module": "@jupyter-widgets/controls",
      "_model_module_version": "1.5.0",
      "_model_name": "FloatProgressModel",
      "_view_count": null,
      "_view_module": "@jupyter-widgets/controls",
      "_view_module_version": "1.5.0",
      "_view_name": "ProgressView",
      "bar_style": "success",
      "description": "100%",
      "description_tooltip": null,
      "layout": "IPY_MODEL_9a2f0b3813b443808efe6750323333ab",
      "max": 59,
      "min": 0,
      "orientation": "horizontal",
      "style": "IPY_MODEL_7d9d5eb9258845efbf2c6a45a1c198ba",
      "value": 59
     }
    },
    "27576af002b14b3e9fbd25108799dbc5": {
     "model_module": "@jupyter-widgets/controls",
     "model_name": "HBoxModel",
     "state": {
      "_dom_classes": [],
      "_model_module": "@jupyter-widgets/controls",
      "_model_module_version": "1.5.0",
      "_model_name": "HBoxModel",
      "_view_count": null,
      "_view_module": "@jupyter-widgets/controls",
      "_view_module_version": "1.5.0",
      "_view_name": "HBoxView",
      "box_style": "",
      "children": [
       "IPY_MODEL_cdb5c10547ea498484abd0a2a842d389",
       "IPY_MODEL_e4876d7929a64a6aa0588644c73fd275"
      ],
      "layout": "IPY_MODEL_7c14183af4e24b288896331e5718ef2c"
     }
    },
    "2ec0f47686c04d208b61b8f1fcaaae9f": {
     "model_module": "@jupyter-widgets/controls",
     "model_name": "FloatProgressModel",
     "state": {
      "_dom_classes": [],
      "_model_module": "@jupyter-widgets/controls",
      "_model_module_version": "1.5.0",
      "_model_name": "FloatProgressModel",
      "_view_count": null,
      "_view_module": "@jupyter-widgets/controls",
      "_view_module_version": "1.5.0",
      "_view_name": "ProgressView",
      "bar_style": "success",
      "description": "100%",
      "description_tooltip": null,
      "layout": "IPY_MODEL_029aa1e7bdb5448fa57095503b328833",
      "max": 2784634,
      "min": 0,
      "orientation": "horizontal",
      "style": "IPY_MODEL_0bda19164c164bbe8745394dd014646b",
      "value": 2784634
     }
    },
    "30e11dffe75a479f9572ef5a1566aad1": {
     "model_module": "@jupyter-widgets/controls",
     "model_name": "ProgressStyleModel",
     "state": {
      "_model_module": "@jupyter-widgets/controls",
      "_model_module_version": "1.5.0",
      "_model_name": "ProgressStyleModel",
      "_view_count": null,
      "_view_module": "@jupyter-widgets/base",
      "_view_module_version": "1.2.0",
      "_view_name": "StyleView",
      "bar_color": null,
      "description_width": "initial"
     }
    },
    "31b735d81932498e921399a7eaedde10": {
     "model_module": "@jupyter-widgets/controls",
     "model_name": "HBoxModel",
     "state": {
      "_dom_classes": [],
      "_model_module": "@jupyter-widgets/controls",
      "_model_module_version": "1.5.0",
      "_model_name": "HBoxModel",
      "_view_count": null,
      "_view_module": "@jupyter-widgets/controls",
      "_view_module_version": "1.5.0",
      "_view_name": "HBoxView",
      "box_style": "",
      "children": [
       "IPY_MODEL_3aa6925c66e44c3c845c5a25cad87601",
       "IPY_MODEL_b5947df162a64da6b06de4be12be3154"
      ],
      "layout": "IPY_MODEL_b8fd340e2f2541e2b242d1c548000f39"
     }
    },
    "32363675694c4db0833eadc8736d43df": {
     "model_module": "@jupyter-widgets/controls",
     "model_name": "DescriptionStyleModel",
     "state": {
      "_model_module": "@jupyter-widgets/controls",
      "_model_module_version": "1.5.0",
      "_model_name": "DescriptionStyleModel",
      "_view_count": null,
      "_view_module": "@jupyter-widgets/base",
      "_view_module_version": "1.2.0",
      "_view_name": "StyleView",
      "description_width": ""
     }
    },
    "354da9ddf14745c4a3d776f37fac6778": {
     "model_module": "@jupyter-widgets/base",
     "model_name": "LayoutModel",
     "state": {
      "_model_module": "@jupyter-widgets/base",
      "_model_module_version": "1.2.0",
      "_model_name": "LayoutModel",
      "_view_count": null,
      "_view_module": "@jupyter-widgets/base",
      "_view_module_version": "1.2.0",
      "_view_name": "LayoutView",
      "align_content": null,
      "align_items": null,
      "align_self": null,
      "border": null,
      "bottom": null,
      "display": null,
      "flex": null,
      "flex_flow": null,
      "grid_area": null,
      "grid_auto_columns": null,
      "grid_auto_flow": null,
      "grid_auto_rows": null,
      "grid_column": null,
      "grid_gap": null,
      "grid_row": null,
      "grid_template_areas": null,
      "grid_template_columns": null,
      "grid_template_rows": null,
      "height": null,
      "justify_content": null,
      "justify_items": null,
      "left": null,
      "margin": null,
      "max_height": null,
      "max_width": null,
      "min_height": null,
      "min_width": null,
      "object_fit": null,
      "object_position": null,
      "order": null,
      "overflow": null,
      "overflow_x": null,
      "overflow_y": null,
      "padding": null,
      "right": null,
      "top": null,
      "visibility": null,
      "width": null
     }
    },
    "3637110e1908411783e1a265b12ac91a": {
     "model_module": "@jupyter-widgets/base",
     "model_name": "LayoutModel",
     "state": {
      "_model_module": "@jupyter-widgets/base",
      "_model_module_version": "1.2.0",
      "_model_name": "LayoutModel",
      "_view_count": null,
      "_view_module": "@jupyter-widgets/base",
      "_view_module_version": "1.2.0",
      "_view_name": "LayoutView",
      "align_content": null,
      "align_items": null,
      "align_self": null,
      "border": null,
      "bottom": null,
      "display": null,
      "flex": null,
      "flex_flow": null,
      "grid_area": null,
      "grid_auto_columns": null,
      "grid_auto_flow": null,
      "grid_auto_rows": null,
      "grid_column": null,
      "grid_gap": null,
      "grid_row": null,
      "grid_template_areas": null,
      "grid_template_columns": null,
      "grid_template_rows": null,
      "height": null,
      "justify_content": null,
      "justify_items": null,
      "left": null,
      "margin": null,
      "max_height": null,
      "max_width": null,
      "min_height": null,
      "min_width": null,
      "object_fit": null,
      "object_position": null,
      "order": null,
      "overflow": null,
      "overflow_x": null,
      "overflow_y": null,
      "padding": null,
      "right": null,
      "top": null,
      "visibility": null,
      "width": null
     }
    },
    "39a95aeaff6f40838cc61e4fa5a356d9": {
     "model_module": "@jupyter-widgets/base",
     "model_name": "LayoutModel",
     "state": {
      "_model_module": "@jupyter-widgets/base",
      "_model_module_version": "1.2.0",
      "_model_name": "LayoutModel",
      "_view_count": null,
      "_view_module": "@jupyter-widgets/base",
      "_view_module_version": "1.2.0",
      "_view_name": "LayoutView",
      "align_content": null,
      "align_items": null,
      "align_self": null,
      "border": null,
      "bottom": null,
      "display": null,
      "flex": null,
      "flex_flow": null,
      "grid_area": null,
      "grid_auto_columns": null,
      "grid_auto_flow": null,
      "grid_auto_rows": null,
      "grid_column": null,
      "grid_gap": null,
      "grid_row": null,
      "grid_template_areas": null,
      "grid_template_columns": null,
      "grid_template_rows": null,
      "height": null,
      "justify_content": null,
      "justify_items": null,
      "left": null,
      "margin": null,
      "max_height": null,
      "max_width": null,
      "min_height": null,
      "min_width": null,
      "object_fit": null,
      "object_position": null,
      "order": null,
      "overflow": null,
      "overflow_x": null,
      "overflow_y": null,
      "padding": null,
      "right": null,
      "top": null,
      "visibility": null,
      "width": null
     }
    },
    "3aa6925c66e44c3c845c5a25cad87601": {
     "model_module": "@jupyter-widgets/controls",
     "model_name": "FloatProgressModel",
     "state": {
      "_dom_classes": [],
      "_model_module": "@jupyter-widgets/controls",
      "_model_module_version": "1.5.0",
      "_model_name": "FloatProgressModel",
      "_view_count": null,
      "_view_module": "@jupyter-widgets/controls",
      "_view_module_version": "1.5.0",
      "_view_name": "ProgressView",
      "bar_style": "success",
      "description": "100%",
      "description_tooltip": null,
      "layout": "IPY_MODEL_8e6173a6c58b4f118aa6d3794b59b007",
      "max": 576927,
      "min": 0,
      "orientation": "horizontal",
      "style": "IPY_MODEL_782ba9a320f542c196d2ca56d8ba8ca1",
      "value": 576927
     }
    },
    "3d3ec01480aa44f1946074ab301f7337": {
     "model_module": "@jupyter-widgets/base",
     "model_name": "LayoutModel",
     "state": {
      "_model_module": "@jupyter-widgets/base",
      "_model_module_version": "1.2.0",
      "_model_name": "LayoutModel",
      "_view_count": null,
      "_view_module": "@jupyter-widgets/base",
      "_view_module_version": "1.2.0",
      "_view_name": "LayoutView",
      "align_content": null,
      "align_items": null,
      "align_self": null,
      "border": null,
      "bottom": null,
      "display": null,
      "flex": null,
      "flex_flow": null,
      "grid_area": null,
      "grid_auto_columns": null,
      "grid_auto_flow": null,
      "grid_auto_rows": null,
      "grid_column": null,
      "grid_gap": null,
      "grid_row": null,
      "grid_template_areas": null,
      "grid_template_columns": null,
      "grid_template_rows": null,
      "height": null,
      "justify_content": null,
      "justify_items": null,
      "left": null,
      "margin": null,
      "max_height": null,
      "max_width": null,
      "min_height": null,
      "min_width": null,
      "object_fit": null,
      "object_position": null,
      "order": null,
      "overflow": null,
      "overflow_x": null,
      "overflow_y": null,
      "padding": null,
      "right": null,
      "top": null,
      "visibility": null,
      "width": null
     }
    },
    "4a3d2d08f20848e4a2cd8ec0c2d6c072": {
     "model_module": "@jupyter-widgets/base",
     "model_name": "LayoutModel",
     "state": {
      "_model_module": "@jupyter-widgets/base",
      "_model_module_version": "1.2.0",
      "_model_name": "LayoutModel",
      "_view_count": null,
      "_view_module": "@jupyter-widgets/base",
      "_view_module_version": "1.2.0",
      "_view_name": "LayoutView",
      "align_content": null,
      "align_items": null,
      "align_self": null,
      "border": null,
      "bottom": null,
      "display": null,
      "flex": null,
      "flex_flow": null,
      "grid_area": null,
      "grid_auto_columns": null,
      "grid_auto_flow": null,
      "grid_auto_rows": null,
      "grid_column": null,
      "grid_gap": null,
      "grid_row": null,
      "grid_template_areas": null,
      "grid_template_columns": null,
      "grid_template_rows": null,
      "height": null,
      "justify_content": null,
      "justify_items": null,
      "left": null,
      "margin": null,
      "max_height": null,
      "max_width": null,
      "min_height": null,
      "min_width": null,
      "object_fit": null,
      "object_position": null,
      "order": null,
      "overflow": null,
      "overflow_x": null,
      "overflow_y": null,
      "padding": null,
      "right": null,
      "top": null,
      "visibility": null,
      "width": null
     }
    },
    "4e35115bbebf4349b5b9e9e98fa925d6": {
     "model_module": "@jupyter-widgets/controls",
     "model_name": "DescriptionStyleModel",
     "state": {
      "_model_module": "@jupyter-widgets/controls",
      "_model_module_version": "1.5.0",
      "_model_name": "DescriptionStyleModel",
      "_view_count": null,
      "_view_module": "@jupyter-widgets/base",
      "_view_module_version": "1.2.0",
      "_view_name": "StyleView",
      "description_width": ""
     }
    },
    "56be6ba15c134347be03e46f1e45a00d": {
     "model_module": "@jupyter-widgets/base",
     "model_name": "LayoutModel",
     "state": {
      "_model_module": "@jupyter-widgets/base",
      "_model_module_version": "1.2.0",
      "_model_name": "LayoutModel",
      "_view_count": null,
      "_view_module": "@jupyter-widgets/base",
      "_view_module_version": "1.2.0",
      "_view_name": "LayoutView",
      "align_content": null,
      "align_items": null,
      "align_self": null,
      "border": null,
      "bottom": null,
      "display": null,
      "flex": null,
      "flex_flow": null,
      "grid_area": null,
      "grid_auto_columns": null,
      "grid_auto_flow": null,
      "grid_auto_rows": null,
      "grid_column": null,
      "grid_gap": null,
      "grid_row": null,
      "grid_template_areas": null,
      "grid_template_columns": null,
      "grid_template_rows": null,
      "height": null,
      "justify_content": null,
      "justify_items": null,
      "left": null,
      "margin": null,
      "max_height": null,
      "max_width": null,
      "min_height": null,
      "min_width": null,
      "object_fit": null,
      "object_position": null,
      "order": null,
      "overflow": null,
      "overflow_x": null,
      "overflow_y": null,
      "padding": null,
      "right": null,
      "top": null,
      "visibility": null,
      "width": null
     }
    },
    "59bec2e1de1c4334b0baa5012b0c8355": {
     "model_module": "@jupyter-widgets/base",
     "model_name": "LayoutModel",
     "state": {
      "_model_module": "@jupyter-widgets/base",
      "_model_module_version": "1.2.0",
      "_model_name": "LayoutModel",
      "_view_count": null,
      "_view_module": "@jupyter-widgets/base",
      "_view_module_version": "1.2.0",
      "_view_name": "LayoutView",
      "align_content": null,
      "align_items": null,
      "align_self": null,
      "border": null,
      "bottom": null,
      "display": null,
      "flex": null,
      "flex_flow": null,
      "grid_area": null,
      "grid_auto_columns": null,
      "grid_auto_flow": null,
      "grid_auto_rows": null,
      "grid_column": null,
      "grid_gap": null,
      "grid_row": null,
      "grid_template_areas": null,
      "grid_template_columns": null,
      "grid_template_rows": null,
      "height": null,
      "justify_content": null,
      "justify_items": null,
      "left": null,
      "margin": null,
      "max_height": null,
      "max_width": null,
      "min_height": null,
      "min_width": null,
      "object_fit": null,
      "object_position": null,
      "order": null,
      "overflow": null,
      "overflow_x": null,
      "overflow_y": null,
      "padding": null,
      "right": null,
      "top": null,
      "visibility": null,
      "width": null
     }
    },
    "5ce9c7294a374b98842484d3f9cd01d2": {
     "model_module": "@jupyter-widgets/controls",
     "model_name": "HBoxModel",
     "state": {
      "_dom_classes": [],
      "_model_module": "@jupyter-widgets/controls",
      "_model_module_version": "1.5.0",
      "_model_name": "HBoxModel",
      "_view_count": null,
      "_view_module": "@jupyter-widgets/controls",
      "_view_module_version": "1.5.0",
      "_view_name": "HBoxView",
      "box_style": "",
      "children": [
       "IPY_MODEL_827716c2d1b14bac8c320bd77c30f02d",
       "IPY_MODEL_7f992bcac12746e3aad316594c430919"
      ],
      "layout": "IPY_MODEL_d8c94dfe58a14174a64114ea4a3e6a6e"
     }
    },
    "5fc3d371ee3c4c15b2cfdfe84430e5fa": {
     "model_module": "@jupyter-widgets/controls",
     "model_name": "FloatProgressModel",
     "state": {
      "_dom_classes": [],
      "_model_module": "@jupyter-widgets/controls",
      "_model_module_version": "1.5.0",
      "_model_name": "FloatProgressModel",
      "_view_count": null,
      "_view_module": "@jupyter-widgets/controls",
      "_view_module_version": "1.5.0",
      "_view_name": "ProgressView",
      "bar_style": "success",
      "description": "100%",
      "description_tooltip": null,
      "layout": "IPY_MODEL_9d5737167ce94bc28ea73175f7318c54",
      "max": 2307704,
      "min": 0,
      "orientation": "horizontal",
      "style": "IPY_MODEL_30e11dffe75a479f9572ef5a1566aad1",
      "value": 2307704
     }
    },
    "61120ae86f3b409997341a81bb1c0014": {
     "model_module": "@jupyter-widgets/base",
     "model_name": "LayoutModel",
     "state": {
      "_model_module": "@jupyter-widgets/base",
      "_model_module_version": "1.2.0",
      "_model_name": "LayoutModel",
      "_view_count": null,
      "_view_module": "@jupyter-widgets/base",
      "_view_module_version": "1.2.0",
      "_view_name": "LayoutView",
      "align_content": null,
      "align_items": null,
      "align_self": null,
      "border": null,
      "bottom": null,
      "display": null,
      "flex": null,
      "flex_flow": null,
      "grid_area": null,
      "grid_auto_columns": null,
      "grid_auto_flow": null,
      "grid_auto_rows": null,
      "grid_column": null,
      "grid_gap": null,
      "grid_row": null,
      "grid_template_areas": null,
      "grid_template_columns": null,
      "grid_template_rows": null,
      "height": null,
      "justify_content": null,
      "justify_items": null,
      "left": null,
      "margin": null,
      "max_height": null,
      "max_width": null,
      "min_height": null,
      "min_width": null,
      "object_fit": null,
      "object_position": null,
      "order": null,
      "overflow": null,
      "overflow_x": null,
      "overflow_y": null,
      "padding": null,
      "right": null,
      "top": null,
      "visibility": null,
      "width": null
     }
    },
    "714d76322fda4682952b8fbede80dc71": {
     "model_module": "@jupyter-widgets/controls",
     "model_name": "HTMLModel",
     "state": {
      "_dom_classes": [],
      "_model_module": "@jupyter-widgets/controls",
      "_model_module_version": "1.5.0",
      "_model_name": "HTMLModel",
      "_view_count": null,
      "_view_module": "@jupyter-widgets/controls",
      "_view_module_version": "1.5.0",
      "_view_name": "HTMLView",
      "description": "",
      "description_tooltip": null,
      "layout": "IPY_MODEL_23d6283397654bd9a3f3f5812e3c2265",
      "placeholder": "​",
      "style": "IPY_MODEL_1aabc1df8eb148c39d9b07c8737a0c43",
      "value": " 2307704/2307704 [00:09&lt;00:00, 242043.72it/s]"
     }
    },
    "7487746ee27b4e6b967d59ff31614539": {
     "model_module": "@jupyter-widgets/controls",
     "model_name": "HTMLModel",
     "state": {
      "_dom_classes": [],
      "_model_module": "@jupyter-widgets/controls",
      "_model_module_version": "1.5.0",
      "_model_name": "HTMLModel",
      "_view_count": null,
      "_view_module": "@jupyter-widgets/controls",
      "_view_module_version": "1.5.0",
      "_view_name": "HTMLView",
      "description": "",
      "description_tooltip": null,
      "layout": "IPY_MODEL_cf0b58a5b3a44e88bca9791e7582adab",
      "placeholder": "​",
      "style": "IPY_MODEL_88516e3eb9564ee3adcddb3583b23215",
      "value": " 5/5 [00:08&lt;00:00,  1.79s/it]"
     }
    },
    "782ba9a320f542c196d2ca56d8ba8ca1": {
     "model_module": "@jupyter-widgets/controls",
     "model_name": "ProgressStyleModel",
     "state": {
      "_model_module": "@jupyter-widgets/controls",
      "_model_module_version": "1.5.0",
      "_model_name": "ProgressStyleModel",
      "_view_count": null,
      "_view_module": "@jupyter-widgets/base",
      "_view_module_version": "1.2.0",
      "_view_name": "StyleView",
      "bar_color": null,
      "description_width": "initial"
     }
    },
    "796f7011cfe3409fadc30938a5bedc46": {
     "model_module": "@jupyter-widgets/base",
     "model_name": "LayoutModel",
     "state": {
      "_model_module": "@jupyter-widgets/base",
      "_model_module_version": "1.2.0",
      "_model_name": "LayoutModel",
      "_view_count": null,
      "_view_module": "@jupyter-widgets/base",
      "_view_module_version": "1.2.0",
      "_view_name": "LayoutView",
      "align_content": null,
      "align_items": null,
      "align_self": null,
      "border": null,
      "bottom": null,
      "display": null,
      "flex": null,
      "flex_flow": null,
      "grid_area": null,
      "grid_auto_columns": null,
      "grid_auto_flow": null,
      "grid_auto_rows": null,
      "grid_column": null,
      "grid_gap": null,
      "grid_row": null,
      "grid_template_areas": null,
      "grid_template_columns": null,
      "grid_template_rows": null,
      "height": null,
      "justify_content": null,
      "justify_items": null,
      "left": null,
      "margin": null,
      "max_height": null,
      "max_width": null,
      "min_height": null,
      "min_width": null,
      "object_fit": null,
      "object_position": null,
      "order": null,
      "overflow": null,
      "overflow_x": null,
      "overflow_y": null,
      "padding": null,
      "right": null,
      "top": null,
      "visibility": null,
      "width": null
     }
    },
    "7c14183af4e24b288896331e5718ef2c": {
     "model_module": "@jupyter-widgets/base",
     "model_name": "LayoutModel",
     "state": {
      "_model_module": "@jupyter-widgets/base",
      "_model_module_version": "1.2.0",
      "_model_name": "LayoutModel",
      "_view_count": null,
      "_view_module": "@jupyter-widgets/base",
      "_view_module_version": "1.2.0",
      "_view_name": "LayoutView",
      "align_content": null,
      "align_items": null,
      "align_self": null,
      "border": null,
      "bottom": null,
      "display": null,
      "flex": null,
      "flex_flow": null,
      "grid_area": null,
      "grid_auto_columns": null,
      "grid_auto_flow": null,
      "grid_auto_rows": null,
      "grid_column": null,
      "grid_gap": null,
      "grid_row": null,
      "grid_template_areas": null,
      "grid_template_columns": null,
      "grid_template_rows": null,
      "height": null,
      "justify_content": null,
      "justify_items": null,
      "left": null,
      "margin": null,
      "max_height": null,
      "max_width": null,
      "min_height": null,
      "min_width": null,
      "object_fit": null,
      "object_position": null,
      "order": null,
      "overflow": null,
      "overflow_x": null,
      "overflow_y": null,
      "padding": null,
      "right": null,
      "top": null,
      "visibility": null,
      "width": null
     }
    },
    "7d9d5eb9258845efbf2c6a45a1c198ba": {
     "model_module": "@jupyter-widgets/controls",
     "model_name": "ProgressStyleModel",
     "state": {
      "_model_module": "@jupyter-widgets/controls",
      "_model_module_version": "1.5.0",
      "_model_name": "ProgressStyleModel",
      "_view_count": null,
      "_view_module": "@jupyter-widgets/base",
      "_view_module_version": "1.2.0",
      "_view_name": "StyleView",
      "bar_color": null,
      "description_width": "initial"
     }
    },
    "7dbeb56f74dd4153a82af801cf8bafa8": {
     "model_module": "@jupyter-widgets/controls",
     "model_name": "DescriptionStyleModel",
     "state": {
      "_model_module": "@jupyter-widgets/controls",
      "_model_module_version": "1.5.0",
      "_model_name": "DescriptionStyleModel",
      "_view_count": null,
      "_view_module": "@jupyter-widgets/base",
      "_view_module_version": "1.2.0",
      "_view_name": "StyleView",
      "description_width": ""
     }
    },
    "7f992bcac12746e3aad316594c430919": {
     "model_module": "@jupyter-widgets/controls",
     "model_name": "HTMLModel",
     "state": {
      "_dom_classes": [],
      "_model_module": "@jupyter-widgets/controls",
      "_model_module_version": "1.5.0",
      "_model_name": "HTMLModel",
      "_view_count": null,
      "_view_module": "@jupyter-widgets/controls",
      "_view_module_version": "1.5.0",
      "_view_name": "HTMLView",
      "description": "",
      "description_tooltip": null,
      "layout": "IPY_MODEL_39a95aeaff6f40838cc61e4fa5a356d9",
      "placeholder": "​",
      "style": "IPY_MODEL_32363675694c4db0833eadc8736d43df",
      "value": " 2307704/2307704 [00:17&lt;00:00, 134390.80it/s]"
     }
    },
    "827716c2d1b14bac8c320bd77c30f02d": {
     "model_module": "@jupyter-widgets/controls",
     "model_name": "FloatProgressModel",
     "state": {
      "_dom_classes": [],
      "_model_module": "@jupyter-widgets/controls",
      "_model_module_version": "1.5.0",
      "_model_name": "FloatProgressModel",
      "_view_count": null,
      "_view_module": "@jupyter-widgets/controls",
      "_view_module_version": "1.5.0",
      "_view_name": "ProgressView",
      "bar_style": "success",
      "description": "100%",
      "description_tooltip": null,
      "layout": "IPY_MODEL_b36426b038b54e22a43874cabd813162",
      "max": 2307704,
      "min": 0,
      "orientation": "horizontal",
      "style": "IPY_MODEL_90c9695b9d4343ff9a2225ecc546e434",
      "value": 2307704
     }
    },
    "88516e3eb9564ee3adcddb3583b23215": {
     "model_module": "@jupyter-widgets/controls",
     "model_name": "DescriptionStyleModel",
     "state": {
      "_model_module": "@jupyter-widgets/controls",
      "_model_module_version": "1.5.0",
      "_model_name": "DescriptionStyleModel",
      "_view_count": null,
      "_view_module": "@jupyter-widgets/base",
      "_view_module_version": "1.2.0",
      "_view_name": "StyleView",
      "description_width": ""
     }
    },
    "89a300aa2bde419f9f0825027b8cba20": {
     "model_module": "@jupyter-widgets/controls",
     "model_name": "ProgressStyleModel",
     "state": {
      "_model_module": "@jupyter-widgets/controls",
      "_model_module_version": "1.5.0",
      "_model_name": "ProgressStyleModel",
      "_view_count": null,
      "_view_module": "@jupyter-widgets/base",
      "_view_module_version": "1.2.0",
      "_view_name": "StyleView",
      "bar_color": null,
      "description_width": "initial"
     }
    },
    "8c1b05f65f2c43e1ac74047adbc2f6a2": {
     "model_module": "@jupyter-widgets/controls",
     "model_name": "FloatProgressModel",
     "state": {
      "_dom_classes": [],
      "_model_module": "@jupyter-widgets/controls",
      "_model_module_version": "1.5.0",
      "_model_name": "FloatProgressModel",
      "_view_count": null,
      "_view_module": "@jupyter-widgets/controls",
      "_view_module_version": "1.5.0",
      "_view_name": "ProgressView",
      "bar_style": "success",
      "description": "100%",
      "description_tooltip": null,
      "layout": "IPY_MODEL_4a3d2d08f20848e4a2cd8ec0c2d6c072",
      "max": 5,
      "min": 0,
      "orientation": "horizontal",
      "style": "IPY_MODEL_aadf60fd30834871adf006784ec19b3f",
      "value": 5
     }
    },
    "8e6173a6c58b4f118aa6d3794b59b007": {
     "model_module": "@jupyter-widgets/base",
     "model_name": "LayoutModel",
     "state": {
      "_model_module": "@jupyter-widgets/base",
      "_model_module_version": "1.2.0",
      "_model_name": "LayoutModel",
      "_view_count": null,
      "_view_module": "@jupyter-widgets/base",
      "_view_module_version": "1.2.0",
      "_view_name": "LayoutView",
      "align_content": null,
      "align_items": null,
      "align_self": null,
      "border": null,
      "bottom": null,
      "display": null,
      "flex": null,
      "flex_flow": null,
      "grid_area": null,
      "grid_auto_columns": null,
      "grid_auto_flow": null,
      "grid_auto_rows": null,
      "grid_column": null,
      "grid_gap": null,
      "grid_row": null,
      "grid_template_areas": null,
      "grid_template_columns": null,
      "grid_template_rows": null,
      "height": null,
      "justify_content": null,
      "justify_items": null,
      "left": null,
      "margin": null,
      "max_height": null,
      "max_width": null,
      "min_height": null,
      "min_width": null,
      "object_fit": null,
      "object_position": null,
      "order": null,
      "overflow": null,
      "overflow_x": null,
      "overflow_y": null,
      "padding": null,
      "right": null,
      "top": null,
      "visibility": null,
      "width": null
     }
    },
    "90382a0d949d486b82a9a5d892132e9a": {
     "model_module": "@jupyter-widgets/base",
     "model_name": "LayoutModel",
     "state": {
      "_model_module": "@jupyter-widgets/base",
      "_model_module_version": "1.2.0",
      "_model_name": "LayoutModel",
      "_view_count": null,
      "_view_module": "@jupyter-widgets/base",
      "_view_module_version": "1.2.0",
      "_view_name": "LayoutView",
      "align_content": null,
      "align_items": null,
      "align_self": null,
      "border": null,
      "bottom": null,
      "display": null,
      "flex": null,
      "flex_flow": null,
      "grid_area": null,
      "grid_auto_columns": null,
      "grid_auto_flow": null,
      "grid_auto_rows": null,
      "grid_column": null,
      "grid_gap": null,
      "grid_row": null,
      "grid_template_areas": null,
      "grid_template_columns": null,
      "grid_template_rows": null,
      "height": null,
      "justify_content": null,
      "justify_items": null,
      "left": null,
      "margin": null,
      "max_height": null,
      "max_width": null,
      "min_height": null,
      "min_width": null,
      "object_fit": null,
      "object_position": null,
      "order": null,
      "overflow": null,
      "overflow_x": null,
      "overflow_y": null,
      "padding": null,
      "right": null,
      "top": null,
      "visibility": null,
      "width": null
     }
    },
    "90c9695b9d4343ff9a2225ecc546e434": {
     "model_module": "@jupyter-widgets/controls",
     "model_name": "ProgressStyleModel",
     "state": {
      "_model_module": "@jupyter-widgets/controls",
      "_model_module_version": "1.5.0",
      "_model_name": "ProgressStyleModel",
      "_view_count": null,
      "_view_module": "@jupyter-widgets/base",
      "_view_module_version": "1.2.0",
      "_view_name": "StyleView",
      "bar_color": null,
      "description_width": "initial"
     }
    },
    "934657af758743c6bb715cafef223181": {
     "model_module": "@jupyter-widgets/controls",
     "model_name": "HBoxModel",
     "state": {
      "_dom_classes": [],
      "_model_module": "@jupyter-widgets/controls",
      "_model_module_version": "1.5.0",
      "_model_name": "HBoxModel",
      "_view_count": null,
      "_view_module": "@jupyter-widgets/controls",
      "_view_module_version": "1.5.0",
      "_view_name": "HBoxView",
      "box_style": "",
      "children": [
       "IPY_MODEL_f056aa3bba1d4ef88afa119ae6bef49f",
       "IPY_MODEL_b0cd0d3671754a2abc6208076a13cd19"
      ],
      "layout": "IPY_MODEL_baab4295045f46b2a22a922469b6ac4d"
     }
    },
    "9a2f0b3813b443808efe6750323333ab": {
     "model_module": "@jupyter-widgets/base",
     "model_name": "LayoutModel",
     "state": {
      "_model_module": "@jupyter-widgets/base",
      "_model_module_version": "1.2.0",
      "_model_name": "LayoutModel",
      "_view_count": null,
      "_view_module": "@jupyter-widgets/base",
      "_view_module_version": "1.2.0",
      "_view_name": "LayoutView",
      "align_content": null,
      "align_items": null,
      "align_self": null,
      "border": null,
      "bottom": null,
      "display": null,
      "flex": null,
      "flex_flow": null,
      "grid_area": null,
      "grid_auto_columns": null,
      "grid_auto_flow": null,
      "grid_auto_rows": null,
      "grid_column": null,
      "grid_gap": null,
      "grid_row": null,
      "grid_template_areas": null,
      "grid_template_columns": null,
      "grid_template_rows": null,
      "height": null,
      "justify_content": null,
      "justify_items": null,
      "left": null,
      "margin": null,
      "max_height": null,
      "max_width": null,
      "min_height": null,
      "min_width": null,
      "object_fit": null,
      "object_position": null,
      "order": null,
      "overflow": null,
      "overflow_x": null,
      "overflow_y": null,
      "padding": null,
      "right": null,
      "top": null,
      "visibility": null,
      "width": null
     }
    },
    "9d5737167ce94bc28ea73175f7318c54": {
     "model_module": "@jupyter-widgets/base",
     "model_name": "LayoutModel",
     "state": {
      "_model_module": "@jupyter-widgets/base",
      "_model_module_version": "1.2.0",
      "_model_name": "LayoutModel",
      "_view_count": null,
      "_view_module": "@jupyter-widgets/base",
      "_view_module_version": "1.2.0",
      "_view_name": "LayoutView",
      "align_content": null,
      "align_items": null,
      "align_self": null,
      "border": null,
      "bottom": null,
      "display": null,
      "flex": null,
      "flex_flow": null,
      "grid_area": null,
      "grid_auto_columns": null,
      "grid_auto_flow": null,
      "grid_auto_rows": null,
      "grid_column": null,
      "grid_gap": null,
      "grid_row": null,
      "grid_template_areas": null,
      "grid_template_columns": null,
      "grid_template_rows": null,
      "height": null,
      "justify_content": null,
      "justify_items": null,
      "left": null,
      "margin": null,
      "max_height": null,
      "max_width": null,
      "min_height": null,
      "min_width": null,
      "object_fit": null,
      "object_position": null,
      "order": null,
      "overflow": null,
      "overflow_x": null,
      "overflow_y": null,
      "padding": null,
      "right": null,
      "top": null,
      "visibility": null,
      "width": null
     }
    },
    "a98ca325f5d841228de28c558c3ba618": {
     "model_module": "@jupyter-widgets/controls",
     "model_name": "FloatProgressModel",
     "state": {
      "_dom_classes": [],
      "_model_module": "@jupyter-widgets/controls",
      "_model_module_version": "1.5.0",
      "_model_name": "FloatProgressModel",
      "_view_count": null,
      "_view_module": "@jupyter-widgets/controls",
      "_view_module_version": "1.5.0",
      "_view_name": "ProgressView",
      "bar_style": "success",
      "description": "100%",
      "description_tooltip": null,
      "layout": "IPY_MODEL_354da9ddf14745c4a3d776f37fac6778",
      "max": 2307704,
      "min": 0,
      "orientation": "horizontal",
      "style": "IPY_MODEL_89a300aa2bde419f9f0825027b8cba20",
      "value": 2307704
     }
    },
    "a9c38c762c9545a6befaf5c91fdca790": {
     "model_module": "@jupyter-widgets/controls",
     "model_name": "HTMLModel",
     "state": {
      "_dom_classes": [],
      "_model_module": "@jupyter-widgets/controls",
      "_model_module_version": "1.5.0",
      "_model_name": "HTMLModel",
      "_view_count": null,
      "_view_module": "@jupyter-widgets/controls",
      "_view_module_version": "1.5.0",
      "_view_name": "HTMLView",
      "description": "",
      "description_tooltip": null,
      "layout": "IPY_MODEL_3d3ec01480aa44f1946074ab301f7337",
      "placeholder": "​",
      "style": "IPY_MODEL_c65c514a9e904dbd9e0c00539315ddaf",
      "value": " 59/59 [01:04&lt;00:00,  1.09s/it]"
     }
    },
    "aadf60fd30834871adf006784ec19b3f": {
     "model_module": "@jupyter-widgets/controls",
     "model_name": "ProgressStyleModel",
     "state": {
      "_model_module": "@jupyter-widgets/controls",
      "_model_module_version": "1.5.0",
      "_model_name": "ProgressStyleModel",
      "_view_count": null,
      "_view_module": "@jupyter-widgets/base",
      "_view_module_version": "1.2.0",
      "_view_name": "StyleView",
      "bar_color": null,
      "description_width": "initial"
     }
    },
    "b0cd0d3671754a2abc6208076a13cd19": {
     "model_module": "@jupyter-widgets/controls",
     "model_name": "HTMLModel",
     "state": {
      "_dom_classes": [],
      "_model_module": "@jupyter-widgets/controls",
      "_model_module_version": "1.5.0",
      "_model_name": "HTMLModel",
      "_view_count": null,
      "_view_module": "@jupyter-widgets/controls",
      "_view_module_version": "1.5.0",
      "_view_name": "HTMLView",
      "description": "",
      "description_tooltip": null,
      "layout": "IPY_MODEL_235a70873083453a8160ad7c92b39713",
      "placeholder": "​",
      "style": "IPY_MODEL_09e455e3d49549b593ad99b3a20739c4",
      "value": " 576927/576927 [00:02&lt;00:00, 239592.39it/s]"
     }
    },
    "b36426b038b54e22a43874cabd813162": {
     "model_module": "@jupyter-widgets/base",
     "model_name": "LayoutModel",
     "state": {
      "_model_module": "@jupyter-widgets/base",
      "_model_module_version": "1.2.0",
      "_model_name": "LayoutModel",
      "_view_count": null,
      "_view_module": "@jupyter-widgets/base",
      "_view_module_version": "1.2.0",
      "_view_name": "LayoutView",
      "align_content": null,
      "align_items": null,
      "align_self": null,
      "border": null,
      "bottom": null,
      "display": null,
      "flex": null,
      "flex_flow": null,
      "grid_area": null,
      "grid_auto_columns": null,
      "grid_auto_flow": null,
      "grid_auto_rows": null,
      "grid_column": null,
      "grid_gap": null,
      "grid_row": null,
      "grid_template_areas": null,
      "grid_template_columns": null,
      "grid_template_rows": null,
      "height": null,
      "justify_content": null,
      "justify_items": null,
      "left": null,
      "margin": null,
      "max_height": null,
      "max_width": null,
      "min_height": null,
      "min_width": null,
      "object_fit": null,
      "object_position": null,
      "order": null,
      "overflow": null,
      "overflow_x": null,
      "overflow_y": null,
      "padding": null,
      "right": null,
      "top": null,
      "visibility": null,
      "width": null
     }
    },
    "b5947df162a64da6b06de4be12be3154": {
     "model_module": "@jupyter-widgets/controls",
     "model_name": "HTMLModel",
     "state": {
      "_dom_classes": [],
      "_model_module": "@jupyter-widgets/controls",
      "_model_module_version": "1.5.0",
      "_model_name": "HTMLModel",
      "_view_count": null,
      "_view_module": "@jupyter-widgets/controls",
      "_view_module_version": "1.5.0",
      "_view_name": "HTMLView",
      "description": "",
      "description_tooltip": null,
      "layout": "IPY_MODEL_796f7011cfe3409fadc30938a5bedc46",
      "placeholder": "​",
      "style": "IPY_MODEL_eb5432e6ecb54fe69e87303d9a4e91c3",
      "value": " 576927/576927 [00:09&lt;00:00, 57754.31it/s]"
     }
    },
    "b81064b252ab43d08e0ea45a1ccb03c6": {
     "model_module": "@jupyter-widgets/controls",
     "model_name": "HBoxModel",
     "state": {
      "_dom_classes": [],
      "_model_module": "@jupyter-widgets/controls",
      "_model_module_version": "1.5.0",
      "_model_name": "HBoxModel",
      "_view_count": null,
      "_view_module": "@jupyter-widgets/controls",
      "_view_module_version": "1.5.0",
      "_view_name": "HBoxView",
      "box_style": "",
      "children": [
       "IPY_MODEL_8c1b05f65f2c43e1ac74047adbc2f6a2",
       "IPY_MODEL_7487746ee27b4e6b967d59ff31614539"
      ],
      "layout": "IPY_MODEL_3637110e1908411783e1a265b12ac91a"
     }
    },
    "b8fd340e2f2541e2b242d1c548000f39": {
     "model_module": "@jupyter-widgets/base",
     "model_name": "LayoutModel",
     "state": {
      "_model_module": "@jupyter-widgets/base",
      "_model_module_version": "1.2.0",
      "_model_name": "LayoutModel",
      "_view_count": null,
      "_view_module": "@jupyter-widgets/base",
      "_view_module_version": "1.2.0",
      "_view_name": "LayoutView",
      "align_content": null,
      "align_items": null,
      "align_self": null,
      "border": null,
      "bottom": null,
      "display": null,
      "flex": null,
      "flex_flow": null,
      "grid_area": null,
      "grid_auto_columns": null,
      "grid_auto_flow": null,
      "grid_auto_rows": null,
      "grid_column": null,
      "grid_gap": null,
      "grid_row": null,
      "grid_template_areas": null,
      "grid_template_columns": null,
      "grid_template_rows": null,
      "height": null,
      "justify_content": null,
      "justify_items": null,
      "left": null,
      "margin": null,
      "max_height": null,
      "max_width": null,
      "min_height": null,
      "min_width": null,
      "object_fit": null,
      "object_position": null,
      "order": null,
      "overflow": null,
      "overflow_x": null,
      "overflow_y": null,
      "padding": null,
      "right": null,
      "top": null,
      "visibility": null,
      "width": null
     }
    },
    "baab4295045f46b2a22a922469b6ac4d": {
     "model_module": "@jupyter-widgets/base",
     "model_name": "LayoutModel",
     "state": {
      "_model_module": "@jupyter-widgets/base",
      "_model_module_version": "1.2.0",
      "_model_name": "LayoutModel",
      "_view_count": null,
      "_view_module": "@jupyter-widgets/base",
      "_view_module_version": "1.2.0",
      "_view_name": "LayoutView",
      "align_content": null,
      "align_items": null,
      "align_self": null,
      "border": null,
      "bottom": null,
      "display": null,
      "flex": null,
      "flex_flow": null,
      "grid_area": null,
      "grid_auto_columns": null,
      "grid_auto_flow": null,
      "grid_auto_rows": null,
      "grid_column": null,
      "grid_gap": null,
      "grid_row": null,
      "grid_template_areas": null,
      "grid_template_columns": null,
      "grid_template_rows": null,
      "height": null,
      "justify_content": null,
      "justify_items": null,
      "left": null,
      "margin": null,
      "max_height": null,
      "max_width": null,
      "min_height": null,
      "min_width": null,
      "object_fit": null,
      "object_position": null,
      "order": null,
      "overflow": null,
      "overflow_x": null,
      "overflow_y": null,
      "padding": null,
      "right": null,
      "top": null,
      "visibility": null,
      "width": null
     }
    },
    "bac9e4fb82e54fad955b6477cc2eae26": {
     "model_module": "@jupyter-widgets/base",
     "model_name": "LayoutModel",
     "state": {
      "_model_module": "@jupyter-widgets/base",
      "_model_module_version": "1.2.0",
      "_model_name": "LayoutModel",
      "_view_count": null,
      "_view_module": "@jupyter-widgets/base",
      "_view_module_version": "1.2.0",
      "_view_name": "LayoutView",
      "align_content": null,
      "align_items": null,
      "align_self": null,
      "border": null,
      "bottom": null,
      "display": null,
      "flex": null,
      "flex_flow": null,
      "grid_area": null,
      "grid_auto_columns": null,
      "grid_auto_flow": null,
      "grid_auto_rows": null,
      "grid_column": null,
      "grid_gap": null,
      "grid_row": null,
      "grid_template_areas": null,
      "grid_template_columns": null,
      "grid_template_rows": null,
      "height": null,
      "justify_content": null,
      "justify_items": null,
      "left": null,
      "margin": null,
      "max_height": null,
      "max_width": null,
      "min_height": null,
      "min_width": null,
      "object_fit": null,
      "object_position": null,
      "order": null,
      "overflow": null,
      "overflow_x": null,
      "overflow_y": null,
      "padding": null,
      "right": null,
      "top": null,
      "visibility": null,
      "width": null
     }
    },
    "bbe87f8f48c64ed68b34b8fb419414c0": {
     "model_module": "@jupyter-widgets/base",
     "model_name": "LayoutModel",
     "state": {
      "_model_module": "@jupyter-widgets/base",
      "_model_module_version": "1.2.0",
      "_model_name": "LayoutModel",
      "_view_count": null,
      "_view_module": "@jupyter-widgets/base",
      "_view_module_version": "1.2.0",
      "_view_name": "LayoutView",
      "align_content": null,
      "align_items": null,
      "align_self": null,
      "border": null,
      "bottom": null,
      "display": null,
      "flex": null,
      "flex_flow": null,
      "grid_area": null,
      "grid_auto_columns": null,
      "grid_auto_flow": null,
      "grid_auto_rows": null,
      "grid_column": null,
      "grid_gap": null,
      "grid_row": null,
      "grid_template_areas": null,
      "grid_template_columns": null,
      "grid_template_rows": null,
      "height": null,
      "justify_content": null,
      "justify_items": null,
      "left": null,
      "margin": null,
      "max_height": null,
      "max_width": null,
      "min_height": null,
      "min_width": null,
      "object_fit": null,
      "object_position": null,
      "order": null,
      "overflow": null,
      "overflow_x": null,
      "overflow_y": null,
      "padding": null,
      "right": null,
      "top": null,
      "visibility": null,
      "width": null
     }
    },
    "c65c514a9e904dbd9e0c00539315ddaf": {
     "model_module": "@jupyter-widgets/controls",
     "model_name": "DescriptionStyleModel",
     "state": {
      "_model_module": "@jupyter-widgets/controls",
      "_model_module_version": "1.5.0",
      "_model_name": "DescriptionStyleModel",
      "_view_count": null,
      "_view_module": "@jupyter-widgets/base",
      "_view_module_version": "1.2.0",
      "_view_name": "StyleView",
      "description_width": ""
     }
    },
    "cdb5c10547ea498484abd0a2a842d389": {
     "model_module": "@jupyter-widgets/controls",
     "model_name": "FloatProgressModel",
     "state": {
      "_dom_classes": [],
      "_model_module": "@jupyter-widgets/controls",
      "_model_module_version": "1.5.0",
      "_model_name": "FloatProgressModel",
      "_view_count": null,
      "_view_module": "@jupyter-widgets/controls",
      "_view_module_version": "1.5.0",
      "_view_name": "ProgressView",
      "bar_style": "success",
      "description": "100%",
      "description_tooltip": null,
      "layout": "IPY_MODEL_bbe87f8f48c64ed68b34b8fb419414c0",
      "max": 2784634,
      "min": 0,
      "orientation": "horizontal",
      "style": "IPY_MODEL_19e109e8595e41ffb5db0d40593ac223",
      "value": 2784634
     }
    },
    "cf0b58a5b3a44e88bca9791e7582adab": {
     "model_module": "@jupyter-widgets/base",
     "model_name": "LayoutModel",
     "state": {
      "_model_module": "@jupyter-widgets/base",
      "_model_module_version": "1.2.0",
      "_model_name": "LayoutModel",
      "_view_count": null,
      "_view_module": "@jupyter-widgets/base",
      "_view_module_version": "1.2.0",
      "_view_name": "LayoutView",
      "align_content": null,
      "align_items": null,
      "align_self": null,
      "border": null,
      "bottom": null,
      "display": null,
      "flex": null,
      "flex_flow": null,
      "grid_area": null,
      "grid_auto_columns": null,
      "grid_auto_flow": null,
      "grid_auto_rows": null,
      "grid_column": null,
      "grid_gap": null,
      "grid_row": null,
      "grid_template_areas": null,
      "grid_template_columns": null,
      "grid_template_rows": null,
      "height": null,
      "justify_content": null,
      "justify_items": null,
      "left": null,
      "margin": null,
      "max_height": null,
      "max_width": null,
      "min_height": null,
      "min_width": null,
      "object_fit": null,
      "object_position": null,
      "order": null,
      "overflow": null,
      "overflow_x": null,
      "overflow_y": null,
      "padding": null,
      "right": null,
      "top": null,
      "visibility": null,
      "width": null
     }
    },
    "d80b9a7cf3f941748eb739ee87b640a4": {
     "model_module": "@jupyter-widgets/controls",
     "model_name": "DescriptionStyleModel",
     "state": {
      "_model_module": "@jupyter-widgets/controls",
      "_model_module_version": "1.5.0",
      "_model_name": "DescriptionStyleModel",
      "_view_count": null,
      "_view_module": "@jupyter-widgets/base",
      "_view_module_version": "1.2.0",
      "_view_name": "StyleView",
      "description_width": ""
     }
    },
    "d8600d319bab4bc980a6be0b260db116": {
     "model_module": "@jupyter-widgets/controls",
     "model_name": "HTMLModel",
     "state": {
      "_dom_classes": [],
      "_model_module": "@jupyter-widgets/controls",
      "_model_module_version": "1.5.0",
      "_model_name": "HTMLModel",
      "_view_count": null,
      "_view_module": "@jupyter-widgets/controls",
      "_view_module_version": "1.5.0",
      "_view_name": "HTMLView",
      "description": "",
      "description_tooltip": null,
      "layout": "IPY_MODEL_0ef9ad77c6ff4b2cb4c96045c15f2e82",
      "placeholder": "​",
      "style": "IPY_MODEL_7dbeb56f74dd4153a82af801cf8bafa8",
      "value": " 2784634/2784634 [00:25&lt;00:00, 107294.77it/s]"
     }
    },
    "d8c94dfe58a14174a64114ea4a3e6a6e": {
     "model_module": "@jupyter-widgets/base",
     "model_name": "LayoutModel",
     "state": {
      "_model_module": "@jupyter-widgets/base",
      "_model_module_version": "1.2.0",
      "_model_name": "LayoutModel",
      "_view_count": null,
      "_view_module": "@jupyter-widgets/base",
      "_view_module_version": "1.2.0",
      "_view_name": "LayoutView",
      "align_content": null,
      "align_items": null,
      "align_self": null,
      "border": null,
      "bottom": null,
      "display": null,
      "flex": null,
      "flex_flow": null,
      "grid_area": null,
      "grid_auto_columns": null,
      "grid_auto_flow": null,
      "grid_auto_rows": null,
      "grid_column": null,
      "grid_gap": null,
      "grid_row": null,
      "grid_template_areas": null,
      "grid_template_columns": null,
      "grid_template_rows": null,
      "height": null,
      "justify_content": null,
      "justify_items": null,
      "left": null,
      "margin": null,
      "max_height": null,
      "max_width": null,
      "min_height": null,
      "min_width": null,
      "object_fit": null,
      "object_position": null,
      "order": null,
      "overflow": null,
      "overflow_x": null,
      "overflow_y": null,
      "padding": null,
      "right": null,
      "top": null,
      "visibility": null,
      "width": null
     }
    },
    "df78be7e3f8b4898ab357b1801632518": {
     "model_module": "@jupyter-widgets/controls",
     "model_name": "HTMLModel",
     "state": {
      "_dom_classes": [],
      "_model_module": "@jupyter-widgets/controls",
      "_model_module_version": "1.5.0",
      "_model_name": "HTMLModel",
      "_view_count": null,
      "_view_module": "@jupyter-widgets/controls",
      "_view_module_version": "1.5.0",
      "_view_name": "HTMLView",
      "description": "",
      "description_tooltip": null,
      "layout": "IPY_MODEL_90382a0d949d486b82a9a5d892132e9a",
      "placeholder": "​",
      "style": "IPY_MODEL_d80b9a7cf3f941748eb739ee87b640a4",
      "value": " 2307704/2307704 [00:24&lt;00:00, 94975.38it/s]"
     }
    },
    "e01424f07cd54041849ce3d415f87389": {
     "model_module": "@jupyter-widgets/base",
     "model_name": "LayoutModel",
     "state": {
      "_model_module": "@jupyter-widgets/base",
      "_model_module_version": "1.2.0",
      "_model_name": "LayoutModel",
      "_view_count": null,
      "_view_module": "@jupyter-widgets/base",
      "_view_module_version": "1.2.0",
      "_view_name": "LayoutView",
      "align_content": null,
      "align_items": null,
      "align_self": null,
      "border": null,
      "bottom": null,
      "display": null,
      "flex": null,
      "flex_flow": null,
      "grid_area": null,
      "grid_auto_columns": null,
      "grid_auto_flow": null,
      "grid_auto_rows": null,
      "grid_column": null,
      "grid_gap": null,
      "grid_row": null,
      "grid_template_areas": null,
      "grid_template_columns": null,
      "grid_template_rows": null,
      "height": null,
      "justify_content": null,
      "justify_items": null,
      "left": null,
      "margin": null,
      "max_height": null,
      "max_width": null,
      "min_height": null,
      "min_width": null,
      "object_fit": null,
      "object_position": null,
      "order": null,
      "overflow": null,
      "overflow_x": null,
      "overflow_y": null,
      "padding": null,
      "right": null,
      "top": null,
      "visibility": null,
      "width": null
     }
    },
    "e4090cb67b574c01be582aa4baafa279": {
     "model_module": "@jupyter-widgets/controls",
     "model_name": "ProgressStyleModel",
     "state": {
      "_model_module": "@jupyter-widgets/controls",
      "_model_module_version": "1.5.0",
      "_model_name": "ProgressStyleModel",
      "_view_count": null,
      "_view_module": "@jupyter-widgets/base",
      "_view_module_version": "1.2.0",
      "_view_name": "StyleView",
      "bar_color": null,
      "description_width": "initial"
     }
    },
    "e4876d7929a64a6aa0588644c73fd275": {
     "model_module": "@jupyter-widgets/controls",
     "model_name": "HTMLModel",
     "state": {
      "_dom_classes": [],
      "_model_module": "@jupyter-widgets/controls",
      "_model_module_version": "1.5.0",
      "_model_name": "HTMLModel",
      "_view_count": null,
      "_view_module": "@jupyter-widgets/controls",
      "_view_module_version": "1.5.0",
      "_view_name": "HTMLView",
      "description": "",
      "description_tooltip": null,
      "layout": "IPY_MODEL_bac9e4fb82e54fad955b6477cc2eae26",
      "placeholder": "​",
      "style": "IPY_MODEL_4e35115bbebf4349b5b9e9e98fa925d6",
      "value": " 2784634/2784634 [00:12&lt;00:00, 231948.80it/s]"
     }
    },
    "e9915b5092d940f780f88b68ce6252d1": {
     "model_module": "@jupyter-widgets/controls",
     "model_name": "HBoxModel",
     "state": {
      "_dom_classes": [],
      "_model_module": "@jupyter-widgets/controls",
      "_model_module_version": "1.5.0",
      "_model_name": "HBoxModel",
      "_view_count": null,
      "_view_module": "@jupyter-widgets/controls",
      "_view_module_version": "1.5.0",
      "_view_name": "HBoxView",
      "box_style": "",
      "children": [
       "IPY_MODEL_a98ca325f5d841228de28c558c3ba618",
       "IPY_MODEL_714d76322fda4682952b8fbede80dc71"
      ],
      "layout": "IPY_MODEL_e01424f07cd54041849ce3d415f87389"
     }
    },
    "eb5432e6ecb54fe69e87303d9a4e91c3": {
     "model_module": "@jupyter-widgets/controls",
     "model_name": "DescriptionStyleModel",
     "state": {
      "_model_module": "@jupyter-widgets/controls",
      "_model_module_version": "1.5.0",
      "_model_name": "DescriptionStyleModel",
      "_view_count": null,
      "_view_module": "@jupyter-widgets/base",
      "_view_module_version": "1.2.0",
      "_view_name": "StyleView",
      "description_width": ""
     }
    },
    "f056aa3bba1d4ef88afa119ae6bef49f": {
     "model_module": "@jupyter-widgets/controls",
     "model_name": "FloatProgressModel",
     "state": {
      "_dom_classes": [],
      "_model_module": "@jupyter-widgets/controls",
      "_model_module_version": "1.5.0",
      "_model_name": "FloatProgressModel",
      "_view_count": null,
      "_view_module": "@jupyter-widgets/controls",
      "_view_module_version": "1.5.0",
      "_view_name": "ProgressView",
      "bar_style": "success",
      "description": "100%",
      "description_tooltip": null,
      "layout": "IPY_MODEL_61120ae86f3b409997341a81bb1c0014",
      "max": 576927,
      "min": 0,
      "orientation": "horizontal",
      "style": "IPY_MODEL_e4090cb67b574c01be582aa4baafa279",
      "value": 576927
     }
    },
    "f38facad734a4d74b268e601263b0474": {
     "model_module": "@jupyter-widgets/controls",
     "model_name": "HBoxModel",
     "state": {
      "_dom_classes": [],
      "_model_module": "@jupyter-widgets/controls",
      "_model_module_version": "1.5.0",
      "_model_name": "HBoxModel",
      "_view_count": null,
      "_view_module": "@jupyter-widgets/controls",
      "_view_module_version": "1.5.0",
      "_view_name": "HBoxView",
      "box_style": "",
      "children": [
       "IPY_MODEL_271564c3f98647159c4c3263321dc1bf",
       "IPY_MODEL_a9c38c762c9545a6befaf5c91fdca790"
      ],
      "layout": "IPY_MODEL_f42ae0580b774798809e4bc9c67701d4"
     }
    },
    "f42ae0580b774798809e4bc9c67701d4": {
     "model_module": "@jupyter-widgets/base",
     "model_name": "LayoutModel",
     "state": {
      "_model_module": "@jupyter-widgets/base",
      "_model_module_version": "1.2.0",
      "_model_name": "LayoutModel",
      "_view_count": null,
      "_view_module": "@jupyter-widgets/base",
      "_view_module_version": "1.2.0",
      "_view_name": "LayoutView",
      "align_content": null,
      "align_items": null,
      "align_self": null,
      "border": null,
      "bottom": null,
      "display": null,
      "flex": null,
      "flex_flow": null,
      "grid_area": null,
      "grid_auto_columns": null,
      "grid_auto_flow": null,
      "grid_auto_rows": null,
      "grid_column": null,
      "grid_gap": null,
      "grid_row": null,
      "grid_template_areas": null,
      "grid_template_columns": null,
      "grid_template_rows": null,
      "height": null,
      "justify_content": null,
      "justify_items": null,
      "left": null,
      "margin": null,
      "max_height": null,
      "max_width": null,
      "min_height": null,
      "min_width": null,
      "object_fit": null,
      "object_position": null,
      "order": null,
      "overflow": null,
      "overflow_x": null,
      "overflow_y": null,
      "padding": null,
      "right": null,
      "top": null,
      "visibility": null,
      "width": null
     }
    }
   }
  }
 },
 "nbformat": 4,
 "nbformat_minor": 1
}
