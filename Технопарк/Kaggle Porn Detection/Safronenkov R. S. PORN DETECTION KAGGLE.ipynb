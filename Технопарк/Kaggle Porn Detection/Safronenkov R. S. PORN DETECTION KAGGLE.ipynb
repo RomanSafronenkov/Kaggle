{
 "cells": [
  {
   "cell_type": "markdown",
   "metadata": {},
   "source": [
    "<font color='black' size=6 face='Times New Roman'>Решение соревнования kaggle \"Porn Detection\" by <b>Safronenkov R. S.</b></font>"
   ]
  },
  {
   "cell_type": "code",
   "execution_count": 1,
   "metadata": {},
   "outputs": [
    {
     "name": "stderr",
     "output_type": "stream",
     "text": [
      "[nltk_data] Downloading package stopwords to\n",
      "[nltk_data]     C:\\Users\\Asus\\AppData\\Roaming\\nltk_data...\n",
      "[nltk_data]   Package stopwords is already up-to-date!\n"
     ]
    }
   ],
   "source": [
    "import numpy as np\n",
    "import pandas as pd\n",
    "import matplotlib.pyplot as plt\n",
    "plt.style.use('ggplot')\n",
    "\n",
    "import re\n",
    "import nltk\n",
    "nltk.download('stopwords')\n",
    "import pymorphy2\n",
    "from collections import Counter\n",
    "\n",
    "from sklearn.feature_extraction.text import CountVectorizer, TfidfVectorizer\n",
    "from sklearn.naive_bayes import MultinomialNB\n",
    "from sklearn.ensemble import RandomForestClassifier, VotingClassifier\n",
    "from sklearn.linear_model import LogisticRegression\n",
    "from sklearn.metrics import f1_score\n",
    "from sklearn.pipeline import Pipeline, FeatureUnion\n",
    "from sklearn.base import TransformerMixin\n",
    "from sklearn.model_selection import train_test_split\n",
    "\n",
    "from tqdm import notebook"
   ]
  },
  {
   "cell_type": "code",
   "execution_count": 2,
   "metadata": {},
   "outputs": [],
   "source": [
    "seed = 5 # оно тоже дало свой прирост\n",
    "np.random.seed(seed)"
   ]
  },
  {
   "cell_type": "code",
   "execution_count": 3,
   "metadata": {},
   "outputs": [],
   "source": [
    "def tokenize_text(text): # простой токенизатор, без знаков препинания\n",
    "    return re.findall(r'[\\w]+', text.lower())\n",
    "\n",
    "def tokenize_corpus(corpus): # для удобства токенизации всего корпуса\n",
    "    return [tokenize_text(text) for text in notebook.tqdm(corpus)]\n",
    "\n",
    "def join_tokenized_sentences(tokenized_sentences): # соединить токенизированный корпус обратно\n",
    "    sentence_list = []\n",
    "    for doc in notebook.tqdm(tokenized_sentences):\n",
    "        sentence = str()\n",
    "        for token in doc:\n",
    "            sentence += token + ' '\n",
    "        sentence_list.append(sentence.rstrip())\n",
    "    return sentence_list\n",
    "\n",
    "def lemmatize(token): # лемматизация с использованием pymorphy2\n",
    "    if lemmatizer.word_is_known(token):\n",
    "        if token not in lemmatizer_cache:\n",
    "            lemmatizer_cache[token] = lemmatizer.parse(token)[0].normal_form\n",
    "        return lemmatizer_cache[token]\n",
    "    return token"
   ]
  },
  {
   "cell_type": "code",
   "execution_count": 4,
   "metadata": {},
   "outputs": [
    {
     "data": {
      "text/html": [
       "<div>\n",
       "<style scoped>\n",
       "    .dataframe tbody tr th:only-of-type {\n",
       "        vertical-align: middle;\n",
       "    }\n",
       "\n",
       "    .dataframe tbody tr th {\n",
       "        vertical-align: top;\n",
       "    }\n",
       "\n",
       "    .dataframe thead th {\n",
       "        text-align: right;\n",
       "    }\n",
       "</style>\n",
       "<table border=\"1\" class=\"dataframe\">\n",
       "  <thead>\n",
       "    <tr style=\"text-align: right;\">\n",
       "      <th></th>\n",
       "      <th>id</th>\n",
       "      <th>url</th>\n",
       "      <th>title</th>\n",
       "      <th>target</th>\n",
       "    </tr>\n",
       "  </thead>\n",
       "  <tbody>\n",
       "    <tr>\n",
       "      <th>0</th>\n",
       "      <td>0</td>\n",
       "      <td>m.kp.md</td>\n",
       "      <td>Экс-министр экономики Молдовы - главе МИДЭИ, ц...</td>\n",
       "      <td>False</td>\n",
       "    </tr>\n",
       "    <tr>\n",
       "      <th>1</th>\n",
       "      <td>1</td>\n",
       "      <td>www.kp.by</td>\n",
       "      <td>Эта песня стала известна многим телезрителям б...</td>\n",
       "      <td>False</td>\n",
       "    </tr>\n",
       "    <tr>\n",
       "      <th>2</th>\n",
       "      <td>2</td>\n",
       "      <td>fanserials.tv</td>\n",
       "      <td>Банши 4 сезон 2 серия Бремя красоты смотреть о...</td>\n",
       "      <td>False</td>\n",
       "    </tr>\n",
       "    <tr>\n",
       "      <th>3</th>\n",
       "      <td>3</td>\n",
       "      <td>colorbox.spb.ru</td>\n",
       "      <td>Не Беси Меня Картинки</td>\n",
       "      <td>False</td>\n",
       "    </tr>\n",
       "    <tr>\n",
       "      <th>4</th>\n",
       "      <td>4</td>\n",
       "      <td>tula-sport.ru</td>\n",
       "      <td>В Новомосковске сыграют следж-хоккеисты алекси...</td>\n",
       "      <td>False</td>\n",
       "    </tr>\n",
       "  </tbody>\n",
       "</table>\n",
       "</div>"
      ],
      "text/plain": [
       "   id              url                                              title  \\\n",
       "0   0          m.kp.md  Экс-министр экономики Молдовы - главе МИДЭИ, ц...   \n",
       "1   1        www.kp.by  Эта песня стала известна многим телезрителям б...   \n",
       "2   2    fanserials.tv  Банши 4 сезон 2 серия Бремя красоты смотреть о...   \n",
       "3   3  colorbox.spb.ru                              Не Беси Меня Картинки   \n",
       "4   4    tula-sport.ru  В Новомосковске сыграют следж-хоккеисты алекси...   \n",
       "\n",
       "   target  \n",
       "0   False  \n",
       "1   False  \n",
       "2   False  \n",
       "3   False  \n",
       "4   False  "
      ]
     },
     "execution_count": 4,
     "metadata": {},
     "output_type": "execute_result"
    }
   ],
   "source": [
    "df_train = pd.read_csv(\"./data/train.csv\")\n",
    "\n",
    "df_train.head()"
   ]
  },
  {
   "cell_type": "code",
   "execution_count": 5,
   "metadata": {},
   "outputs": [
    {
     "data": {
      "text/html": [
       "<div>\n",
       "<style scoped>\n",
       "    .dataframe tbody tr th:only-of-type {\n",
       "        vertical-align: middle;\n",
       "    }\n",
       "\n",
       "    .dataframe tbody tr th {\n",
       "        vertical-align: top;\n",
       "    }\n",
       "\n",
       "    .dataframe thead th {\n",
       "        text-align: right;\n",
       "    }\n",
       "</style>\n",
       "<table border=\"1\" class=\"dataframe\">\n",
       "  <thead>\n",
       "    <tr style=\"text-align: right;\">\n",
       "      <th></th>\n",
       "      <th>id</th>\n",
       "      <th>url</th>\n",
       "      <th>title</th>\n",
       "    </tr>\n",
       "  </thead>\n",
       "  <tbody>\n",
       "    <tr>\n",
       "      <th>0</th>\n",
       "      <td>135309</td>\n",
       "      <td>www.kommersant.ru</td>\n",
       "      <td>Шестой кассационный суд в Самаре начнет работу...</td>\n",
       "    </tr>\n",
       "    <tr>\n",
       "      <th>1</th>\n",
       "      <td>135310</td>\n",
       "      <td>urexpert.online</td>\n",
       "      <td>Что такое индексация алиментов, кем и в каких ...</td>\n",
       "    </tr>\n",
       "    <tr>\n",
       "      <th>2</th>\n",
       "      <td>135311</td>\n",
       "      <td>imperimeha.ru</td>\n",
       "      <td>Женщинам | Империя Меха - Part 12</td>\n",
       "    </tr>\n",
       "    <tr>\n",
       "      <th>3</th>\n",
       "      <td>135312</td>\n",
       "      <td>national-porn.com</td>\n",
       "      <td>Небритые, волосатые киски: Порно всех стран и ...</td>\n",
       "    </tr>\n",
       "    <tr>\n",
       "      <th>4</th>\n",
       "      <td>135313</td>\n",
       "      <td>2gis.ru</td>\n",
       "      <td>67</td>\n",
       "    </tr>\n",
       "  </tbody>\n",
       "</table>\n",
       "</div>"
      ],
      "text/plain": [
       "       id                url  \\\n",
       "0  135309  www.kommersant.ru   \n",
       "1  135310    urexpert.online   \n",
       "2  135311      imperimeha.ru   \n",
       "3  135312  national-porn.com   \n",
       "4  135313            2gis.ru   \n",
       "\n",
       "                                               title  \n",
       "0  Шестой кассационный суд в Самаре начнет работу...  \n",
       "1  Что такое индексация алиментов, кем и в каких ...  \n",
       "2                  Женщинам | Империя Меха - Part 12  \n",
       "3  Небритые, волосатые киски: Порно всех стран и ...  \n",
       "4                                                 67  "
      ]
     },
     "execution_count": 5,
     "metadata": {},
     "output_type": "execute_result"
    }
   ],
   "source": [
    "test_df = pd.read_csv(\"./data/test.csv\")\n",
    "\n",
    "test_df.head()"
   ]
  },
  {
   "cell_type": "code",
   "execution_count": 6,
   "metadata": {},
   "outputs": [],
   "source": [
    "train_df, val_df, tar_train, tar_val = train_test_split(df_train.drop('target', axis=1), df_train.target,\n",
    "                                                  test_size=0.2, random_state=seed)"
   ]
  },
  {
   "cell_type": "code",
   "execution_count": 7,
   "metadata": {},
   "outputs": [],
   "source": [
    "train_df = train_df.join(tar_train)\n",
    "val_df = val_df.join(tar_val)"
   ]
  },
  {
   "cell_type": "code",
   "execution_count": 8,
   "metadata": {},
   "outputs": [
    {
     "data": {
      "text/plain": [
       "((108247, 4), (27062, 4))"
      ]
     },
     "execution_count": 8,
     "metadata": {},
     "output_type": "execute_result"
    }
   ],
   "source": [
    "train_df.shape, val_df.shape"
   ]
  },
  {
   "cell_type": "code",
   "execution_count": 9,
   "metadata": {},
   "outputs": [
    {
     "data": {
      "image/png": "[encoded data removed]",
      "text/plain": [
       "<Figure size 1382.4x777.6 with 1 Axes>"
      ]
     },
     "metadata": {},
     "output_type": "display_data"
    }
   ],
   "source": [
    "train_df.title.str.len().hist(bins=400, figsize=(19.20, 10.80))\n",
    "plt.show()"
   ]
  },
  {
   "cell_type": "markdown",
   "metadata": {},
   "source": [
    "<font color='black' size=6 face='Times New Roman'><b>Токенизация</b></font>"
   ]
  },
  {
   "cell_type": "code",
   "execution_count": 10,
   "metadata": {},
   "outputs": [
    {
     "data": {
      "text/plain": [
       "False    94958\n",
       "True     13289\n",
       "Name: target, dtype: int64"
      ]
     },
     "execution_count": 10,
     "metadata": {},
     "output_type": "execute_result"
    }
   ],
   "source": [
    "train_df[\"target\"].value_counts()"
   ]
  },
  {
   "cell_type": "code",
   "execution_count": 11,
   "metadata": {},
   "outputs": [
    {
     "data": {
      "text/plain": [
       "array(['Уточнение запроса поиска маршрута',\n",
       "       'Эбби Грин - Недотрога читать онлайн',\n",
       "       'Как сделать домик для детей своими руками. Детский домик своими руками. Фото и идеи',\n",
       "       ..., '10 признаков хорошего детского гастроэнтеролога',\n",
       "       'Слава героя и поэта в сравнении с заслугой лесовода тускнеет. Ф. Шиллер',\n",
       "       'Куртки для мальчиков — страница 3, Дочки и Сыночки'], dtype=object)"
      ]
     },
     "execution_count": 11,
     "metadata": {},
     "output_type": "execute_result"
    }
   ],
   "source": [
    "corpus_train = train_df.title.values\n",
    "corpus_val = val_df.title.values\n",
    "corpus_test = test_df.title.values\n",
    "corpus_train"
   ]
  },
  {
   "cell_type": "code",
   "execution_count": 12,
   "metadata": {},
   "outputs": [
    {
     "data": {
      "application/vnd.jupyter.widget-view+json": {
       "model_id": "31d993f3870d4628b049756fd98914a3",
       "version_major": 2,
       "version_minor": 0
      },
      "text/plain": [
       "HBox(children=(FloatProgress(value=0.0, max=108247.0), HTML(value='')))"
      ]
     },
     "metadata": {},
     "output_type": "display_data"
    },
    {
     "name": "stdout",
     "output_type": "stream",
     "text": [
      "\n"
     ]
    },
    {
     "data": {
      "application/vnd.jupyter.widget-view+json": {
       "model_id": "3208455ac17c4ffe94795b49d7c5fbcc",
       "version_major": 2,
       "version_minor": 0
      },
      "text/plain": [
       "HBox(children=(FloatProgress(value=0.0, max=27062.0), HTML(value='')))"
      ]
     },
     "metadata": {},
     "output_type": "display_data"
    },
    {
     "name": "stdout",
     "output_type": "stream",
     "text": [
      "\n"
     ]
    },
    {
     "data": {
      "application/vnd.jupyter.widget-view+json": {
       "model_id": "7bc60a82b5e849a186867d71269b407a",
       "version_major": 2,
       "version_minor": 0
      },
      "text/plain": [
       "HBox(children=(FloatProgress(value=0.0, max=165378.0), HTML(value='')))"
      ]
     },
     "metadata": {},
     "output_type": "display_data"
    },
    {
     "name": "stdout",
     "output_type": "stream",
     "text": [
      "\n"
     ]
    }
   ],
   "source": [
    "docs_train = tokenize_corpus(corpus_train)\n",
    "docs_val = tokenize_corpus(corpus_val)\n",
    "docs_test = tokenize_corpus(corpus_test)"
   ]
  },
  {
   "cell_type": "markdown",
   "metadata": {},
   "source": [
    "<font color='black' size=6 face='Times New Roman'><b>Стоп слова</b></font>"
   ]
  },
  {
   "cell_type": "code",
   "execution_count": 13,
   "metadata": {},
   "outputs": [
    {
     "data": {
      "application/vnd.jupyter.widget-view+json": {
       "model_id": "de5280e7d41445f9bd5b741fdf4f25a9",
       "version_major": 2,
       "version_minor": 0
      },
      "text/plain": [
       "HBox(children=(FloatProgress(value=0.0, max=108247.0), HTML(value='')))"
      ]
     },
     "metadata": {},
     "output_type": "display_data"
    },
    {
     "name": "stdout",
     "output_type": "stream",
     "text": [
      "\n"
     ]
    }
   ],
   "source": [
    "occurence = Counter()\n",
    "\n",
    "for doc in notebook.tqdm(docs_train):\n",
    "    for token in doc:\n",
    "        occurence[token] += 1"
   ]
  },
  {
   "cell_type": "code",
   "execution_count": 14,
   "metadata": {},
   "outputs": [
    {
     "data": {
      "text/plain": [
       "[('в', 30076),\n",
       " ('на', 18324),\n",
       " ('и', 18275),\n",
       " ('ru', 11271),\n",
       " ('онлайн', 9664),\n",
       " ('с', 8968),\n",
       " ('для', 8064),\n",
       " ('по', 6781),\n",
       " ('бесплатно', 6648),\n",
       " ('скачать', 6190),\n",
       " ('1', 5592),\n",
       " ('mail', 5446),\n",
       " ('2', 5123),\n",
       " ('купить', 5085),\n",
       " ('фото', 5073),\n",
       " ('страница', 4645),\n",
       " ('4', 4577),\n",
       " ('смотреть', 4489),\n",
       " ('от', 4266),\n",
       " ('поиск', 4222)]"
      ]
     },
     "execution_count": 14,
     "metadata": {},
     "output_type": "execute_result"
    }
   ],
   "source": [
    "occurence.most_common(20)"
   ]
  },
  {
   "cell_type": "markdown",
   "metadata": {},
   "source": [
    "<font color='black' size=6 face='Times New Roman'><b>Лемматизация</b></font>"
   ]
  },
  {
   "cell_type": "code",
   "execution_count": 15,
   "metadata": {},
   "outputs": [],
   "source": [
    "stopwords = nltk.corpus.stopwords.words('russian')\n",
    "stopwords.extend(nltk.corpus.stopwords.words('english'))\n",
    "stopwords_set = set(stopwords)"
   ]
  },
  {
   "cell_type": "code",
   "execution_count": 16,
   "metadata": {},
   "outputs": [],
   "source": [
    "lemmatizer = pymorphy2.MorphAnalyzer()"
   ]
  },
  {
   "cell_type": "code",
   "execution_count": 17,
   "metadata": {},
   "outputs": [
    {
     "data": {
      "application/vnd.jupyter.widget-view+json": {
       "model_id": "fdb34588e2a946e29cf364f77b683eaa",
       "version_major": 2,
       "version_minor": 0
      },
      "text/plain": [
       "HBox(children=(FloatProgress(value=0.0, max=108247.0), HTML(value='')))"
      ]
     },
     "metadata": {},
     "output_type": "display_data"
    },
    {
     "name": "stdout",
     "output_type": "stream",
     "text": [
      "\n"
     ]
    }
   ],
   "source": [
    "lemmatizer_cache = {}\n",
    "lemmatized_docs_train = [[lemmatize(token) for token in text] for text in notebook.tqdm(docs_train)]\n",
    "\n",
    "cleared_docs_train = [[token for token in text if token not in stopwords_set] for text in lemmatized_docs_train]"
   ]
  },
  {
   "cell_type": "code",
   "execution_count": 18,
   "metadata": {},
   "outputs": [
    {
     "data": {
      "application/vnd.jupyter.widget-view+json": {
       "model_id": "be4f530895074d7aa50d30308e53e3f1",
       "version_major": 2,
       "version_minor": 0
      },
      "text/plain": [
       "HBox(children=(FloatProgress(value=0.0, max=27062.0), HTML(value='')))"
      ]
     },
     "metadata": {},
     "output_type": "display_data"
    },
    {
     "name": "stdout",
     "output_type": "stream",
     "text": [
      "\n"
     ]
    }
   ],
   "source": [
    "lemmatizer_cache = {}\n",
    "lemmatized_docs_val = [[lemmatize(token) for token in text] for text in notebook.tqdm(docs_val)]\n",
    "\n",
    "cleared_docs_val = [[token for token in text if token not in stopwords_set] for text in lemmatized_docs_val]"
   ]
  },
  {
   "cell_type": "code",
   "execution_count": 19,
   "metadata": {},
   "outputs": [
    {
     "data": {
      "application/vnd.jupyter.widget-view+json": {
       "model_id": "daef022b436f45e8a200ab2a0967651f",
       "version_major": 2,
       "version_minor": 0
      },
      "text/plain": [
       "HBox(children=(FloatProgress(value=0.0, max=165378.0), HTML(value='')))"
      ]
     },
     "metadata": {},
     "output_type": "display_data"
    },
    {
     "name": "stdout",
     "output_type": "stream",
     "text": [
      "\n"
     ]
    }
   ],
   "source": [
    "lemmatizer_cache = {}\n",
    "lemmatized_docs_test = [[lemmatize(token) for token in text] for text in notebook.tqdm(docs_test)]\n",
    "\n",
    "cleared_docs_test = [[token for token in text if token not in stopwords_set] for text in lemmatized_docs_test]"
   ]
  },
  {
   "cell_type": "code",
   "execution_count": 20,
   "metadata": {},
   "outputs": [
    {
     "data": {
      "text/plain": [
       "['уточнение', 'запрос', 'поиск', 'маршрут']"
      ]
     },
     "execution_count": 20,
     "metadata": {},
     "output_type": "execute_result"
    }
   ],
   "source": [
    "cleared_docs_train[0]"
   ]
  },
  {
   "cell_type": "code",
   "execution_count": 21,
   "metadata": {},
   "outputs": [
    {
     "data": {
      "text/plain": [
       "['скин', 'каталог', 'файл', 'dav1dmods', 'мода', 'gta', 'sa']"
      ]
     },
     "execution_count": 21,
     "metadata": {},
     "output_type": "execute_result"
    }
   ],
   "source": [
    "cleared_docs_val[0]"
   ]
  },
  {
   "cell_type": "code",
   "execution_count": 22,
   "metadata": {},
   "outputs": [
    {
     "data": {
      "text/html": [
       "<div>\n",
       "<style scoped>\n",
       "    .dataframe tbody tr th:only-of-type {\n",
       "        vertical-align: middle;\n",
       "    }\n",
       "\n",
       "    .dataframe tbody tr th {\n",
       "        vertical-align: top;\n",
       "    }\n",
       "\n",
       "    .dataframe thead th {\n",
       "        text-align: right;\n",
       "    }\n",
       "</style>\n",
       "<table border=\"1\" class=\"dataframe\">\n",
       "  <thead>\n",
       "    <tr style=\"text-align: right;\">\n",
       "      <th></th>\n",
       "      <th>id</th>\n",
       "      <th>url</th>\n",
       "      <th>title</th>\n",
       "      <th>target</th>\n",
       "    </tr>\n",
       "  </thead>\n",
       "  <tbody>\n",
       "    <tr>\n",
       "      <th>78684</th>\n",
       "      <td>78684</td>\n",
       "      <td>www.yaplakal.com</td>\n",
       "      <td>ЯПлакалъ - Профиль пользователя</td>\n",
       "      <td>False</td>\n",
       "    </tr>\n",
       "    <tr>\n",
       "      <th>54131</th>\n",
       "      <td>54131</td>\n",
       "      <td>mail.ru</td>\n",
       "      <td>Audi показала новый кроссовер – он похож на сп...</td>\n",
       "      <td>False</td>\n",
       "    </tr>\n",
       "    <tr>\n",
       "      <th>129470</th>\n",
       "      <td>129470</td>\n",
       "      <td>www.mamba.ru</td>\n",
       "      <td>Владимир, 44, Воронеж</td>\n",
       "      <td>False</td>\n",
       "    </tr>\n",
       "    <tr>\n",
       "      <th>113652</th>\n",
       "      <td>113652</td>\n",
       "      <td>rutorgame.org</td>\n",
       "      <td>Скачать Severance: Blade of Darkness торрент б...</td>\n",
       "      <td>False</td>\n",
       "    </tr>\n",
       "    <tr>\n",
       "      <th>126121</th>\n",
       "      <td>126121</td>\n",
       "      <td>uldelo.ru</td>\n",
       "      <td>Деловое обозрение | Материалы тэга афиша</td>\n",
       "      <td>False</td>\n",
       "    </tr>\n",
       "  </tbody>\n",
       "</table>\n",
       "</div>"
      ],
      "text/plain": [
       "            id               url  \\\n",
       "78684    78684  www.yaplakal.com   \n",
       "54131    54131           mail.ru   \n",
       "129470  129470      www.mamba.ru   \n",
       "113652  113652     rutorgame.org   \n",
       "126121  126121         uldelo.ru   \n",
       "\n",
       "                                                    title  target  \n",
       "78684                     ЯПлакалъ - Профиль пользователя   False  \n",
       "54131   Audi показала новый кроссовер – он похож на сп...   False  \n",
       "129470                              Владимир, 44, Воронеж   False  \n",
       "113652  Скачать Severance: Blade of Darkness торрент б...   False  \n",
       "126121           Деловое обозрение | Материалы тэга афиша   False  "
      ]
     },
     "execution_count": 22,
     "metadata": {},
     "output_type": "execute_result"
    }
   ],
   "source": [
    "train_df.sample(5)"
   ]
  },
  {
   "cell_type": "markdown",
   "metadata": {},
   "source": [
    "<font color='black' size=5 face='Times New Roman'>Соединяю разделенные предложения обратно, для удобства их передачи в pipeline</font>"
   ]
  },
  {
   "cell_type": "code",
   "execution_count": 23,
   "metadata": {},
   "outputs": [
    {
     "data": {
      "application/vnd.jupyter.widget-view+json": {
       "model_id": "f2947ab210ed4098bac0cb43450378e7",
       "version_major": 2,
       "version_minor": 0
      },
      "text/plain": [
       "HBox(children=(FloatProgress(value=0.0, max=108247.0), HTML(value='')))"
      ]
     },
     "metadata": {},
     "output_type": "display_data"
    },
    {
     "name": "stdout",
     "output_type": "stream",
     "text": [
      "\n"
     ]
    },
    {
     "data": {
      "application/vnd.jupyter.widget-view+json": {
       "model_id": "9cf03971947f413bab78f07953727760",
       "version_major": 2,
       "version_minor": 0
      },
      "text/plain": [
       "HBox(children=(FloatProgress(value=0.0, max=27062.0), HTML(value='')))"
      ]
     },
     "metadata": {},
     "output_type": "display_data"
    },
    {
     "name": "stdout",
     "output_type": "stream",
     "text": [
      "\n"
     ]
    },
    {
     "data": {
      "application/vnd.jupyter.widget-view+json": {
       "model_id": "6e9007dc43f44f60a62a2800cd655e92",
       "version_major": 2,
       "version_minor": 0
      },
      "text/plain": [
       "HBox(children=(FloatProgress(value=0.0, max=165378.0), HTML(value='')))"
      ]
     },
     "metadata": {},
     "output_type": "display_data"
    },
    {
     "name": "stdout",
     "output_type": "stream",
     "text": [
      "\n"
     ]
    }
   ],
   "source": [
    "sentence_list_train = join_tokenized_sentences(cleared_docs_train)\n",
    "sentence_list_val = join_tokenized_sentences(cleared_docs_val)\n",
    "sentence_list_test = join_tokenized_sentences(cleared_docs_test)"
   ]
  },
  {
   "cell_type": "code",
   "execution_count": 24,
   "metadata": {},
   "outputs": [],
   "source": [
    "train_df['title'] = sentence_list_train\n",
    "val_df['title'] = sentence_list_val\n",
    "test_df['title'] = sentence_list_test"
   ]
  },
  {
   "cell_type": "code",
   "execution_count": 25,
   "metadata": {},
   "outputs": [
    {
     "data": {
      "text/html": [
       "<div>\n",
       "<style scoped>\n",
       "    .dataframe tbody tr th:only-of-type {\n",
       "        vertical-align: middle;\n",
       "    }\n",
       "\n",
       "    .dataframe tbody tr th {\n",
       "        vertical-align: top;\n",
       "    }\n",
       "\n",
       "    .dataframe thead th {\n",
       "        text-align: right;\n",
       "    }\n",
       "</style>\n",
       "<table border=\"1\" class=\"dataframe\">\n",
       "  <thead>\n",
       "    <tr style=\"text-align: right;\">\n",
       "      <th></th>\n",
       "      <th>id</th>\n",
       "      <th>url</th>\n",
       "      <th>title</th>\n",
       "      <th>target</th>\n",
       "    </tr>\n",
       "  </thead>\n",
       "  <tbody>\n",
       "    <tr>\n",
       "      <th>114152</th>\n",
       "      <td>114152</td>\n",
       "      <td>www.orgpage.ru</td>\n",
       "      <td>ломбард около метро текстильщик москва</td>\n",
       "      <td>False</td>\n",
       "    </tr>\n",
       "    <tr>\n",
       "      <th>116116</th>\n",
       "      <td>116116</td>\n",
       "      <td>hdrezkaag.net</td>\n",
       "      <td>смотреть русский фильм боевик бесплатно хороши...</td>\n",
       "      <td>False</td>\n",
       "    </tr>\n",
       "    <tr>\n",
       "      <th>85642</th>\n",
       "      <td>85642</td>\n",
       "      <td>olx.uz</td>\n",
       "      <td>требоваться кассир оператор водитель свой авто...</td>\n",
       "      <td>False</td>\n",
       "    </tr>\n",
       "    <tr>\n",
       "      <th>28143</th>\n",
       "      <td>28143</td>\n",
       "      <td>www.lecheniye-alkogolizma.ru</td>\n",
       "      <td>наркологический клиника наркоздрав</td>\n",
       "      <td>False</td>\n",
       "    </tr>\n",
       "    <tr>\n",
       "      <th>60322</th>\n",
       "      <td>60322</td>\n",
       "      <td>piratam.net</td>\n",
       "      <td>true remembrance истина память vnshiba satomia...</td>\n",
       "      <td>False</td>\n",
       "    </tr>\n",
       "  </tbody>\n",
       "</table>\n",
       "</div>"
      ],
      "text/plain": [
       "            id                           url  \\\n",
       "114152  114152                www.orgpage.ru   \n",
       "116116  116116                 hdrezkaag.net   \n",
       "85642    85642                        olx.uz   \n",
       "28143    28143  www.lecheniye-alkogolizma.ru   \n",
       "60322    60322                   piratam.net   \n",
       "\n",
       "                                                    title  target  \n",
       "114152             ломбард около метро текстильщик москва   False  \n",
       "116116  смотреть русский фильм боевик бесплатно хороши...   False  \n",
       "85642   требоваться кассир оператор водитель свой авто...   False  \n",
       "28143                  наркологический клиника наркоздрав   False  \n",
       "60322   true remembrance истина память vnshiba satomia...   False  "
      ]
     },
     "execution_count": 25,
     "metadata": {},
     "output_type": "execute_result"
    }
   ],
   "source": [
    "train_df.sample(5)"
   ]
  },
  {
   "cell_type": "code",
   "execution_count": 26,
   "metadata": {},
   "outputs": [],
   "source": [
    "y_train = train_df[\"target\"].astype(int).values\n",
    "y_val = val_df[\"target\"].astype(int).values"
   ]
  },
  {
   "cell_type": "markdown",
   "metadata": {},
   "source": [
    "<font color='black' size=6 face='Times New Roman'><b>Обучение модели</b></font>"
   ]
  },
  {
   "cell_type": "code",
   "execution_count": 27,
   "metadata": {},
   "outputs": [],
   "source": [
    "class ColumnExtractor(TransformerMixin): # для того, чтобы сшивать фичи\n",
    "    \n",
    "    def __init__(self, column_name):\n",
    "        self.column_name = column_name\n",
    "    \n",
    "    def fit(self, X, y=None):\n",
    "        return self\n",
    "    \n",
    "    def transform(self, X, y=None):\n",
    "        return X[self.column_name].values"
   ]
  },
  {
   "cell_type": "code",
   "execution_count": 28,
   "metadata": {},
   "outputs": [],
   "source": [
    "model = VotingClassifier(estimators = [('forest', RandomForestClassifier(n_estimators=100,\n",
    "                                                                         min_samples_leaf=1,\n",
    "                                                                         random_state=seed,\n",
    "                                                                         max_features='sqrt', # корень из кол-ва фичей \n",
    "                                                                         n_jobs=-1)),\n",
    "                                       ('logreg', LogisticRegression(solver='liblinear',\n",
    "                                                                     C=5.0,\n",
    "                                                                     random_state=seed)),\n",
    "#                                        ('bayes', MultinomialNB())], # с ним хуже\n",
    "                                      ],\n",
    "                         voting='soft',\n",
    "                         n_jobs=-1)"
   ]
  },
  {
   "cell_type": "code",
   "execution_count": 29,
   "metadata": {},
   "outputs": [],
   "source": [
    "pipeline = Pipeline([\n",
    "    (\n",
    "        'features', \n",
    "        FeatureUnion([\n",
    "            (\n",
    "                'url', \n",
    "                Pipeline([\n",
    "                    ('extractor', ColumnExtractor('url')),\n",
    "                    (\n",
    "                        'vectorizer', \n",
    "                        TfidfVectorizer( # 3-6-граммы, выше 90% и меньше 5 удаляю\n",
    "                            lowercase=True, ngram_range=(3, 6), token_pattern=\"[\\w]+\",\n",
    "                            stop_words=stopwords_set, min_df=5, max_df=0.9, analyzer='char' \n",
    "                        )\n",
    "                    )\n",
    "                ])\n",
    "            ),\n",
    "            (\n",
    "                'title',\n",
    "                Pipeline([\n",
    "                    ('extractor', ColumnExtractor('title')),\n",
    "                    (\n",
    "                        'vectorizer', \n",
    "                        CountVectorizer( # единичные слова, выше 90% и меньше 5 удаляю\n",
    "                            lowercase=True, ngram_range=(1, 1), token_pattern=\"[\\w]+\",\n",
    "                            stop_words=stopwords_set, min_df=5, max_df=0.9\n",
    "                        )\n",
    "                    )\n",
    "                ]),\n",
    "            ),\n",
    "        ])\n",
    "    ),\n",
    "    ('clf', model)\n",
    "])"
   ]
  },
  {
   "cell_type": "code",
   "execution_count": 30,
   "metadata": {},
   "outputs": [
    {
     "name": "stdout",
     "output_type": "stream",
     "text": [
      "Wall time: 2min 24s\n"
     ]
    },
    {
     "data": {
      "text/plain": [
       "Pipeline(steps=[('features',\n",
       "                 FeatureUnion(transformer_list=[('url',\n",
       "                                                 Pipeline(steps=[('extractor',\n",
       "                                                                  <__main__.ColumnExtractor object at 0x0000026499A01CC8>),\n",
       "                                                                 ('vectorizer',\n",
       "                                                                  TfidfVectorizer(analyzer='char',\n",
       "                                                                                  max_df=0.9,\n",
       "                                                                                  min_df=5,\n",
       "                                                                                  ngram_range=(3,\n",
       "                                                                                               6),\n",
       "                                                                                  stop_words={'a',\n",
       "                                                                                              'about',\n",
       "                                                                                              'above',\n",
       "                                                                                              'after',\n",
       "                                                                                              'again',\n",
       "                                                                                              'against',\n",
       "                                                                                              'ain',\n",
       "                                                                                              'all',\n",
       "                                                                                              'am',\n",
       "                                                                                              'an',\n",
       "                                                                                              'and',\n",
       "                                                                                              'any',\n",
       "                                                                                              'are',\n",
       "                                                                                              'aren',\n",
       "                                                                                              \"aren't\",\n",
       "                                                                                              'as...\n",
       "                                                                                              'be',\n",
       "                                                                                              'because',\n",
       "                                                                                              'been',\n",
       "                                                                                              'before',\n",
       "                                                                                              'being',\n",
       "                                                                                              'below',\n",
       "                                                                                              'between',\n",
       "                                                                                              'both',\n",
       "                                                                                              'but',\n",
       "                                                                                              'by',\n",
       "                                                                                              'can',\n",
       "                                                                                              'couldn',\n",
       "                                                                                              \"couldn't\", ...},\n",
       "                                                                                  token_pattern='[\\\\w]+'))]))])),\n",
       "                ('clf',\n",
       "                 VotingClassifier(estimators=[('forest',\n",
       "                                               RandomForestClassifier(max_features='sqrt',\n",
       "                                                                      n_jobs=-1,\n",
       "                                                                      random_state=5)),\n",
       "                                              ('logreg',\n",
       "                                               LogisticRegression(C=5.0,\n",
       "                                                                  random_state=5,\n",
       "                                                                  solver='liblinear'))],\n",
       "                                  n_jobs=-1, voting='soft'))])"
      ]
     },
     "execution_count": 30,
     "metadata": {},
     "output_type": "execute_result"
    }
   ],
   "source": [
    "%%time\n",
    "\n",
    "pipeline.fit(train_df, y_train)"
   ]
  },
  {
   "cell_type": "code",
   "execution_count": 31,
   "metadata": {},
   "outputs": [
    {
     "name": "stdout",
     "output_type": "stream",
     "text": [
      "Train score = 0.998455103809488, val score = 0.9858698851928172\n"
     ]
    }
   ],
   "source": [
    "print('Train score = {}, val score = {}'.format(f1_score(y_train, pipeline.predict(train_df)),\n",
    "                                                f1_score(y_val, pipeline.predict(val_df))))"
   ]
  },
  {
   "cell_type": "markdown",
   "metadata": {},
   "source": [
    "<font color='black' size=6 face='Times New Roman'><b>Submit</b></font>"
   ]
  },
  {
   "cell_type": "code",
   "execution_count": 32,
   "metadata": {},
   "outputs": [],
   "source": [
    "test_df[\"target\"] = pipeline.predict(test_df).astype(bool)\n",
    "\n",
    "test_df[[\"id\", \"target\"]].to_csv(\"./data/submission.csv\", index=False)"
   ]
  },
  {
   "cell_type": "code",
   "execution_count": 33,
   "metadata": {},
   "outputs": [
    {
     "data": {
      "text/html": [
       "<div>\n",
       "<style scoped>\n",
       "    .dataframe tbody tr th:only-of-type {\n",
       "        vertical-align: middle;\n",
       "    }\n",
       "\n",
       "    .dataframe tbody tr th {\n",
       "        vertical-align: top;\n",
       "    }\n",
       "\n",
       "    .dataframe thead th {\n",
       "        text-align: right;\n",
       "    }\n",
       "</style>\n",
       "<table border=\"1\" class=\"dataframe\">\n",
       "  <thead>\n",
       "    <tr style=\"text-align: right;\">\n",
       "      <th></th>\n",
       "      <th>id</th>\n",
       "      <th>url</th>\n",
       "      <th>title</th>\n",
       "      <th>target</th>\n",
       "    </tr>\n",
       "  </thead>\n",
       "  <tbody>\n",
       "    <tr>\n",
       "      <th>71914</th>\n",
       "      <td>207223</td>\n",
       "      <td>risovach.ru</td>\n",
       "      <td>шаблон мемо рисовач ру</td>\n",
       "      <td>False</td>\n",
       "    </tr>\n",
       "    <tr>\n",
       "      <th>66712</th>\n",
       "      <td>202021</td>\n",
       "      <td>olenino.ulavita.ru</td>\n",
       "      <td>сайт свежий бесплатный объявление оленино онла...</td>\n",
       "      <td>False</td>\n",
       "    </tr>\n",
       "    <tr>\n",
       "      <th>112781</th>\n",
       "      <td>248090</td>\n",
       "      <td>www.forumhouse.ru</td>\n",
       "      <td>сборный монолитный перекрытие 2 страница 11 фо...</td>\n",
       "      <td>False</td>\n",
       "    </tr>\n",
       "    <tr>\n",
       "      <th>84248</th>\n",
       "      <td>219557</td>\n",
       "      <td>mail.ru</td>\n",
       "      <td>video mail ru</td>\n",
       "      <td>False</td>\n",
       "    </tr>\n",
       "    <tr>\n",
       "      <th>17480</th>\n",
       "      <td>152789</td>\n",
       "      <td>minsk.deal.by</td>\n",
       "      <td>аренда автомобиль минск карета цена 150 руб ча...</td>\n",
       "      <td>False</td>\n",
       "    </tr>\n",
       "  </tbody>\n",
       "</table>\n",
       "</div>"
      ],
      "text/plain": [
       "            id                 url  \\\n",
       "71914   207223         risovach.ru   \n",
       "66712   202021  olenino.ulavita.ru   \n",
       "112781  248090   www.forumhouse.ru   \n",
       "84248   219557             mail.ru   \n",
       "17480   152789       minsk.deal.by   \n",
       "\n",
       "                                                    title  target  \n",
       "71914                              шаблон мемо рисовач ру   False  \n",
       "66712   сайт свежий бесплатный объявление оленино онла...   False  \n",
       "112781  сборный монолитный перекрытие 2 страница 11 фо...   False  \n",
       "84248                                       video mail ru   False  \n",
       "17480   аренда автомобиль минск карета цена 150 руб ча...   False  "
      ]
     },
     "execution_count": 33,
     "metadata": {},
     "output_type": "execute_result"
    }
   ],
   "source": [
    "test_df[test_df.target == False].sample(5)"
   ]
  },
  {
   "cell_type": "code",
   "execution_count": 34,
   "metadata": {},
   "outputs": [
    {
     "data": {
      "text/plain": [
       "(20017, 4)"
      ]
     },
     "execution_count": 34,
     "metadata": {},
     "output_type": "execute_result"
    }
   ],
   "source": [
    "test_df[test_df.target == True].shape # в лучшей попытке было 20017"
   ]
  },
  {
   "cell_type": "markdown",
   "metadata": {},
   "source": [
    "<font color='black' size=4 face='Times New Roman'>Максимально чего добивался на валидации <b>0.9858698851928172</b>, получилось с помощью классификатора с голосованием, состоящего из <b>случайного леса</b> и <b>логистической регрессии</b> с ослабленной регуляризацией. Увеличение колличества деревьев от 100 и выше, ухудшало модель, видимо делало её слишком сложной, ровно как и увеличение коэффициента C в логистической регрессии. Попытки добавить другие классификаторы не увенчались успехом, Наивный Байес ухудшает модель, а другие (SVM и KNN), работают очень медленно на больших данных. В качестве преобработки я выбрал <b>3-6-граммы для URL и Tfidf</b>, просто слова для <b>Title с CountVectorizer</b>, предварительно лемматизировав и удалив стоп слова. Для Title Tfidf показал худшие результаты, ровно как и использование n-грамм. Сделал <b>word2vec</b> для title, наблюдалось сильное переобучение, при том не было существенных увеличений качества на тренировочной выборке, в связи с этим решил не использовать его.</font>"
   ]
  }
 ],
 "metadata": {
  "kernelspec": {
   "display_name": "Python 3",
   "language": "python",
   "name": "python3"
  },
  "language_info": {
   "codemirror_mode": {
    "name": "ipython",
    "version": 3
   },
   "file_extension": ".py",
   "mimetype": "text/x-python",
   "name": "python",
   "nbconvert_exporter": "python",
   "pygments_lexer": "ipython3",
   "version": "3.7.6"
  }
 },
 "nbformat": 4,
 "nbformat_minor": 2
}
