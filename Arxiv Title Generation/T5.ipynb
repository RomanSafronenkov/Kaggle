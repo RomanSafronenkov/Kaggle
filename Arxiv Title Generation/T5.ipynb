{
 "cells": [
  {
   "cell_type": "markdown",
   "metadata": {},
   "source": [
    "# Arxiv Title Generation"
   ]
  },
  {
   "cell_type": "code",
   "execution_count": 1,
   "metadata": {
    "_cell_guid": "b1076dfc-b9ad-4769-8c92-a6c4dae69d19",
    "_uuid": "8f2839f25d086af736a60e9eeb907d3b93b6e0e5",
    "execution": {
     "iopub.execute_input": "2023-04-04T16:19:18.863413Z",
     "iopub.status.busy": "2023-04-04T16:19:18.862798Z",
     "iopub.status.idle": "2023-04-04T16:19:21.748340Z",
     "shell.execute_reply": "2023-04-04T16:19:21.747186Z",
     "shell.execute_reply.started": "2023-04-04T16:19:18.863354Z"
    }
   },
   "outputs": [],
   "source": [
    "import torch\n",
    "import torch.nn as nn\n",
    "import torch.optim as optim\n",
    "import torch.nn.functional as F\n",
    "import pandas as pd\n",
    "import numpy as np\n",
    "\n",
    "import matplotlib.pyplot as plt\n",
    "import matplotlib.ticker as ticker\n",
    "\n",
    "from tqdm import tqdm\n",
    "\n",
    "import collections\n",
    "import copy\n",
    "import random\n",
    "import math\n",
    "import time\n",
    "import gc\n",
    "\n",
    "def init_random_seed(value=0):\n",
    "    random.seed(value)\n",
    "    np.random.seed(value)\n",
    "    torch.manual_seed(value)\n",
    "    torch.cuda.manual_seed(value)\n",
    "    torch.backends.cudnn.deterministic = True\n",
    "    \n",
    "init_random_seed(1234)"
   ]
  },
  {
   "cell_type": "code",
   "execution_count": 2,
   "metadata": {
    "execution": {
     "iopub.execute_input": "2023-04-03T12:57:34.315789Z",
     "iopub.status.busy": "2023-04-03T12:57:34.314664Z",
     "iopub.status.idle": "2023-04-03T12:57:34.740757Z",
     "shell.execute_reply": "2023-04-03T12:57:34.739703Z",
     "shell.execute_reply.started": "2023-04-03T12:57:34.315739Z"
    }
   },
   "outputs": [],
   "source": [
    "from transformers import AutoTokenizer, AutoModelForSeq2SeqLM\n",
    "MODEL_NAME = \"philschmid/flan-t5-base-samsum\"\n",
    "tokenizer = AutoTokenizer.from_pretrained(MODEL_NAME)"
   ]
  },
  {
   "cell_type": "code",
   "execution_count": 3,
   "metadata": {
    "execution": {
     "iopub.execute_input": "2023-04-03T12:27:32.222924Z",
     "iopub.status.busy": "2023-04-03T12:27:32.222197Z",
     "iopub.status.idle": "2023-04-03T12:27:32.229655Z",
     "shell.execute_reply": "2023-04-03T12:27:32.228459Z",
     "shell.execute_reply.started": "2023-04-03T12:27:32.222884Z"
    }
   },
   "outputs": [],
   "source": [
    "import os\n",
    "os.environ[\"TOKENIZERS_PARALLELISM\"] = \"false\""
   ]
  },
  {
   "cell_type": "code",
   "execution_count": 4,
   "metadata": {
    "execution": {
     "iopub.execute_input": "2023-04-03T12:27:32.232910Z",
     "iopub.status.busy": "2023-04-03T12:27:32.232418Z",
     "iopub.status.idle": "2023-04-03T12:27:32.297918Z",
     "shell.execute_reply": "2023-04-03T12:27:32.296873Z",
     "shell.execute_reply.started": "2023-04-03T12:27:32.232868Z"
    }
   },
   "outputs": [
    {
     "data": {
      "text/plain": [
       "device(type='cuda')"
      ]
     },
     "execution_count": 4,
     "metadata": {},
     "output_type": "execute_result"
    }
   ],
   "source": [
    "device = torch.device('cuda' if torch.cuda.is_available() else 'cpu')\n",
    "device"
   ]
  },
  {
   "cell_type": "markdown",
   "metadata": {},
   "source": [
    "# Load Data"
   ]
  },
  {
   "cell_type": "code",
   "execution_count": 5,
   "metadata": {
    "execution": {
     "iopub.execute_input": "2023-04-03T12:27:32.300455Z",
     "iopub.status.busy": "2023-04-03T12:27:32.299728Z",
     "iopub.status.idle": "2023-04-03T12:27:32.310461Z",
     "shell.execute_reply": "2023-04-03T12:27:32.309479Z",
     "shell.execute_reply.started": "2023-04-03T12:27:32.300417Z"
    }
   },
   "outputs": [
    {
     "data": {
      "text/plain": [
       "T5TokenizerFast(name_or_path='philschmid/flan-t5-base-samsum', vocab_size=32100, model_max_length=512, is_fast=True, padding_side='right', truncation_side='right', special_tokens={'eos_token': '</s>', 'unk_token': '<unk>', 'pad_token': '<pad>', 'additional_special_tokens': ['<extra_id_0>', '<extra_id_1>', '<extra_id_2>', '<extra_id_3>', '<extra_id_4>', '<extra_id_5>', '<extra_id_6>', '<extra_id_7>', '<extra_id_8>', '<extra_id_9>', '<extra_id_10>', '<extra_id_11>', '<extra_id_12>', '<extra_id_13>', '<extra_id_14>', '<extra_id_15>', '<extra_id_16>', '<extra_id_17>', '<extra_id_18>', '<extra_id_19>', '<extra_id_20>', '<extra_id_21>', '<extra_id_22>', '<extra_id_23>', '<extra_id_24>', '<extra_id_25>', '<extra_id_26>', '<extra_id_27>', '<extra_id_28>', '<extra_id_29>', '<extra_id_30>', '<extra_id_31>', '<extra_id_32>', '<extra_id_33>', '<extra_id_34>', '<extra_id_35>', '<extra_id_36>', '<extra_id_37>', '<extra_id_38>', '<extra_id_39>', '<extra_id_40>', '<extra_id_41>', '<extra_id_42>', '<extra_id_43>', '<extra_id_44>', '<extra_id_45>', '<extra_id_46>', '<extra_id_47>', '<extra_id_48>', '<extra_id_49>', '<extra_id_50>', '<extra_id_51>', '<extra_id_52>', '<extra_id_53>', '<extra_id_54>', '<extra_id_55>', '<extra_id_56>', '<extra_id_57>', '<extra_id_58>', '<extra_id_59>', '<extra_id_60>', '<extra_id_61>', '<extra_id_62>', '<extra_id_63>', '<extra_id_64>', '<extra_id_65>', '<extra_id_66>', '<extra_id_67>', '<extra_id_68>', '<extra_id_69>', '<extra_id_70>', '<extra_id_71>', '<extra_id_72>', '<extra_id_73>', '<extra_id_74>', '<extra_id_75>', '<extra_id_76>', '<extra_id_77>', '<extra_id_78>', '<extra_id_79>', '<extra_id_80>', '<extra_id_81>', '<extra_id_82>', '<extra_id_83>', '<extra_id_84>', '<extra_id_85>', '<extra_id_86>', '<extra_id_87>', '<extra_id_88>', '<extra_id_89>', '<extra_id_90>', '<extra_id_91>', '<extra_id_92>', '<extra_id_93>', '<extra_id_94>', '<extra_id_95>', '<extra_id_96>', '<extra_id_97>', '<extra_id_98>', '<extra_id_99>']})"
      ]
     },
     "execution_count": 5,
     "metadata": {},
     "output_type": "execute_result"
    }
   ],
   "source": [
    "tokenizer"
   ]
  },
  {
   "cell_type": "code",
   "execution_count": 6,
   "metadata": {
    "execution": {
     "iopub.execute_input": "2023-04-03T12:27:32.313493Z",
     "iopub.status.busy": "2023-04-03T12:27:32.312455Z",
     "iopub.status.idle": "2023-04-03T12:27:34.797483Z",
     "shell.execute_reply": "2023-04-03T12:27:34.796359Z",
     "shell.execute_reply.started": "2023-04-03T12:27:32.313454Z"
    }
   },
   "outputs": [
    {
     "name": "stdout",
     "output_type": "stream",
     "text": [
      "(135000, 2)\n"
     ]
    },
    {
     "data": {
      "text/html": [
       "<div>\n",
       "<style scoped>\n",
       "    .dataframe tbody tr th:only-of-type {\n",
       "        vertical-align: middle;\n",
       "    }\n",
       "\n",
       "    .dataframe tbody tr th {\n",
       "        vertical-align: top;\n",
       "    }\n",
       "\n",
       "    .dataframe thead th {\n",
       "        text-align: right;\n",
       "    }\n",
       "</style>\n",
       "<table border=\"1\" class=\"dataframe\">\n",
       "  <thead>\n",
       "    <tr style=\"text-align: right;\">\n",
       "      <th></th>\n",
       "      <th>abstract</th>\n",
       "      <th>title</th>\n",
       "    </tr>\n",
       "  </thead>\n",
       "  <tbody>\n",
       "    <tr>\n",
       "      <th>0</th>\n",
       "      <td>we consider the problem of utility maximizatio...</td>\n",
       "      <td>on optimal investment with processes of long o...</td>\n",
       "    </tr>\n",
       "    <tr>\n",
       "      <th>1</th>\n",
       "      <td>in this paper we provide an explicit formula f...</td>\n",
       "      <td>boolean complexes for ferrers graphs</td>\n",
       "    </tr>\n",
       "    <tr>\n",
       "      <th>2</th>\n",
       "      <td>kinesin-5, also known as eg5 in vertebrates is...</td>\n",
       "      <td>relative velocity of sliding of microtubules b...</td>\n",
       "    </tr>\n",
       "    <tr>\n",
       "      <th>3</th>\n",
       "      <td>we discuss the transition paths in a coupled b...</td>\n",
       "      <td>bifurcation of transition paths induced by cou...</td>\n",
       "    </tr>\n",
       "    <tr>\n",
       "      <th>4</th>\n",
       "      <td>two types of room temperature detectors of ter...</td>\n",
       "      <td>all-electric detectors of the polarization sta...</td>\n",
       "    </tr>\n",
       "  </tbody>\n",
       "</table>\n",
       "</div>"
      ],
      "text/plain": [
       "                                            abstract  \\\n",
       "0  we consider the problem of utility maximizatio...   \n",
       "1  in this paper we provide an explicit formula f...   \n",
       "2  kinesin-5, also known as eg5 in vertebrates is...   \n",
       "3  we discuss the transition paths in a coupled b...   \n",
       "4  two types of room temperature detectors of ter...   \n",
       "\n",
       "                                               title  \n",
       "0  on optimal investment with processes of long o...  \n",
       "1               boolean complexes for ferrers graphs  \n",
       "2  relative velocity of sliding of microtubules b...  \n",
       "3  bifurcation of transition paths induced by cou...  \n",
       "4  all-electric detectors of the polarization sta...  "
      ]
     },
     "execution_count": 6,
     "metadata": {},
     "output_type": "execute_result"
    }
   ],
   "source": [
    "data = pd.read_csv('data/train.csv')\n",
    "print(data.shape)\n",
    "data.head()"
   ]
  },
  {
   "cell_type": "code",
   "execution_count": 7,
   "metadata": {
    "execution": {
     "iopub.execute_input": "2023-04-03T12:27:34.800593Z",
     "iopub.status.busy": "2023-04-03T12:27:34.798829Z",
     "iopub.status.idle": "2023-04-03T12:27:34.898098Z",
     "shell.execute_reply": "2023-04-03T12:27:34.897073Z",
     "shell.execute_reply.started": "2023-04-03T12:27:34.800540Z"
    }
   },
   "outputs": [],
   "source": [
    "data = data[~(data['abstract'].apply(len) <= data['title'].apply(len))].reset_index(drop=True)"
   ]
  },
  {
   "cell_type": "code",
   "execution_count": 8,
   "metadata": {
    "execution": {
     "iopub.execute_input": "2023-04-03T12:27:34.899755Z",
     "iopub.status.busy": "2023-04-03T12:27:34.899385Z",
     "iopub.status.idle": "2023-04-03T12:27:35.222481Z",
     "shell.execute_reply": "2023-04-03T12:27:35.221417Z",
     "shell.execute_reply.started": "2023-04-03T12:27:34.899716Z"
    }
   },
   "outputs": [],
   "source": [
    "data = data.drop_duplicates().reset_index(drop=True)"
   ]
  },
  {
   "cell_type": "code",
   "execution_count": 9,
   "metadata": {
    "execution": {
     "iopub.execute_input": "2023-04-03T12:27:35.227405Z",
     "iopub.status.busy": "2023-04-03T12:27:35.227107Z",
     "iopub.status.idle": "2023-04-03T12:27:35.422459Z",
     "shell.execute_reply": "2023-04-03T12:27:35.421384Z",
     "shell.execute_reply.started": "2023-04-03T12:27:35.227378Z"
    }
   },
   "outputs": [],
   "source": [
    "data = data[~(data['abstract'].apply(lambda x: 'withdrawn' in x.lower()))]"
   ]
  },
  {
   "cell_type": "code",
   "execution_count": 10,
   "metadata": {
    "execution": {
     "iopub.execute_input": "2023-04-03T12:27:35.425084Z",
     "iopub.status.busy": "2023-04-03T12:27:35.424000Z",
     "iopub.status.idle": "2023-04-03T12:27:35.440184Z",
     "shell.execute_reply": "2023-04-03T12:27:35.439094Z",
     "shell.execute_reply.started": "2023-04-03T12:27:35.425025Z"
    }
   },
   "outputs": [
    {
     "data": {
      "text/plain": [
       "('we study s-wave superconductivity in the two-dimensional square lattice attractive hubbard hamiltonian for various inhomogeneous patterns of interacting sites. using the bogoliubov-de gennes (bdg) mean field approximation, we obtain the phase diagram for inhomogeneous patterns in which the on-site attractive interaction u_i between the electrons takes on two values, u_i=0 and -u/(1-f) (with f the concentration of non-interacting sites) as a function of average electron occupation per site n, and study the evolution of the phase diagram as f varies. in certain regions of the phase diagram, inhomogeneity results in a larger zero temperature average pairing amplitude (order parameter) and also a higher superconducting (sc) critical temperature t_c, relative to a uniform system with the same mean interaction strength (u_i=-u on all sites). these effects are observed for stripes, checkerboard, and even random patterns of the attractive centers, suggesting that the pattern of inhomogeneity is unimportant. the phase diagrams also include regions where superconductivity is obliterated due to the formation of various charge ordered phases. the enhancement of t_{c} due to inhomogeneity is robust as long as the electron doping per site n is less than twice the fraction of interacting sites [2(1-f)] regardless of the pattern. we also show that for certain inhomogeneous patterns, when n = 2(1-f), increasing temperature can work against the stability of existing charge ordered phases for large f and as a result, enhance t_{c}.',\n",
       " 'network strategies to understand the aging process and help age-related   drug design')"
      ]
     },
     "execution_count": 10,
     "metadata": {},
     "output_type": "execute_result"
    }
   ],
   "source": [
    "data.sample(1)['abstract'].values[0], data.sample(1)['title'].values[0]"
   ]
  },
  {
   "cell_type": "code",
   "execution_count": 11,
   "metadata": {
    "execution": {
     "iopub.execute_input": "2023-04-03T12:27:35.442090Z",
     "iopub.status.busy": "2023-04-03T12:27:35.441724Z",
     "iopub.status.idle": "2023-04-03T12:27:35.683738Z",
     "shell.execute_reply": "2023-04-03T12:27:35.682556Z",
     "shell.execute_reply.started": "2023-04-03T12:27:35.442039Z"
    }
   },
   "outputs": [],
   "source": [
    "data = data.drop_duplicates('abstract').reset_index(drop=True)"
   ]
  },
  {
   "cell_type": "code",
   "execution_count": 12,
   "metadata": {
    "execution": {
     "iopub.execute_input": "2023-04-03T12:27:35.686282Z",
     "iopub.status.busy": "2023-04-03T12:27:35.685259Z",
     "iopub.status.idle": "2023-04-03T12:27:35.737717Z",
     "shell.execute_reply": "2023-04-03T12:27:35.736647Z",
     "shell.execute_reply.started": "2023-04-03T12:27:35.686240Z"
    }
   },
   "outputs": [],
   "source": [
    "data = data.drop_duplicates('title').reset_index(drop=True)"
   ]
  },
  {
   "cell_type": "markdown",
   "metadata": {},
   "source": [
    "# Train-Test split"
   ]
  },
  {
   "cell_type": "code",
   "execution_count": 13,
   "metadata": {
    "execution": {
     "iopub.execute_input": "2023-04-03T12:27:35.739850Z",
     "iopub.status.busy": "2023-04-03T12:27:35.739420Z",
     "iopub.status.idle": "2023-04-03T12:27:35.765940Z",
     "shell.execute_reply": "2023-04-03T12:27:35.764989Z",
     "shell.execute_reply.started": "2023-04-03T12:27:35.739808Z"
    }
   },
   "outputs": [],
   "source": [
    "init_random_seed(1234)\n",
    "\n",
    "val_ratio = 0.01\n",
    "test_ratio = 0.01\n",
    "\n",
    "val_idx = np.random.choice(a=len(data), size=int(len(data)*(val_ratio+test_ratio)), replace=False)\n",
    "\n",
    "train_data = data.drop(val_idx).copy()\n",
    "val_data = data.iloc[val_idx[:len(val_idx)//2]].copy()\n",
    "test_data = data.iloc[val_idx[len(val_idx)//2:]].copy()"
   ]
  },
  {
   "cell_type": "code",
   "execution_count": 14,
   "metadata": {
    "execution": {
     "iopub.execute_input": "2023-04-03T12:27:35.767880Z",
     "iopub.status.busy": "2023-04-03T12:27:35.767491Z",
     "iopub.status.idle": "2023-04-03T12:27:35.776263Z",
     "shell.execute_reply": "2023-04-03T12:27:35.774977Z",
     "shell.execute_reply.started": "2023-04-03T12:27:35.767839Z"
    }
   },
   "outputs": [
    {
     "data": {
      "text/plain": [
       "array([31660, 86648, 50463, ...,  4110, 20593, 80406])"
      ]
     },
     "execution_count": 14,
     "metadata": {},
     "output_type": "execute_result"
    }
   ],
   "source": [
    "val_idx"
   ]
  },
  {
   "cell_type": "code",
   "execution_count": 15,
   "metadata": {
    "execution": {
     "iopub.execute_input": "2023-04-03T12:27:35.778626Z",
     "iopub.status.busy": "2023-04-03T12:27:35.777857Z",
     "iopub.status.idle": "2023-04-03T12:27:35.812919Z",
     "shell.execute_reply": "2023-04-03T12:27:35.811691Z",
     "shell.execute_reply.started": "2023-04-03T12:27:35.778588Z"
    }
   },
   "outputs": [
    {
     "name": "stdout",
     "output_type": "stream",
     "text": [
      "set()\n",
      "set()\n",
      "set()\n"
     ]
    }
   ],
   "source": [
    "# check if there's no intersection among sets\n",
    "print(set(train_data.index).intersection(set(val_data.index)))\n",
    "print(set(train_data.index).intersection(set(test_data.index)))\n",
    "print(set(val_data.index).intersection(set(test_data.index)))"
   ]
  },
  {
   "cell_type": "code",
   "execution_count": 16,
   "metadata": {
    "execution": {
     "iopub.execute_input": "2023-04-03T12:27:35.817037Z",
     "iopub.status.busy": "2023-04-03T12:27:35.816752Z",
     "iopub.status.idle": "2023-04-03T12:27:35.825184Z",
     "shell.execute_reply": "2023-04-03T12:27:35.823829Z",
     "shell.execute_reply.started": "2023-04-03T12:27:35.817011Z"
    }
   },
   "outputs": [
    {
     "data": {
      "text/plain": [
       "('we consider the problem of utility maximization for investors with power utility functions. building on the earlier work larsen et al. (2016), we prove that the value of the problem is a frechet-differentiable function of the drift of the price process, provided that this drift lies in a suitable banach space.   we then study optimal investment problems with non-markovian driving processes. in such models there is no hope to get a formula for the achievable maximal utility. applying results of the first part of the paper we provide first order expansions for certain problems involving fractional brownian motion either in the drift or in the volatility. we also point out how asymptotic results can be derived for models with strong mean reversion.',\n",
       " 'on optimal investment with processes of long or negative memory')"
      ]
     },
     "execution_count": 16,
     "metadata": {},
     "output_type": "execute_result"
    }
   ],
   "source": [
    "train_data.values[0][0], train_data.values[0][1]"
   ]
  },
  {
   "cell_type": "code",
   "execution_count": 17,
   "metadata": {
    "execution": {
     "iopub.execute_input": "2023-04-03T12:27:35.827429Z",
     "iopub.status.busy": "2023-04-03T12:27:35.826717Z",
     "iopub.status.idle": "2023-04-03T12:27:35.836521Z",
     "shell.execute_reply": "2023-04-03T12:27:35.835332Z",
     "shell.execute_reply.started": "2023-04-03T12:27:35.827383Z"
    }
   },
   "outputs": [
    {
     "data": {
      "text/plain": [
       "array(['anderson has recently proposed a theory of the strange metal state above tc in the high tc superconductors. [arxiv:cond-mat/0512471] it is based on the idea that the unusual transport properties and spectral functions are caused by the strong mott- hubbard interactions and can be computed by using the formal apparatus of gutzwiller projection. in ref. 1 anderson computed only the tunneling spectrum and the power-law exponent of the infrared conductivity. he had calculated the energy distribution curves (edcs) in angle resolved photoemission spectroscopy (arpes) but was discouraged when these differed radically from the best arpes measurements available at the time, and did not include them. in this letter we compare the spectral functions computed within this model to the novel laser-arpes data of the dessau group.these are found to capture the shape of the experimental edcs with unprecedented accuracy and in principle have only one free parameter.',\n",
       "       'accurate theoretical fits to laser arpes edcs in the normal phase of   cuprate superconductors'],\n",
       "      dtype=object)"
      ]
     },
     "execution_count": 17,
     "metadata": {},
     "output_type": "execute_result"
    }
   ],
   "source": [
    "test_data.values[0]"
   ]
  },
  {
   "cell_type": "code",
   "execution_count": 18,
   "metadata": {
    "execution": {
     "iopub.execute_input": "2023-04-03T12:27:35.838852Z",
     "iopub.status.busy": "2023-04-03T12:27:35.838500Z",
     "iopub.status.idle": "2023-04-03T12:27:35.848345Z",
     "shell.execute_reply": "2023-04-03T12:27:35.846911Z",
     "shell.execute_reply.started": "2023-04-03T12:27:35.838811Z"
    }
   },
   "outputs": [
    {
     "name": "stdout",
     "output_type": "stream",
     "text": [
      "{'input_ids': [4034, 13605, 7307, 12, 6124, 1584, 855, 7, 3, 15, 26, 75, 7, 16, 8, 1389, 3944, 13, 4119, 2206, 1355, 1018, 4817, 5535, 1], 'attention_mask': [1, 1, 1, 1, 1, 1, 1, 1, 1, 1, 1, 1, 1, 1, 1, 1, 1, 1, 1, 1, 1, 1, 1, 1, 1]}\n"
     ]
    }
   ],
   "source": [
    "encoded_sample = tokenizer(test_data['title'].values[0])\n",
    "print(encoded_sample)"
   ]
  },
  {
   "cell_type": "code",
   "execution_count": 19,
   "metadata": {
    "execution": {
     "iopub.execute_input": "2023-04-03T12:27:35.851245Z",
     "iopub.status.busy": "2023-04-03T12:27:35.849988Z",
     "iopub.status.idle": "2023-04-03T12:27:36.064888Z",
     "shell.execute_reply": "2023-04-03T12:27:36.063641Z",
     "shell.execute_reply.started": "2023-04-03T12:27:35.851205Z"
    }
   },
   "outputs": [
    {
     "name": "stdout",
     "output_type": "stream",
     "text": [
      "accurate theoretical fits to laser arpes edcs in the normal phase of cuprate superconductors</s>\n"
     ]
    },
    {
     "data": {
      "text/plain": [
       "0"
      ]
     },
     "execution_count": 19,
     "metadata": {},
     "output_type": "execute_result"
    }
   ],
   "source": [
    "print(tokenizer.decode(encoded_sample.input_ids))\n",
    "del encoded_sample\n",
    "gc.collect()"
   ]
  },
  {
   "cell_type": "markdown",
   "metadata": {},
   "source": [
    "## Sorting texts by their length"
   ]
  },
  {
   "cell_type": "code",
   "execution_count": 20,
   "metadata": {
    "execution": {
     "iopub.execute_input": "2023-04-03T12:27:36.067155Z",
     "iopub.status.busy": "2023-04-03T12:27:36.066744Z",
     "iopub.status.idle": "2023-04-03T12:28:48.617314Z",
     "shell.execute_reply": "2023-04-03T12:28:48.616140Z",
     "shell.execute_reply.started": "2023-04-03T12:27:36.067112Z"
    }
   },
   "outputs": [
    {
     "name": "stderr",
     "output_type": "stream",
     "text": [
      "Token indices sequence length is longer than the specified maximum sequence length for this model (551 > 512). Running this sequence through the model will result in indexing errors\n"
     ]
    },
    {
     "name": "stdout",
     "output_type": "stream",
     "text": [
      "CPU times: total: 59.1 s\n",
      "Wall time: 59.2 s\n"
     ]
    }
   ],
   "source": [
    "%%time\n",
    "train_data['len_abstract'] = train_data['abstract'].apply(lambda x: len(tokenizer.encode(x)))\n",
    "train_data['len_title'] = train_data['title'].apply(lambda x: len(tokenizer.encode(x)))\n",
    "train_data = train_data.sort_values(['len_abstract', 'len_title'], ascending=False)\n",
    "\n",
    "val_data['len_abstract'] = val_data['abstract'].apply(lambda x: len(tokenizer.encode(x)))\n",
    "val_data['len_title'] = val_data['title'].apply(lambda x: len(tokenizer.encode(x)))\n",
    "val_data = val_data.sort_values(['len_abstract', 'len_title'], ascending=False)\n",
    "\n",
    "test_data['len_abstract'] = test_data['abstract'].apply(lambda x: len(tokenizer.encode(x)))\n",
    "test_data['len_title'] = test_data['title'].apply(lambda x: len(tokenizer.encode(x)))\n",
    "test_data = test_data.sort_values(['len_abstract', 'len_title'], ascending=False)"
   ]
  },
  {
   "cell_type": "code",
   "execution_count": 21,
   "metadata": {
    "execution": {
     "iopub.execute_input": "2023-04-03T12:28:48.619615Z",
     "iopub.status.busy": "2023-04-03T12:28:48.619055Z",
     "iopub.status.idle": "2023-04-03T12:28:48.629018Z",
     "shell.execute_reply": "2023-04-03T12:28:48.627813Z",
     "shell.execute_reply.started": "2023-04-03T12:28:48.619563Z"
    }
   },
   "outputs": [
    {
     "data": {
      "text/plain": [
       "(1136, 116)"
      ]
     },
     "execution_count": 21,
     "metadata": {},
     "output_type": "execute_result"
    }
   ],
   "source": [
    "train_data['len_abstract'].max(), train_data['len_title'].max()"
   ]
  },
  {
   "cell_type": "code",
   "execution_count": 22,
   "metadata": {},
   "outputs": [
    {
     "data": {
      "text/plain": [
       "(17.48855050676495, 16.0)"
      ]
     },
     "execution_count": 22,
     "metadata": {},
     "output_type": "execute_result"
    }
   ],
   "source": [
    "train_data['len_title'].mean(), train_data['len_title'].median()"
   ]
  },
  {
   "cell_type": "code",
   "execution_count": 23,
   "metadata": {},
   "outputs": [
    {
     "data": {
      "text/plain": [
       "(211.96624799961205, 200.0)"
      ]
     },
     "execution_count": 23,
     "metadata": {},
     "output_type": "execute_result"
    }
   ],
   "source": [
    "train_data['len_abstract'].mean(), train_data['len_abstract'].median()"
   ]
  },
  {
   "cell_type": "code",
   "execution_count": 24,
   "metadata": {
    "execution": {
     "iopub.execute_input": "2023-04-03T12:30:17.589993Z",
     "iopub.status.busy": "2023-04-03T12:30:17.588991Z",
     "iopub.status.idle": "2023-04-03T12:30:17.601166Z",
     "shell.execute_reply": "2023-04-03T12:30:17.599324Z",
     "shell.execute_reply.started": "2023-04-03T12:30:17.589953Z"
    }
   },
   "outputs": [],
   "source": [
    "class ArxivDataset(torch.utils.data.Dataset):\n",
    "    def __init__(self,\n",
    "                 src,\n",
    "                 trg,\n",
    "                 tokenizer,\n",
    "                 src_max_len,\n",
    "                 trg_max_len\n",
    "                ):\n",
    "        self.src = src\n",
    "        self.trg = trg\n",
    "        self.tokenizer = tokenizer\n",
    "        self.src_max_len = src_max_len\n",
    "        self.trg_max_len = trg_max_len\n",
    "        \n",
    "    def __len__(self):\n",
    "        return len(self.src)\n",
    "    \n",
    "    def __getitem__(self, i):\n",
    "        # добавляем токены начала и конца предложения\n",
    "        src_i = self.src[i]\n",
    "        trg_i = self.trg[i]\n",
    "        \n",
    "        src_encoding = self.tokenizer(\n",
    "            src_i,\n",
    "            max_length=self.src_max_len,\n",
    "            padding=\"max_length\",\n",
    "            truncation=True,\n",
    "            return_attention_mask=True,\n",
    "            add_special_tokens=True,\n",
    "            return_tensors=\"pt\"\n",
    "        )\n",
    "        \n",
    "        trg_encoding = self.tokenizer(\n",
    "            trg_i,\n",
    "            max_length=self.trg_max_len,\n",
    "            padding=\"max_length\",\n",
    "            truncation=True,\n",
    "            return_attention_mask=True,\n",
    "            add_special_tokens=True,\n",
    "            return_tensors=\"pt\"\n",
    "        )\n",
    "        \n",
    "        labels = trg_encoding[\"input_ids\"]\n",
    "        labels[labels == 0] = -100\n",
    "        \n",
    "        return dict(abstract=src_i,\n",
    "                    title=trg_i,\n",
    "                    abstract_input_ids=src_encoding[\"input_ids\"].flatten(),\n",
    "                    abstract_attention_mask=src_encoding[\"attention_mask\"].flatten(),\n",
    "                    labels=labels.flatten(),\n",
    "                    labels_attention_mask=trg_encoding[\"attention_mask\"].flatten())"
   ]
  },
  {
   "cell_type": "code",
   "execution_count": 25,
   "metadata": {
    "execution": {
     "iopub.execute_input": "2023-04-03T12:30:25.786264Z",
     "iopub.status.busy": "2023-04-03T12:30:25.785640Z",
     "iopub.status.idle": "2023-04-03T12:30:25.802459Z",
     "shell.execute_reply": "2023-04-03T12:30:25.801133Z",
     "shell.execute_reply.started": "2023-04-03T12:30:25.786224Z"
    }
   },
   "outputs": [
    {
     "name": "stdout",
     "output_type": "stream",
     "text": [
      "CPU times: total: 0 ns\n",
      "Wall time: 4.02 ms\n"
     ]
    }
   ],
   "source": [
    "%%time\n",
    "arx_dataset_train = ArxivDataset(\n",
    "    train_data['abstract'].values.tolist(),\n",
    "    train_data['title'].values.tolist(),\n",
    "    tokenizer,\n",
    "    src_max_len=512,\n",
    "    trg_max_len=35\n",
    ")\n",
    "arx_dataset_val = ArxivDataset(\n",
    "    val_data['abstract'].values.tolist(),\n",
    "    val_data['title'].values.tolist(),\n",
    "    tokenizer,\n",
    "    src_max_len=512,\n",
    "    trg_max_len=35\n",
    ")\n",
    "arx_dataset_test = ArxivDataset(\n",
    "    test_data['abstract'].values.tolist(),\n",
    "    test_data['title'].values.tolist(),\n",
    "    tokenizer,\n",
    "    src_max_len=512,\n",
    "    trg_max_len=35\n",
    ")"
   ]
  },
  {
   "cell_type": "code",
   "execution_count": 26,
   "metadata": {
    "execution": {
     "iopub.execute_input": "2023-04-03T12:30:27.466410Z",
     "iopub.status.busy": "2023-04-03T12:30:27.466009Z",
     "iopub.status.idle": "2023-04-03T12:30:27.490282Z",
     "shell.execute_reply": "2023-04-03T12:30:27.489129Z",
     "shell.execute_reply.started": "2023-04-03T12:30:27.466379Z"
    }
   },
   "outputs": [
    {
     "name": "stdout",
     "output_type": "stream",
     "text": [
      "{'abstract': 'superoxide reductase (sor) is an fe protein that catalyzes the reduction of superoxide to give h(2)o(2). recently, the mutation of the glu47 residue into alanine (e47a) in the active site of sor from desulfoarculus baarsii has allowed the stabilization of an iron-peroxo species when quickly reacted with h(2)o(2) [math{\\\\\\'e} et al. (2002) j. am. chem. soc. 124, 4966-4967]. to further investigate this non-heme peroxo-iron species, we have carried out a m{\\\\\"o}ssbauer study of the (57)fe-enriched e47a sor from d. baarsii reacted quickly with h(2)o(2). considering the m{\\\\\"o}ssbauer data, we conclude, in conjunction with the other spectroscopic data available and with the results of density functional calculations on related models, that this species corresponds to a high-spin side-on peroxo-fe(3+) complex. this is one of the first examples of such a species in a biological system for which m{\\\\\"o}ssbauer parameters are now available: delta(/fe) = 0.54 (1) mm/s, deltae(q) = -0.80 (5) mm/s, and the asymmetry parameter eta = 0.60 (5) mm/s. the m{\\\\\"o}ssbauer and spin hamiltonian parameters have been evaluated on a model from the side-on peroxo complex (model 2) issued from the oxidized iron center in sor from pyrococcus furiosus, for which structural data are available in the literature [yeh et al. (2000) biochemistry 39, 2499-2508]. for comparison, similar calculations have been carried out on a model derived from 2 (model 3), where the [ch(3)-s](1)(-) group has been replaced by the neutral [nh(3)](0) group [neese and solomon (1998) j. am. chem. soc. 120, 12829-12848]. both models 2 and 3 contain a formally high-spin fe(3+) ion (i.e., with empty minority spin orbitals). we found, however, a significant fraction (approximately 0.6 for 2, approximately 0.8 for 3) of spin (equivalently charge) spread over two occupied (minority spin) orbitals. the quadrupole splitting value for 2 is found to be negative and matches quite well the experimental value. the computed quadrupole tensors are rhombic in the case of 2 and axial in the case of 3. this difference originates directly from the presence of the thiolate ligand in 2. a correlation between experimental isomer shifts for fe(3+) mononuclear complexes with computed electron densities at the iron nucleus has been built and used to evaluate the isomer shift values for 2 and 3 (0.56 and 0.63 mm/s, respectively). a significant increase of isomer shift value is found upon going from a methylthiolate to a nitrogen ligand for the fe(3+) ion, consistent with covalency effects due to the presence of the axial thiolate ligand. considering that the isomer shift value for 3 is likely to be in the 0.61-0.65 mm/s range [horner et al. (2002) eur. j. inorg. chem., 3278-3283], the isomer shift value for a high-spin eta(2)-o(2) fe(3+) complex with an axial thiolate group can be estimated to be in the 0.54-0.58 mm/s range. the occurrence of a side-on peroxo intermediate in sor is discussed in relation to the recent data published for a side-on peroxo-fe(3+) species in another biological system [karlsson et al. (2003) science 299, 1039-1042].', 'title': 'm{\\\\\"o}ssbauer characterization of an unusual high-spin side-on   peroxo-fe3+ species in the active site of superoxide reductase from   desulfoarculus baarsii. density functional calculations on related models', 'abstract_input_ids': tensor([ 1355,  6778,    15, 27353,    17,     9,     7,    15,    41,     7,\n",
      "          127,    61,    19,    46,     3,    89,    15,  3619,    24,  1712,\n",
      "            9,   120,   776,     7,     8,  4709,    13,  1355,  6778,    15,\n",
      "           12,   428,     3,   107, 16426,    32, 16426,     5,  1310,     6,\n",
      "            8, 17324,    13,     8,     3, 13492,  4177, 24749,   139,     3,\n",
      "            9,  1618,   630,    41,    15,  4177,     9,    61,    16,     8,\n",
      "         1676,   353,    13,    78,    52,    45,    93,    83,    89,    32,\n",
      "         4667,    83,   302,  4698,   291,     7,    23,    23,    65,  2225,\n",
      "            8,  7856,  1707,    13,    46,  3575,    18,   855, 12907,    32,\n",
      "         3244,   116,  1224,     3,    60,  9925,    28,     3,   107, 16426,\n",
      "           32, 16426,   784,  3357,   107,     2,    31,    15,     2,     3,\n",
      "           15,    17,   491,     5,     3, 31444,     3,   354,     5,   183,\n",
      "            5,     3,  6482,     5,    78,    75,     5,     3, 22504,     6,\n",
      "         9526,  3539,    18,  3647,  3708,  4275,    12,   856,  9127,    48,\n",
      "          529,    18,  6015,    15,   158, 12907,    32,    18, 17773,  3244,\n",
      "            6,    62,    43,  4006,    91,     3,     9,     3,    51,     2,\n",
      "          121,    32,     2,     7,     7,  2635,    49,   810,    13,     8,\n",
      "           41,  3436,    61,    89,    15,    18, 27307,     3,    15,  4177,\n",
      "            9,    78,    52,    45,     3,    26,     5,  4698,   291,     7,\n",
      "           23,    23,     3,    60,  9925,  1224,    28,     3,   107, 16426,\n",
      "           32, 16426,     5,  4014,     8,     3,    51,     2,   121,    32,\n",
      "            2,     7,     7,  2635,    49,   331,     6,    62, 12692,     6,\n",
      "           16, 13274,    28,     8,   119,     3,  5628,    52, 23643,   331,\n",
      "          347,    11,    28,     8,   772,    13, 11048,  5014, 19868,    30,\n",
      "         1341,  2250,     6,    24,    48,  3244, 10423,     7,    12,     3,\n",
      "            9,   306,    18,     7,  3180,   596,    18,   106,   158, 12907,\n",
      "           32,    18,    89,    15,   599,   519,  1220,    61,  1561,     5,\n",
      "           48,    19,    80,    13,     8,   166,  4062,    13,   224,     3,\n",
      "            9,  3244,    16,     3,     9, 11432,   358,    21,    84,     3,\n",
      "           51,     2,   121,    32,     2,     7,     7,  2635,    49,  8755,\n",
      "           33,   230,   347,    10, 25110,   599,    87,    89,    15,    61,\n",
      "         3274,  4097,  5062,  5637,     3,   635,    87,     7,     6, 25110,\n",
      "           15,   599,  1824,    61,  3274,     3,    18, 22384,   632,     3,\n",
      "        15757,     3,   635,    87,     7,     6,    11,     8,     3,     9,\n",
      "        29089, 15577,     3,    15,    17,     9,  3274,  4097,  3328,     3,\n",
      "        15757,     3,   635,    87,     7,     5,     8,     3,    51,     2,\n",
      "          121,    32,     2,     7,     7,  2635,    49,    11,  5404,     3,\n",
      "         1483,   173,   235, 15710,  8755,    43,   118, 14434,    30,     3,\n",
      "            9,   825,    45,     8,   596,    18,   106,   158, 12907,    32,\n",
      "         1561,    41, 21770,  9266,  4683,    45,     8,     3,  6778,  1601,\n",
      "         3575,  1530,    16,    78,    52,    45,     3,   102,    63,  7818,\n",
      "        13377,   302,  7683, 10305,   302,     6,    21,    84,  8649,   331,\n",
      "           33,   347,    16,     8,  6678,   784,    63,    15,   107,     3,\n",
      "           15,    17,   491,     5,     3, 31804,  2392, 11366,  6352,     6,\n",
      "          997,  3264, 14855,  4018,  4275,    21,  4993,     6,  1126, 19868,\n",
      "           43,   118,  4006,    91,    30,     3,     9,   825,     3,  9942,\n",
      "           45,   204,    41, 21770,   220,   201,   213,     8,   784,   524,\n",
      "        17867,    18,     7,   908, 14296,   599,    18,    61,   563,    65,\n",
      "          118,  5821,    57,     8,  7163,   784,    29,   107, 17867,   908,\n",
      "        31862,   563,   784,    29,    15,    15,     7,    15,    11,  6729,\n",
      "         2157,    41, 29430,     3,   354,     5,   183,     5,     3,  6482,\n",
      "            5,     1]), 'abstract_attention_mask': tensor([1, 1, 1, 1, 1, 1, 1, 1, 1, 1, 1, 1, 1, 1, 1, 1, 1, 1, 1, 1, 1, 1, 1, 1,\n",
      "        1, 1, 1, 1, 1, 1, 1, 1, 1, 1, 1, 1, 1, 1, 1, 1, 1, 1, 1, 1, 1, 1, 1, 1,\n",
      "        1, 1, 1, 1, 1, 1, 1, 1, 1, 1, 1, 1, 1, 1, 1, 1, 1, 1, 1, 1, 1, 1, 1, 1,\n",
      "        1, 1, 1, 1, 1, 1, 1, 1, 1, 1, 1, 1, 1, 1, 1, 1, 1, 1, 1, 1, 1, 1, 1, 1,\n",
      "        1, 1, 1, 1, 1, 1, 1, 1, 1, 1, 1, 1, 1, 1, 1, 1, 1, 1, 1, 1, 1, 1, 1, 1,\n",
      "        1, 1, 1, 1, 1, 1, 1, 1, 1, 1, 1, 1, 1, 1, 1, 1, 1, 1, 1, 1, 1, 1, 1, 1,\n",
      "        1, 1, 1, 1, 1, 1, 1, 1, 1, 1, 1, 1, 1, 1, 1, 1, 1, 1, 1, 1, 1, 1, 1, 1,\n",
      "        1, 1, 1, 1, 1, 1, 1, 1, 1, 1, 1, 1, 1, 1, 1, 1, 1, 1, 1, 1, 1, 1, 1, 1,\n",
      "        1, 1, 1, 1, 1, 1, 1, 1, 1, 1, 1, 1, 1, 1, 1, 1, 1, 1, 1, 1, 1, 1, 1, 1,\n",
      "        1, 1, 1, 1, 1, 1, 1, 1, 1, 1, 1, 1, 1, 1, 1, 1, 1, 1, 1, 1, 1, 1, 1, 1,\n",
      "        1, 1, 1, 1, 1, 1, 1, 1, 1, 1, 1, 1, 1, 1, 1, 1, 1, 1, 1, 1, 1, 1, 1, 1,\n",
      "        1, 1, 1, 1, 1, 1, 1, 1, 1, 1, 1, 1, 1, 1, 1, 1, 1, 1, 1, 1, 1, 1, 1, 1,\n",
      "        1, 1, 1, 1, 1, 1, 1, 1, 1, 1, 1, 1, 1, 1, 1, 1, 1, 1, 1, 1, 1, 1, 1, 1,\n",
      "        1, 1, 1, 1, 1, 1, 1, 1, 1, 1, 1, 1, 1, 1, 1, 1, 1, 1, 1, 1, 1, 1, 1, 1,\n",
      "        1, 1, 1, 1, 1, 1, 1, 1, 1, 1, 1, 1, 1, 1, 1, 1, 1, 1, 1, 1, 1, 1, 1, 1,\n",
      "        1, 1, 1, 1, 1, 1, 1, 1, 1, 1, 1, 1, 1, 1, 1, 1, 1, 1, 1, 1, 1, 1, 1, 1,\n",
      "        1, 1, 1, 1, 1, 1, 1, 1, 1, 1, 1, 1, 1, 1, 1, 1, 1, 1, 1, 1, 1, 1, 1, 1,\n",
      "        1, 1, 1, 1, 1, 1, 1, 1, 1, 1, 1, 1, 1, 1, 1, 1, 1, 1, 1, 1, 1, 1, 1, 1,\n",
      "        1, 1, 1, 1, 1, 1, 1, 1, 1, 1, 1, 1, 1, 1, 1, 1, 1, 1, 1, 1, 1, 1, 1, 1,\n",
      "        1, 1, 1, 1, 1, 1, 1, 1, 1, 1, 1, 1, 1, 1, 1, 1, 1, 1, 1, 1, 1, 1, 1, 1,\n",
      "        1, 1, 1, 1, 1, 1, 1, 1, 1, 1, 1, 1, 1, 1, 1, 1, 1, 1, 1, 1, 1, 1, 1, 1,\n",
      "        1, 1, 1, 1, 1, 1, 1, 1]), 'labels': tensor([    3,    51,     2,   121,    32,     2,     7,     7,  2635,    49,\n",
      "            3, 28561,    13,    46,  7225,   306,    18,     7,  3180,   596,\n",
      "           18,   106,   158, 12907,    32,    18,    89,    15,   519,  1220,\n",
      "         3244,    16,     8,  1676,     1]), 'labels_attention_mask': tensor([1, 1, 1, 1, 1, 1, 1, 1, 1, 1, 1, 1, 1, 1, 1, 1, 1, 1, 1, 1, 1, 1, 1, 1,\n",
      "        1, 1, 1, 1, 1, 1, 1, 1, 1, 1, 1])}\n"
     ]
    }
   ],
   "source": [
    "print(arx_dataset_train[1])"
   ]
  },
  {
   "cell_type": "code",
   "execution_count": 27,
   "metadata": {
    "execution": {
     "iopub.execute_input": "2023-04-03T12:30:27.965596Z",
     "iopub.status.busy": "2023-04-03T12:30:27.965196Z",
     "iopub.status.idle": "2023-04-03T12:30:27.972671Z",
     "shell.execute_reply": "2023-04-03T12:30:27.971642Z",
     "shell.execute_reply.started": "2023-04-03T12:30:27.965555Z"
    }
   },
   "outputs": [],
   "source": [
    "BATCH_SIZE = 32\n",
    "train_data_loader = torch.utils.data.DataLoader(\n",
    "    arx_dataset_train,\n",
    "    batch_size=BATCH_SIZE,\n",
    "    shuffle=False\n",
    ")"
   ]
  },
  {
   "cell_type": "code",
   "execution_count": 28,
   "metadata": {
    "execution": {
     "iopub.execute_input": "2023-04-03T12:30:46.648100Z",
     "iopub.status.busy": "2023-04-03T12:30:46.647338Z",
     "iopub.status.idle": "2023-04-03T12:30:47.499729Z",
     "shell.execute_reply": "2023-04-03T12:30:47.494226Z",
     "shell.execute_reply.started": "2023-04-03T12:30:46.648016Z"
    }
   },
   "outputs": [
    {
     "name": "stdout",
     "output_type": "stream",
     "text": [
      "torch.Size([32, 512])\n",
      "torch.Size([32, 512])\n",
      "torch.Size([32, 512])\n"
     ]
    }
   ],
   "source": [
    "j = 0\n",
    "for data in train_data_loader:\n",
    "    print(data['abstract_input_ids'].to(device).shape)\n",
    "    j += 1\n",
    "    if j == 3:\n",
    "        break\n",
    "        \n",
    "# del train_data_loader#, val_data_loader, test_data_loader\n",
    "# gc.collect()\n",
    "# torch.cuda.empty_cache()"
   ]
  },
  {
   "cell_type": "markdown",
   "metadata": {},
   "source": [
    "# Modeling"
   ]
  },
  {
   "cell_type": "code",
   "execution_count": 29,
   "metadata": {
    "execution": {
     "iopub.execute_input": "2023-04-03T12:30:51.811055Z",
     "iopub.status.busy": "2023-04-03T12:30:51.810028Z",
     "iopub.status.idle": "2023-04-03T12:30:51.818056Z",
     "shell.execute_reply": "2023-04-03T12:30:51.816884Z",
     "shell.execute_reply.started": "2023-04-03T12:30:51.811002Z"
    }
   },
   "outputs": [],
   "source": [
    "class ArxivModel(torch.nn.Module):\n",
    "    def __init__(self, model_name):\n",
    "        super(ArxivModel, self).__init__()\n",
    "        \n",
    "        self.model = AutoModelForSeq2SeqLM.from_pretrained(model_name, return_dict=True)\n",
    "\n",
    "    def forward(self, input_ids, attention_mask, decoder_attention_mask, labels=None):\n",
    "\n",
    "        x = self.model(input_ids,\n",
    "                       attention_mask=attention_mask,\n",
    "                       decoder_attention_mask=decoder_attention_mask,\n",
    "                       labels=labels\n",
    "                       )\n",
    "        \n",
    "        return x.logits, x.loss"
   ]
  },
  {
   "cell_type": "code",
   "execution_count": 30,
   "metadata": {
    "execution": {
     "iopub.execute_input": "2023-04-03T12:57:39.587698Z",
     "iopub.status.busy": "2023-04-03T12:57:39.586989Z",
     "iopub.status.idle": "2023-04-03T12:57:43.915873Z",
     "shell.execute_reply": "2023-04-03T12:57:43.914650Z",
     "shell.execute_reply.started": "2023-04-03T12:57:39.587661Z"
    }
   },
   "outputs": [],
   "source": [
    "model = ArxivModel(MODEL_NAME).to(device)"
   ]
  },
  {
   "cell_type": "code",
   "execution_count": 31,
   "metadata": {
    "execution": {
     "iopub.execute_input": "2023-04-03T12:57:47.754613Z",
     "iopub.status.busy": "2023-04-03T12:57:47.753901Z",
     "iopub.status.idle": "2023-04-03T12:57:47.763234Z",
     "shell.execute_reply": "2023-04-03T12:57:47.761970Z",
     "shell.execute_reply.started": "2023-04-03T12:57:47.754576Z"
    }
   },
   "outputs": [
    {
     "name": "stdout",
     "output_type": "stream",
     "text": [
      "The model has 247,577,856 trainable parameters\n"
     ]
    }
   ],
   "source": [
    "def count_parameters(model):\n",
    "    return sum(p.numel() for p in model.parameters() if p.requires_grad)\n",
    "\n",
    "print(f'The model has {count_parameters(model):,} trainable parameters')"
   ]
  },
  {
   "cell_type": "code",
   "execution_count": 32,
   "metadata": {
    "execution": {
     "iopub.execute_input": "2023-04-03T12:58:29.155552Z",
     "iopub.status.busy": "2023-04-03T12:58:29.154931Z",
     "iopub.status.idle": "2023-04-03T12:58:29.163613Z",
     "shell.execute_reply": "2023-04-03T12:58:29.162276Z",
     "shell.execute_reply.started": "2023-04-03T12:58:29.155507Z"
    }
   },
   "outputs": [],
   "source": [
    "optimizer = optim.AdamW(model.parameters(), lr=0.00005)\n",
    "criterion = nn.CrossEntropyLoss(ignore_index=-100)\n",
    "lr_sched = None"
   ]
  },
  {
   "cell_type": "code",
   "execution_count": 33,
   "metadata": {
    "execution": {
     "iopub.execute_input": "2023-04-03T12:58:34.138831Z",
     "iopub.status.busy": "2023-04-03T12:58:34.138087Z",
     "iopub.status.idle": "2023-04-03T12:58:34.143339Z",
     "shell.execute_reply": "2023-04-03T12:58:34.142140Z",
     "shell.execute_reply.started": "2023-04-03T12:58:34.138774Z"
    }
   },
   "outputs": [],
   "source": [
    "def lr_scheduler(optimizer):\n",
    "    return torch.optim.lr_scheduler.ReduceLROnPlateau(optimizer,\n",
    "                                                      patience=3,\n",
    "                                                      factor=0.5,\n",
    "                                                      verbose=True)\n",
    "\n",
    "lr_sched = lr_scheduler(optimizer)"
   ]
  },
  {
   "cell_type": "code",
   "execution_count": 34,
   "metadata": {
    "execution": {
     "iopub.execute_input": "2023-04-03T12:58:35.085748Z",
     "iopub.status.busy": "2023-04-03T12:58:35.085023Z",
     "iopub.status.idle": "2023-04-03T12:58:35.104112Z",
     "shell.execute_reply": "2023-04-03T12:58:35.102786Z",
     "shell.execute_reply.started": "2023-04-03T12:58:35.085710Z"
    }
   },
   "outputs": [],
   "source": [
    "import matplotlib\n",
    "matplotlib.rcParams.update({'figure.figsize': (16, 12), 'font.size': 14})\n",
    "import matplotlib.pyplot as plt\n",
    "%matplotlib inline\n",
    "from IPython.display import clear_output\n",
    "\n",
    "def train(model, iterator, optimizer, criterion, clip, train_history=None, valid_history=None):\n",
    "    \n",
    "    model.train()\n",
    "    \n",
    "    epoch_loss = 0\n",
    "    history = []\n",
    "    \n",
    "    for i, batch in enumerate(iterator):\n",
    "        \n",
    "        input_ids = batch[\"abstract_input_ids\"].to(device)\n",
    "        attention_mask = batch[\"abstract_attention_mask\"].to(device)\n",
    "        labels = batch[\"labels\"].to(device)\n",
    "        labels_attention_mask = batch[\"labels_attention_mask\"].to(device)\n",
    "        \n",
    "        optimizer.zero_grad()\n",
    "        \n",
    "        output, loss = model(input_ids, attention_mask, labels_attention_mask, labels)\n",
    "\n",
    "        loss.backward()\n",
    "        \n",
    "        torch.nn.utils.clip_grad_norm_(model.parameters(), clip)\n",
    "        \n",
    "        optimizer.step()\n",
    "        \n",
    "        epoch_loss += loss.item()\n",
    "        \n",
    "        history.append(loss.cpu().data.numpy())\n",
    "        if (i+1)%10==0:\n",
    "            fig, ax = plt.subplots(nrows=1, ncols=2, figsize=(12, 8))\n",
    "\n",
    "            clear_output(True)\n",
    "            ax[0].plot(history, label='train loss')\n",
    "            ax[0].set_xlabel('Batch')\n",
    "            ax[0].set_title('Train loss')\n",
    "            if train_history is not None:\n",
    "                ax[1].plot(train_history, label='general train history')\n",
    "                ax[1].set_xlabel('Epoch')\n",
    "            if valid_history is not None:\n",
    "                ax[1].plot(valid_history, label='general valid history')\n",
    "            plt.legend()\n",
    "            \n",
    "            plt.show()\n",
    "        \n",
    "    return epoch_loss / len(iterator)"
   ]
  },
  {
   "cell_type": "code",
   "execution_count": 35,
   "metadata": {
    "execution": {
     "iopub.execute_input": "2023-04-03T12:58:36.621271Z",
     "iopub.status.busy": "2023-04-03T12:58:36.620637Z",
     "iopub.status.idle": "2023-04-03T12:58:36.629165Z",
     "shell.execute_reply": "2023-04-03T12:58:36.627764Z",
     "shell.execute_reply.started": "2023-04-03T12:58:36.621232Z"
    }
   },
   "outputs": [],
   "source": [
    "def evaluate(model, iterator, criterion):\n",
    "    \n",
    "    model.eval()\n",
    "    \n",
    "    epoch_loss = 0\n",
    "    \n",
    "    with torch.no_grad():\n",
    "    \n",
    "        for i, batch in enumerate(iterator):\n",
    "            input_ids = batch[\"abstract_input_ids\"].to(device)\n",
    "            attention_mask = batch[\"abstract_attention_mask\"].to(device)\n",
    "            labels = batch[\"labels\"].to(device)\n",
    "            labels_attention_mask = batch[\"labels_attention_mask\"].to(device)\n",
    "\n",
    "            output, loss = model(\n",
    "                input_ids,\n",
    "                attention_mask,\n",
    "                labels_attention_mask,\n",
    "                labels\n",
    "            )\n",
    "\n",
    "            epoch_loss += loss.item()\n",
    "        \n",
    "    return epoch_loss / len(iterator)"
   ]
  },
  {
   "cell_type": "code",
   "execution_count": 36,
   "metadata": {
    "execution": {
     "iopub.execute_input": "2023-04-03T12:58:37.464467Z",
     "iopub.status.busy": "2023-04-03T12:58:37.463946Z",
     "iopub.status.idle": "2023-04-03T12:58:37.476543Z",
     "shell.execute_reply": "2023-04-03T12:58:37.475408Z",
     "shell.execute_reply.started": "2023-04-03T12:58:37.464431Z"
    }
   },
   "outputs": [],
   "source": [
    "def epoch_time(start_time, end_time):\n",
    "    elapsed_time = end_time - start_time\n",
    "    elapsed_mins = int(elapsed_time / 60)\n",
    "    elapsed_secs = int(elapsed_time - (elapsed_mins * 60))\n",
    "    return elapsed_mins, elapsed_secs"
   ]
  },
  {
   "cell_type": "code",
   "execution_count": 37,
   "metadata": {
    "execution": {
     "iopub.execute_input": "2023-04-03T12:58:37.762296Z",
     "iopub.status.busy": "2023-04-03T12:58:37.761676Z",
     "iopub.status.idle": "2023-04-03T12:58:37.766977Z",
     "shell.execute_reply": "2023-04-03T12:58:37.765937Z",
     "shell.execute_reply.started": "2023-04-03T12:58:37.762255Z"
    }
   },
   "outputs": [],
   "source": [
    "MODEL_NAME = 'models/t5.pt'"
   ]
  },
  {
   "cell_type": "code",
   "execution_count": 38,
   "metadata": {
    "execution": {
     "iopub.execute_input": "2023-04-03T12:58:42.454172Z",
     "iopub.status.busy": "2023-04-03T12:58:42.453782Z"
    }
   },
   "outputs": [],
   "source": [
    "# N_EPOCHS = 15\n",
    "# CLIP = 1\n",
    "# BATCH_SIZE = 4\n",
    "\n",
    "# train_data_loader = torch.utils.data.DataLoader(\n",
    "#     arx_dataset_train,\n",
    "#     batch_size=BATCH_SIZE,\n",
    "#     shuffle=False\n",
    "# )\n",
    "\n",
    "# val_data_loader = torch.utils.data.DataLoader(\n",
    "#     arx_dataset_val,\n",
    "#     batch_size=BATCH_SIZE,\n",
    "#     shuffle=False\n",
    "# )\n",
    "\n",
    "# train_history = []\n",
    "# valid_history = []\n",
    "\n",
    "# best_valid_loss = float('inf')\n",
    "\n",
    "# for epoch in range(N_EPOCHS):\n",
    "    \n",
    "#     start_time = time.time()\n",
    "    \n",
    "#     train_loss = train(model, train_data_loader, optimizer, criterion, CLIP, train_history, valid_history)\n",
    "#     valid_loss = evaluate(model, val_data_loader, criterion)\n",
    "    \n",
    "#     end_time = time.time()\n",
    "    \n",
    "#     epoch_mins, epoch_secs = epoch_time(start_time, end_time)\n",
    "    \n",
    "#     if valid_loss < best_valid_loss:\n",
    "#         best_valid_loss = valid_loss\n",
    "#         torch.save(model.state_dict(), MODEL_NAME)\n",
    "        \n",
    "#     if lr_sched is not None:\n",
    "#         lr_sched.step(valid_loss)\n",
    "        \n",
    "        \n",
    "#     train_history.append(train_loss)\n",
    "#     valid_history.append(valid_loss)\n",
    "    \n",
    "#     print(f'Epoch: {epoch+1:02} | Time: {epoch_mins}m {epoch_secs}s')\n",
    "#     print(f'\\tTrain Loss: {train_loss:.3f} | Train PPL: {math.exp(train_loss):7.3f}')\n",
    "#     print(f'\\t Val. Loss: {valid_loss:.3f} |  Val. PPL: {math.exp(valid_loss):7.3f}')"
   ]
  },
  {
   "cell_type": "code",
   "execution_count": 39,
   "metadata": {},
   "outputs": [],
   "source": [
    "# del test_data_loader\n",
    "# gc.collect()\n",
    "# torch.cuda.empty_cache()"
   ]
  },
  {
   "cell_type": "code",
   "execution_count": 40,
   "metadata": {},
   "outputs": [],
   "source": [
    "# print(torch.cuda.memory_summary(device=None, abbreviated=False))"
   ]
  },
  {
   "cell_type": "code",
   "execution_count": 41,
   "metadata": {},
   "outputs": [
    {
     "name": "stdout",
     "output_type": "stream",
     "text": [
      "| Test Loss: 1.762 | Test PPL:   5.822 |\n"
     ]
    }
   ],
   "source": [
    "# for cpu usage\n",
    "model.load_state_dict(torch.load(MODEL_NAME, map_location=torch.device('cuda')))\n",
    "\n",
    "test_data_loader = torch.utils.data.DataLoader(\n",
    "    arx_dataset_test,\n",
    "    batch_size=BATCH_SIZE,\n",
    "    shuffle=False\n",
    ")\n",
    "test_loss = evaluate(model, test_data_loader, criterion)\n",
    "\n",
    "print(f'| Test Loss: {test_loss:.3f} | Test PPL: {math.exp(test_loss):7.3f} |')"
   ]
  },
  {
   "cell_type": "markdown",
   "metadata": {},
   "source": [
    "# Generating"
   ]
  },
  {
   "cell_type": "code",
   "execution_count": 42,
   "metadata": {},
   "outputs": [],
   "source": [
    "def translate_sentence(text, tokenizer, model):\n",
    "    \n",
    "    model.eval()\n",
    "    \n",
    "    text_encoding = tokenizer(\n",
    "        text,\n",
    "        max_length=512,\n",
    "        padding=\"max_length\",\n",
    "        truncation=True,\n",
    "        return_attention_mask=True,\n",
    "        add_special_tokens=True,\n",
    "        return_tensors=\"pt\"\n",
    "    )\n",
    "\n",
    "    generated_ids = model.model.generate(\n",
    "        input_ids=text_encoding[\"input_ids\"].to(device),\n",
    "        attention_mask=text_encoding[\"attention_mask\"].to(device),\n",
    "        max_length=45,\n",
    "        num_beams=4,\n",
    "        repetition_penalty=2.5,\n",
    "        length_penalty=1.0,\n",
    "        early_stopping=True\n",
    "    )\n",
    "\n",
    "    preds = [tokenizer.decode(gen_id, \n",
    "                              skip_special_tokens=True, \n",
    "                              clean_up_tokenization_spaces=True) for gen_id in generated_ids]\n",
    "\n",
    "    return \" \".join(preds)"
   ]
  },
  {
   "cell_type": "code",
   "execution_count": 43,
   "metadata": {},
   "outputs": [
    {
     "name": "stdout",
     "output_type": "stream",
     "text": [
      "src = transformation of protein 3d structures from their all-atom representation (aar) to the double-centroid reduced representation (dcrr) is a prerequisite to the implementation of both the tetrahedral three-dimensional search motif (3d sm) method for predicting specific ligand binding sites (lbs) in proteins, and the 3d interface search motif tetrahedral pair (3d ismtp) method for predicting binary protein-protein interaction (ppi) partners (reyes, v.m., 2015a & c, 2015b, 2009a, b & c). here we describe results demonstrating the efficacy of the set of fortran 77 and 90 source codes used in the transformation from aar to dcrr and the implementation of the 3d sm and 3d ismtp methods. precisely, we show here the construction of the 3d sm for the biologically important ligands, gtp and sialic acid, from a training set composed of experimentally solved structures of proteins complexed with the pertinent ligand, and their subsequent use in the screening for potential receptor proteins of the two ligands. we also show here the construction of the 3d ismtp for the binary complexes, rac:p67phox and kap:phospho-cdk2, from a training set composed of the experimentally solved complexes, and their subsequent use in the screening for potential protomers of the two complexes. the 15 fortran programs used in the aar to dcrr transformation and the implementation of the two said methods are: get_bbn.f, get_sdc.f, res2cm_bbn.f, res2cm_sdc.f, nrst_ngbr.f, find_hbonds.f, find_vdwints.f, find_clusters.f90, find_trees.f90, find_edgenodes.f90, match_nodes.f, fpbs.f90, gen_chain_separ.f, remove_h_atoms.f and resd_num_reduct.f. two flowcharts - one showing how to implement the tetrahedral 3d sm method to find lbss in proteins, and another how to implement the 3d ismtp method to find binary ppi partners - are presented in our two companion papers (fig. 2, reyes, v.m., 2015a, fig. 1 & 2, reyes, v.m., 2015c).\n",
      "\n",
      "trg = implementation of the double-centroid reduced representation of proteins   and its application to the prediction of ligand binding sites and   protein-protein interaction partners using fortran 77/90 language\n"
     ]
    }
   ],
   "source": [
    "example_idx = 100\n",
    "\n",
    "ex = arx_dataset_train[example_idx]\n",
    "\n",
    "print(f'src = {ex[\"abstract\"]}\\n')\n",
    "print(f'trg = {ex[\"title\"]}')"
   ]
  },
  {
   "cell_type": "code",
   "execution_count": 44,
   "metadata": {},
   "outputs": [
    {
     "name": "stdout",
     "output_type": "stream",
     "text": [
      "pred = tetrahedral three-dimensional search motif\n"
     ]
    }
   ],
   "source": [
    "pred = translate_sentence(ex['abstract'], tokenizer, model)\n",
    "print(f'pred = {pred}')"
   ]
  },
  {
   "cell_type": "markdown",
   "metadata": {},
   "source": [
    "# Submission"
   ]
  },
  {
   "cell_type": "code",
   "execution_count": 45,
   "metadata": {
    "execution": {
     "iopub.execute_input": "2023-03-31T13:24:01.105681Z",
     "iopub.status.busy": "2023-03-31T13:24:01.104591Z",
     "iopub.status.idle": "2023-03-31T13:24:01.152180Z",
     "shell.execute_reply": "2023-03-31T13:24:01.150609Z",
     "shell.execute_reply.started": "2023-03-31T13:24:01.105620Z"
    }
   },
   "outputs": [],
   "source": [
    "submission_data = pd.read_csv('data/test.csv')\n",
    "abstracts = submission_data['abstract'].values"
   ]
  },
  {
   "cell_type": "code",
   "execution_count": 46,
   "metadata": {
    "execution": {
     "iopub.execute_input": "2023-03-31T13:36:34.731188Z",
     "iopub.status.busy": "2023-03-31T13:36:34.730682Z",
     "iopub.status.idle": "2023-03-31T15:51:17.898457Z",
     "shell.execute_reply": "2023-03-31T15:51:17.896771Z",
     "shell.execute_reply.started": "2023-03-31T13:36:34.731147Z"
    }
   },
   "outputs": [
    {
     "name": "stderr",
     "output_type": "stream",
     "text": [
      "  2%|█▍                                                                              | 18/1000 [00:22<23:14,  1.42s/it]D:\\Dev\\jupyter\\projects\\Data Science\\ds_stuff\\Different courses\\Нейронные сети и обработка текста\\venv\\lib\\site-packages\\joblib\\externals\\loky\\process_executor.py:700: UserWarning: A worker stopped while some jobs were given to the executor. This can be caused by a too short worker timeout or by a memory leak.\n",
      "  warnings.warn(\n",
      "100%|██████████████████████████████████████████████████████████████████████████████| 1000/1000 [48:16<00:00,  2.90s/it]\n"
     ]
    }
   ],
   "source": [
    "from joblib import Parallel, delayed\n",
    "\n",
    "_parallel = Parallel(n_jobs=6, max_nbytes=None, timeout=99999)\n",
    "\n",
    "def translate(text):\n",
    "    return translate_sentence(text, tokenizer=tokenizer, model=model)\n",
    "\n",
    "def parallel_function(function, data):\n",
    "    return _parallel(delayed(function)(sample) for sample in tqdm(data))\n",
    "\n",
    "result = parallel_function(translate, abstracts)\n",
    "\n",
    "# titles = []\n",
    "# for abstract in tqdm(abstracts):\n",
    "#     title = translate_sentence(\n",
    "#         model=model,\n",
    "#         text=abstract,\n",
    "#         tokenizer=tokenizer)\n",
    "#     titles.append(title)"
   ]
  },
  {
   "cell_type": "code",
   "execution_count": 47,
   "metadata": {
    "execution": {
     "iopub.execute_input": "2023-03-31T15:51:17.903250Z",
     "iopub.status.busy": "2023-03-31T15:51:17.902280Z",
     "iopub.status.idle": "2023-03-31T15:51:17.914796Z",
     "shell.execute_reply": "2023-03-31T15:51:17.913226Z",
     "shell.execute_reply.started": "2023-03-31T15:51:17.903180Z"
    }
   },
   "outputs": [
    {
     "data": {
      "text/plain": [
       "'a simple neural network with attention'"
      ]
     },
     "execution_count": 47,
     "metadata": {},
     "output_type": "execute_result"
    }
   ],
   "source": [
    "result[0]"
   ]
  },
  {
   "cell_type": "code",
   "execution_count": 48,
   "metadata": {
    "execution": {
     "iopub.execute_input": "2023-03-28T14:35:40.930894Z",
     "iopub.status.busy": "2023-03-28T14:35:40.930190Z",
     "iopub.status.idle": "2023-03-28T14:35:40.959325Z",
     "shell.execute_reply": "2023-03-28T14:35:40.958339Z",
     "shell.execute_reply.started": "2023-03-28T14:35:40.930856Z"
    }
   },
   "outputs": [],
   "source": [
    "submission_df = pd.DataFrame({'abstract': abstracts, 'title': result})\n",
    "submission_df.to_csv('predicted_titles.csv', index=False)"
   ]
  },
  {
   "cell_type": "code",
   "execution_count": 49,
   "metadata": {
    "execution": {
     "iopub.execute_input": "2023-03-28T14:35:42.562489Z",
     "iopub.status.busy": "2023-03-28T14:35:42.561510Z",
     "iopub.status.idle": "2023-03-28T14:35:43.484135Z",
     "shell.execute_reply": "2023-03-28T14:35:43.483079Z",
     "shell.execute_reply.started": "2023-03-28T14:35:42.562447Z"
    }
   },
   "outputs": [],
   "source": [
    "import string\n",
    "from nltk.util import ngrams\n",
    "import numpy as np\n",
    "import pandas as pd\n",
    "import pickle\n",
    "\n",
    "\n",
    "def generate_csv(input_file='predicted_titles.csv',\n",
    "                 output_file='submission.csv',\n",
    "                 voc_file='data/vocs.pkl'):\n",
    "    '''\n",
    "    Generates file in format required for submitting result to Kaggle\n",
    "    \n",
    "    Parameters:\n",
    "        input_file (str) : path to csv file with your predicted titles.\n",
    "                           Should have two fields: abstract and title\n",
    "        output_file (str) : path to output submission file\n",
    "        voc_file (str) : path to voc.pkl file\n",
    "    '''\n",
    "    data = pd.read_csv(input_file).fillna(' ')\n",
    "    with open(voc_file, 'rb') as voc_file:\n",
    "        vocs = pickle.load(voc_file)\n",
    "\n",
    "    with open(output_file, 'w') as res_file:\n",
    "        res_file.write('Id,Predict\\n')\n",
    "        \n",
    "    output_idx = 0\n",
    "    for row_idx, row in data.iterrows():\n",
    "        trg = row['title']\n",
    "        trg = trg.translate(str.maketrans('', '', string.punctuation)).lower().split()\n",
    "        if len(trg) > 1:\n",
    "            trg.extend(['_'.join(ngram) for ngram in list(ngrams(trg, 2)) + list(ngrams(trg, 3))])\n",
    "        \n",
    "        VOCAB_stoi = vocs[row_idx]\n",
    "        trg_intersection = set(VOCAB_stoi.keys()).intersection(set(trg))\n",
    "        trg_vec = np.zeros(len(VOCAB_stoi))    \n",
    "\n",
    "        for word in trg_intersection:\n",
    "            trg_vec[VOCAB_stoi[word]] = 1\n",
    "\n",
    "        with open(output_file, 'a') as res_file:\n",
    "            for is_word in trg_vec:\n",
    "                res_file.write('{0},{1}\\n'.format(output_idx, int(is_word)))\n",
    "                output_idx += 1\n",
    "\n",
    "\n",
    "generate_csv()"
   ]
  },
  {
   "cell_type": "code",
   "execution_count": 50,
   "metadata": {
    "execution": {
     "iopub.execute_input": "2023-03-28T14:35:43.486778Z",
     "iopub.status.busy": "2023-03-28T14:35:43.486072Z",
     "iopub.status.idle": "2023-03-28T14:35:43.543366Z",
     "shell.execute_reply": "2023-03-28T14:35:43.542286Z",
     "shell.execute_reply.started": "2023-03-28T14:35:43.486725Z"
    }
   },
   "outputs": [
    {
     "data": {
      "text/html": [
       "<div>\n",
       "<style scoped>\n",
       "    .dataframe tbody tr th:only-of-type {\n",
       "        vertical-align: middle;\n",
       "    }\n",
       "\n",
       "    .dataframe tbody tr th {\n",
       "        vertical-align: top;\n",
       "    }\n",
       "\n",
       "    .dataframe thead th {\n",
       "        text-align: right;\n",
       "    }\n",
       "</style>\n",
       "<table border=\"1\" class=\"dataframe\">\n",
       "  <thead>\n",
       "    <tr style=\"text-align: right;\">\n",
       "      <th></th>\n",
       "      <th>Id</th>\n",
       "      <th>Predict</th>\n",
       "    </tr>\n",
       "  </thead>\n",
       "  <tbody>\n",
       "    <tr>\n",
       "      <th>0</th>\n",
       "      <td>0</td>\n",
       "      <td>0</td>\n",
       "    </tr>\n",
       "    <tr>\n",
       "      <th>1</th>\n",
       "      <td>1</td>\n",
       "      <td>0</td>\n",
       "    </tr>\n",
       "    <tr>\n",
       "      <th>2</th>\n",
       "      <td>2</td>\n",
       "      <td>0</td>\n",
       "    </tr>\n",
       "    <tr>\n",
       "      <th>3</th>\n",
       "      <td>3</td>\n",
       "      <td>0</td>\n",
       "    </tr>\n",
       "    <tr>\n",
       "      <th>4</th>\n",
       "      <td>4</td>\n",
       "      <td>0</td>\n",
       "    </tr>\n",
       "    <tr>\n",
       "      <th>...</th>\n",
       "      <td>...</td>\n",
       "      <td>...</td>\n",
       "    </tr>\n",
       "    <tr>\n",
       "      <th>343437</th>\n",
       "      <td>343437</td>\n",
       "      <td>0</td>\n",
       "    </tr>\n",
       "    <tr>\n",
       "      <th>343438</th>\n",
       "      <td>343438</td>\n",
       "      <td>0</td>\n",
       "    </tr>\n",
       "    <tr>\n",
       "      <th>343439</th>\n",
       "      <td>343439</td>\n",
       "      <td>0</td>\n",
       "    </tr>\n",
       "    <tr>\n",
       "      <th>343440</th>\n",
       "      <td>343440</td>\n",
       "      <td>1</td>\n",
       "    </tr>\n",
       "    <tr>\n",
       "      <th>343441</th>\n",
       "      <td>343441</td>\n",
       "      <td>1</td>\n",
       "    </tr>\n",
       "  </tbody>\n",
       "</table>\n",
       "<p>343442 rows × 2 columns</p>\n",
       "</div>"
      ],
      "text/plain": [
       "            Id  Predict\n",
       "0            0        0\n",
       "1            1        0\n",
       "2            2        0\n",
       "3            3        0\n",
       "4            4        0\n",
       "...        ...      ...\n",
       "343437  343437        0\n",
       "343438  343438        0\n",
       "343439  343439        0\n",
       "343440  343440        1\n",
       "343441  343441        1\n",
       "\n",
       "[343442 rows x 2 columns]"
      ]
     },
     "execution_count": 50,
     "metadata": {},
     "output_type": "execute_result"
    }
   ],
   "source": [
    "pd.read_csv('submission.csv')"
   ]
  },
  {
   "cell_type": "code",
   "execution_count": 55,
   "metadata": {
    "execution": {
     "iopub.execute_input": "2023-03-28T14:35:46.435381Z",
     "iopub.status.busy": "2023-03-28T14:35:46.434992Z",
     "iopub.status.idle": "2023-03-28T14:35:46.469474Z",
     "shell.execute_reply": "2023-03-28T14:35:46.468481Z",
     "shell.execute_reply.started": "2023-03-28T14:35:46.435343Z"
    }
   },
   "outputs": [
    {
     "data": {
      "text/plain": [
       "0                 a simple neural network with attention\n",
       "1                     an empirical evaluation of doc2vec\n",
       "2          a two-way lstm with conditional random fields\n",
       "3              coverage-based neural machine translation\n",
       "4                         unsupervised image translation\n",
       "                             ...                        \n",
       "995                                  mds subsystem codes\n",
       "996    dirac-harmonic maps from neveu-schwarz type nodes\n",
       "997                 equidistribution of kloosterman sums\n",
       "998    the rate of decay of ruin probabilities for a ...\n",
       "999            on the decoherence of a spin-1/2 particle\n",
       "Name: title, Length: 1000, dtype: object"
      ]
     },
     "execution_count": 55,
     "metadata": {},
     "output_type": "execute_result"
    }
   ],
   "source": [
    "pd.read_csv('predicted_titles.csv')['title']"
   ]
  },
  {
   "cell_type": "code",
   "execution_count": null,
   "metadata": {},
   "outputs": [],
   "source": []
  }
 ],
 "metadata": {
  "kernelspec": {
   "display_name": "samsung_nlp",
   "language": "python",
   "name": "samsung_nlp"
  },
  "language_info": {
   "codemirror_mode": {
    "name": "ipython",
    "version": 3
   },
   "file_extension": ".py",
   "mimetype": "text/x-python",
   "name": "python",
   "nbconvert_exporter": "python",
   "pygments_lexer": "ipython3",
   "version": "3.9.13"
  }
 },
 "nbformat": 4,
 "nbformat_minor": 4
}
