{
 "cells": [
  {
   "cell_type": "markdown",
   "metadata": {},
   "source": [
    "# Arxiv Title Generation"
   ]
  },
  {
   "cell_type": "code",
   "execution_count": 1,
   "metadata": {
    "_cell_guid": "b1076dfc-b9ad-4769-8c92-a6c4dae69d19",
    "_uuid": "8f2839f25d086af736a60e9eeb907d3b93b6e0e5",
    "execution": {
     "iopub.execute_input": "2023-04-04T16:19:18.863413Z",
     "iopub.status.busy": "2023-04-04T16:19:18.862798Z",
     "iopub.status.idle": "2023-04-04T16:19:21.748340Z",
     "shell.execute_reply": "2023-04-04T16:19:21.747186Z",
     "shell.execute_reply.started": "2023-04-04T16:19:18.863354Z"
    }
   },
   "outputs": [],
   "source": [
    "import torch\n",
    "import torch.nn as nn\n",
    "import torch.optim as optim\n",
    "import torch.nn.functional as F\n",
    "import pandas as pd\n",
    "import numpy as np\n",
    "\n",
    "import matplotlib.pyplot as plt\n",
    "import matplotlib.ticker as ticker\n",
    "\n",
    "from tqdm import tqdm\n",
    "\n",
    "import collections\n",
    "import copy\n",
    "import random\n",
    "import math\n",
    "import time\n",
    "import gc\n",
    "\n",
    "def init_random_seed(value=0):\n",
    "    random.seed(value)\n",
    "    np.random.seed(value)\n",
    "    torch.manual_seed(value)\n",
    "    torch.cuda.manual_seed(value)\n",
    "    torch.backends.cudnn.deterministic = True\n",
    "    \n",
    "init_random_seed(1234)"
   ]
  },
  {
   "cell_type": "code",
   "execution_count": 2,
   "metadata": {
    "execution": {
     "iopub.execute_input": "2023-04-03T12:57:34.315789Z",
     "iopub.status.busy": "2023-04-03T12:57:34.314664Z",
     "iopub.status.idle": "2023-04-03T12:57:34.740757Z",
     "shell.execute_reply": "2023-04-03T12:57:34.739703Z",
     "shell.execute_reply.started": "2023-04-03T12:57:34.315739Z"
    }
   },
   "outputs": [
    {
     "data": {
      "application/vnd.jupyter.widget-view+json": {
       "model_id": "26d5fc8fb0c44e98bc0ba2c88d889a4a",
       "version_major": 2,
       "version_minor": 0
      },
      "text/plain": [
       "Downloading (…)okenizer_config.json:   0%|          | 0.00/300 [00:00<?, ?B/s]"
      ]
     },
     "metadata": {},
     "output_type": "display_data"
    },
    {
     "name": "stderr",
     "output_type": "stream",
     "text": [
      "D:\\Dev\\jupyter\\projects\\Data Science\\ds_stuff\\Different courses\\Нейронные сети и обработка текста\\venv\\lib\\site-packages\\huggingface_hub\\file_download.py:133: UserWarning: `huggingface_hub` cache-system uses symlinks by default to efficiently store duplicated files but your machine does not support them in C:\\Users\\Роман\\.cache\\huggingface\\hub. Caching files will still work but in a degraded version that might require more space on your disk. This warning can be disabled by setting the `HF_HUB_DISABLE_SYMLINKS_WARNING` environment variable. For more details, see https://huggingface.co/docs/huggingface_hub/how-to-cache#limitations.\n",
      "To support symlinks on Windows, you either need to activate Developer Mode or to run Python as an administrator. In order to see activate developer mode, see this article: https://docs.microsoft.com/en-us/windows/apps/get-started/enable-your-device-for-development\n",
      "  warnings.warn(message)\n"
     ]
    },
    {
     "data": {
      "application/vnd.jupyter.widget-view+json": {
       "model_id": "a4c91a1753904f1f8789832a71aadb2d",
       "version_major": 2,
       "version_minor": 0
      },
      "text/plain": [
       "Downloading (…)lve/main/config.json:   0%|          | 0.00/4.17k [00:00<?, ?B/s]"
      ]
     },
     "metadata": {},
     "output_type": "display_data"
    },
    {
     "data": {
      "application/vnd.jupyter.widget-view+json": {
       "model_id": "8d049b760e7a4b0da917ac1bf552081f",
       "version_major": 2,
       "version_minor": 0
      },
      "text/plain": [
       "Downloading (…)solve/main/vocab.txt:   0%|          | 0.00/262k [00:00<?, ?B/s]"
      ]
     },
     "metadata": {},
     "output_type": "display_data"
    },
    {
     "data": {
      "application/vnd.jupyter.widget-view+json": {
       "model_id": "594bfe26398d4d5a808c341eb5178e6a",
       "version_major": 2,
       "version_minor": 0
      },
      "text/plain": [
       "Downloading (…)cial_tokens_map.json:   0%|          | 0.00/112 [00:00<?, ?B/s]"
      ]
     },
     "metadata": {},
     "output_type": "display_data"
    }
   ],
   "source": [
    "from transformers import AutoTokenizer, AutoModelForSeq2SeqLM\n",
    "MODEL_NAME = \"Callidior/bert2bert-base-arxiv-titlegen\"\n",
    "tokenizer = AutoTokenizer.from_pretrained(MODEL_NAME)"
   ]
  },
  {
   "cell_type": "code",
   "execution_count": 3,
   "metadata": {
    "execution": {
     "iopub.execute_input": "2023-04-03T12:27:32.222924Z",
     "iopub.status.busy": "2023-04-03T12:27:32.222197Z",
     "iopub.status.idle": "2023-04-03T12:27:32.229655Z",
     "shell.execute_reply": "2023-04-03T12:27:32.228459Z",
     "shell.execute_reply.started": "2023-04-03T12:27:32.222884Z"
    }
   },
   "outputs": [],
   "source": [
    "import os\n",
    "os.environ[\"TOKENIZERS_PARALLELISM\"] = \"false\""
   ]
  },
  {
   "cell_type": "code",
   "execution_count": 4,
   "metadata": {
    "execution": {
     "iopub.execute_input": "2023-04-03T12:27:32.232910Z",
     "iopub.status.busy": "2023-04-03T12:27:32.232418Z",
     "iopub.status.idle": "2023-04-03T12:27:32.297918Z",
     "shell.execute_reply": "2023-04-03T12:27:32.296873Z",
     "shell.execute_reply.started": "2023-04-03T12:27:32.232868Z"
    }
   },
   "outputs": [
    {
     "data": {
      "text/plain": [
       "device(type='cuda')"
      ]
     },
     "execution_count": 4,
     "metadata": {},
     "output_type": "execute_result"
    }
   ],
   "source": [
    "device = torch.device('cuda' if torch.cuda.is_available() else 'cpu')\n",
    "device"
   ]
  },
  {
   "cell_type": "markdown",
   "metadata": {},
   "source": [
    "# Load Data"
   ]
  },
  {
   "cell_type": "code",
   "execution_count": 5,
   "metadata": {
    "execution": {
     "iopub.execute_input": "2023-04-03T12:27:32.300455Z",
     "iopub.status.busy": "2023-04-03T12:27:32.299728Z",
     "iopub.status.idle": "2023-04-03T12:27:32.310461Z",
     "shell.execute_reply": "2023-04-03T12:27:32.309479Z",
     "shell.execute_reply.started": "2023-04-03T12:27:32.300417Z"
    }
   },
   "outputs": [
    {
     "data": {
      "text/plain": [
       "BertTokenizerFast(name_or_path='Callidior/bert2bert-base-arxiv-titlegen', vocab_size=30522, model_max_length=512, is_fast=True, padding_side='right', truncation_side='right', special_tokens={'unk_token': '[UNK]', 'sep_token': '[SEP]', 'pad_token': '[PAD]', 'cls_token': '[CLS]', 'mask_token': '[MASK]'})"
      ]
     },
     "execution_count": 5,
     "metadata": {},
     "output_type": "execute_result"
    }
   ],
   "source": [
    "tokenizer"
   ]
  },
  {
   "cell_type": "code",
   "execution_count": 6,
   "metadata": {
    "execution": {
     "iopub.execute_input": "2023-04-03T12:27:32.313493Z",
     "iopub.status.busy": "2023-04-03T12:27:32.312455Z",
     "iopub.status.idle": "2023-04-03T12:27:34.797483Z",
     "shell.execute_reply": "2023-04-03T12:27:34.796359Z",
     "shell.execute_reply.started": "2023-04-03T12:27:32.313454Z"
    }
   },
   "outputs": [
    {
     "name": "stdout",
     "output_type": "stream",
     "text": [
      "(135000, 2)\n"
     ]
    },
    {
     "data": {
      "text/html": [
       "<div>\n",
       "<style scoped>\n",
       "    .dataframe tbody tr th:only-of-type {\n",
       "        vertical-align: middle;\n",
       "    }\n",
       "\n",
       "    .dataframe tbody tr th {\n",
       "        vertical-align: top;\n",
       "    }\n",
       "\n",
       "    .dataframe thead th {\n",
       "        text-align: right;\n",
       "    }\n",
       "</style>\n",
       "<table border=\"1\" class=\"dataframe\">\n",
       "  <thead>\n",
       "    <tr style=\"text-align: right;\">\n",
       "      <th></th>\n",
       "      <th>abstract</th>\n",
       "      <th>title</th>\n",
       "    </tr>\n",
       "  </thead>\n",
       "  <tbody>\n",
       "    <tr>\n",
       "      <th>0</th>\n",
       "      <td>we consider the problem of utility maximizatio...</td>\n",
       "      <td>on optimal investment with processes of long o...</td>\n",
       "    </tr>\n",
       "    <tr>\n",
       "      <th>1</th>\n",
       "      <td>in this paper we provide an explicit formula f...</td>\n",
       "      <td>boolean complexes for ferrers graphs</td>\n",
       "    </tr>\n",
       "    <tr>\n",
       "      <th>2</th>\n",
       "      <td>kinesin-5, also known as eg5 in vertebrates is...</td>\n",
       "      <td>relative velocity of sliding of microtubules b...</td>\n",
       "    </tr>\n",
       "    <tr>\n",
       "      <th>3</th>\n",
       "      <td>we discuss the transition paths in a coupled b...</td>\n",
       "      <td>bifurcation of transition paths induced by cou...</td>\n",
       "    </tr>\n",
       "    <tr>\n",
       "      <th>4</th>\n",
       "      <td>two types of room temperature detectors of ter...</td>\n",
       "      <td>all-electric detectors of the polarization sta...</td>\n",
       "    </tr>\n",
       "  </tbody>\n",
       "</table>\n",
       "</div>"
      ],
      "text/plain": [
       "                                            abstract  \\\n",
       "0  we consider the problem of utility maximizatio...   \n",
       "1  in this paper we provide an explicit formula f...   \n",
       "2  kinesin-5, also known as eg5 in vertebrates is...   \n",
       "3  we discuss the transition paths in a coupled b...   \n",
       "4  two types of room temperature detectors of ter...   \n",
       "\n",
       "                                               title  \n",
       "0  on optimal investment with processes of long o...  \n",
       "1               boolean complexes for ferrers graphs  \n",
       "2  relative velocity of sliding of microtubules b...  \n",
       "3  bifurcation of transition paths induced by cou...  \n",
       "4  all-electric detectors of the polarization sta...  "
      ]
     },
     "execution_count": 6,
     "metadata": {},
     "output_type": "execute_result"
    }
   ],
   "source": [
    "data = pd.read_csv('data/train.csv')\n",
    "print(data.shape)\n",
    "data.head()"
   ]
  },
  {
   "cell_type": "code",
   "execution_count": 7,
   "metadata": {
    "execution": {
     "iopub.execute_input": "2023-04-03T12:27:34.800593Z",
     "iopub.status.busy": "2023-04-03T12:27:34.798829Z",
     "iopub.status.idle": "2023-04-03T12:27:34.898098Z",
     "shell.execute_reply": "2023-04-03T12:27:34.897073Z",
     "shell.execute_reply.started": "2023-04-03T12:27:34.800540Z"
    }
   },
   "outputs": [],
   "source": [
    "data = data[~(data['abstract'].apply(len) <= data['title'].apply(len))].reset_index(drop=True)"
   ]
  },
  {
   "cell_type": "code",
   "execution_count": 8,
   "metadata": {
    "execution": {
     "iopub.execute_input": "2023-04-03T12:27:34.899755Z",
     "iopub.status.busy": "2023-04-03T12:27:34.899385Z",
     "iopub.status.idle": "2023-04-03T12:27:35.222481Z",
     "shell.execute_reply": "2023-04-03T12:27:35.221417Z",
     "shell.execute_reply.started": "2023-04-03T12:27:34.899716Z"
    }
   },
   "outputs": [],
   "source": [
    "data = data.drop_duplicates().reset_index(drop=True)"
   ]
  },
  {
   "cell_type": "code",
   "execution_count": 9,
   "metadata": {
    "execution": {
     "iopub.execute_input": "2023-04-03T12:27:35.227405Z",
     "iopub.status.busy": "2023-04-03T12:27:35.227107Z",
     "iopub.status.idle": "2023-04-03T12:27:35.422459Z",
     "shell.execute_reply": "2023-04-03T12:27:35.421384Z",
     "shell.execute_reply.started": "2023-04-03T12:27:35.227378Z"
    }
   },
   "outputs": [],
   "source": [
    "data = data[~(data['abstract'].apply(lambda x: 'withdrawn' in x.lower()))]"
   ]
  },
  {
   "cell_type": "code",
   "execution_count": 10,
   "metadata": {
    "execution": {
     "iopub.execute_input": "2023-04-03T12:27:35.425084Z",
     "iopub.status.busy": "2023-04-03T12:27:35.424000Z",
     "iopub.status.idle": "2023-04-03T12:27:35.440184Z",
     "shell.execute_reply": "2023-04-03T12:27:35.439094Z",
     "shell.execute_reply.started": "2023-04-03T12:27:35.425025Z"
    }
   },
   "outputs": [
    {
     "data": {
      "text/plain": [
       "('we study s-wave superconductivity in the two-dimensional square lattice attractive hubbard hamiltonian for various inhomogeneous patterns of interacting sites. using the bogoliubov-de gennes (bdg) mean field approximation, we obtain the phase diagram for inhomogeneous patterns in which the on-site attractive interaction u_i between the electrons takes on two values, u_i=0 and -u/(1-f) (with f the concentration of non-interacting sites) as a function of average electron occupation per site n, and study the evolution of the phase diagram as f varies. in certain regions of the phase diagram, inhomogeneity results in a larger zero temperature average pairing amplitude (order parameter) and also a higher superconducting (sc) critical temperature t_c, relative to a uniform system with the same mean interaction strength (u_i=-u on all sites). these effects are observed for stripes, checkerboard, and even random patterns of the attractive centers, suggesting that the pattern of inhomogeneity is unimportant. the phase diagrams also include regions where superconductivity is obliterated due to the formation of various charge ordered phases. the enhancement of t_{c} due to inhomogeneity is robust as long as the electron doping per site n is less than twice the fraction of interacting sites [2(1-f)] regardless of the pattern. we also show that for certain inhomogeneous patterns, when n = 2(1-f), increasing temperature can work against the stability of existing charge ordered phases for large f and as a result, enhance t_{c}.',\n",
       " 'network strategies to understand the aging process and help age-related   drug design')"
      ]
     },
     "execution_count": 10,
     "metadata": {},
     "output_type": "execute_result"
    }
   ],
   "source": [
    "data.sample(1)['abstract'].values[0], data.sample(1)['title'].values[0]"
   ]
  },
  {
   "cell_type": "code",
   "execution_count": 11,
   "metadata": {
    "execution": {
     "iopub.execute_input": "2023-04-03T12:27:35.442090Z",
     "iopub.status.busy": "2023-04-03T12:27:35.441724Z",
     "iopub.status.idle": "2023-04-03T12:27:35.683738Z",
     "shell.execute_reply": "2023-04-03T12:27:35.682556Z",
     "shell.execute_reply.started": "2023-04-03T12:27:35.442039Z"
    }
   },
   "outputs": [],
   "source": [
    "data = data.drop_duplicates('abstract').reset_index(drop=True)"
   ]
  },
  {
   "cell_type": "code",
   "execution_count": 12,
   "metadata": {
    "execution": {
     "iopub.execute_input": "2023-04-03T12:27:35.686282Z",
     "iopub.status.busy": "2023-04-03T12:27:35.685259Z",
     "iopub.status.idle": "2023-04-03T12:27:35.737717Z",
     "shell.execute_reply": "2023-04-03T12:27:35.736647Z",
     "shell.execute_reply.started": "2023-04-03T12:27:35.686240Z"
    }
   },
   "outputs": [
    {
     "data": {
      "text/plain": [
       "(105209, 2)"
      ]
     },
     "execution_count": 12,
     "metadata": {},
     "output_type": "execute_result"
    }
   ],
   "source": [
    "data = data.drop_duplicates('title').reset_index(drop=True)\n",
    "data.shape"
   ]
  },
  {
   "cell_type": "markdown",
   "metadata": {},
   "source": [
    "# Train-Test split"
   ]
  },
  {
   "cell_type": "code",
   "execution_count": 13,
   "metadata": {
    "execution": {
     "iopub.execute_input": "2023-04-03T12:27:35.739850Z",
     "iopub.status.busy": "2023-04-03T12:27:35.739420Z",
     "iopub.status.idle": "2023-04-03T12:27:35.765940Z",
     "shell.execute_reply": "2023-04-03T12:27:35.764989Z",
     "shell.execute_reply.started": "2023-04-03T12:27:35.739808Z"
    }
   },
   "outputs": [],
   "source": [
    "init_random_seed(1234)\n",
    "\n",
    "val_ratio = 0.01\n",
    "test_ratio = 0.01\n",
    "\n",
    "val_idx = np.random.choice(a=len(data), size=int(len(data)*(val_ratio+test_ratio)), replace=False)\n",
    "\n",
    "train_data = data.drop(val_idx).copy()\n",
    "val_data = data.iloc[val_idx[:len(val_idx)//2]].copy()\n",
    "test_data = data.iloc[val_idx[len(val_idx)//2:]].copy()"
   ]
  },
  {
   "cell_type": "code",
   "execution_count": 14,
   "metadata": {
    "execution": {
     "iopub.execute_input": "2023-04-03T12:27:35.767880Z",
     "iopub.status.busy": "2023-04-03T12:27:35.767491Z",
     "iopub.status.idle": "2023-04-03T12:27:35.776263Z",
     "shell.execute_reply": "2023-04-03T12:27:35.774977Z",
     "shell.execute_reply.started": "2023-04-03T12:27:35.767839Z"
    }
   },
   "outputs": [
    {
     "data": {
      "text/plain": [
       "array([31660, 86648, 50463, ...,  4110, 20593, 80406])"
      ]
     },
     "execution_count": 14,
     "metadata": {},
     "output_type": "execute_result"
    }
   ],
   "source": [
    "val_idx"
   ]
  },
  {
   "cell_type": "code",
   "execution_count": 15,
   "metadata": {
    "execution": {
     "iopub.execute_input": "2023-04-03T12:27:35.778626Z",
     "iopub.status.busy": "2023-04-03T12:27:35.777857Z",
     "iopub.status.idle": "2023-04-03T12:27:35.812919Z",
     "shell.execute_reply": "2023-04-03T12:27:35.811691Z",
     "shell.execute_reply.started": "2023-04-03T12:27:35.778588Z"
    }
   },
   "outputs": [
    {
     "name": "stdout",
     "output_type": "stream",
     "text": [
      "set()\n",
      "set()\n",
      "set()\n"
     ]
    }
   ],
   "source": [
    "# check if there's no intersection among sets\n",
    "print(set(train_data.index).intersection(set(val_data.index)))\n",
    "print(set(train_data.index).intersection(set(test_data.index)))\n",
    "print(set(val_data.index).intersection(set(test_data.index)))"
   ]
  },
  {
   "cell_type": "code",
   "execution_count": 16,
   "metadata": {
    "execution": {
     "iopub.execute_input": "2023-04-03T12:27:35.817037Z",
     "iopub.status.busy": "2023-04-03T12:27:35.816752Z",
     "iopub.status.idle": "2023-04-03T12:27:35.825184Z",
     "shell.execute_reply": "2023-04-03T12:27:35.823829Z",
     "shell.execute_reply.started": "2023-04-03T12:27:35.817011Z"
    }
   },
   "outputs": [
    {
     "data": {
      "text/plain": [
       "('we consider the problem of utility maximization for investors with power utility functions. building on the earlier work larsen et al. (2016), we prove that the value of the problem is a frechet-differentiable function of the drift of the price process, provided that this drift lies in a suitable banach space.   we then study optimal investment problems with non-markovian driving processes. in such models there is no hope to get a formula for the achievable maximal utility. applying results of the first part of the paper we provide first order expansions for certain problems involving fractional brownian motion either in the drift or in the volatility. we also point out how asymptotic results can be derived for models with strong mean reversion.',\n",
       " 'on optimal investment with processes of long or negative memory')"
      ]
     },
     "execution_count": 16,
     "metadata": {},
     "output_type": "execute_result"
    }
   ],
   "source": [
    "train_data.values[0][0], train_data.values[0][1]"
   ]
  },
  {
   "cell_type": "code",
   "execution_count": 17,
   "metadata": {
    "execution": {
     "iopub.execute_input": "2023-04-03T12:27:35.827429Z",
     "iopub.status.busy": "2023-04-03T12:27:35.826717Z",
     "iopub.status.idle": "2023-04-03T12:27:35.836521Z",
     "shell.execute_reply": "2023-04-03T12:27:35.835332Z",
     "shell.execute_reply.started": "2023-04-03T12:27:35.827383Z"
    }
   },
   "outputs": [
    {
     "data": {
      "text/plain": [
       "array(['anderson has recently proposed a theory of the strange metal state above tc in the high tc superconductors. [arxiv:cond-mat/0512471] it is based on the idea that the unusual transport properties and spectral functions are caused by the strong mott- hubbard interactions and can be computed by using the formal apparatus of gutzwiller projection. in ref. 1 anderson computed only the tunneling spectrum and the power-law exponent of the infrared conductivity. he had calculated the energy distribution curves (edcs) in angle resolved photoemission spectroscopy (arpes) but was discouraged when these differed radically from the best arpes measurements available at the time, and did not include them. in this letter we compare the spectral functions computed within this model to the novel laser-arpes data of the dessau group.these are found to capture the shape of the experimental edcs with unprecedented accuracy and in principle have only one free parameter.',\n",
       "       'accurate theoretical fits to laser arpes edcs in the normal phase of   cuprate superconductors'],\n",
       "      dtype=object)"
      ]
     },
     "execution_count": 17,
     "metadata": {},
     "output_type": "execute_result"
    }
   ],
   "source": [
    "test_data.values[0]"
   ]
  },
  {
   "cell_type": "code",
   "execution_count": 18,
   "metadata": {
    "execution": {
     "iopub.execute_input": "2023-04-03T12:27:35.838852Z",
     "iopub.status.busy": "2023-04-03T12:27:35.838500Z",
     "iopub.status.idle": "2023-04-03T12:27:35.848345Z",
     "shell.execute_reply": "2023-04-03T12:27:35.846911Z",
     "shell.execute_reply.started": "2023-04-03T12:27:35.838811Z"
    }
   },
   "outputs": [
    {
     "name": "stdout",
     "output_type": "stream",
     "text": [
      "{'input_ids': [101, 8321, 9373, 16142, 2000, 9138, 12098, 10374, 3968, 6169, 1999, 1996, 3671, 4403, 1997, 2452, 11657, 3565, 8663, 8566, 24817, 102], 'token_type_ids': [0, 0, 0, 0, 0, 0, 0, 0, 0, 0, 0, 0, 0, 0, 0, 0, 0, 0, 0, 0, 0, 0], 'attention_mask': [1, 1, 1, 1, 1, 1, 1, 1, 1, 1, 1, 1, 1, 1, 1, 1, 1, 1, 1, 1, 1, 1]}\n"
     ]
    }
   ],
   "source": [
    "encoded_sample = tokenizer(test_data['title'].values[0])\n",
    "print(encoded_sample)"
   ]
  },
  {
   "cell_type": "code",
   "execution_count": 19,
   "metadata": {
    "execution": {
     "iopub.execute_input": "2023-04-03T12:27:35.851245Z",
     "iopub.status.busy": "2023-04-03T12:27:35.849988Z",
     "iopub.status.idle": "2023-04-03T12:27:36.064888Z",
     "shell.execute_reply": "2023-04-03T12:27:36.063641Z",
     "shell.execute_reply.started": "2023-04-03T12:27:35.851205Z"
    }
   },
   "outputs": [
    {
     "name": "stdout",
     "output_type": "stream",
     "text": [
      "[CLS] accurate theoretical fits to laser arpes edcs in the normal phase of cuprate superconductors [SEP]\n"
     ]
    },
    {
     "data": {
      "text/plain": [
       "8"
      ]
     },
     "execution_count": 19,
     "metadata": {},
     "output_type": "execute_result"
    }
   ],
   "source": [
    "print(tokenizer.decode(encoded_sample.input_ids))\n",
    "del encoded_sample\n",
    "gc.collect()"
   ]
  },
  {
   "cell_type": "markdown",
   "metadata": {},
   "source": [
    "## Sorting texts by their length"
   ]
  },
  {
   "cell_type": "code",
   "execution_count": 20,
   "metadata": {
    "execution": {
     "iopub.execute_input": "2023-04-03T12:27:36.067155Z",
     "iopub.status.busy": "2023-04-03T12:27:36.066744Z",
     "iopub.status.idle": "2023-04-03T12:28:48.617314Z",
     "shell.execute_reply": "2023-04-03T12:28:48.616140Z",
     "shell.execute_reply.started": "2023-04-03T12:27:36.067112Z"
    }
   },
   "outputs": [
    {
     "name": "stderr",
     "output_type": "stream",
     "text": [
      "Token indices sequence length is longer than the specified maximum sequence length for this model (556 > 512). Running this sequence through the model will result in indexing errors\n"
     ]
    },
    {
     "name": "stdout",
     "output_type": "stream",
     "text": [
      "CPU times: total: 57.8 s\n",
      "Wall time: 57.8 s\n"
     ]
    }
   ],
   "source": [
    "%%time\n",
    "train_data['len_abstract'] = train_data['abstract'].apply(lambda x: len(tokenizer.encode(x)))\n",
    "train_data['len_title'] = train_data['title'].apply(lambda x: len(tokenizer.encode(x)))\n",
    "train_data = train_data.sort_values(['len_abstract', 'len_title'], ascending=False)\n",
    "\n",
    "val_data['len_abstract'] = val_data['abstract'].apply(lambda x: len(tokenizer.encode(x)))\n",
    "val_data['len_title'] = val_data['title'].apply(lambda x: len(tokenizer.encode(x)))\n",
    "val_data = val_data.sort_values(['len_abstract', 'len_title'], ascending=False)\n",
    "\n",
    "test_data['len_abstract'] = test_data['abstract'].apply(lambda x: len(tokenizer.encode(x)))\n",
    "test_data['len_title'] = test_data['title'].apply(lambda x: len(tokenizer.encode(x)))\n",
    "test_data = test_data.sort_values(['len_abstract', 'len_title'], ascending=False)"
   ]
  },
  {
   "cell_type": "code",
   "execution_count": 21,
   "metadata": {
    "execution": {
     "iopub.execute_input": "2023-04-03T12:28:48.619615Z",
     "iopub.status.busy": "2023-04-03T12:28:48.619055Z",
     "iopub.status.idle": "2023-04-03T12:28:48.629018Z",
     "shell.execute_reply": "2023-04-03T12:28:48.627813Z",
     "shell.execute_reply.started": "2023-04-03T12:28:48.619563Z"
    }
   },
   "outputs": [
    {
     "data": {
      "text/plain": [
       "(1096, 103)"
      ]
     },
     "execution_count": 21,
     "metadata": {},
     "output_type": "execute_result"
    }
   ],
   "source": [
    "train_data['len_abstract'].max(), train_data['len_title'].max()"
   ]
  },
  {
   "cell_type": "code",
   "execution_count": 22,
   "metadata": {},
   "outputs": [
    {
     "data": {
      "text/plain": [
       "(16.072692885893023, 15.0)"
      ]
     },
     "execution_count": 22,
     "metadata": {},
     "output_type": "execute_result"
    }
   ],
   "source": [
    "train_data['len_title'].mean(), train_data['len_title'].median()"
   ]
  },
  {
   "cell_type": "code",
   "execution_count": 23,
   "metadata": {},
   "outputs": [
    {
     "data": {
      "text/plain": [
       "(190.76232966393482, 180.0)"
      ]
     },
     "execution_count": 23,
     "metadata": {},
     "output_type": "execute_result"
    }
   ],
   "source": [
    "train_data['len_abstract'].mean(), train_data['len_abstract'].median()"
   ]
  },
  {
   "cell_type": "code",
   "execution_count": 24,
   "metadata": {
    "execution": {
     "iopub.execute_input": "2023-04-03T12:30:17.589993Z",
     "iopub.status.busy": "2023-04-03T12:30:17.588991Z",
     "iopub.status.idle": "2023-04-03T12:30:17.601166Z",
     "shell.execute_reply": "2023-04-03T12:30:17.599324Z",
     "shell.execute_reply.started": "2023-04-03T12:30:17.589953Z"
    }
   },
   "outputs": [],
   "source": [
    "class ArxivDataset(torch.utils.data.Dataset):\n",
    "    def __init__(self,\n",
    "                 src,\n",
    "                 trg,\n",
    "                 tokenizer,\n",
    "                 src_max_len,\n",
    "                 trg_max_len\n",
    "                ):\n",
    "        self.src = src\n",
    "        self.trg = trg\n",
    "        self.tokenizer = tokenizer\n",
    "        self.src_max_len = src_max_len\n",
    "        self.trg_max_len = trg_max_len\n",
    "        \n",
    "    def __len__(self):\n",
    "        return len(self.src)\n",
    "    \n",
    "    def __getitem__(self, i):\n",
    "        # добавляем токены начала и конца предложения\n",
    "        src_i = self.src[i]\n",
    "        trg_i = self.trg[i]\n",
    "        \n",
    "        src_encoding = self.tokenizer(\n",
    "            src_i,\n",
    "            max_length=self.src_max_len,\n",
    "            padding=\"max_length\",\n",
    "            truncation=True,\n",
    "            return_attention_mask=True,\n",
    "            add_special_tokens=True,\n",
    "            return_tensors=\"pt\"\n",
    "        )\n",
    "        \n",
    "        trg_encoding = self.tokenizer(\n",
    "            trg_i,\n",
    "            max_length=self.trg_max_len,\n",
    "            padding=\"max_length\",\n",
    "            truncation=True,\n",
    "            return_attention_mask=True,\n",
    "            add_special_tokens=True,\n",
    "            return_tensors=\"pt\"\n",
    "        )\n",
    "        \n",
    "        labels = trg_encoding[\"input_ids\"]\n",
    "        labels[labels == 0] = -100\n",
    "        \n",
    "        return dict(abstract=src_i,\n",
    "                    title=trg_i,\n",
    "                    abstract_input_ids=src_encoding[\"input_ids\"].flatten(),\n",
    "                    abstract_attention_mask=src_encoding[\"attention_mask\"].flatten(),\n",
    "                    labels=labels.flatten(),\n",
    "                    labels_attention_mask=trg_encoding[\"attention_mask\"].flatten())"
   ]
  },
  {
   "cell_type": "code",
   "execution_count": 25,
   "metadata": {
    "execution": {
     "iopub.execute_input": "2023-04-03T12:30:25.786264Z",
     "iopub.status.busy": "2023-04-03T12:30:25.785640Z",
     "iopub.status.idle": "2023-04-03T12:30:25.802459Z",
     "shell.execute_reply": "2023-04-03T12:30:25.801133Z",
     "shell.execute_reply.started": "2023-04-03T12:30:25.786224Z"
    }
   },
   "outputs": [
    {
     "name": "stdout",
     "output_type": "stream",
     "text": [
      "CPU times: total: 0 ns\n",
      "Wall time: 4.01 ms\n"
     ]
    }
   ],
   "source": [
    "%%time\n",
    "arx_dataset_train = ArxivDataset(\n",
    "    train_data['abstract'].values.tolist(),\n",
    "    train_data['title'].values.tolist(),\n",
    "    tokenizer,\n",
    "    src_max_len=512,\n",
    "    trg_max_len=35\n",
    ")\n",
    "arx_dataset_val = ArxivDataset(\n",
    "    val_data['abstract'].values.tolist(),\n",
    "    val_data['title'].values.tolist(),\n",
    "    tokenizer,\n",
    "    src_max_len=512,\n",
    "    trg_max_len=35\n",
    ")\n",
    "arx_dataset_test = ArxivDataset(\n",
    "    test_data['abstract'].values.tolist(),\n",
    "    test_data['title'].values.tolist(),\n",
    "    tokenizer,\n",
    "    src_max_len=512,\n",
    "    trg_max_len=35\n",
    ")"
   ]
  },
  {
   "cell_type": "code",
   "execution_count": 26,
   "metadata": {
    "execution": {
     "iopub.execute_input": "2023-04-03T12:30:27.466410Z",
     "iopub.status.busy": "2023-04-03T12:30:27.466009Z",
     "iopub.status.idle": "2023-04-03T12:30:27.490282Z",
     "shell.execute_reply": "2023-04-03T12:30:27.489129Z",
     "shell.execute_reply.started": "2023-04-03T12:30:27.466379Z"
    }
   },
   "outputs": [
    {
     "name": "stdout",
     "output_type": "stream",
     "text": [
      "{'abstract': 'superoxide reductase (sor) is an fe protein that catalyzes the reduction of superoxide to give h(2)o(2). recently, the mutation of the glu47 residue into alanine (e47a) in the active site of sor from desulfoarculus baarsii has allowed the stabilization of an iron-peroxo species when quickly reacted with h(2)o(2) [math{\\\\\\'e} et al. (2002) j. am. chem. soc. 124, 4966-4967]. to further investigate this non-heme peroxo-iron species, we have carried out a m{\\\\\"o}ssbauer study of the (57)fe-enriched e47a sor from d. baarsii reacted quickly with h(2)o(2). considering the m{\\\\\"o}ssbauer data, we conclude, in conjunction with the other spectroscopic data available and with the results of density functional calculations on related models, that this species corresponds to a high-spin side-on peroxo-fe(3+) complex. this is one of the first examples of such a species in a biological system for which m{\\\\\"o}ssbauer parameters are now available: delta(/fe) = 0.54 (1) mm/s, deltae(q) = -0.80 (5) mm/s, and the asymmetry parameter eta = 0.60 (5) mm/s. the m{\\\\\"o}ssbauer and spin hamiltonian parameters have been evaluated on a model from the side-on peroxo complex (model 2) issued from the oxidized iron center in sor from pyrococcus furiosus, for which structural data are available in the literature [yeh et al. (2000) biochemistry 39, 2499-2508]. for comparison, similar calculations have been carried out on a model derived from 2 (model 3), where the [ch(3)-s](1)(-) group has been replaced by the neutral [nh(3)](0) group [neese and solomon (1998) j. am. chem. soc. 120, 12829-12848]. both models 2 and 3 contain a formally high-spin fe(3+) ion (i.e., with empty minority spin orbitals). we found, however, a significant fraction (approximately 0.6 for 2, approximately 0.8 for 3) of spin (equivalently charge) spread over two occupied (minority spin) orbitals. the quadrupole splitting value for 2 is found to be negative and matches quite well the experimental value. the computed quadrupole tensors are rhombic in the case of 2 and axial in the case of 3. this difference originates directly from the presence of the thiolate ligand in 2. a correlation between experimental isomer shifts for fe(3+) mononuclear complexes with computed electron densities at the iron nucleus has been built and used to evaluate the isomer shift values for 2 and 3 (0.56 and 0.63 mm/s, respectively). a significant increase of isomer shift value is found upon going from a methylthiolate to a nitrogen ligand for the fe(3+) ion, consistent with covalency effects due to the presence of the axial thiolate ligand. considering that the isomer shift value for 3 is likely to be in the 0.61-0.65 mm/s range [horner et al. (2002) eur. j. inorg. chem., 3278-3283], the isomer shift value for a high-spin eta(2)-o(2) fe(3+) complex with an axial thiolate group can be estimated to be in the 0.54-0.58 mm/s range. the occurrence of a side-on peroxo intermediate in sor is discussed in relation to the recent data published for a side-on peroxo-fe(3+) species in another biological system [karlsson et al. (2003) science 299, 1039-1042].', 'title': 'm{\\\\\"o}ssbauer characterization of an unusual high-spin side-on   peroxo-fe3+ species in the active site of superoxide reductase from   desulfoarculus baarsii. density functional calculations on related models', 'abstract_input_ids': tensor([  101,  3565, 28479,  2417, 14194, 18260,  1006,  2061,  2099,  1007,\n",
      "         2003,  2019, 10768,  5250,  2008,  4937, 20766, 11254,  1996,  7312,\n",
      "         1997,  3565, 28479,  2000,  2507,  1044,  1006,  1016,  1007,  1051,\n",
      "         1006,  1016,  1007,  1012,  3728,  1010,  1996, 16221,  1997,  1996,\n",
      "         1043,  7630, 22610, 21755,  2046,  5070,  3170,  1006,  1041, 22610,\n",
      "         2050,  1007,  1999,  1996,  3161,  2609,  1997,  2061,  2099,  2013,\n",
      "         4078, 21007, 10441, 11890, 11627,  8670, 11650,  6137,  2038,  3039,\n",
      "         1996, 28715,  1997,  2019,  3707,  1011,  2566, 11636,  2080,  2427,\n",
      "         2043,  2855, 14831,  2007,  1044,  1006,  1016,  1007,  1051,  1006,\n",
      "         1016,  1007,  1031,  8785,  1063,  1032,  1005,  1041,  1065,  3802,\n",
      "         2632,  1012,  1006,  2526,  1007,  1046,  1012,  2572,  1012, 18178,\n",
      "         2213,  1012, 27084,  1012, 13412,  1010,  4749, 28756,  1011,  4749,\n",
      "         2575,  2581,  1033,  1012,  2000,  2582,  8556,  2023,  2512,  1011,\n",
      "        19610,  2063,  2566, 11636,  2080,  1011,  3707,  2427,  1010,  2057,\n",
      "         2031,  3344,  2041,  1037,  1049,  1063,  1032,  1000,  1051,  1065,\n",
      "         7020, 27773,  2121,  2817,  1997,  1996,  1006,  5401,  1007, 10768,\n",
      "         1011, 25202,  1041, 22610,  2050,  2061,  2099,  2013,  1040,  1012,\n",
      "         8670, 11650,  6137, 14831,  2855,  2007,  1044,  1006,  1016,  1007,\n",
      "         1051,  1006,  1016,  1007,  1012,  6195,  1996,  1049,  1063,  1032,\n",
      "         1000,  1051,  1065,  7020, 27773,  2121,  2951,  1010,  2057, 16519,\n",
      "         1010,  1999,  9595,  2007,  1996,  2060, 28699, 13181, 24895,  2951,\n",
      "         2800,  1998,  2007,  1996,  3463,  1997,  4304,  8360, 16268,  2006,\n",
      "         3141,  4275,  1010,  2008,  2023,  2427, 14788,  2000,  1037,  2152,\n",
      "         1011,  6714,  2217,  1011,  2006,  2566, 11636,  2080,  1011, 10768,\n",
      "         1006,  1017,  1009,  1007,  3375,  1012,  2023,  2003,  2028,  1997,\n",
      "         1996,  2034,  4973,  1997,  2107,  1037,  2427,  1999,  1037,  6897,\n",
      "         2291,  2005,  2029,  1049,  1063,  1032,  1000,  1051,  1065,  7020,\n",
      "        27773,  2121, 11709,  2024,  2085,  2800,  1024,  7160,  1006,  1013,\n",
      "        10768,  1007,  1027,  1014,  1012,  5139,  1006,  1015,  1007,  3461,\n",
      "         1013,  1055,  1010,  7160,  2063,  1006,  1053,  1007,  1027,  1011,\n",
      "         1014,  1012,  3770,  1006,  1019,  1007,  3461,  1013,  1055,  1010,\n",
      "         1998,  1996,  2004, 24335, 24327, 16381, 27859,  1027,  1014,  1012,\n",
      "         3438,  1006,  1019,  1007,  3461,  1013,  1055,  1012,  1996,  1049,\n",
      "         1063,  1032,  1000,  1051,  1065,  7020, 27773,  2121,  1998,  6714,\n",
      "         5226,  2937, 11709,  2031,  2042, 16330,  2006,  1037,  2944,  2013,\n",
      "         1996,  2217,  1011,  2006,  2566, 11636,  2080,  3375,  1006,  2944,\n",
      "         1016,  1007,  3843,  2013,  1996, 23060, 28173,  5422,  3707,  2415,\n",
      "         1999,  2061,  2099,  2013,  1052, 12541, 24163, 27631,  6519, 10735,\n",
      "         2271,  1010,  2005,  2029,  8332,  2951,  2024,  2800,  1999,  1996,\n",
      "         3906,  1031,  6300,  2232,  3802,  2632,  1012,  1006,  2456,  1007,\n",
      "        22419,  4464,  1010, 23628,  2683,  1011,  5539,  2620,  1033,  1012,\n",
      "         2005,  7831,  1010,  2714, 16268,  2031,  2042,  3344,  2041,  2006,\n",
      "         1037,  2944,  5173,  2013,  1016,  1006,  2944,  1017,  1007,  1010,\n",
      "         2073,  1996,  1031, 10381,  1006,  1017,  1007,  1011,  1055,  1033,\n",
      "         1006,  1015,  1007,  1006,  1011,  1007,  2177,  2038,  2042,  2999,\n",
      "         2011,  1996,  8699,  1031, 18699,  1006,  1017,  1007,  1033,  1006,\n",
      "         1014,  1007,  2177,  1031,  7663,  3366,  1998,  9168,  1006,  2687,\n",
      "         1007,  1046,  1012,  2572,  1012, 18178,  2213,  1012, 27084,  1012,\n",
      "         6036,  1010, 11899, 24594,  1011, 11899, 18139,  1033,  1012,  2119,\n",
      "         4275,  1016,  1998,  1017,  5383,  1037,  6246,  2152,  1011,  6714,\n",
      "        10768,  1006,  1017,  1009,  1007, 10163,  1006,  1045,  1012,  1041,\n",
      "         1012,   102]), 'abstract_attention_mask': tensor([1, 1, 1, 1, 1, 1, 1, 1, 1, 1, 1, 1, 1, 1, 1, 1, 1, 1, 1, 1, 1, 1, 1, 1,\n",
      "        1, 1, 1, 1, 1, 1, 1, 1, 1, 1, 1, 1, 1, 1, 1, 1, 1, 1, 1, 1, 1, 1, 1, 1,\n",
      "        1, 1, 1, 1, 1, 1, 1, 1, 1, 1, 1, 1, 1, 1, 1, 1, 1, 1, 1, 1, 1, 1, 1, 1,\n",
      "        1, 1, 1, 1, 1, 1, 1, 1, 1, 1, 1, 1, 1, 1, 1, 1, 1, 1, 1, 1, 1, 1, 1, 1,\n",
      "        1, 1, 1, 1, 1, 1, 1, 1, 1, 1, 1, 1, 1, 1, 1, 1, 1, 1, 1, 1, 1, 1, 1, 1,\n",
      "        1, 1, 1, 1, 1, 1, 1, 1, 1, 1, 1, 1, 1, 1, 1, 1, 1, 1, 1, 1, 1, 1, 1, 1,\n",
      "        1, 1, 1, 1, 1, 1, 1, 1, 1, 1, 1, 1, 1, 1, 1, 1, 1, 1, 1, 1, 1, 1, 1, 1,\n",
      "        1, 1, 1, 1, 1, 1, 1, 1, 1, 1, 1, 1, 1, 1, 1, 1, 1, 1, 1, 1, 1, 1, 1, 1,\n",
      "        1, 1, 1, 1, 1, 1, 1, 1, 1, 1, 1, 1, 1, 1, 1, 1, 1, 1, 1, 1, 1, 1, 1, 1,\n",
      "        1, 1, 1, 1, 1, 1, 1, 1, 1, 1, 1, 1, 1, 1, 1, 1, 1, 1, 1, 1, 1, 1, 1, 1,\n",
      "        1, 1, 1, 1, 1, 1, 1, 1, 1, 1, 1, 1, 1, 1, 1, 1, 1, 1, 1, 1, 1, 1, 1, 1,\n",
      "        1, 1, 1, 1, 1, 1, 1, 1, 1, 1, 1, 1, 1, 1, 1, 1, 1, 1, 1, 1, 1, 1, 1, 1,\n",
      "        1, 1, 1, 1, 1, 1, 1, 1, 1, 1, 1, 1, 1, 1, 1, 1, 1, 1, 1, 1, 1, 1, 1, 1,\n",
      "        1, 1, 1, 1, 1, 1, 1, 1, 1, 1, 1, 1, 1, 1, 1, 1, 1, 1, 1, 1, 1, 1, 1, 1,\n",
      "        1, 1, 1, 1, 1, 1, 1, 1, 1, 1, 1, 1, 1, 1, 1, 1, 1, 1, 1, 1, 1, 1, 1, 1,\n",
      "        1, 1, 1, 1, 1, 1, 1, 1, 1, 1, 1, 1, 1, 1, 1, 1, 1, 1, 1, 1, 1, 1, 1, 1,\n",
      "        1, 1, 1, 1, 1, 1, 1, 1, 1, 1, 1, 1, 1, 1, 1, 1, 1, 1, 1, 1, 1, 1, 1, 1,\n",
      "        1, 1, 1, 1, 1, 1, 1, 1, 1, 1, 1, 1, 1, 1, 1, 1, 1, 1, 1, 1, 1, 1, 1, 1,\n",
      "        1, 1, 1, 1, 1, 1, 1, 1, 1, 1, 1, 1, 1, 1, 1, 1, 1, 1, 1, 1, 1, 1, 1, 1,\n",
      "        1, 1, 1, 1, 1, 1, 1, 1, 1, 1, 1, 1, 1, 1, 1, 1, 1, 1, 1, 1, 1, 1, 1, 1,\n",
      "        1, 1, 1, 1, 1, 1, 1, 1, 1, 1, 1, 1, 1, 1, 1, 1, 1, 1, 1, 1, 1, 1, 1, 1,\n",
      "        1, 1, 1, 1, 1, 1, 1, 1]), 'labels': tensor([  101,  1049,  1063,  1032,  1000,  1051,  1065,  7020, 27773,  2121,\n",
      "        23191,  1997,  2019,  5866,  2152,  1011,  6714,  2217,  1011,  2006,\n",
      "         2566, 11636,  2080,  1011, 10768,  2509,  1009,  2427,  1999,  1996,\n",
      "         3161,  2609,  1997,  3565,   102]), 'labels_attention_mask': tensor([1, 1, 1, 1, 1, 1, 1, 1, 1, 1, 1, 1, 1, 1, 1, 1, 1, 1, 1, 1, 1, 1, 1, 1,\n",
      "        1, 1, 1, 1, 1, 1, 1, 1, 1, 1, 1])}\n"
     ]
    }
   ],
   "source": [
    "print(arx_dataset_train[1])"
   ]
  },
  {
   "cell_type": "code",
   "execution_count": 27,
   "metadata": {
    "execution": {
     "iopub.execute_input": "2023-04-03T12:30:27.965596Z",
     "iopub.status.busy": "2023-04-03T12:30:27.965196Z",
     "iopub.status.idle": "2023-04-03T12:30:27.972671Z",
     "shell.execute_reply": "2023-04-03T12:30:27.971642Z",
     "shell.execute_reply.started": "2023-04-03T12:30:27.965555Z"
    }
   },
   "outputs": [],
   "source": [
    "BATCH_SIZE = 32\n",
    "train_data_loader = torch.utils.data.DataLoader(\n",
    "    arx_dataset_train,\n",
    "    batch_size=BATCH_SIZE,\n",
    "    shuffle=False\n",
    ")"
   ]
  },
  {
   "cell_type": "code",
   "execution_count": 28,
   "metadata": {
    "execution": {
     "iopub.execute_input": "2023-04-03T12:30:46.648100Z",
     "iopub.status.busy": "2023-04-03T12:30:46.647338Z",
     "iopub.status.idle": "2023-04-03T12:30:47.499729Z",
     "shell.execute_reply": "2023-04-03T12:30:47.494226Z",
     "shell.execute_reply.started": "2023-04-03T12:30:46.648016Z"
    }
   },
   "outputs": [
    {
     "name": "stdout",
     "output_type": "stream",
     "text": [
      "torch.Size([32, 512])\n",
      "torch.Size([32, 512])\n",
      "torch.Size([32, 512])\n"
     ]
    }
   ],
   "source": [
    "j = 0\n",
    "for data in train_data_loader:\n",
    "    print(data['abstract_input_ids'].to(device).shape)\n",
    "    j += 1\n",
    "    if j == 3:\n",
    "        break\n",
    "        \n",
    "# del train_data_loader#, val_data_loader, test_data_loader\n",
    "# gc.collect()\n",
    "# torch.cuda.empty_cache()"
   ]
  },
  {
   "cell_type": "markdown",
   "metadata": {},
   "source": [
    "# Modeling"
   ]
  },
  {
   "cell_type": "code",
   "execution_count": 29,
   "metadata": {
    "execution": {
     "iopub.execute_input": "2023-04-03T12:30:51.811055Z",
     "iopub.status.busy": "2023-04-03T12:30:51.810028Z",
     "iopub.status.idle": "2023-04-03T12:30:51.818056Z",
     "shell.execute_reply": "2023-04-03T12:30:51.816884Z",
     "shell.execute_reply.started": "2023-04-03T12:30:51.811002Z"
    }
   },
   "outputs": [],
   "source": [
    "class ArxivModel(torch.nn.Module):\n",
    "    def __init__(self, model_name):\n",
    "        super(ArxivModel, self).__init__()\n",
    "        \n",
    "        self.model = AutoModelForSeq2SeqLM.from_pretrained(model_name, return_dict=True)\n",
    "\n",
    "    def forward(self, input_ids, attention_mask, decoder_attention_mask, labels=None):\n",
    "\n",
    "        x = self.model(input_ids,\n",
    "                       attention_mask=attention_mask,\n",
    "                       decoder_attention_mask=decoder_attention_mask,\n",
    "                       labels=labels\n",
    "                       )\n",
    "        \n",
    "        return x.logits, x.loss"
   ]
  },
  {
   "cell_type": "code",
   "execution_count": 30,
   "metadata": {
    "execution": {
     "iopub.execute_input": "2023-04-03T12:57:39.587698Z",
     "iopub.status.busy": "2023-04-03T12:57:39.586989Z",
     "iopub.status.idle": "2023-04-03T12:57:43.915873Z",
     "shell.execute_reply": "2023-04-03T12:57:43.914650Z",
     "shell.execute_reply.started": "2023-04-03T12:57:39.587661Z"
    }
   },
   "outputs": [
    {
     "data": {
      "application/vnd.jupyter.widget-view+json": {
       "model_id": "faba23537ec847efb2d7d11285934473",
       "version_major": 2,
       "version_minor": 0
      },
      "text/plain": [
       "Downloading pytorch_model.bin:   0%|          | 0.00/990M [00:00<?, ?B/s]"
      ]
     },
     "metadata": {},
     "output_type": "display_data"
    }
   ],
   "source": [
    "model = ArxivModel(MODEL_NAME).to(device)"
   ]
  },
  {
   "cell_type": "code",
   "execution_count": 31,
   "metadata": {
    "execution": {
     "iopub.execute_input": "2023-04-03T12:57:47.754613Z",
     "iopub.status.busy": "2023-04-03T12:57:47.753901Z",
     "iopub.status.idle": "2023-04-03T12:57:47.763234Z",
     "shell.execute_reply": "2023-04-03T12:57:47.761970Z",
     "shell.execute_reply.started": "2023-04-03T12:57:47.754576Z"
    }
   },
   "outputs": [
    {
     "name": "stdout",
     "output_type": "stream",
     "text": [
      "The model has 247,363,386 trainable parameters\n"
     ]
    }
   ],
   "source": [
    "def count_parameters(model):\n",
    "    return sum(p.numel() for p in model.parameters() if p.requires_grad)\n",
    "\n",
    "print(f'The model has {count_parameters(model):,} trainable parameters')"
   ]
  },
  {
   "cell_type": "code",
   "execution_count": 32,
   "metadata": {
    "execution": {
     "iopub.execute_input": "2023-04-03T12:58:29.155552Z",
     "iopub.status.busy": "2023-04-03T12:58:29.154931Z",
     "iopub.status.idle": "2023-04-03T12:58:29.163613Z",
     "shell.execute_reply": "2023-04-03T12:58:29.162276Z",
     "shell.execute_reply.started": "2023-04-03T12:58:29.155507Z"
    }
   },
   "outputs": [],
   "source": [
    "optimizer = optim.AdamW(model.parameters(), lr=0.00005)\n",
    "criterion = nn.CrossEntropyLoss(ignore_index=-100)\n",
    "lr_sched = None"
   ]
  },
  {
   "cell_type": "code",
   "execution_count": 33,
   "metadata": {
    "execution": {
     "iopub.execute_input": "2023-04-03T12:58:34.138831Z",
     "iopub.status.busy": "2023-04-03T12:58:34.138087Z",
     "iopub.status.idle": "2023-04-03T12:58:34.143339Z",
     "shell.execute_reply": "2023-04-03T12:58:34.142140Z",
     "shell.execute_reply.started": "2023-04-03T12:58:34.138774Z"
    }
   },
   "outputs": [],
   "source": [
    "def lr_scheduler(optimizer):\n",
    "    return torch.optim.lr_scheduler.ReduceLROnPlateau(optimizer,\n",
    "                                                      patience=3,\n",
    "                                                      factor=0.5,\n",
    "                                                      verbose=True)\n",
    "\n",
    "lr_sched = lr_scheduler(optimizer)"
   ]
  },
  {
   "cell_type": "code",
   "execution_count": 34,
   "metadata": {
    "execution": {
     "iopub.execute_input": "2023-04-03T12:58:35.085748Z",
     "iopub.status.busy": "2023-04-03T12:58:35.085023Z",
     "iopub.status.idle": "2023-04-03T12:58:35.104112Z",
     "shell.execute_reply": "2023-04-03T12:58:35.102786Z",
     "shell.execute_reply.started": "2023-04-03T12:58:35.085710Z"
    }
   },
   "outputs": [],
   "source": [
    "import matplotlib\n",
    "matplotlib.rcParams.update({'figure.figsize': (16, 12), 'font.size': 14})\n",
    "import matplotlib.pyplot as plt\n",
    "%matplotlib inline\n",
    "from IPython.display import clear_output\n",
    "\n",
    "def train(model, iterator, optimizer, criterion, clip, train_history=None, valid_history=None):\n",
    "    \n",
    "    model.train()\n",
    "    \n",
    "    epoch_loss = 0\n",
    "    history = []\n",
    "    \n",
    "    for i, batch in enumerate(iterator):\n",
    "        \n",
    "        input_ids = batch[\"abstract_input_ids\"].to(device)\n",
    "        attention_mask = batch[\"abstract_attention_mask\"].to(device)\n",
    "        labels = batch[\"labels\"].to(device)\n",
    "        labels_attention_mask = batch[\"labels_attention_mask\"].to(device)\n",
    "        \n",
    "        optimizer.zero_grad()\n",
    "        \n",
    "        output, loss = model(input_ids, attention_mask, labels_attention_mask, labels)\n",
    "\n",
    "        loss.backward()\n",
    "        \n",
    "        torch.nn.utils.clip_grad_norm_(model.parameters(), clip)\n",
    "        \n",
    "        optimizer.step()\n",
    "        \n",
    "        epoch_loss += loss.item()\n",
    "        \n",
    "        history.append(loss.cpu().data.numpy())\n",
    "        if (i+1)%10==0:\n",
    "            fig, ax = plt.subplots(nrows=1, ncols=2, figsize=(12, 8))\n",
    "\n",
    "            clear_output(True)\n",
    "            ax[0].plot(history, label='train loss')\n",
    "            ax[0].set_xlabel('Batch')\n",
    "            ax[0].set_title('Train loss')\n",
    "            if train_history is not None:\n",
    "                ax[1].plot(train_history, label='general train history')\n",
    "                ax[1].set_xlabel('Epoch')\n",
    "            if valid_history is not None:\n",
    "                ax[1].plot(valid_history, label='general valid history')\n",
    "            plt.legend()\n",
    "            \n",
    "            plt.show()\n",
    "        \n",
    "    return epoch_loss / len(iterator)"
   ]
  },
  {
   "cell_type": "code",
   "execution_count": 35,
   "metadata": {
    "execution": {
     "iopub.execute_input": "2023-04-03T12:58:36.621271Z",
     "iopub.status.busy": "2023-04-03T12:58:36.620637Z",
     "iopub.status.idle": "2023-04-03T12:58:36.629165Z",
     "shell.execute_reply": "2023-04-03T12:58:36.627764Z",
     "shell.execute_reply.started": "2023-04-03T12:58:36.621232Z"
    }
   },
   "outputs": [],
   "source": [
    "def evaluate(model, iterator, criterion):\n",
    "    \n",
    "    model.eval()\n",
    "    \n",
    "    epoch_loss = 0\n",
    "    \n",
    "    with torch.no_grad():\n",
    "    \n",
    "        for i, batch in enumerate(iterator):\n",
    "            input_ids = batch[\"abstract_input_ids\"].to(device)\n",
    "            attention_mask = batch[\"abstract_attention_mask\"].to(device)\n",
    "            labels = batch[\"labels\"].to(device)\n",
    "            labels_attention_mask = batch[\"labels_attention_mask\"].to(device)\n",
    "\n",
    "            output, loss = model(\n",
    "                input_ids,\n",
    "                attention_mask,\n",
    "                labels_attention_mask,\n",
    "                labels\n",
    "            )\n",
    "\n",
    "            epoch_loss += loss.item()\n",
    "        \n",
    "    return epoch_loss / len(iterator)"
   ]
  },
  {
   "cell_type": "code",
   "execution_count": 36,
   "metadata": {
    "execution": {
     "iopub.execute_input": "2023-04-03T12:58:37.464467Z",
     "iopub.status.busy": "2023-04-03T12:58:37.463946Z",
     "iopub.status.idle": "2023-04-03T12:58:37.476543Z",
     "shell.execute_reply": "2023-04-03T12:58:37.475408Z",
     "shell.execute_reply.started": "2023-04-03T12:58:37.464431Z"
    }
   },
   "outputs": [],
   "source": [
    "def epoch_time(start_time, end_time):\n",
    "    elapsed_time = end_time - start_time\n",
    "    elapsed_mins = int(elapsed_time / 60)\n",
    "    elapsed_secs = int(elapsed_time - (elapsed_mins * 60))\n",
    "    return elapsed_mins, elapsed_secs"
   ]
  },
  {
   "cell_type": "code",
   "execution_count": 37,
   "metadata": {
    "execution": {
     "iopub.execute_input": "2023-04-03T12:58:37.762296Z",
     "iopub.status.busy": "2023-04-03T12:58:37.761676Z",
     "iopub.status.idle": "2023-04-03T12:58:37.766977Z",
     "shell.execute_reply": "2023-04-03T12:58:37.765937Z",
     "shell.execute_reply.started": "2023-04-03T12:58:37.762255Z"
    }
   },
   "outputs": [],
   "source": [
    "MODEL_NAME = 'models/bert2bert.pt'"
   ]
  },
  {
   "cell_type": "code",
   "execution_count": 52,
   "metadata": {
    "execution": {
     "iopub.execute_input": "2023-04-03T12:58:42.454172Z",
     "iopub.status.busy": "2023-04-03T12:58:42.453782Z"
    }
   },
   "outputs": [
    {
     "data": {
      "image/png": "[encoded data removed]",
      "text/plain": [
       "<Figure size 1200x800 with 2 Axes>"
      ]
     },
     "metadata": {},
     "output_type": "display_data"
    },
    {
     "ename": "KeyboardInterrupt",
     "evalue": "",
     "output_type": "error",
     "traceback": [
      "\u001b[1;31m---------------------------------------------------------------------------\u001b[0m",
      "\u001b[1;31mKeyboardInterrupt\u001b[0m                         Traceback (most recent call last)",
      "Cell \u001b[1;32mIn[52], line 26\u001b[0m\n\u001b[0;32m     22\u001b[0m \u001b[38;5;28;01mfor\u001b[39;00m epoch \u001b[38;5;129;01min\u001b[39;00m \u001b[38;5;28mrange\u001b[39m(N_EPOCHS):\n\u001b[0;32m     24\u001b[0m     start_time \u001b[38;5;241m=\u001b[39m time\u001b[38;5;241m.\u001b[39mtime()\n\u001b[1;32m---> 26\u001b[0m     train_loss \u001b[38;5;241m=\u001b[39m \u001b[43mtrain\u001b[49m\u001b[43m(\u001b[49m\u001b[43mmodel\u001b[49m\u001b[43m,\u001b[49m\u001b[43m \u001b[49m\u001b[43mtrain_data_loader\u001b[49m\u001b[43m,\u001b[49m\u001b[43m \u001b[49m\u001b[43moptimizer\u001b[49m\u001b[43m,\u001b[49m\u001b[43m \u001b[49m\u001b[43mcriterion\u001b[49m\u001b[43m,\u001b[49m\u001b[43m \u001b[49m\u001b[43mCLIP\u001b[49m\u001b[43m,\u001b[49m\u001b[43m \u001b[49m\u001b[43mtrain_history\u001b[49m\u001b[43m,\u001b[49m\u001b[43m \u001b[49m\u001b[43mvalid_history\u001b[49m\u001b[43m)\u001b[49m\n\u001b[0;32m     27\u001b[0m     valid_loss \u001b[38;5;241m=\u001b[39m evaluate(model, val_data_loader, criterion)\n\u001b[0;32m     29\u001b[0m     end_time \u001b[38;5;241m=\u001b[39m time\u001b[38;5;241m.\u001b[39mtime()\n",
      "Cell \u001b[1;32mIn[34], line 25\u001b[0m, in \u001b[0;36mtrain\u001b[1;34m(model, iterator, optimizer, criterion, clip, train_history, valid_history)\u001b[0m\n\u001b[0;32m     21\u001b[0m optimizer\u001b[38;5;241m.\u001b[39mzero_grad()\n\u001b[0;32m     23\u001b[0m output, loss \u001b[38;5;241m=\u001b[39m model(input_ids, attention_mask, labels_attention_mask, labels)\n\u001b[1;32m---> 25\u001b[0m \u001b[43mloss\u001b[49m\u001b[38;5;241;43m.\u001b[39;49m\u001b[43mbackward\u001b[49m\u001b[43m(\u001b[49m\u001b[43m)\u001b[49m\n\u001b[0;32m     27\u001b[0m torch\u001b[38;5;241m.\u001b[39mnn\u001b[38;5;241m.\u001b[39mutils\u001b[38;5;241m.\u001b[39mclip_grad_norm_(model\u001b[38;5;241m.\u001b[39mparameters(), clip)\n\u001b[0;32m     29\u001b[0m optimizer\u001b[38;5;241m.\u001b[39mstep()\n",
      "File \u001b[1;32mD:\\Dev\\jupyter\\projects\\Data Science\\ds_stuff\\Different courses\\Нейронные сети и обработка текста\\venv\\lib\\site-packages\\torch\\_tensor.py:488\u001b[0m, in \u001b[0;36mTensor.backward\u001b[1;34m(self, gradient, retain_graph, create_graph, inputs)\u001b[0m\n\u001b[0;32m    478\u001b[0m \u001b[38;5;28;01mif\u001b[39;00m has_torch_function_unary(\u001b[38;5;28mself\u001b[39m):\n\u001b[0;32m    479\u001b[0m     \u001b[38;5;28;01mreturn\u001b[39;00m handle_torch_function(\n\u001b[0;32m    480\u001b[0m         Tensor\u001b[38;5;241m.\u001b[39mbackward,\n\u001b[0;32m    481\u001b[0m         (\u001b[38;5;28mself\u001b[39m,),\n\u001b[1;32m   (...)\u001b[0m\n\u001b[0;32m    486\u001b[0m         inputs\u001b[38;5;241m=\u001b[39minputs,\n\u001b[0;32m    487\u001b[0m     )\n\u001b[1;32m--> 488\u001b[0m \u001b[43mtorch\u001b[49m\u001b[38;5;241;43m.\u001b[39;49m\u001b[43mautograd\u001b[49m\u001b[38;5;241;43m.\u001b[39;49m\u001b[43mbackward\u001b[49m\u001b[43m(\u001b[49m\n\u001b[0;32m    489\u001b[0m \u001b[43m    \u001b[49m\u001b[38;5;28;43mself\u001b[39;49m\u001b[43m,\u001b[49m\u001b[43m \u001b[49m\u001b[43mgradient\u001b[49m\u001b[43m,\u001b[49m\u001b[43m \u001b[49m\u001b[43mretain_graph\u001b[49m\u001b[43m,\u001b[49m\u001b[43m \u001b[49m\u001b[43mcreate_graph\u001b[49m\u001b[43m,\u001b[49m\u001b[43m \u001b[49m\u001b[43minputs\u001b[49m\u001b[38;5;241;43m=\u001b[39;49m\u001b[43minputs\u001b[49m\n\u001b[0;32m    490\u001b[0m \u001b[43m\u001b[49m\u001b[43m)\u001b[49m\n",
      "File \u001b[1;32mD:\\Dev\\jupyter\\projects\\Data Science\\ds_stuff\\Different courses\\Нейронные сети и обработка текста\\venv\\lib\\site-packages\\torch\\autograd\\__init__.py:197\u001b[0m, in \u001b[0;36mbackward\u001b[1;34m(tensors, grad_tensors, retain_graph, create_graph, grad_variables, inputs)\u001b[0m\n\u001b[0;32m    192\u001b[0m     retain_graph \u001b[38;5;241m=\u001b[39m create_graph\n\u001b[0;32m    194\u001b[0m \u001b[38;5;66;03m# The reason we repeat same the comment below is that\u001b[39;00m\n\u001b[0;32m    195\u001b[0m \u001b[38;5;66;03m# some Python versions print out the first line of a multi-line function\u001b[39;00m\n\u001b[0;32m    196\u001b[0m \u001b[38;5;66;03m# calls in the traceback and some print out the last line\u001b[39;00m\n\u001b[1;32m--> 197\u001b[0m \u001b[43mVariable\u001b[49m\u001b[38;5;241;43m.\u001b[39;49m\u001b[43m_execution_engine\u001b[49m\u001b[38;5;241;43m.\u001b[39;49m\u001b[43mrun_backward\u001b[49m\u001b[43m(\u001b[49m\u001b[43m  \u001b[49m\u001b[38;5;66;43;03m# Calls into the C++ engine to run the backward pass\u001b[39;49;00m\n\u001b[0;32m    198\u001b[0m \u001b[43m    \u001b[49m\u001b[43mtensors\u001b[49m\u001b[43m,\u001b[49m\u001b[43m \u001b[49m\u001b[43mgrad_tensors_\u001b[49m\u001b[43m,\u001b[49m\u001b[43m \u001b[49m\u001b[43mretain_graph\u001b[49m\u001b[43m,\u001b[49m\u001b[43m \u001b[49m\u001b[43mcreate_graph\u001b[49m\u001b[43m,\u001b[49m\u001b[43m \u001b[49m\u001b[43minputs\u001b[49m\u001b[43m,\u001b[49m\n\u001b[0;32m    199\u001b[0m \u001b[43m    \u001b[49m\u001b[43mallow_unreachable\u001b[49m\u001b[38;5;241;43m=\u001b[39;49m\u001b[38;5;28;43;01mTrue\u001b[39;49;00m\u001b[43m,\u001b[49m\u001b[43m \u001b[49m\u001b[43maccumulate_grad\u001b[49m\u001b[38;5;241;43m=\u001b[39;49m\u001b[38;5;28;43;01mTrue\u001b[39;49;00m\u001b[43m)\u001b[49m\n",
      "\u001b[1;31mKeyboardInterrupt\u001b[0m: "
     ]
    }
   ],
   "source": [
    "N_EPOCHS = 15\n",
    "CLIP = 1\n",
    "BATCH_SIZE = 4\n",
    "\n",
    "train_data_loader = torch.utils.data.DataLoader(\n",
    "    arx_dataset_train,\n",
    "    batch_size=BATCH_SIZE,\n",
    "    shuffle=False\n",
    ")\n",
    "\n",
    "val_data_loader = torch.utils.data.DataLoader(\n",
    "    arx_dataset_val,\n",
    "    batch_size=BATCH_SIZE,\n",
    "    shuffle=False\n",
    ")\n",
    "\n",
    "train_history = []\n",
    "valid_history = []\n",
    "\n",
    "best_valid_loss = float('inf')\n",
    "\n",
    "for epoch in range(N_EPOCHS):\n",
    "    \n",
    "    start_time = time.time()\n",
    "    \n",
    "    train_loss = train(model, train_data_loader, optimizer, criterion, CLIP, train_history, valid_history)\n",
    "    valid_loss = evaluate(model, val_data_loader, criterion)\n",
    "    \n",
    "    end_time = time.time()\n",
    "    \n",
    "    epoch_mins, epoch_secs = epoch_time(start_time, end_time)\n",
    "    \n",
    "    if valid_loss < best_valid_loss:\n",
    "        best_valid_loss = valid_loss\n",
    "        torch.save(model.state_dict(), MODEL_NAME)\n",
    "        \n",
    "    if lr_sched is not None:\n",
    "        lr_sched.step(valid_loss)\n",
    "        \n",
    "        \n",
    "    train_history.append(train_loss)\n",
    "    valid_history.append(valid_loss)\n",
    "    \n",
    "    print(f'Epoch: {epoch+1:02} | Time: {epoch_mins}m {epoch_secs}s')\n",
    "    print(f'\\tTrain Loss: {train_loss:.3f} | Train PPL: {math.exp(train_loss):7.3f}')\n",
    "    print(f'\\t Val. Loss: {valid_loss:.3f} |  Val. PPL: {math.exp(valid_loss):7.3f}')"
   ]
  },
  {
   "cell_type": "code",
   "execution_count": 53,
   "metadata": {},
   "outputs": [],
   "source": [
    "# del test_data_loader\n",
    "# gc.collect()\n",
    "# torch.cuda.empty_cache()"
   ]
  },
  {
   "cell_type": "code",
   "execution_count": 54,
   "metadata": {},
   "outputs": [],
   "source": [
    "# print(torch.cuda.memory_summary(device=None, abbreviated=False))"
   ]
  },
  {
   "cell_type": "code",
   "execution_count": 55,
   "metadata": {},
   "outputs": [
    {
     "name": "stdout",
     "output_type": "stream",
     "text": [
      "| Test Loss: 2.622 | Test PPL:  13.770 |\n"
     ]
    }
   ],
   "source": [
    "# for cpu usage\n",
    "model.load_state_dict(torch.load(MODEL_NAME, map_location=device))\n",
    "\n",
    "test_data_loader = torch.utils.data.DataLoader(\n",
    "    arx_dataset_test,\n",
    "    batch_size=BATCH_SIZE,\n",
    "    shuffle=False\n",
    ")\n",
    "test_loss = evaluate(model, test_data_loader, criterion)\n",
    "\n",
    "print(f'| Test Loss: {test_loss:.3f} | Test PPL: {math.exp(test_loss):7.3f} |')"
   ]
  },
  {
   "cell_type": "markdown",
   "metadata": {},
   "source": [
    "# Generating"
   ]
  },
  {
   "cell_type": "code",
   "execution_count": 74,
   "metadata": {},
   "outputs": [],
   "source": [
    "def translate_sentence(text, tokenizer, model):\n",
    "    \n",
    "    model.eval()\n",
    "    \n",
    "    text_encoding = tokenizer(\n",
    "        text,\n",
    "        max_length=512,\n",
    "        padding=\"max_length\",\n",
    "        truncation=True,\n",
    "        return_attention_mask=True,\n",
    "        add_special_tokens=True,\n",
    "        return_tensors=\"pt\"\n",
    "    )\n",
    "\n",
    "    generated_ids = model.model.generate(\n",
    "        input_ids=text_encoding[\"input_ids\"].to(device),\n",
    "        attention_mask=text_encoding[\"attention_mask\"].to(device),\n",
    "        max_length=45,\n",
    "        num_beams=5,\n",
    "        repetition_penalty=2.5,\n",
    "        length_penalty=1,\n",
    "        early_stopping=True\n",
    "    )\n",
    "\n",
    "    preds = [tokenizer.decode(gen_id, \n",
    "                              skip_special_tokens=True, \n",
    "                              clean_up_tokenization_spaces=True) for gen_id in generated_ids]\n",
    "\n",
    "    return \" \".join(preds)"
   ]
  },
  {
   "cell_type": "code",
   "execution_count": 75,
   "metadata": {},
   "outputs": [
    {
     "name": "stdout",
     "output_type": "stream",
     "text": [
      "src = i report the analysis performed on fermion masses and mixing, including neutrino mixing, within the context of a model with hierarchical radiative mass generation mechanism for light charged fermions, mediated by exotic scalar particles at one and two loops, respectively, meanwhile the neutrinos get majorana mass terms at tree level through the yukawa couplings with two su(2)_l higgs triplets. all the resulting mass matrices in the model, for the u, d, and e fermion charged sectors, the neutrinos and the exotic scalar particles, are diagonalized in exact analytical form. quantitative analysis shows that this model is successful to accommodate the hierarchical spectrum of masses and mixing in the quark sector as well as the charged lepton masses. the lepton mixing matrix, v_{pmns}, is written completely in terms of the neutrino masses m_1, m_2, and m_3. large lepton mixing for \\theta_{12} and \\theta_{23} is predicted in the range of values 0.7 \\lesssim \\sin^22\\theta_{12}\\lesssim 0.7772 and 0.87 \\lesssim \\sin^22\\theta_{23} \\lesssim 0.9023 by using 0.033 \\lesssim s_{13}^2 \\lesssim 0.04. these values for lepton mixing are consistent with 3 \\sigma allowed ranges provided by recent global analysis of neutrino data oscillation. from \\delta m_{\\text{sol}}^2 bounds, neutrino masses are predicted in the range of values m_1 \\thickapprox (1.706 - 2.494) x 10^{- 3} ev, m_2 \\thickapprox (6.675 - 12.56) x 10^{- 3} ev, and m_3 \\thickapprox (1.215 - 2.188) x 10^{- 2} ev, respectively. the above allowed lepton mixing leads to the quak-lepton complementary relations \\theta_{12}^{ckm} + \\theta_{12}^{pmns} \\thickapprox 41.543^{\\circ} - 44.066^{\\circ} and \\theta_{23}^{ckm}+\\theta_{23}^{pmns}\\thickapprox 36.835^{\\circ} - 38.295^{\\circ}.\n",
      "\n",
      "trg = fermion masses and neutrino mixing in an u(1)_h flavor symmetry model   with hierarchical radiative generation for light charged fermion masses\n"
     ]
    }
   ],
   "source": [
    "example_idx = 100\n",
    "\n",
    "ex = arx_dataset_train[example_idx]\n",
    "\n",
    "print(f'src = {ex[\"abstract\"]}\\n')\n",
    "print(f'trg = {ex[\"title\"]}')"
   ]
  },
  {
   "cell_type": "code",
   "execution_count": 76,
   "metadata": {},
   "outputs": [
    {
     "name": "stdout",
     "output_type": "stream",
     "text": [
      "pred = lepton masses and neutrino mixing\n"
     ]
    }
   ],
   "source": [
    "pred = translate_sentence(ex['abstract'], tokenizer, model)\n",
    "print(f'pred = {pred}')"
   ]
  },
  {
   "cell_type": "markdown",
   "metadata": {},
   "source": [
    "# Submission"
   ]
  },
  {
   "cell_type": "code",
   "execution_count": 77,
   "metadata": {
    "execution": {
     "iopub.execute_input": "2023-03-31T13:24:01.105681Z",
     "iopub.status.busy": "2023-03-31T13:24:01.104591Z",
     "iopub.status.idle": "2023-03-31T13:24:01.152180Z",
     "shell.execute_reply": "2023-03-31T13:24:01.150609Z",
     "shell.execute_reply.started": "2023-03-31T13:24:01.105620Z"
    }
   },
   "outputs": [],
   "source": [
    "submission_data = pd.read_csv('data/test.csv')\n",
    "abstracts = submission_data['abstract'].values"
   ]
  },
  {
   "cell_type": "code",
   "execution_count": 78,
   "metadata": {
    "execution": {
     "iopub.execute_input": "2023-03-31T13:36:34.731188Z",
     "iopub.status.busy": "2023-03-31T13:36:34.730682Z",
     "iopub.status.idle": "2023-03-31T15:51:17.898457Z",
     "shell.execute_reply": "2023-03-31T15:51:17.896771Z",
     "shell.execute_reply.started": "2023-03-31T13:36:34.731147Z"
    }
   },
   "outputs": [
    {
     "name": "stderr",
     "output_type": "stream",
     "text": [
      "  2%|█▌                                                                              | 19/1000 [00:27<31:17,  1.91s/it]D:\\Dev\\jupyter\\projects\\Data Science\\ds_stuff\\Different courses\\Нейронные сети и обработка текста\\venv\\lib\\site-packages\\joblib\\externals\\loky\\process_executor.py:700: UserWarning: A worker stopped while some jobs were given to the executor. This can be caused by a too short worker timeout or by a memory leak.\n",
      "  warnings.warn(\n",
      "100%|██████████████████████████████████████████████████████████████████████████████| 1000/1000 [52:02<00:00,  3.12s/it]\n"
     ]
    }
   ],
   "source": [
    "from joblib import Parallel, delayed\n",
    "\n",
    "_parallel = Parallel(n_jobs=6, max_nbytes=None, timeout=99999)\n",
    "\n",
    "def translate(text):\n",
    "    return translate_sentence(text, tokenizer=tokenizer, model=model)\n",
    "\n",
    "def parallel_function(function, data):\n",
    "    return _parallel(delayed(function)(sample) for sample in tqdm(data))\n",
    "\n",
    "result = parallel_function(translate, abstracts)\n",
    "\n",
    "# titles = []\n",
    "# for abstract in tqdm(abstracts):\n",
    "#     title = translate_sentence(\n",
    "#         model=model,\n",
    "#         text=abstract,\n",
    "#         tokenizer=tokenizer)\n",
    "#     titles.append(title)"
   ]
  },
  {
   "cell_type": "code",
   "execution_count": 79,
   "metadata": {
    "execution": {
     "iopub.execute_input": "2023-03-31T15:51:17.903250Z",
     "iopub.status.busy": "2023-03-31T15:51:17.902280Z",
     "iopub.status.idle": "2023-03-31T15:51:17.914796Z",
     "shell.execute_reply": "2023-03-31T15:51:17.913226Z",
     "shell.execute_reply.started": "2023-03-31T15:51:17.903180Z"
    }
   },
   "outputs": [
    {
     "data": {
      "text/plain": [
       "'a model - free decoding approach to neural machine translation'"
      ]
     },
     "execution_count": 79,
     "metadata": {},
     "output_type": "execute_result"
    }
   ],
   "source": [
    "result[0]"
   ]
  },
  {
   "cell_type": "code",
   "execution_count": 80,
   "metadata": {
    "execution": {
     "iopub.execute_input": "2023-03-28T14:35:40.930894Z",
     "iopub.status.busy": "2023-03-28T14:35:40.930190Z",
     "iopub.status.idle": "2023-03-28T14:35:40.959325Z",
     "shell.execute_reply": "2023-03-28T14:35:40.958339Z",
     "shell.execute_reply.started": "2023-03-28T14:35:40.930856Z"
    }
   },
   "outputs": [],
   "source": [
    "submission_df = pd.DataFrame({'abstract': abstracts, 'title': result})\n",
    "submission_df.to_csv('predicted_titles.csv', index=False)"
   ]
  },
  {
   "cell_type": "code",
   "execution_count": 84,
   "metadata": {
    "execution": {
     "iopub.execute_input": "2023-03-28T14:35:42.562489Z",
     "iopub.status.busy": "2023-03-28T14:35:42.561510Z",
     "iopub.status.idle": "2023-03-28T14:35:43.484135Z",
     "shell.execute_reply": "2023-03-28T14:35:43.483079Z",
     "shell.execute_reply.started": "2023-03-28T14:35:42.562447Z"
    }
   },
   "outputs": [],
   "source": [
    "import string\n",
    "from nltk.util import ngrams\n",
    "import numpy as np\n",
    "import pandas as pd\n",
    "import pickle\n",
    "\n",
    "\n",
    "def generate_csv(input_file='predicted_titles.csv',\n",
    "                 output_file='submission.csv',\n",
    "                 voc_file='data/vocs.pkl'):\n",
    "    '''\n",
    "    Generates file in format required for submitting result to Kaggle\n",
    "    \n",
    "    Parameters:\n",
    "        input_file (str) : path to csv file with your predicted titles.\n",
    "                           Should have two fields: abstract and title\n",
    "        output_file (str) : path to output submission file\n",
    "        voc_file (str) : path to voc.pkl file\n",
    "    '''\n",
    "    data = pd.read_csv(input_file)\n",
    "    with open(voc_file, 'rb') as voc_file:\n",
    "        vocs = pickle.load(voc_file)\n",
    "\n",
    "    with open(output_file, 'w') as res_file:\n",
    "        res_file.write('Id,Predict\\n')\n",
    "        \n",
    "    output_idx = 0\n",
    "    for row_idx, row in data.iterrows():\n",
    "        trg = row['title']\n",
    "        trg = trg.translate(str.maketrans('', '', string.punctuation)).lower().split()\n",
    "        trg.extend(['_'.join(ngram) for ngram in list(ngrams(trg, 2)) + list(ngrams(trg, 3))])\n",
    "        \n",
    "        VOCAB_stoi = vocs[row_idx]\n",
    "        trg_intersection = set(VOCAB_stoi.keys()).intersection(set(trg))\n",
    "        trg_vec = np.zeros(len(VOCAB_stoi))    \n",
    "\n",
    "        for word in trg_intersection:\n",
    "            trg_vec[VOCAB_stoi[word]] = 1\n",
    "\n",
    "        with open(output_file, 'a') as res_file:\n",
    "            for is_word in trg_vec:\n",
    "                res_file.write('{0},{1}\\n'.format(output_idx, int(is_word)))\n",
    "                output_idx += 1\n",
    "\n",
    "\n",
    "generate_csv()"
   ]
  },
  {
   "cell_type": "code",
   "execution_count": 85,
   "metadata": {
    "execution": {
     "iopub.execute_input": "2023-03-28T14:35:43.486778Z",
     "iopub.status.busy": "2023-03-28T14:35:43.486072Z",
     "iopub.status.idle": "2023-03-28T14:35:43.543366Z",
     "shell.execute_reply": "2023-03-28T14:35:43.542286Z",
     "shell.execute_reply.started": "2023-03-28T14:35:43.486725Z"
    }
   },
   "outputs": [
    {
     "data": {
      "text/html": [
       "<div>\n",
       "<style scoped>\n",
       "    .dataframe tbody tr th:only-of-type {\n",
       "        vertical-align: middle;\n",
       "    }\n",
       "\n",
       "    .dataframe tbody tr th {\n",
       "        vertical-align: top;\n",
       "    }\n",
       "\n",
       "    .dataframe thead th {\n",
       "        text-align: right;\n",
       "    }\n",
       "</style>\n",
       "<table border=\"1\" class=\"dataframe\">\n",
       "  <thead>\n",
       "    <tr style=\"text-align: right;\">\n",
       "      <th></th>\n",
       "      <th>Id</th>\n",
       "      <th>Predict</th>\n",
       "    </tr>\n",
       "  </thead>\n",
       "  <tbody>\n",
       "    <tr>\n",
       "      <th>0</th>\n",
       "      <td>0</td>\n",
       "      <td>0</td>\n",
       "    </tr>\n",
       "    <tr>\n",
       "      <th>1</th>\n",
       "      <td>1</td>\n",
       "      <td>0</td>\n",
       "    </tr>\n",
       "    <tr>\n",
       "      <th>2</th>\n",
       "      <td>2</td>\n",
       "      <td>0</td>\n",
       "    </tr>\n",
       "    <tr>\n",
       "      <th>3</th>\n",
       "      <td>3</td>\n",
       "      <td>0</td>\n",
       "    </tr>\n",
       "    <tr>\n",
       "      <th>4</th>\n",
       "      <td>4</td>\n",
       "      <td>0</td>\n",
       "    </tr>\n",
       "    <tr>\n",
       "      <th>...</th>\n",
       "      <td>...</td>\n",
       "      <td>...</td>\n",
       "    </tr>\n",
       "    <tr>\n",
       "      <th>343437</th>\n",
       "      <td>343437</td>\n",
       "      <td>0</td>\n",
       "    </tr>\n",
       "    <tr>\n",
       "      <th>343438</th>\n",
       "      <td>343438</td>\n",
       "      <td>0</td>\n",
       "    </tr>\n",
       "    <tr>\n",
       "      <th>343439</th>\n",
       "      <td>343439</td>\n",
       "      <td>0</td>\n",
       "    </tr>\n",
       "    <tr>\n",
       "      <th>343440</th>\n",
       "      <td>343440</td>\n",
       "      <td>0</td>\n",
       "    </tr>\n",
       "    <tr>\n",
       "      <th>343441</th>\n",
       "      <td>343441</td>\n",
       "      <td>1</td>\n",
       "    </tr>\n",
       "  </tbody>\n",
       "</table>\n",
       "<p>343442 rows × 2 columns</p>\n",
       "</div>"
      ],
      "text/plain": [
       "            Id  Predict\n",
       "0            0        0\n",
       "1            1        0\n",
       "2            2        0\n",
       "3            3        0\n",
       "4            4        0\n",
       "...        ...      ...\n",
       "343437  343437        0\n",
       "343438  343438        0\n",
       "343439  343439        0\n",
       "343440  343440        0\n",
       "343441  343441        1\n",
       "\n",
       "[343442 rows x 2 columns]"
      ]
     },
     "execution_count": 85,
     "metadata": {},
     "output_type": "execute_result"
    }
   ],
   "source": [
    "pd.read_csv('submission.csv')"
   ]
  },
  {
   "cell_type": "code",
   "execution_count": 86,
   "metadata": {
    "execution": {
     "iopub.execute_input": "2023-03-28T14:35:46.435381Z",
     "iopub.status.busy": "2023-03-28T14:35:46.434992Z",
     "iopub.status.idle": "2023-03-28T14:35:46.469474Z",
     "shell.execute_reply": "2023-03-28T14:35:46.468481Z",
     "shell.execute_reply.started": "2023-03-28T14:35:46.435343Z"
    }
   },
   "outputs": [
    {
     "data": {
      "text/plain": [
       "0      a model - free decoding approach to neural mac...\n",
       "1      a comparison of techniques for the generation ...\n",
       "2             a new class of non - markovian multilayers\n",
       "3      using coverage - based neural machine to impro...\n",
       "4        a few examples : unsupervised image translation\n",
       "                             ...                        \n",
       "995               on the construction of subsystem codes\n",
       "996    the generalized energy identity for spin surfaces\n",
       "997             on the kloosterman sums of a prime power\n",
       "998    the rate of growth for a class of systems with...\n",
       "999               entanglement in the spin - 1 / 2 model\n",
       "Name: title, Length: 1000, dtype: object"
      ]
     },
     "execution_count": 86,
     "metadata": {},
     "output_type": "execute_result"
    }
   ],
   "source": [
    "pd.read_csv('predicted_titles.csv')['title']"
   ]
  },
  {
   "cell_type": "code",
   "execution_count": null,
   "metadata": {},
   "outputs": [],
   "source": []
  }
 ],
 "metadata": {
  "kernelspec": {
   "display_name": "samsung_nlp",
   "language": "python",
   "name": "samsung_nlp"
  },
  "language_info": {
   "codemirror_mode": {
    "name": "ipython",
    "version": 3
   },
   "file_extension": ".py",
   "mimetype": "text/x-python",
   "name": "python",
   "nbconvert_exporter": "python",
   "pygments_lexer": "ipython3",
   "version": "3.9.13"
  }
 },
 "nbformat": 4,
 "nbformat_minor": 4
}
