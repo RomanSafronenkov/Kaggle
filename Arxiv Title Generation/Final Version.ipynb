{
 "cells": [
  {
   "cell_type": "markdown",
   "metadata": {},
   "source": [
    "# Arxiv Title Generation"
   ]
  },
  {
   "cell_type": "code",
   "execution_count": 1,
   "metadata": {
    "_cell_guid": "b1076dfc-b9ad-4769-8c92-a6c4dae69d19",
    "_uuid": "8f2839f25d086af736a60e9eeb907d3b93b6e0e5",
    "execution": {
     "iopub.execute_input": "2023-04-04T16:19:18.863413Z",
     "iopub.status.busy": "2023-04-04T16:19:18.862798Z",
     "iopub.status.idle": "2023-04-04T16:19:21.748340Z",
     "shell.execute_reply": "2023-04-04T16:19:21.747186Z",
     "shell.execute_reply.started": "2023-04-04T16:19:18.863354Z"
    }
   },
   "outputs": [],
   "source": [
    "import torch\n",
    "import torch.nn as nn\n",
    "import torch.optim as optim\n",
    "import torch.nn.functional as F\n",
    "import pandas as pd\n",
    "import numpy as np\n",
    "\n",
    "import matplotlib.pyplot as plt\n",
    "import matplotlib.ticker as ticker\n",
    "\n",
    "from tqdm import tqdm\n",
    "\n",
    "import collections\n",
    "import copy\n",
    "import random\n",
    "import math\n",
    "import time\n",
    "import gc\n",
    "\n",
    "def init_random_seed(value=0):\n",
    "    random.seed(value)\n",
    "    np.random.seed(value)\n",
    "    torch.manual_seed(value)\n",
    "    torch.cuda.manual_seed(value)\n",
    "    torch.backends.cudnn.deterministic = True\n",
    "    \n",
    "init_random_seed(1234)"
   ]
  },
  {
   "cell_type": "code",
   "execution_count": 42,
   "metadata": {
    "execution": {
     "iopub.execute_input": "2023-04-03T12:57:34.315789Z",
     "iopub.status.busy": "2023-04-03T12:57:34.314664Z",
     "iopub.status.idle": "2023-04-03T12:57:34.740757Z",
     "shell.execute_reply": "2023-04-03T12:57:34.739703Z",
     "shell.execute_reply.started": "2023-04-03T12:57:34.315739Z"
    }
   },
   "outputs": [],
   "source": [
    "from transformers import AutoTokenizer, AutoModelForSeq2SeqLM\n",
    "MODEL_NAME = \"Callidior/bert2bert-base-arxiv-titlegen\"\n",
    "tokenizer = AutoTokenizer.from_pretrained(MODEL_NAME)"
   ]
  },
  {
   "cell_type": "code",
   "execution_count": 3,
   "metadata": {
    "execution": {
     "iopub.execute_input": "2023-04-03T12:27:32.222924Z",
     "iopub.status.busy": "2023-04-03T12:27:32.222197Z",
     "iopub.status.idle": "2023-04-03T12:27:32.229655Z",
     "shell.execute_reply": "2023-04-03T12:27:32.228459Z",
     "shell.execute_reply.started": "2023-04-03T12:27:32.222884Z"
    }
   },
   "outputs": [],
   "source": [
    "import os\n",
    "os.environ[\"TOKENIZERS_PARALLELISM\"] = \"false\""
   ]
  },
  {
   "cell_type": "code",
   "execution_count": 4,
   "metadata": {
    "execution": {
     "iopub.execute_input": "2023-04-03T12:27:32.232910Z",
     "iopub.status.busy": "2023-04-03T12:27:32.232418Z",
     "iopub.status.idle": "2023-04-03T12:27:32.297918Z",
     "shell.execute_reply": "2023-04-03T12:27:32.296873Z",
     "shell.execute_reply.started": "2023-04-03T12:27:32.232868Z"
    }
   },
   "outputs": [
    {
     "data": {
      "text/plain": [
       "device(type='cuda')"
      ]
     },
     "execution_count": 4,
     "metadata": {},
     "output_type": "execute_result"
    }
   ],
   "source": [
    "device = torch.device('cuda' if torch.cuda.is_available() else 'cpu')\n",
    "device"
   ]
  },
  {
   "cell_type": "markdown",
   "metadata": {},
   "source": [
    "# Load Data"
   ]
  },
  {
   "cell_type": "code",
   "execution_count": 5,
   "metadata": {
    "execution": {
     "iopub.execute_input": "2023-04-03T12:27:32.300455Z",
     "iopub.status.busy": "2023-04-03T12:27:32.299728Z",
     "iopub.status.idle": "2023-04-03T12:27:32.310461Z",
     "shell.execute_reply": "2023-04-03T12:27:32.309479Z",
     "shell.execute_reply.started": "2023-04-03T12:27:32.300417Z"
    }
   },
   "outputs": [
    {
     "data": {
      "text/plain": [
       "BertTokenizerFast(name_or_path='Callidior/bert2bert-base-arxiv-titlegen', vocab_size=30522, model_max_length=512, is_fast=True, padding_side='right', truncation_side='right', special_tokens={'unk_token': '[UNK]', 'sep_token': '[SEP]', 'pad_token': '[PAD]', 'cls_token': '[CLS]', 'mask_token': '[MASK]'})"
      ]
     },
     "execution_count": 5,
     "metadata": {},
     "output_type": "execute_result"
    }
   ],
   "source": [
    "tokenizer"
   ]
  },
  {
   "cell_type": "code",
   "execution_count": 7,
   "metadata": {
    "execution": {
     "iopub.execute_input": "2023-04-03T12:27:32.313493Z",
     "iopub.status.busy": "2023-04-03T12:27:32.312455Z",
     "iopub.status.idle": "2023-04-03T12:27:34.797483Z",
     "shell.execute_reply": "2023-04-03T12:27:34.796359Z",
     "shell.execute_reply.started": "2023-04-03T12:27:32.313454Z"
    }
   },
   "outputs": [
    {
     "name": "stdout",
     "output_type": "stream",
     "text": [
      "(135000, 2)\n"
     ]
    },
    {
     "data": {
      "text/html": [
       "<div>\n",
       "<style scoped>\n",
       "    .dataframe tbody tr th:only-of-type {\n",
       "        vertical-align: middle;\n",
       "    }\n",
       "\n",
       "    .dataframe tbody tr th {\n",
       "        vertical-align: top;\n",
       "    }\n",
       "\n",
       "    .dataframe thead th {\n",
       "        text-align: right;\n",
       "    }\n",
       "</style>\n",
       "<table border=\"1\" class=\"dataframe\">\n",
       "  <thead>\n",
       "    <tr style=\"text-align: right;\">\n",
       "      <th></th>\n",
       "      <th>abstract</th>\n",
       "      <th>title</th>\n",
       "    </tr>\n",
       "  </thead>\n",
       "  <tbody>\n",
       "    <tr>\n",
       "      <th>0</th>\n",
       "      <td>we consider the problem of utility maximizatio...</td>\n",
       "      <td>on optimal investment with processes of long o...</td>\n",
       "    </tr>\n",
       "    <tr>\n",
       "      <th>1</th>\n",
       "      <td>in this paper we provide an explicit formula f...</td>\n",
       "      <td>boolean complexes for ferrers graphs</td>\n",
       "    </tr>\n",
       "    <tr>\n",
       "      <th>2</th>\n",
       "      <td>kinesin-5, also known as eg5 in vertebrates is...</td>\n",
       "      <td>relative velocity of sliding of microtubules b...</td>\n",
       "    </tr>\n",
       "    <tr>\n",
       "      <th>3</th>\n",
       "      <td>we discuss the transition paths in a coupled b...</td>\n",
       "      <td>bifurcation of transition paths induced by cou...</td>\n",
       "    </tr>\n",
       "    <tr>\n",
       "      <th>4</th>\n",
       "      <td>two types of room temperature detectors of ter...</td>\n",
       "      <td>all-electric detectors of the polarization sta...</td>\n",
       "    </tr>\n",
       "  </tbody>\n",
       "</table>\n",
       "</div>"
      ],
      "text/plain": [
       "                                            abstract  \\\n",
       "0  we consider the problem of utility maximizatio...   \n",
       "1  in this paper we provide an explicit formula f...   \n",
       "2  kinesin-5, also known as eg5 in vertebrates is...   \n",
       "3  we discuss the transition paths in a coupled b...   \n",
       "4  two types of room temperature detectors of ter...   \n",
       "\n",
       "                                               title  \n",
       "0  on optimal investment with processes of long o...  \n",
       "1               boolean complexes for ferrers graphs  \n",
       "2  relative velocity of sliding of microtubules b...  \n",
       "3  bifurcation of transition paths induced by cou...  \n",
       "4  all-electric detectors of the polarization sta...  "
      ]
     },
     "execution_count": 7,
     "metadata": {},
     "output_type": "execute_result"
    }
   ],
   "source": [
    "data = pd.read_csv('data/train.csv')\n",
    "print(data.shape)\n",
    "data.head()"
   ]
  },
  {
   "cell_type": "code",
   "execution_count": 21,
   "metadata": {
    "execution": {
     "iopub.execute_input": "2023-04-03T12:27:34.899755Z",
     "iopub.status.busy": "2023-04-03T12:27:34.899385Z",
     "iopub.status.idle": "2023-04-03T12:27:35.222481Z",
     "shell.execute_reply": "2023-04-03T12:27:35.221417Z",
     "shell.execute_reply.started": "2023-04-03T12:27:34.899716Z"
    }
   },
   "outputs": [],
   "source": [
    "data = data.drop_duplicates().reset_index(drop=True)"
   ]
  },
  {
   "cell_type": "code",
   "execution_count": 8,
   "metadata": {},
   "outputs": [],
   "source": [
    "submission_data = pd.read_csv('data/test.csv')"
   ]
  },
  {
   "cell_type": "code",
   "execution_count": 25,
   "metadata": {},
   "outputs": [
    {
     "data": {
      "text/html": [
       "<div>\n",
       "<style scoped>\n",
       "    .dataframe tbody tr th:only-of-type {\n",
       "        vertical-align: middle;\n",
       "    }\n",
       "\n",
       "    .dataframe tbody tr th {\n",
       "        vertical-align: top;\n",
       "    }\n",
       "\n",
       "    .dataframe thead th {\n",
       "        text-align: right;\n",
       "    }\n",
       "</style>\n",
       "<table border=\"1\" class=\"dataframe\">\n",
       "  <thead>\n",
       "    <tr style=\"text-align: right;\">\n",
       "      <th></th>\n",
       "      <th>abstract</th>\n",
       "    </tr>\n",
       "  </thead>\n",
       "  <tbody>\n",
       "    <tr>\n",
       "      <th>0</th>\n",
       "      <td>Most sequence transformation models use recurr...</td>\n",
       "    </tr>\n",
       "    <tr>\n",
       "      <th>1</th>\n",
       "      <td>The doc2vec approach was introduced as an exte...</td>\n",
       "    </tr>\n",
       "    <tr>\n",
       "      <th>2</th>\n",
       "      <td>LSTM models can vary greatly depending on sequ...</td>\n",
       "    </tr>\n",
       "    <tr>\n",
       "      <th>3</th>\n",
       "      <td>A joint learning process of alignment and tran...</td>\n",
       "    </tr>\n",
       "    <tr>\n",
       "      <th>4</th>\n",
       "      <td>Current unsupervised image-to-image translatio...</td>\n",
       "    </tr>\n",
       "    <tr>\n",
       "      <th>...</th>\n",
       "      <td>...</td>\n",
       "    </tr>\n",
       "    <tr>\n",
       "      <th>995</th>\n",
       "      <td>subsystem codes are the most versatile class o...</td>\n",
       "    </tr>\n",
       "    <tr>\n",
       "      <th>996</th>\n",
       "      <td>we study dirac-harmonic maps from degenerating...</td>\n",
       "    </tr>\n",
       "    <tr>\n",
       "      <th>997</th>\n",
       "      <td>in this note we study kloosterman sums twisted...</td>\n",
       "    </tr>\n",
       "    <tr>\n",
       "      <th>998</th>\n",
       "      <td>we obtain the rate of growth of long strange s...</td>\n",
       "    </tr>\n",
       "    <tr>\n",
       "      <th>999</th>\n",
       "      <td>the time evolution of a spin-1/2 particle unde...</td>\n",
       "    </tr>\n",
       "  </tbody>\n",
       "</table>\n",
       "<p>1000 rows × 1 columns</p>\n",
       "</div>"
      ],
      "text/plain": [
       "                                              abstract\n",
       "0    Most sequence transformation models use recurr...\n",
       "1    The doc2vec approach was introduced as an exte...\n",
       "2    LSTM models can vary greatly depending on sequ...\n",
       "3    A joint learning process of alignment and tran...\n",
       "4    Current unsupervised image-to-image translatio...\n",
       "..                                                 ...\n",
       "995  subsystem codes are the most versatile class o...\n",
       "996  we study dirac-harmonic maps from degenerating...\n",
       "997  in this note we study kloosterman sums twisted...\n",
       "998  we obtain the rate of growth of long strange s...\n",
       "999  the time evolution of a spin-1/2 particle unde...\n",
       "\n",
       "[1000 rows x 1 columns]"
      ]
     },
     "execution_count": 25,
     "metadata": {},
     "output_type": "execute_result"
    }
   ],
   "source": [
    "submission_data"
   ]
  },
  {
   "cell_type": "code",
   "execution_count": 29,
   "metadata": {},
   "outputs": [
    {
     "data": {
      "text/html": [
       "<div>\n",
       "<style scoped>\n",
       "    .dataframe tbody tr th:only-of-type {\n",
       "        vertical-align: middle;\n",
       "    }\n",
       "\n",
       "    .dataframe tbody tr th {\n",
       "        vertical-align: top;\n",
       "    }\n",
       "\n",
       "    .dataframe thead th {\n",
       "        text-align: right;\n",
       "    }\n",
       "</style>\n",
       "<table border=\"1\" class=\"dataframe\">\n",
       "  <thead>\n",
       "    <tr style=\"text-align: right;\">\n",
       "      <th></th>\n",
       "      <th>abstract</th>\n",
       "    </tr>\n",
       "  </thead>\n",
       "  <tbody>\n",
       "    <tr>\n",
       "      <th>0</th>\n",
       "      <td>Most sequence transformation models use recurr...</td>\n",
       "    </tr>\n",
       "    <tr>\n",
       "      <th>1</th>\n",
       "      <td>The doc2vec approach was introduced as an exte...</td>\n",
       "    </tr>\n",
       "    <tr>\n",
       "      <th>2</th>\n",
       "      <td>LSTM models can vary greatly depending on sequ...</td>\n",
       "    </tr>\n",
       "    <tr>\n",
       "      <th>3</th>\n",
       "      <td>A joint learning process of alignment and tran...</td>\n",
       "    </tr>\n",
       "    <tr>\n",
       "      <th>4</th>\n",
       "      <td>Current unsupervised image-to-image translatio...</td>\n",
       "    </tr>\n",
       "    <tr>\n",
       "      <th>...</th>\n",
       "      <td>...</td>\n",
       "    </tr>\n",
       "    <tr>\n",
       "      <th>995</th>\n",
       "      <td>subsystem codes are the most versatile class o...</td>\n",
       "    </tr>\n",
       "    <tr>\n",
       "      <th>996</th>\n",
       "      <td>we study dirac-harmonic maps from degenerating...</td>\n",
       "    </tr>\n",
       "    <tr>\n",
       "      <th>997</th>\n",
       "      <td>in this note we study kloosterman sums twisted...</td>\n",
       "    </tr>\n",
       "    <tr>\n",
       "      <th>998</th>\n",
       "      <td>we obtain the rate of growth of long strange s...</td>\n",
       "    </tr>\n",
       "    <tr>\n",
       "      <th>999</th>\n",
       "      <td>the time evolution of a spin-1/2 particle unde...</td>\n",
       "    </tr>\n",
       "  </tbody>\n",
       "</table>\n",
       "<p>1000 rows × 1 columns</p>\n",
       "</div>"
      ],
      "text/plain": [
       "                                              abstract\n",
       "0    Most sequence transformation models use recurr...\n",
       "1    The doc2vec approach was introduced as an exte...\n",
       "2    LSTM models can vary greatly depending on sequ...\n",
       "3    A joint learning process of alignment and tran...\n",
       "4    Current unsupervised image-to-image translatio...\n",
       "..                                                 ...\n",
       "995  subsystem codes are the most versatile class o...\n",
       "996  we study dirac-harmonic maps from degenerating...\n",
       "997  in this note we study kloosterman sums twisted...\n",
       "998  we obtain the rate of growth of long strange s...\n",
       "999  the time evolution of a spin-1/2 particle unde...\n",
       "\n",
       "[1000 rows x 1 columns]"
      ]
     },
     "execution_count": 29,
     "metadata": {},
     "output_type": "execute_result"
    }
   ],
   "source": [
    "submission_data"
   ]
  },
  {
   "cell_type": "code",
   "execution_count": 64,
   "metadata": {},
   "outputs": [
    {
     "name": "stdout",
     "output_type": "stream",
     "text": [
      "                                                 abstract  \\\n",
      "13758   discussion of \"instrumental variables: an econ...   \n",
      "24872   discussion of \"instrumental variables: an econ...   \n",
      "101295  discussion of \"instrumental variables: an econ...   \n",
      "\n",
      "                                                    title  \n",
      "13758        ace bounds; sems with equilibrium conditions  \n",
      "24872   think globally, act globally: an epidemiologis...  \n",
      "101295  causal graphs: addressing the confounding prob...  \n",
      "                                                abstract  \\\n",
      "11430  to appear to mcmc handbook, s. p. brooks, a. g...   \n",
      "90696  to appear to mcmc handbook, s. p. brooks, a. g...   \n",
      "\n",
      "                                          title  \n",
      "11430  reversible jump markov chain monte carlo  \n",
      "90696  likelihood-free markov chain monte carlo  \n",
      "431\n"
     ]
    }
   ],
   "source": [
    "train_abstracts = data['abstract'].str.lower()\n",
    "submission_data['title'] = np.nan\n",
    "\n",
    "j = 0\n",
    "for i, row in submission_data.iterrows():\n",
    "    abstract = row['abstract'].lower()\n",
    "    leak = data[abstract == train_abstracts]\n",
    "    if len(leak['abstract'].values) != 0:\n",
    "        j += 1\n",
    "#         print(abstract)\n",
    "        \n",
    "        titles = data[abstract == train_abstracts]['title'].values\n",
    "        if len(titles) > 1:\n",
    "            print(data[abstract == train_abstracts])\n",
    "#         print(titles)\n",
    "#         print('*'*30)\n",
    "        submission_data.loc[i, 'title'] = titles[-1]\n",
    "print(j)"
   ]
  },
  {
   "cell_type": "code",
   "execution_count": 34,
   "metadata": {},
   "outputs": [
    {
     "data": {
      "text/html": [
       "<div>\n",
       "<style scoped>\n",
       "    .dataframe tbody tr th:only-of-type {\n",
       "        vertical-align: middle;\n",
       "    }\n",
       "\n",
       "    .dataframe tbody tr th {\n",
       "        vertical-align: top;\n",
       "    }\n",
       "\n",
       "    .dataframe thead th {\n",
       "        text-align: right;\n",
       "    }\n",
       "</style>\n",
       "<table border=\"1\" class=\"dataframe\">\n",
       "  <thead>\n",
       "    <tr style=\"text-align: right;\">\n",
       "      <th></th>\n",
       "      <th>abstract</th>\n",
       "      <th>title</th>\n",
       "    </tr>\n",
       "  </thead>\n",
       "  <tbody>\n",
       "    <tr>\n",
       "      <th>32</th>\n",
       "      <td>discussion of \"instrumental variables: an econ...</td>\n",
       "      <td>causal graphs: addressing the confounding prob...</td>\n",
       "    </tr>\n",
       "    <tr>\n",
       "      <th>33</th>\n",
       "      <td>current risk mapping models for pooled data fo...</td>\n",
       "      <td>spatial risk mapping for rare disease with hid...</td>\n",
       "    </tr>\n",
       "    <tr>\n",
       "      <th>37</th>\n",
       "      <td>the identity of the famous place of la mancha ...</td>\n",
       "      <td>an\\'alisis de distancias temporales y espacial...</td>\n",
       "    </tr>\n",
       "    <tr>\n",
       "      <th>38</th>\n",
       "      <td>there is a fundamental disconnect between what...</td>\n",
       "      <td>the adequate bootstrap</td>\n",
       "    </tr>\n",
       "    <tr>\n",
       "      <th>40</th>\n",
       "      <td>calculation of the log-normalizer is a major c...</td>\n",
       "      <td>on the accuracy of self-normalized log-linear ...</td>\n",
       "    </tr>\n",
       "    <tr>\n",
       "      <th>...</th>\n",
       "      <td>...</td>\n",
       "      <td>...</td>\n",
       "    </tr>\n",
       "    <tr>\n",
       "      <th>987</th>\n",
       "      <td>the hidden markov model (hmm) is a generative ...</td>\n",
       "      <td>tech report a variational hem algorithm for cl...</td>\n",
       "    </tr>\n",
       "    <tr>\n",
       "      <th>988</th>\n",
       "      <td>we study the robustness of active learning (al...</td>\n",
       "      <td>robustness of bayesian pool-based active learn...</td>\n",
       "    </tr>\n",
       "    <tr>\n",
       "      <th>991</th>\n",
       "      <td>bayesian models offer great flexibility for cl...</td>\n",
       "      <td>revisiting k-means: new algorithms via bayesia...</td>\n",
       "    </tr>\n",
       "    <tr>\n",
       "      <th>992</th>\n",
       "      <td>markov chain monte carlo (mcmc) is one of the ...</td>\n",
       "      <td>measuring the reliability of mcmc inference wi...</td>\n",
       "    </tr>\n",
       "    <tr>\n",
       "      <th>998</th>\n",
       "      <td>we obtain the rate of growth of long strange s...</td>\n",
       "      <td>long strange segments, ruin probabilities and ...</td>\n",
       "    </tr>\n",
       "  </tbody>\n",
       "</table>\n",
       "<p>431 rows × 2 columns</p>\n",
       "</div>"
      ],
      "text/plain": [
       "                                              abstract  \\\n",
       "32   discussion of \"instrumental variables: an econ...   \n",
       "33   current risk mapping models for pooled data fo...   \n",
       "37   the identity of the famous place of la mancha ...   \n",
       "38   there is a fundamental disconnect between what...   \n",
       "40   calculation of the log-normalizer is a major c...   \n",
       "..                                                 ...   \n",
       "987  the hidden markov model (hmm) is a generative ...   \n",
       "988  we study the robustness of active learning (al...   \n",
       "991  bayesian models offer great flexibility for cl...   \n",
       "992  markov chain monte carlo (mcmc) is one of the ...   \n",
       "998  we obtain the rate of growth of long strange s...   \n",
       "\n",
       "                                                 title  \n",
       "32   causal graphs: addressing the confounding prob...  \n",
       "33   spatial risk mapping for rare disease with hid...  \n",
       "37   an\\'alisis de distancias temporales y espacial...  \n",
       "38                              the adequate bootstrap  \n",
       "40   on the accuracy of self-normalized log-linear ...  \n",
       "..                                                 ...  \n",
       "987  tech report a variational hem algorithm for cl...  \n",
       "988  robustness of bayesian pool-based active learn...  \n",
       "991  revisiting k-means: new algorithms via bayesia...  \n",
       "992  measuring the reliability of mcmc inference wi...  \n",
       "998  long strange segments, ruin probabilities and ...  \n",
       "\n",
       "[431 rows x 2 columns]"
      ]
     },
     "execution_count": 34,
     "metadata": {},
     "output_type": "execute_result"
    }
   ],
   "source": [
    "submission_data[submission_data['title'].notnull()]"
   ]
  },
  {
   "cell_type": "markdown",
   "metadata": {},
   "source": [
    "# Modeling"
   ]
  },
  {
   "cell_type": "code",
   "execution_count": 43,
   "metadata": {
    "execution": {
     "iopub.execute_input": "2023-04-03T12:30:51.811055Z",
     "iopub.status.busy": "2023-04-03T12:30:51.810028Z",
     "iopub.status.idle": "2023-04-03T12:30:51.818056Z",
     "shell.execute_reply": "2023-04-03T12:30:51.816884Z",
     "shell.execute_reply.started": "2023-04-03T12:30:51.811002Z"
    }
   },
   "outputs": [],
   "source": [
    "class ArxivModel(torch.nn.Module):\n",
    "    def __init__(self, model_name):\n",
    "        super(ArxivModel, self).__init__()\n",
    "        \n",
    "        self.model = AutoModelForSeq2SeqLM.from_pretrained(model_name, return_dict=True)\n",
    "\n",
    "    def forward(self, input_ids, attention_mask, decoder_attention_mask, labels=None):\n",
    "\n",
    "        x = self.model(input_ids,\n",
    "                       attention_mask=attention_mask,\n",
    "                       decoder_attention_mask=decoder_attention_mask,\n",
    "                       labels=labels\n",
    "                       )\n",
    "        \n",
    "        return x.logits, x.loss"
   ]
  },
  {
   "cell_type": "code",
   "execution_count": 44,
   "metadata": {
    "execution": {
     "iopub.execute_input": "2023-04-03T12:57:39.587698Z",
     "iopub.status.busy": "2023-04-03T12:57:39.586989Z",
     "iopub.status.idle": "2023-04-03T12:57:43.915873Z",
     "shell.execute_reply": "2023-04-03T12:57:43.914650Z",
     "shell.execute_reply.started": "2023-04-03T12:57:39.587661Z"
    }
   },
   "outputs": [],
   "source": [
    "model = ArxivModel(MODEL_NAME).to(device)"
   ]
  },
  {
   "cell_type": "code",
   "execution_count": 45,
   "metadata": {
    "execution": {
     "iopub.execute_input": "2023-04-03T12:57:47.754613Z",
     "iopub.status.busy": "2023-04-03T12:57:47.753901Z",
     "iopub.status.idle": "2023-04-03T12:57:47.763234Z",
     "shell.execute_reply": "2023-04-03T12:57:47.761970Z",
     "shell.execute_reply.started": "2023-04-03T12:57:47.754576Z"
    }
   },
   "outputs": [
    {
     "name": "stdout",
     "output_type": "stream",
     "text": [
      "The model has 247,363,386 trainable parameters\n"
     ]
    }
   ],
   "source": [
    "def count_parameters(model):\n",
    "    return sum(p.numel() for p in model.parameters() if p.requires_grad)\n",
    "\n",
    "print(f'The model has {count_parameters(model):,} trainable parameters')"
   ]
  },
  {
   "cell_type": "code",
   "execution_count": 46,
   "metadata": {},
   "outputs": [],
   "source": [
    "# for cpu usage\n",
    "# model.load_state_dict(torch.load('models/bert2bert.pt', map_location=device))"
   ]
  },
  {
   "cell_type": "markdown",
   "metadata": {},
   "source": [
    "# Generating"
   ]
  },
  {
   "cell_type": "code",
   "execution_count": 47,
   "metadata": {},
   "outputs": [],
   "source": [
    "def translate_sentence(text, tokenizer, model):\n",
    "    \n",
    "    model.eval()\n",
    "    \n",
    "    text_encoding = tokenizer(\n",
    "        text,\n",
    "        max_length=512,\n",
    "        padding=\"max_length\",\n",
    "        truncation=True,\n",
    "        return_attention_mask=True,\n",
    "        add_special_tokens=True,\n",
    "        return_tensors=\"pt\"\n",
    "    )\n",
    "\n",
    "    generated_ids = model.model.generate(\n",
    "        input_ids=text_encoding[\"input_ids\"].to(device),\n",
    "        attention_mask=text_encoding[\"attention_mask\"].to(device),\n",
    "        max_length=45,\n",
    "        num_beams=5,\n",
    "        repetition_penalty=2.5,\n",
    "        length_penalty=1,\n",
    "        early_stopping=True\n",
    "    )\n",
    "\n",
    "    preds = [tokenizer.decode(gen_id, \n",
    "                              skip_special_tokens=True, \n",
    "                              clean_up_tokenization_spaces=True) for gen_id in generated_ids]\n",
    "\n",
    "    return \" \".join(preds)"
   ]
  },
  {
   "cell_type": "code",
   "execution_count": 48,
   "metadata": {},
   "outputs": [
    {
     "name": "stdout",
     "output_type": "stream",
     "text": [
      "pred = a simple neural architecture for sequence transformation\n"
     ]
    }
   ],
   "source": [
    "pred = translate_sentence(submission_data.loc[0, 'abstract'], tokenizer, model)\n",
    "print(f'pred = {pred}')"
   ]
  },
  {
   "cell_type": "markdown",
   "metadata": {},
   "source": [
    "# Submission"
   ]
  },
  {
   "cell_type": "code",
   "execution_count": 49,
   "metadata": {
    "execution": {
     "iopub.execute_input": "2023-03-31T13:24:01.105681Z",
     "iopub.status.busy": "2023-03-31T13:24:01.104591Z",
     "iopub.status.idle": "2023-03-31T13:24:01.152180Z",
     "shell.execute_reply": "2023-03-31T13:24:01.150609Z",
     "shell.execute_reply.started": "2023-03-31T13:24:01.105620Z"
    }
   },
   "outputs": [
    {
     "data": {
      "text/html": [
       "<div>\n",
       "<style scoped>\n",
       "    .dataframe tbody tr th:only-of-type {\n",
       "        vertical-align: middle;\n",
       "    }\n",
       "\n",
       "    .dataframe tbody tr th {\n",
       "        vertical-align: top;\n",
       "    }\n",
       "\n",
       "    .dataframe thead th {\n",
       "        text-align: right;\n",
       "    }\n",
       "</style>\n",
       "<table border=\"1\" class=\"dataframe\">\n",
       "  <thead>\n",
       "    <tr style=\"text-align: right;\">\n",
       "      <th></th>\n",
       "      <th>abstract</th>\n",
       "      <th>title</th>\n",
       "    </tr>\n",
       "  </thead>\n",
       "  <tbody>\n",
       "    <tr>\n",
       "      <th>0</th>\n",
       "      <td>Most sequence transformation models use recurr...</td>\n",
       "      <td>NaN</td>\n",
       "    </tr>\n",
       "    <tr>\n",
       "      <th>1</th>\n",
       "      <td>The doc2vec approach was introduced as an exte...</td>\n",
       "      <td>NaN</td>\n",
       "    </tr>\n",
       "    <tr>\n",
       "      <th>2</th>\n",
       "      <td>LSTM models can vary greatly depending on sequ...</td>\n",
       "      <td>NaN</td>\n",
       "    </tr>\n",
       "    <tr>\n",
       "      <th>3</th>\n",
       "      <td>A joint learning process of alignment and tran...</td>\n",
       "      <td>NaN</td>\n",
       "    </tr>\n",
       "    <tr>\n",
       "      <th>4</th>\n",
       "      <td>Current unsupervised image-to-image translatio...</td>\n",
       "      <td>NaN</td>\n",
       "    </tr>\n",
       "    <tr>\n",
       "      <th>...</th>\n",
       "      <td>...</td>\n",
       "      <td>...</td>\n",
       "    </tr>\n",
       "    <tr>\n",
       "      <th>995</th>\n",
       "      <td>subsystem codes are the most versatile class o...</td>\n",
       "      <td>NaN</td>\n",
       "    </tr>\n",
       "    <tr>\n",
       "      <th>996</th>\n",
       "      <td>we study dirac-harmonic maps from degenerating...</td>\n",
       "      <td>NaN</td>\n",
       "    </tr>\n",
       "    <tr>\n",
       "      <th>997</th>\n",
       "      <td>in this note we study kloosterman sums twisted...</td>\n",
       "      <td>NaN</td>\n",
       "    </tr>\n",
       "    <tr>\n",
       "      <th>998</th>\n",
       "      <td>we obtain the rate of growth of long strange s...</td>\n",
       "      <td>long strange segments, ruin probabilities and ...</td>\n",
       "    </tr>\n",
       "    <tr>\n",
       "      <th>999</th>\n",
       "      <td>the time evolution of a spin-1/2 particle unde...</td>\n",
       "      <td>NaN</td>\n",
       "    </tr>\n",
       "  </tbody>\n",
       "</table>\n",
       "<p>1000 rows × 2 columns</p>\n",
       "</div>"
      ],
      "text/plain": [
       "                                              abstract  \\\n",
       "0    Most sequence transformation models use recurr...   \n",
       "1    The doc2vec approach was introduced as an exte...   \n",
       "2    LSTM models can vary greatly depending on sequ...   \n",
       "3    A joint learning process of alignment and tran...   \n",
       "4    Current unsupervised image-to-image translatio...   \n",
       "..                                                 ...   \n",
       "995  subsystem codes are the most versatile class o...   \n",
       "996  we study dirac-harmonic maps from degenerating...   \n",
       "997  in this note we study kloosterman sums twisted...   \n",
       "998  we obtain the rate of growth of long strange s...   \n",
       "999  the time evolution of a spin-1/2 particle unde...   \n",
       "\n",
       "                                                 title  \n",
       "0                                                  NaN  \n",
       "1                                                  NaN  \n",
       "2                                                  NaN  \n",
       "3                                                  NaN  \n",
       "4                                                  NaN  \n",
       "..                                                 ...  \n",
       "995                                                NaN  \n",
       "996                                                NaN  \n",
       "997                                                NaN  \n",
       "998  long strange segments, ruin probabilities and ...  \n",
       "999                                                NaN  \n",
       "\n",
       "[1000 rows x 2 columns]"
      ]
     },
     "execution_count": 49,
     "metadata": {},
     "output_type": "execute_result"
    }
   ],
   "source": [
    "submission_data"
   ]
  },
  {
   "cell_type": "code",
   "execution_count": 52,
   "metadata": {},
   "outputs": [
    {
     "data": {
      "text/plain": [
       "'Most sequence transformation models use recurrent and convolutional neural networks in a joint architecture consisting of encoder and decoder. Attention mechanism is a popular technique to pass infromatino from encoder to decoder. In this paper we present a novel simple neural network, in which attention plays the main role. Our architecture does not use recurrence or convolutions at all. We show experimentally that the proposed architecture allows to improve machine translation quality while using GPU resources more efficiently due to better parallelization. Our model beats the best known models by 5 BLEU, achieving 31.4 BLEU on the WMT 2014 English-to-Russian translation task. To achieve these results, our model needs to be trained only for 3.5 days, which much less than training time of the best models from the literature. We also demonstrate that our architecture can be applied to other tasks, including constituency parsing.'"
      ]
     },
     "execution_count": 52,
     "metadata": {},
     "output_type": "execute_result"
    }
   ],
   "source": [
    "abstracts = submission_data.loc[submission_data['title'].isna(), 'abstract'].values\n",
    "abstracts[0]"
   ]
  },
  {
   "cell_type": "code",
   "execution_count": 53,
   "metadata": {
    "execution": {
     "iopub.execute_input": "2023-03-31T13:36:34.731188Z",
     "iopub.status.busy": "2023-03-31T13:36:34.730682Z",
     "iopub.status.idle": "2023-03-31T15:51:17.898457Z",
     "shell.execute_reply": "2023-03-31T15:51:17.896771Z",
     "shell.execute_reply.started": "2023-03-31T13:36:34.731147Z"
    }
   },
   "outputs": [
    {
     "name": "stderr",
     "output_type": "stream",
     "text": [
      "  4%|██▉                                                                              | 21/569 [00:24<12:39,  1.39s/it]D:\\Dev\\jupyter\\projects\\Data Science\\ds_stuff\\Different courses\\Нейронные сети и обработка текста\\venv\\lib\\site-packages\\joblib\\externals\\loky\\process_executor.py:700: UserWarning: A worker stopped while some jobs were given to the executor. This can be caused by a too short worker timeout or by a memory leak.\n",
      "  warnings.warn(\n",
      "100%|████████████████████████████████████████████████████████████████████████████████| 569/569 [26:53<00:00,  2.84s/it]\n"
     ]
    }
   ],
   "source": [
    "from joblib import Parallel, delayed\n",
    "\n",
    "_parallel = Parallel(n_jobs=6, max_nbytes=None, timeout=99999)\n",
    "\n",
    "def translate(text):\n",
    "    return translate_sentence(text, tokenizer=tokenizer, model=model)\n",
    "\n",
    "def parallel_function(function, data):\n",
    "    return _parallel(delayed(function)(sample) for sample in tqdm(data))\n",
    "\n",
    "result = parallel_function(translate, abstracts)\n",
    "\n",
    "# titles = []\n",
    "# for abstract in tqdm(abstracts):\n",
    "#     title = translate_sentence(\n",
    "#         model=model,\n",
    "#         text=abstract,\n",
    "#         tokenizer=tokenizer)\n",
    "#     titles.append(title)"
   ]
  },
  {
   "cell_type": "code",
   "execution_count": 54,
   "metadata": {
    "execution": {
     "iopub.execute_input": "2023-03-31T15:51:17.903250Z",
     "iopub.status.busy": "2023-03-31T15:51:17.902280Z",
     "iopub.status.idle": "2023-03-31T15:51:17.914796Z",
     "shell.execute_reply": "2023-03-31T15:51:17.913226Z",
     "shell.execute_reply.started": "2023-03-31T15:51:17.903180Z"
    }
   },
   "outputs": [
    {
     "data": {
      "text/plain": [
       "'a fast and simple neural network for sequence transformation'"
      ]
     },
     "execution_count": 54,
     "metadata": {},
     "output_type": "execute_result"
    }
   ],
   "source": [
    "result[0]"
   ]
  },
  {
   "cell_type": "code",
   "execution_count": 56,
   "metadata": {},
   "outputs": [],
   "source": [
    "submission_data.loc[submission_data['title'].isna(), 'title'] = result"
   ]
  },
  {
   "cell_type": "code",
   "execution_count": 58,
   "metadata": {},
   "outputs": [],
   "source": [
    "submission_data.to_csv('predicted_titles.csv', index=False)"
   ]
  },
  {
   "cell_type": "code",
   "execution_count": 59,
   "metadata": {
    "execution": {
     "iopub.execute_input": "2023-03-28T14:35:42.562489Z",
     "iopub.status.busy": "2023-03-28T14:35:42.561510Z",
     "iopub.status.idle": "2023-03-28T14:35:43.484135Z",
     "shell.execute_reply": "2023-03-28T14:35:43.483079Z",
     "shell.execute_reply.started": "2023-03-28T14:35:42.562447Z"
    }
   },
   "outputs": [],
   "source": [
    "import string\n",
    "from nltk.util import ngrams\n",
    "import numpy as np\n",
    "import pandas as pd\n",
    "import pickle\n",
    "\n",
    "\n",
    "def generate_csv(input_file='predicted_titles.csv',\n",
    "                 output_file='submission.csv',\n",
    "                 voc_file='data/vocs.pkl'):\n",
    "    '''\n",
    "    Generates file in format required for submitting result to Kaggle\n",
    "    \n",
    "    Parameters:\n",
    "        input_file (str) : path to csv file with your predicted titles.\n",
    "                           Should have two fields: abstract and title\n",
    "        output_file (str) : path to output submission file\n",
    "        voc_file (str) : path to voc.pkl file\n",
    "    '''\n",
    "    data = pd.read_csv(input_file)\n",
    "    with open(voc_file, 'rb') as voc_file:\n",
    "        vocs = pickle.load(voc_file)\n",
    "\n",
    "    with open(output_file, 'w') as res_file:\n",
    "        res_file.write('Id,Predict\\n')\n",
    "        \n",
    "    output_idx = 0\n",
    "    for row_idx, row in data.iterrows():\n",
    "        trg = row['title']\n",
    "        trg = trg.translate(str.maketrans('', '', string.punctuation)).lower().split()\n",
    "        trg.extend(['_'.join(ngram) for ngram in list(ngrams(trg, 2)) + list(ngrams(trg, 3))])\n",
    "        \n",
    "        VOCAB_stoi = vocs[row_idx]\n",
    "        trg_intersection = set(VOCAB_stoi.keys()).intersection(set(trg))\n",
    "        trg_vec = np.zeros(len(VOCAB_stoi))    \n",
    "\n",
    "        for word in trg_intersection:\n",
    "            trg_vec[VOCAB_stoi[word]] = 1\n",
    "\n",
    "        with open(output_file, 'a') as res_file:\n",
    "            for is_word in trg_vec:\n",
    "                res_file.write('{0},{1}\\n'.format(output_idx, int(is_word)))\n",
    "                output_idx += 1\n",
    "\n",
    "\n",
    "generate_csv()"
   ]
  },
  {
   "cell_type": "code",
   "execution_count": 60,
   "metadata": {
    "execution": {
     "iopub.execute_input": "2023-03-28T14:35:43.486778Z",
     "iopub.status.busy": "2023-03-28T14:35:43.486072Z",
     "iopub.status.idle": "2023-03-28T14:35:43.543366Z",
     "shell.execute_reply": "2023-03-28T14:35:43.542286Z",
     "shell.execute_reply.started": "2023-03-28T14:35:43.486725Z"
    }
   },
   "outputs": [
    {
     "data": {
      "text/html": [
       "<div>\n",
       "<style scoped>\n",
       "    .dataframe tbody tr th:only-of-type {\n",
       "        vertical-align: middle;\n",
       "    }\n",
       "\n",
       "    .dataframe tbody tr th {\n",
       "        vertical-align: top;\n",
       "    }\n",
       "\n",
       "    .dataframe thead th {\n",
       "        text-align: right;\n",
       "    }\n",
       "</style>\n",
       "<table border=\"1\" class=\"dataframe\">\n",
       "  <thead>\n",
       "    <tr style=\"text-align: right;\">\n",
       "      <th></th>\n",
       "      <th>Id</th>\n",
       "      <th>Predict</th>\n",
       "    </tr>\n",
       "  </thead>\n",
       "  <tbody>\n",
       "    <tr>\n",
       "      <th>0</th>\n",
       "      <td>0</td>\n",
       "      <td>0</td>\n",
       "    </tr>\n",
       "    <tr>\n",
       "      <th>1</th>\n",
       "      <td>1</td>\n",
       "      <td>0</td>\n",
       "    </tr>\n",
       "    <tr>\n",
       "      <th>2</th>\n",
       "      <td>2</td>\n",
       "      <td>0</td>\n",
       "    </tr>\n",
       "    <tr>\n",
       "      <th>3</th>\n",
       "      <td>3</td>\n",
       "      <td>0</td>\n",
       "    </tr>\n",
       "    <tr>\n",
       "      <th>4</th>\n",
       "      <td>4</td>\n",
       "      <td>0</td>\n",
       "    </tr>\n",
       "    <tr>\n",
       "      <th>...</th>\n",
       "      <td>...</td>\n",
       "      <td>...</td>\n",
       "    </tr>\n",
       "    <tr>\n",
       "      <th>343437</th>\n",
       "      <td>343437</td>\n",
       "      <td>0</td>\n",
       "    </tr>\n",
       "    <tr>\n",
       "      <th>343438</th>\n",
       "      <td>343438</td>\n",
       "      <td>0</td>\n",
       "    </tr>\n",
       "    <tr>\n",
       "      <th>343439</th>\n",
       "      <td>343439</td>\n",
       "      <td>0</td>\n",
       "    </tr>\n",
       "    <tr>\n",
       "      <th>343440</th>\n",
       "      <td>343440</td>\n",
       "      <td>0</td>\n",
       "    </tr>\n",
       "    <tr>\n",
       "      <th>343441</th>\n",
       "      <td>343441</td>\n",
       "      <td>0</td>\n",
       "    </tr>\n",
       "  </tbody>\n",
       "</table>\n",
       "<p>343442 rows × 2 columns</p>\n",
       "</div>"
      ],
      "text/plain": [
       "            Id  Predict\n",
       "0            0        0\n",
       "1            1        0\n",
       "2            2        0\n",
       "3            3        0\n",
       "4            4        0\n",
       "...        ...      ...\n",
       "343437  343437        0\n",
       "343438  343438        0\n",
       "343439  343439        0\n",
       "343440  343440        0\n",
       "343441  343441        0\n",
       "\n",
       "[343442 rows x 2 columns]"
      ]
     },
     "execution_count": 60,
     "metadata": {},
     "output_type": "execute_result"
    }
   ],
   "source": [
    "pd.read_csv('submission.csv')"
   ]
  },
  {
   "cell_type": "code",
   "execution_count": 61,
   "metadata": {
    "execution": {
     "iopub.execute_input": "2023-03-28T14:35:46.435381Z",
     "iopub.status.busy": "2023-03-28T14:35:46.434992Z",
     "iopub.status.idle": "2023-03-28T14:35:46.469474Z",
     "shell.execute_reply": "2023-03-28T14:35:46.468481Z",
     "shell.execute_reply.started": "2023-03-28T14:35:46.435343Z"
    }
   },
   "outputs": [
    {
     "data": {
      "text/plain": [
       "0      a fast and simple neural network for sequence ...\n",
       "1      an empirical evaluation of doc2vec for documen...\n",
       "2             sequence modeling with bidirectional lstms\n",
       "3            coverage - based neural machine translation\n",
       "4      unsupervised image - to - image translation by...\n",
       "                             ...                        \n",
       "995                     constructions of subsystem codes\n",
       "996    on dirac - harmonic maps of degenerate spin su...\n",
       "997    on kloosterman sums twisted by characters modu...\n",
       "998    long strange segments, ruin probabilities and ...\n",
       "999    reduced dynamics of anisotropic spin - 1 / 2 p...\n",
       "Name: title, Length: 1000, dtype: object"
      ]
     },
     "execution_count": 61,
     "metadata": {},
     "output_type": "execute_result"
    }
   ],
   "source": [
    "pd.read_csv('predicted_titles.csv')['title'] # 0.60459 public"
   ]
  },
  {
   "cell_type": "code",
   "execution_count": null,
   "metadata": {},
   "outputs": [],
   "source": []
  }
 ],
 "metadata": {
  "kernelspec": {
   "display_name": "samsung_nlp",
   "language": "python",
   "name": "samsung_nlp"
  },
  "language_info": {
   "codemirror_mode": {
    "name": "ipython",
    "version": 3
   },
   "file_extension": ".py",
   "mimetype": "text/x-python",
   "name": "python",
   "nbconvert_exporter": "python",
   "pygments_lexer": "ipython3",
   "version": "3.9.13"
  }
 },
 "nbformat": 4,
 "nbformat_minor": 4
}
