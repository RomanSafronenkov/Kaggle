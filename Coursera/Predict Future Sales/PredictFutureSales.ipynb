{
 "cells": [
  {
   "cell_type": "markdown",
   "metadata": {},
   "source": [
    "<h1>Predict Furute Sales</h1>\n",
    "<a href=\"https://www.kaggle.com/c/competitive-data-science-predict-future-sales\", target=\"_blank\">Predict Future Sales</a>\n",
    "<p>by Safronenkov Roman</p>"
   ]
  },
  {
   "cell_type": "code",
   "execution_count": 1,
   "metadata": {
    "collapsed": true
   },
   "outputs": [],
   "source": [
    "import pandas as pd\n",
    "import numpy as np\n",
    "\n",
    "import catboost as cb\n",
    "import matplotlib.pyplot as plt\n",
    "plt.style.use('ggplot')\n",
    "\n",
    "import gc\n",
    "import re\n",
    "from itertools import product\n",
    "\n",
    "from sklearn.preprocessing import MinMaxScaler\n",
    "from sklearn.linear_model import SGDRegressor\n",
    "from sklearn.metrics import mean_squared_error\n",
    "from sklearn.feature_extraction.text import TfidfVectorizer\n",
    "from sklearn.decomposition import TruncatedSVD\n",
    "\n",
    "%matplotlib inline"
   ]
  },
  {
   "cell_type": "markdown",
   "metadata": {},
   "source": [
    "<h1>GLOBALS</h1>"
   ]
  },
  {
   "cell_type": "code",
   "execution_count": 2,
   "metadata": {
    "collapsed": true
   },
   "outputs": [],
   "source": [
    "lag_list = [1, 2, 3, 4, 12]\n",
    "cols  = ['date_block_num', 'shop_id', 'item_id']"
   ]
  },
  {
   "cell_type": "markdown",
   "metadata": {},
   "source": [
    "<h1>Loading data</h1>"
   ]
  },
  {
   "cell_type": "markdown",
   "metadata": {},
   "source": [
    "<p>I've created some functions which help me to preprocess data and generate new features</p>"
   ]
  },
  {
   "cell_type": "code",
   "execution_count": 3,
   "metadata": {
    "collapsed": true
   },
   "outputs": [],
   "source": [
    "from data_preprocessing.utils import load_data, downgrade_type"
   ]
  },
  {
   "cell_type": "code",
   "execution_count": 4,
   "metadata": {
    "collapsed": true
   },
   "outputs": [],
   "source": [
    "sales_train, item_categories, items, shops, test = load_data()"
   ]
  },
  {
   "cell_type": "code",
   "execution_count": 5,
   "metadata": {},
   "outputs": [
    {
     "data": {
      "text/html": [
       "<div>\n",
       "<style>\n",
       "    .dataframe thead tr:only-child th {\n",
       "        text-align: right;\n",
       "    }\n",
       "\n",
       "    .dataframe thead th {\n",
       "        text-align: left;\n",
       "    }\n",
       "\n",
       "    .dataframe tbody tr th {\n",
       "        vertical-align: top;\n",
       "    }\n",
       "</style>\n",
       "<table border=\"1\" class=\"dataframe\">\n",
       "  <thead>\n",
       "    <tr style=\"text-align: right;\">\n",
       "      <th></th>\n",
       "      <th>date</th>\n",
       "      <th>date_block_num</th>\n",
       "      <th>shop_id</th>\n",
       "      <th>item_id</th>\n",
       "      <th>item_price</th>\n",
       "      <th>item_cnt_day</th>\n",
       "    </tr>\n",
       "  </thead>\n",
       "  <tbody>\n",
       "    <tr>\n",
       "      <th>0</th>\n",
       "      <td>2013-01-02</td>\n",
       "      <td>0</td>\n",
       "      <td>59</td>\n",
       "      <td>22154</td>\n",
       "      <td>999.00</td>\n",
       "      <td>1.0</td>\n",
       "    </tr>\n",
       "    <tr>\n",
       "      <th>1</th>\n",
       "      <td>2013-01-03</td>\n",
       "      <td>0</td>\n",
       "      <td>25</td>\n",
       "      <td>2552</td>\n",
       "      <td>899.00</td>\n",
       "      <td>1.0</td>\n",
       "    </tr>\n",
       "    <tr>\n",
       "      <th>2</th>\n",
       "      <td>2013-01-05</td>\n",
       "      <td>0</td>\n",
       "      <td>25</td>\n",
       "      <td>2552</td>\n",
       "      <td>899.00</td>\n",
       "      <td>-1.0</td>\n",
       "    </tr>\n",
       "    <tr>\n",
       "      <th>3</th>\n",
       "      <td>2013-01-06</td>\n",
       "      <td>0</td>\n",
       "      <td>25</td>\n",
       "      <td>2554</td>\n",
       "      <td>1709.05</td>\n",
       "      <td>1.0</td>\n",
       "    </tr>\n",
       "    <tr>\n",
       "      <th>4</th>\n",
       "      <td>2013-01-15</td>\n",
       "      <td>0</td>\n",
       "      <td>25</td>\n",
       "      <td>2555</td>\n",
       "      <td>1099.00</td>\n",
       "      <td>1.0</td>\n",
       "    </tr>\n",
       "  </tbody>\n",
       "</table>\n",
       "</div>"
      ],
      "text/plain": [
       "        date  date_block_num  shop_id  item_id  item_price  item_cnt_day\n",
       "0 2013-01-02               0       59    22154      999.00           1.0\n",
       "1 2013-01-03               0       25     2552      899.00           1.0\n",
       "2 2013-01-05               0       25     2552      899.00          -1.0\n",
       "3 2013-01-06               0       25     2554     1709.05           1.0\n",
       "4 2013-01-15               0       25     2555     1099.00           1.0"
      ]
     },
     "execution_count": 5,
     "metadata": {},
     "output_type": "execute_result"
    }
   ],
   "source": [
    "sales_train.head()"
   ]
  },
  {
   "cell_type": "code",
   "execution_count": 6,
   "metadata": {},
   "outputs": [
    {
     "name": "stdout",
     "output_type": "stream",
     "text": [
      "<class 'pandas.core.frame.DataFrame'>\n",
      "RangeIndex: 2935849 entries, 0 to 2935848\n",
      "Data columns (total 6 columns):\n",
      "date              datetime64[ns]\n",
      "date_block_num    int64\n",
      "shop_id           int64\n",
      "item_id           int64\n",
      "item_price        float64\n",
      "item_cnt_day      float64\n",
      "dtypes: datetime64[ns](1), float64(2), int64(3)\n",
      "memory usage: 134.4 MB\n"
     ]
    }
   ],
   "source": [
    "sales_train.info()"
   ]
  },
  {
   "cell_type": "code",
   "execution_count": 7,
   "metadata": {
    "collapsed": true
   },
   "outputs": [],
   "source": [
    "sales_train = downgrade_type(sales_train)"
   ]
  },
  {
   "cell_type": "code",
   "execution_count": 8,
   "metadata": {},
   "outputs": [
    {
     "name": "stdout",
     "output_type": "stream",
     "text": [
      "<class 'pandas.core.frame.DataFrame'>\n",
      "RangeIndex: 2935849 entries, 0 to 2935848\n",
      "Data columns (total 6 columns):\n",
      "date              datetime64[ns]\n",
      "date_block_num    int32\n",
      "shop_id           int32\n",
      "item_id           int32\n",
      "item_price        float32\n",
      "item_cnt_day      float32\n",
      "dtypes: datetime64[ns](1), float32(2), int32(3)\n",
      "memory usage: 78.4 MB\n"
     ]
    }
   ],
   "source": [
    "sales_train.info()"
   ]
  },
  {
   "cell_type": "code",
   "execution_count": 9,
   "metadata": {},
   "outputs": [
    {
     "data": {
      "text/html": [
       "<div>\n",
       "<style>\n",
       "    .dataframe thead tr:only-child th {\n",
       "        text-align: right;\n",
       "    }\n",
       "\n",
       "    .dataframe thead th {\n",
       "        text-align: left;\n",
       "    }\n",
       "\n",
       "    .dataframe tbody tr th {\n",
       "        vertical-align: top;\n",
       "    }\n",
       "</style>\n",
       "<table border=\"1\" class=\"dataframe\">\n",
       "  <thead>\n",
       "    <tr style=\"text-align: right;\">\n",
       "      <th></th>\n",
       "      <th>item_category_name</th>\n",
       "      <th>item_category_id</th>\n",
       "    </tr>\n",
       "  </thead>\n",
       "  <tbody>\n",
       "    <tr>\n",
       "      <th>0</th>\n",
       "      <td>PC - Гарнитуры/Наушники</td>\n",
       "      <td>0</td>\n",
       "    </tr>\n",
       "    <tr>\n",
       "      <th>1</th>\n",
       "      <td>Аксессуары - PS2</td>\n",
       "      <td>1</td>\n",
       "    </tr>\n",
       "    <tr>\n",
       "      <th>2</th>\n",
       "      <td>Аксессуары - PS3</td>\n",
       "      <td>2</td>\n",
       "    </tr>\n",
       "    <tr>\n",
       "      <th>3</th>\n",
       "      <td>Аксессуары - PS4</td>\n",
       "      <td>3</td>\n",
       "    </tr>\n",
       "    <tr>\n",
       "      <th>4</th>\n",
       "      <td>Аксессуары - PSP</td>\n",
       "      <td>4</td>\n",
       "    </tr>\n",
       "  </tbody>\n",
       "</table>\n",
       "</div>"
      ],
      "text/plain": [
       "        item_category_name  item_category_id\n",
       "0  PC - Гарнитуры/Наушники                 0\n",
       "1         Аксессуары - PS2                 1\n",
       "2         Аксессуары - PS3                 2\n",
       "3         Аксессуары - PS4                 3\n",
       "4         Аксессуары - PSP                 4"
      ]
     },
     "execution_count": 9,
     "metadata": {},
     "output_type": "execute_result"
    }
   ],
   "source": [
    "item_categories.head()"
   ]
  },
  {
   "cell_type": "code",
   "execution_count": 10,
   "metadata": {
    "collapsed": true
   },
   "outputs": [],
   "source": [
    "item_categories = downgrade_type(item_categories)"
   ]
  },
  {
   "cell_type": "code",
   "execution_count": 11,
   "metadata": {},
   "outputs": [
    {
     "data": {
      "text/html": [
       "<div>\n",
       "<style>\n",
       "    .dataframe thead tr:only-child th {\n",
       "        text-align: right;\n",
       "    }\n",
       "\n",
       "    .dataframe thead th {\n",
       "        text-align: left;\n",
       "    }\n",
       "\n",
       "    .dataframe tbody tr th {\n",
       "        vertical-align: top;\n",
       "    }\n",
       "</style>\n",
       "<table border=\"1\" class=\"dataframe\">\n",
       "  <thead>\n",
       "    <tr style=\"text-align: right;\">\n",
       "      <th></th>\n",
       "      <th>item_name</th>\n",
       "      <th>item_id</th>\n",
       "      <th>item_category_id</th>\n",
       "    </tr>\n",
       "  </thead>\n",
       "  <tbody>\n",
       "    <tr>\n",
       "      <th>0</th>\n",
       "      <td>! ВО ВЛАСТИ НАВАЖДЕНИЯ (ПЛАСТ.)         D</td>\n",
       "      <td>0</td>\n",
       "      <td>40</td>\n",
       "    </tr>\n",
       "    <tr>\n",
       "      <th>1</th>\n",
       "      <td>!ABBYY FineReader 12 Professional Edition Full...</td>\n",
       "      <td>1</td>\n",
       "      <td>76</td>\n",
       "    </tr>\n",
       "    <tr>\n",
       "      <th>2</th>\n",
       "      <td>***В ЛУЧАХ СЛАВЫ   (UNV)                    D</td>\n",
       "      <td>2</td>\n",
       "      <td>40</td>\n",
       "    </tr>\n",
       "    <tr>\n",
       "      <th>3</th>\n",
       "      <td>***ГОЛУБАЯ ВОЛНА  (Univ)                      D</td>\n",
       "      <td>3</td>\n",
       "      <td>40</td>\n",
       "    </tr>\n",
       "    <tr>\n",
       "      <th>4</th>\n",
       "      <td>***КОРОБКА (СТЕКЛО)                       D</td>\n",
       "      <td>4</td>\n",
       "      <td>40</td>\n",
       "    </tr>\n",
       "  </tbody>\n",
       "</table>\n",
       "</div>"
      ],
      "text/plain": [
       "                                           item_name  item_id  \\\n",
       "0          ! ВО ВЛАСТИ НАВАЖДЕНИЯ (ПЛАСТ.)         D        0   \n",
       "1  !ABBYY FineReader 12 Professional Edition Full...        1   \n",
       "2      ***В ЛУЧАХ СЛАВЫ   (UNV)                    D        2   \n",
       "3    ***ГОЛУБАЯ ВОЛНА  (Univ)                      D        3   \n",
       "4        ***КОРОБКА (СТЕКЛО)                       D        4   \n",
       "\n",
       "   item_category_id  \n",
       "0                40  \n",
       "1                76  \n",
       "2                40  \n",
       "3                40  \n",
       "4                40  "
      ]
     },
     "execution_count": 11,
     "metadata": {},
     "output_type": "execute_result"
    }
   ],
   "source": [
    "items.head()"
   ]
  },
  {
   "cell_type": "code",
   "execution_count": 12,
   "metadata": {
    "collapsed": true
   },
   "outputs": [],
   "source": [
    "items = downgrade_type(items)"
   ]
  },
  {
   "cell_type": "code",
   "execution_count": 13,
   "metadata": {},
   "outputs": [
    {
     "data": {
      "text/html": [
       "<div>\n",
       "<style>\n",
       "    .dataframe thead tr:only-child th {\n",
       "        text-align: right;\n",
       "    }\n",
       "\n",
       "    .dataframe thead th {\n",
       "        text-align: left;\n",
       "    }\n",
       "\n",
       "    .dataframe tbody tr th {\n",
       "        vertical-align: top;\n",
       "    }\n",
       "</style>\n",
       "<table border=\"1\" class=\"dataframe\">\n",
       "  <thead>\n",
       "    <tr style=\"text-align: right;\">\n",
       "      <th></th>\n",
       "      <th>shop_name</th>\n",
       "      <th>shop_id</th>\n",
       "    </tr>\n",
       "  </thead>\n",
       "  <tbody>\n",
       "    <tr>\n",
       "      <th>0</th>\n",
       "      <td>!Якутск Орджоникидзе, 56 фран</td>\n",
       "      <td>0</td>\n",
       "    </tr>\n",
       "    <tr>\n",
       "      <th>1</th>\n",
       "      <td>!Якутск ТЦ \"Центральный\" фран</td>\n",
       "      <td>1</td>\n",
       "    </tr>\n",
       "    <tr>\n",
       "      <th>2</th>\n",
       "      <td>Адыгея ТЦ \"Мега\"</td>\n",
       "      <td>2</td>\n",
       "    </tr>\n",
       "    <tr>\n",
       "      <th>3</th>\n",
       "      <td>Балашиха ТРК \"Октябрь-Киномир\"</td>\n",
       "      <td>3</td>\n",
       "    </tr>\n",
       "    <tr>\n",
       "      <th>4</th>\n",
       "      <td>Волжский ТЦ \"Волга Молл\"</td>\n",
       "      <td>4</td>\n",
       "    </tr>\n",
       "  </tbody>\n",
       "</table>\n",
       "</div>"
      ],
      "text/plain": [
       "                        shop_name  shop_id\n",
       "0   !Якутск Орджоникидзе, 56 фран        0\n",
       "1   !Якутск ТЦ \"Центральный\" фран        1\n",
       "2                Адыгея ТЦ \"Мега\"        2\n",
       "3  Балашиха ТРК \"Октябрь-Киномир\"        3\n",
       "4        Волжский ТЦ \"Волга Молл\"        4"
      ]
     },
     "execution_count": 13,
     "metadata": {},
     "output_type": "execute_result"
    }
   ],
   "source": [
    "shops.head()"
   ]
  },
  {
   "cell_type": "code",
   "execution_count": 14,
   "metadata": {
    "collapsed": true
   },
   "outputs": [],
   "source": [
    "shops = downgrade_type(shops)"
   ]
  },
  {
   "cell_type": "code",
   "execution_count": 15,
   "metadata": {},
   "outputs": [
    {
     "data": {
      "text/html": [
       "<div>\n",
       "<style>\n",
       "    .dataframe thead tr:only-child th {\n",
       "        text-align: right;\n",
       "    }\n",
       "\n",
       "    .dataframe thead th {\n",
       "        text-align: left;\n",
       "    }\n",
       "\n",
       "    .dataframe tbody tr th {\n",
       "        vertical-align: top;\n",
       "    }\n",
       "</style>\n",
       "<table border=\"1\" class=\"dataframe\">\n",
       "  <thead>\n",
       "    <tr style=\"text-align: right;\">\n",
       "      <th></th>\n",
       "      <th>ID</th>\n",
       "      <th>shop_id</th>\n",
       "      <th>item_id</th>\n",
       "    </tr>\n",
       "  </thead>\n",
       "  <tbody>\n",
       "    <tr>\n",
       "      <th>0</th>\n",
       "      <td>0</td>\n",
       "      <td>5</td>\n",
       "      <td>5037</td>\n",
       "    </tr>\n",
       "    <tr>\n",
       "      <th>1</th>\n",
       "      <td>1</td>\n",
       "      <td>5</td>\n",
       "      <td>5320</td>\n",
       "    </tr>\n",
       "    <tr>\n",
       "      <th>2</th>\n",
       "      <td>2</td>\n",
       "      <td>5</td>\n",
       "      <td>5233</td>\n",
       "    </tr>\n",
       "    <tr>\n",
       "      <th>3</th>\n",
       "      <td>3</td>\n",
       "      <td>5</td>\n",
       "      <td>5232</td>\n",
       "    </tr>\n",
       "    <tr>\n",
       "      <th>4</th>\n",
       "      <td>4</td>\n",
       "      <td>5</td>\n",
       "      <td>5268</td>\n",
       "    </tr>\n",
       "  </tbody>\n",
       "</table>\n",
       "</div>"
      ],
      "text/plain": [
       "   ID  shop_id  item_id\n",
       "0   0        5     5037\n",
       "1   1        5     5320\n",
       "2   2        5     5233\n",
       "3   3        5     5232\n",
       "4   4        5     5268"
      ]
     },
     "execution_count": 15,
     "metadata": {},
     "output_type": "execute_result"
    }
   ],
   "source": [
    "test.head()"
   ]
  },
  {
   "cell_type": "code",
   "execution_count": 16,
   "metadata": {
    "collapsed": true
   },
   "outputs": [],
   "source": [
    "test['date_block_num'] = 34 # date block for test set"
   ]
  },
  {
   "cell_type": "code",
   "execution_count": 17,
   "metadata": {
    "collapsed": true
   },
   "outputs": [],
   "source": [
    "test = downgrade_type(test)"
   ]
  },
  {
   "cell_type": "markdown",
   "metadata": {},
   "source": [
    "<h1>Data preprocessing</h1>"
   ]
  },
  {
   "cell_type": "markdown",
   "metadata": {},
   "source": [
    "<h3>Getting rid of some outliers in data</h3>"
   ]
  },
  {
   "cell_type": "code",
   "execution_count": 18,
   "metadata": {},
   "outputs": [
    {
     "name": "stdout",
     "output_type": "stream",
     "text": [
      "Wall time: 7.5 s\n"
     ]
    },
    {
     "data": {
      "text/plain": [
       "<matplotlib.axes._subplots.AxesSubplot at 0x21d4b5580f0>"
      ]
     },
     "execution_count": 18,
     "metadata": {},
     "output_type": "execute_result"
    },
    {
     "data": {
      "image/png": "[encoded data removed]",
      "text/plain": [
       "<matplotlib.figure.Figure at 0x21d4b558f60>"
      ]
     },
     "metadata": {},
     "output_type": "display_data"
    }
   ],
   "source": [
    "%%time\n",
    "sales_train.item_price.plot(kind='box', figsize=(19.20, 10.80))"
   ]
  },
  {
   "cell_type": "markdown",
   "metadata": {},
   "source": [
    "<h3>We don't need price higher than 300000 and lower than 0</h3>"
   ]
  },
  {
   "cell_type": "code",
   "execution_count": 19,
   "metadata": {
    "collapsed": true
   },
   "outputs": [],
   "source": [
    "sales_train = sales_train[(sales_train.item_price < 300000) & (sales_train.item_price > 0)].reset_index(drop=True)"
   ]
  },
  {
   "cell_type": "code",
   "execution_count": 20,
   "metadata": {},
   "outputs": [
    {
     "name": "stdout",
     "output_type": "stream",
     "text": [
      "Wall time: 7.31 s\n"
     ]
    },
    {
     "data": {
      "text/plain": [
       "<matplotlib.axes._subplots.AxesSubplot at 0x21d67246978>"
      ]
     },
     "execution_count": 20,
     "metadata": {},
     "output_type": "execute_result"
    },
    {
     "data": {
      "image/png": "[encoded data removed]",
      "text/plain": [
       "<matplotlib.figure.Figure at 0x21d4b5def60>"
      ]
     },
     "metadata": {},
     "output_type": "display_data"
    }
   ],
   "source": [
    "%%time\n",
    "sales_train.item_cnt_day.plot(kind='box', figsize=(19.20, 10.80))"
   ]
  },
  {
   "cell_type": "markdown",
   "metadata": {},
   "source": [
    "<h3>Same thing with item_cnt_day</h3>"
   ]
  },
  {
   "cell_type": "code",
   "execution_count": 21,
   "metadata": {
    "collapsed": true
   },
   "outputs": [],
   "source": [
    "sales_train = sales_train[(sales_train.item_cnt_day < 1000) & (sales_train.item_cnt_day > 0)].reset_index(drop=True)"
   ]
  },
  {
   "cell_type": "code",
   "execution_count": 22,
   "metadata": {},
   "outputs": [
    {
     "name": "stdout",
     "output_type": "stream",
     "text": [
      "Wall time: 7.35 s\n"
     ]
    },
    {
     "data": {
      "text/plain": [
       "<matplotlib.axes._subplots.AxesSubplot at 0x21d4b58a390>"
      ]
     },
     "execution_count": 22,
     "metadata": {},
     "output_type": "execute_result"
    },
    {
     "data": {
      "image/png": "[encoded data removed]",
      "text/plain": [
       "<matplotlib.figure.Figure at 0x21d4b5ab668>"
      ]
     },
     "metadata": {},
     "output_type": "display_data"
    }
   ],
   "source": [
    "%%time\n",
    "sales_train.item_cnt_day.plot(kind='box', figsize=(19.20, 10.80))"
   ]
  },
  {
   "cell_type": "markdown",
   "metadata": {},
   "source": [
    "<h3>Create some categorical features</h3>"
   ]
  },
  {
   "cell_type": "code",
   "execution_count": 23,
   "metadata": {
    "collapsed": true
   },
   "outputs": [],
   "source": [
    "shops['city'] = shops.shop_name.str.split(' ').apply(lambda x: x[0]).apply(lambda x: 'Якутск' if x == '!Якутск' else x)"
   ]
  },
  {
   "cell_type": "code",
   "execution_count": 24,
   "metadata": {
    "collapsed": true
   },
   "outputs": [],
   "source": [
    "shops['is_s_center'] = shops.shop_name.str.split(' ').apply(lambda x: 'ТЦ' in x).astype(np.int8)"
   ]
  },
  {
   "cell_type": "markdown",
   "metadata": {},
   "source": [
    "<h1>Train matrix</h1>"
   ]
  },
  {
   "cell_type": "markdown",
   "metadata": {},
   "source": [
    "<h3>Here I create training data matrix, for every date block every shop and every item which we can see in that date block, i.e. if that item is in that date block but no sales for it there will be 0 sales</h3>"
   ]
  },
  {
   "cell_type": "code",
   "execution_count": 25,
   "metadata": {},
   "outputs": [
    {
     "name": "stdout",
     "output_type": "stream",
     "text": [
      "Wall time: 7.52 s\n"
     ]
    }
   ],
   "source": [
    "%%time\n",
    "monthly_train = []\n",
    "\n",
    "for i in range(34):\n",
    "    sales = sales_train[sales_train.date_block_num == i]\n",
    "    monthly_train.append(np.array(list(product([i], sales.shop_id.unique(), sales.item_id.unique())), dtype=np.int16))\n",
    "\n",
    "monthly_train = pd.DataFrame(np.vstack(monthly_train), columns=cols)\n",
    "monthly_train['date_block_num'] = monthly_train['date_block_num'].astype(np.int8)\n",
    "monthly_train['shop_id'] = monthly_train['shop_id'].astype(np.int8)\n",
    "monthly_train['item_id'] = monthly_train['item_id'].astype(np.int16)\n",
    "monthly_train.sort_values(cols, inplace=True)"
   ]
  },
  {
   "cell_type": "code",
   "execution_count": 26,
   "metadata": {},
   "outputs": [
    {
     "name": "stdout",
     "output_type": "stream",
     "text": [
      "Wall time: 2.69 s\n"
     ]
    }
   ],
   "source": [
    "%%time\n",
    "group = sales_train.groupby(cols).agg({'item_cnt_day':['sum']})\n",
    "group.columns = ['item_cnt_month']\n",
    "group.reset_index( inplace = True)\n",
    "monthly_train = pd.merge(monthly_train, group, on=cols, how='left')\n",
    "monthly_train['item_cnt_month'] = monthly_train['item_cnt_month'].fillna(0)"
   ]
  },
  {
   "cell_type": "markdown",
   "metadata": {},
   "source": [
    "<h1>Feature engineering</h1>"
   ]
  },
  {
   "cell_type": "markdown",
   "metadata": {},
   "source": [
    "<h3>Here I'll generate some features. Start with concatenating train and test sets</h3>"
   ]
  },
  {
   "cell_type": "code",
   "execution_count": 27,
   "metadata": {
    "collapsed": true
   },
   "outputs": [],
   "source": [
    "monthly_train = pd.concat([monthly_train, test.drop('ID', axis=1)],\n",
    "                          ignore_index=True,\n",
    "                          keys=cols)"
   ]
  },
  {
   "cell_type": "code",
   "execution_count": 28,
   "metadata": {
    "collapsed": true
   },
   "outputs": [],
   "source": [
    "monthly_train = downgrade_type(monthly_train)"
   ]
  },
  {
   "cell_type": "markdown",
   "metadata": {},
   "source": [
    "<h2>Create target lags</h2>"
   ]
  },
  {
   "cell_type": "markdown",
   "metadata": {},
   "source": [
    "<h3>With my function I create target lags, i.e. item_cnt_month lags</h3>"
   ]
  },
  {
   "cell_type": "code",
   "execution_count": 29,
   "metadata": {
    "collapsed": true
   },
   "outputs": [],
   "source": [
    "from feature_engineering.utils import create_target_lags"
   ]
  },
  {
   "cell_type": "code",
   "execution_count": 30,
   "metadata": {},
   "outputs": [
    {
     "name": "stdout",
     "output_type": "stream",
     "text": [
      "Wall time: 20.4 s\n"
     ]
    }
   ],
   "source": [
    "%%time\n",
    "\n",
    "monthly_train = create_target_lags(df=monthly_train, lag_list=lag_list, na_filler=np.nan)"
   ]
  },
  {
   "cell_type": "markdown",
   "metadata": {},
   "source": [
    "<h2>Create rolling mean target</h2>"
   ]
  },
  {
   "cell_type": "markdown",
   "metadata": {},
   "source": [
    "<h3>Here I create some rolling means for target with different windows</h3>"
   ]
  },
  {
   "cell_type": "code",
   "execution_count": 31,
   "metadata": {
    "collapsed": true
   },
   "outputs": [],
   "source": [
    "from feature_engineering.utils import create_rolling_mean"
   ]
  },
  {
   "cell_type": "code",
   "execution_count": 32,
   "metadata": {
    "collapsed": true
   },
   "outputs": [],
   "source": [
    "monthly_train = downgrade_type(create_rolling_mean(df=monthly_train, windowlist=[2, 3, 4], na_filler=np.nan, column='target'))"
   ]
  },
  {
   "cell_type": "code",
   "execution_count": 33,
   "metadata": {},
   "outputs": [
    {
     "data": {
      "text/html": [
       "<div>\n",
       "<style>\n",
       "    .dataframe thead tr:only-child th {\n",
       "        text-align: right;\n",
       "    }\n",
       "\n",
       "    .dataframe thead th {\n",
       "        text-align: left;\n",
       "    }\n",
       "\n",
       "    .dataframe tbody tr th {\n",
       "        vertical-align: top;\n",
       "    }\n",
       "</style>\n",
       "<table border=\"1\" class=\"dataframe\">\n",
       "  <thead>\n",
       "    <tr style=\"text-align: right;\">\n",
       "      <th></th>\n",
       "      <th>date_block_num</th>\n",
       "      <th>item_cnt_month</th>\n",
       "      <th>item_id</th>\n",
       "      <th>shop_id</th>\n",
       "      <th>target_lag_1</th>\n",
       "      <th>target_lag_2</th>\n",
       "      <th>target_lag_3</th>\n",
       "      <th>target_lag_4</th>\n",
       "      <th>target_lag_12</th>\n",
       "      <th>rolling_mean_target_2</th>\n",
       "      <th>rolling_mean_target_3</th>\n",
       "      <th>rolling_mean_target_4</th>\n",
       "    </tr>\n",
       "  </thead>\n",
       "  <tbody>\n",
       "    <tr>\n",
       "      <th>7362696</th>\n",
       "      <td>20</td>\n",
       "      <td>0.0</td>\n",
       "      <td>2253</td>\n",
       "      <td>47</td>\n",
       "      <td>0.0</td>\n",
       "      <td>2.0</td>\n",
       "      <td>1.0</td>\n",
       "      <td>1.0</td>\n",
       "      <td>0.0</td>\n",
       "      <td>1.0</td>\n",
       "      <td>1.0</td>\n",
       "      <td>1.0</td>\n",
       "    </tr>\n",
       "    <tr>\n",
       "      <th>7575844</th>\n",
       "      <td>21</td>\n",
       "      <td>0.0</td>\n",
       "      <td>6633</td>\n",
       "      <td>27</td>\n",
       "      <td>0.0</td>\n",
       "      <td>0.0</td>\n",
       "      <td>NaN</td>\n",
       "      <td>NaN</td>\n",
       "      <td>NaN</td>\n",
       "      <td>0.0</td>\n",
       "      <td>0.0</td>\n",
       "      <td>0.0</td>\n",
       "    </tr>\n",
       "    <tr>\n",
       "      <th>6165610</th>\n",
       "      <td>17</td>\n",
       "      <td>0.0</td>\n",
       "      <td>11311</td>\n",
       "      <td>3</td>\n",
       "      <td>0.0</td>\n",
       "      <td>0.0</td>\n",
       "      <td>0.0</td>\n",
       "      <td>0.0</td>\n",
       "      <td>1.0</td>\n",
       "      <td>0.0</td>\n",
       "      <td>0.0</td>\n",
       "      <td>0.0</td>\n",
       "    </tr>\n",
       "    <tr>\n",
       "      <th>8456101</th>\n",
       "      <td>24</td>\n",
       "      <td>0.0</td>\n",
       "      <td>10870</td>\n",
       "      <td>10</td>\n",
       "      <td>0.0</td>\n",
       "      <td>0.0</td>\n",
       "      <td>NaN</td>\n",
       "      <td>NaN</td>\n",
       "      <td>NaN</td>\n",
       "      <td>0.0</td>\n",
       "      <td>0.0</td>\n",
       "      <td>0.0</td>\n",
       "    </tr>\n",
       "    <tr>\n",
       "      <th>8120346</th>\n",
       "      <td>23</td>\n",
       "      <td>0.0</td>\n",
       "      <td>3620</td>\n",
       "      <td>7</td>\n",
       "      <td>0.0</td>\n",
       "      <td>0.0</td>\n",
       "      <td>0.0</td>\n",
       "      <td>0.0</td>\n",
       "      <td>0.0</td>\n",
       "      <td>0.0</td>\n",
       "      <td>0.0</td>\n",
       "      <td>0.0</td>\n",
       "    </tr>\n",
       "  </tbody>\n",
       "</table>\n",
       "</div>"
      ],
      "text/plain": [
       "         date_block_num  item_cnt_month  item_id  shop_id  target_lag_1  \\\n",
       "7362696              20             0.0     2253       47           0.0   \n",
       "7575844              21             0.0     6633       27           0.0   \n",
       "6165610              17             0.0    11311        3           0.0   \n",
       "8456101              24             0.0    10870       10           0.0   \n",
       "8120346              23             0.0     3620        7           0.0   \n",
       "\n",
       "         target_lag_2  target_lag_3  target_lag_4  target_lag_12  \\\n",
       "7362696           2.0           1.0           1.0            0.0   \n",
       "7575844           0.0           NaN           NaN            NaN   \n",
       "6165610           0.0           0.0           0.0            1.0   \n",
       "8456101           0.0           NaN           NaN            NaN   \n",
       "8120346           0.0           0.0           0.0            0.0   \n",
       "\n",
       "         rolling_mean_target_2  rolling_mean_target_3  rolling_mean_target_4  \n",
       "7362696                    1.0                    1.0                    1.0  \n",
       "7575844                    0.0                    0.0                    0.0  \n",
       "6165610                    0.0                    0.0                    0.0  \n",
       "8456101                    0.0                    0.0                    0.0  \n",
       "8120346                    0.0                    0.0                    0.0  "
      ]
     },
     "execution_count": 33,
     "metadata": {},
     "output_type": "execute_result"
    }
   ],
   "source": [
    "monthly_train.sample(5)"
   ]
  },
  {
   "cell_type": "markdown",
   "metadata": {},
   "source": [
    "<h1>Create rolling std</h1>"
   ]
  },
  {
   "cell_type": "markdown",
   "metadata": {},
   "source": [
    "<h3>Same thing with rolling standard deviation</h3>"
   ]
  },
  {
   "cell_type": "code",
   "execution_count": 34,
   "metadata": {
    "collapsed": true
   },
   "outputs": [],
   "source": [
    "from feature_engineering.utils import create_rolling_std"
   ]
  },
  {
   "cell_type": "code",
   "execution_count": 35,
   "metadata": {},
   "outputs": [
    {
     "name": "stdout",
     "output_type": "stream",
     "text": [
      "Wall time: 4.06 s\n"
     ]
    }
   ],
   "source": [
    "%%time\n",
    "monthly_train = downgrade_type(create_rolling_std(df=monthly_train, windowlist=[2, 3, 4], na_filler=np.nan, column='target'))"
   ]
  },
  {
   "cell_type": "markdown",
   "metadata": {},
   "source": [
    "<h2>Adding lags for average price and rolling mean for it</h2>"
   ]
  },
  {
   "cell_type": "markdown",
   "metadata": {},
   "source": [
    "<h3>Here I create lags for mean item price for every date, shop, item combination and rolling means for it</h3>"
   ]
  },
  {
   "cell_type": "code",
   "execution_count": 36,
   "metadata": {
    "collapsed": true
   },
   "outputs": [],
   "source": [
    "from feature_engineering.utils import create_price_lags"
   ]
  },
  {
   "cell_type": "code",
   "execution_count": 37,
   "metadata": {},
   "outputs": [
    {
     "name": "stdout",
     "output_type": "stream",
     "text": [
      "Wall time: 27.5 s\n"
     ]
    }
   ],
   "source": [
    "%%time\n",
    "mean_price_grouped = monthly_train.merge(sales_train[cols+['item_price']], on=cols, how='left').fillna(0)\n",
    "mean_price_grouped = mean_price_grouped.groupby(cols)['item_price'].mean().reset_index()\n",
    "mean_price_grouped = create_price_lags(df=mean_price_grouped, lag_list=lag_list, na_filler=np.nan)"
   ]
  },
  {
   "cell_type": "code",
   "execution_count": 38,
   "metadata": {},
   "outputs": [
    {
     "name": "stdout",
     "output_type": "stream",
     "text": [
      "Wall time: 4.15 s\n"
     ]
    }
   ],
   "source": [
    "%%time\n",
    "mean_price_grouped = create_rolling_mean(mean_price_grouped, windowlist=[2, 3, 4], na_filler=np.nan, column='mean_item_price')"
   ]
  },
  {
   "cell_type": "code",
   "execution_count": 39,
   "metadata": {},
   "outputs": [
    {
     "name": "stdout",
     "output_type": "stream",
     "text": [
      "Wall time: 4.18 s\n"
     ]
    }
   ],
   "source": [
    "%%time\n",
    "monthly_train = monthly_train.merge(mean_price_grouped.drop('item_price', axis=1),\n",
    "                                    on=['date_block_num', 'shop_id', 'item_id'], how='left')"
   ]
  },
  {
   "cell_type": "code",
   "execution_count": 40,
   "metadata": {},
   "outputs": [
    {
     "data": {
      "text/html": [
       "<div>\n",
       "<style>\n",
       "    .dataframe thead tr:only-child th {\n",
       "        text-align: right;\n",
       "    }\n",
       "\n",
       "    .dataframe thead th {\n",
       "        text-align: left;\n",
       "    }\n",
       "\n",
       "    .dataframe tbody tr th {\n",
       "        vertical-align: top;\n",
       "    }\n",
       "</style>\n",
       "<table border=\"1\" class=\"dataframe\">\n",
       "  <thead>\n",
       "    <tr style=\"text-align: right;\">\n",
       "      <th></th>\n",
       "      <th>date_block_num</th>\n",
       "      <th>item_cnt_month</th>\n",
       "      <th>item_id</th>\n",
       "      <th>shop_id</th>\n",
       "      <th>target_lag_1</th>\n",
       "      <th>target_lag_2</th>\n",
       "      <th>target_lag_3</th>\n",
       "      <th>target_lag_4</th>\n",
       "      <th>target_lag_12</th>\n",
       "      <th>rolling_mean_target_2</th>\n",
       "      <th>...</th>\n",
       "      <th>rolling_std_target_3</th>\n",
       "      <th>rolling_std_target_4</th>\n",
       "      <th>mean_item_price_lag_1</th>\n",
       "      <th>mean_item_price_lag_2</th>\n",
       "      <th>mean_item_price_lag_3</th>\n",
       "      <th>mean_item_price_lag_4</th>\n",
       "      <th>mean_item_price_lag_12</th>\n",
       "      <th>rolling_mean_mean_item_price_2</th>\n",
       "      <th>rolling_mean_mean_item_price_3</th>\n",
       "      <th>rolling_mean_mean_item_price_4</th>\n",
       "    </tr>\n",
       "  </thead>\n",
       "  <tbody>\n",
       "    <tr>\n",
       "      <th>7507933</th>\n",
       "      <td>21</td>\n",
       "      <td>0.0</td>\n",
       "      <td>12914</td>\n",
       "      <td>15</td>\n",
       "      <td>0.0</td>\n",
       "      <td>0.0</td>\n",
       "      <td>0.0</td>\n",
       "      <td>0.0</td>\n",
       "      <td>0.0</td>\n",
       "      <td>0.0</td>\n",
       "      <td>...</td>\n",
       "      <td>0.0</td>\n",
       "      <td>0.0</td>\n",
       "      <td>0.0</td>\n",
       "      <td>0.0</td>\n",
       "      <td>0.0</td>\n",
       "      <td>0.0</td>\n",
       "      <td>0.0</td>\n",
       "      <td>0.0</td>\n",
       "      <td>0.0</td>\n",
       "      <td>0.0</td>\n",
       "    </tr>\n",
       "    <tr>\n",
       "      <th>10585680</th>\n",
       "      <td>32</td>\n",
       "      <td>0.0</td>\n",
       "      <td>1453</td>\n",
       "      <td>47</td>\n",
       "      <td>0.0</td>\n",
       "      <td>0.0</td>\n",
       "      <td>NaN</td>\n",
       "      <td>1.0</td>\n",
       "      <td>0.0</td>\n",
       "      <td>0.0</td>\n",
       "      <td>...</td>\n",
       "      <td>NaN</td>\n",
       "      <td>NaN</td>\n",
       "      <td>0.0</td>\n",
       "      <td>0.0</td>\n",
       "      <td>NaN</td>\n",
       "      <td>398.0</td>\n",
       "      <td>0.0</td>\n",
       "      <td>0.0</td>\n",
       "      <td>0.0</td>\n",
       "      <td>99.5</td>\n",
       "    </tr>\n",
       "    <tr>\n",
       "      <th>1271835</th>\n",
       "      <td>3</td>\n",
       "      <td>6.0</td>\n",
       "      <td>8891</td>\n",
       "      <td>25</td>\n",
       "      <td>13.0</td>\n",
       "      <td>8.0</td>\n",
       "      <td>NaN</td>\n",
       "      <td>NaN</td>\n",
       "      <td>NaN</td>\n",
       "      <td>10.5</td>\n",
       "      <td>...</td>\n",
       "      <td>NaN</td>\n",
       "      <td>NaN</td>\n",
       "      <td>399.0</td>\n",
       "      <td>399.0</td>\n",
       "      <td>NaN</td>\n",
       "      <td>NaN</td>\n",
       "      <td>NaN</td>\n",
       "      <td>399.0</td>\n",
       "      <td>266.0</td>\n",
       "      <td>199.5</td>\n",
       "    </tr>\n",
       "    <tr>\n",
       "      <th>7010346</th>\n",
       "      <td>19</td>\n",
       "      <td>0.0</td>\n",
       "      <td>21910</td>\n",
       "      <td>39</td>\n",
       "      <td>0.0</td>\n",
       "      <td>0.0</td>\n",
       "      <td>0.0</td>\n",
       "      <td>0.0</td>\n",
       "      <td>NaN</td>\n",
       "      <td>0.0</td>\n",
       "      <td>...</td>\n",
       "      <td>0.0</td>\n",
       "      <td>0.0</td>\n",
       "      <td>0.0</td>\n",
       "      <td>0.0</td>\n",
       "      <td>0.0</td>\n",
       "      <td>0.0</td>\n",
       "      <td>NaN</td>\n",
       "      <td>0.0</td>\n",
       "      <td>0.0</td>\n",
       "      <td>0.0</td>\n",
       "    </tr>\n",
       "    <tr>\n",
       "      <th>8584859</th>\n",
       "      <td>24</td>\n",
       "      <td>0.0</td>\n",
       "      <td>10588</td>\n",
       "      <td>37</td>\n",
       "      <td>0.0</td>\n",
       "      <td>0.0</td>\n",
       "      <td>0.0</td>\n",
       "      <td>0.0</td>\n",
       "      <td>NaN</td>\n",
       "      <td>0.0</td>\n",
       "      <td>...</td>\n",
       "      <td>0.0</td>\n",
       "      <td>0.0</td>\n",
       "      <td>0.0</td>\n",
       "      <td>0.0</td>\n",
       "      <td>0.0</td>\n",
       "      <td>0.0</td>\n",
       "      <td>NaN</td>\n",
       "      <td>0.0</td>\n",
       "      <td>0.0</td>\n",
       "      <td>0.0</td>\n",
       "    </tr>\n",
       "  </tbody>\n",
       "</table>\n",
       "<p>5 rows × 23 columns</p>\n",
       "</div>"
      ],
      "text/plain": [
       "          date_block_num  item_cnt_month  item_id  shop_id  target_lag_1  \\\n",
       "7507933               21             0.0    12914       15           0.0   \n",
       "10585680              32             0.0     1453       47           0.0   \n",
       "1271835                3             6.0     8891       25          13.0   \n",
       "7010346               19             0.0    21910       39           0.0   \n",
       "8584859               24             0.0    10588       37           0.0   \n",
       "\n",
       "          target_lag_2  target_lag_3  target_lag_4  target_lag_12  \\\n",
       "7507933            0.0           0.0           0.0            0.0   \n",
       "10585680           0.0           NaN           1.0            0.0   \n",
       "1271835            8.0           NaN           NaN            NaN   \n",
       "7010346            0.0           0.0           0.0            NaN   \n",
       "8584859            0.0           0.0           0.0            NaN   \n",
       "\n",
       "          rolling_mean_target_2               ...                \\\n",
       "7507933                     0.0               ...                 \n",
       "10585680                    0.0               ...                 \n",
       "1271835                    10.5               ...                 \n",
       "7010346                     0.0               ...                 \n",
       "8584859                     0.0               ...                 \n",
       "\n",
       "          rolling_std_target_3  rolling_std_target_4  mean_item_price_lag_1  \\\n",
       "7507933                    0.0                   0.0                    0.0   \n",
       "10585680                   NaN                   NaN                    0.0   \n",
       "1271835                    NaN                   NaN                  399.0   \n",
       "7010346                    0.0                   0.0                    0.0   \n",
       "8584859                    0.0                   0.0                    0.0   \n",
       "\n",
       "          mean_item_price_lag_2  mean_item_price_lag_3  mean_item_price_lag_4  \\\n",
       "7507933                     0.0                    0.0                    0.0   \n",
       "10585680                    0.0                    NaN                  398.0   \n",
       "1271835                   399.0                    NaN                    NaN   \n",
       "7010346                     0.0                    0.0                    0.0   \n",
       "8584859                     0.0                    0.0                    0.0   \n",
       "\n",
       "          mean_item_price_lag_12  rolling_mean_mean_item_price_2  \\\n",
       "7507933                      0.0                             0.0   \n",
       "10585680                     0.0                             0.0   \n",
       "1271835                      NaN                           399.0   \n",
       "7010346                      NaN                             0.0   \n",
       "8584859                      NaN                             0.0   \n",
       "\n",
       "          rolling_mean_mean_item_price_3  rolling_mean_mean_item_price_4  \n",
       "7507933                              0.0                             0.0  \n",
       "10585680                             0.0                            99.5  \n",
       "1271835                            266.0                           199.5  \n",
       "7010346                              0.0                             0.0  \n",
       "8584859                              0.0                             0.0  \n",
       "\n",
       "[5 rows x 23 columns]"
      ]
     },
     "execution_count": 40,
     "metadata": {},
     "output_type": "execute_result"
    }
   ],
   "source": [
    "monthly_train.sample(5)"
   ]
  },
  {
   "cell_type": "code",
   "execution_count": 41,
   "metadata": {
    "collapsed": true
   },
   "outputs": [],
   "source": [
    "# mean for every item price without date or shop dependence\n",
    "item_price_mean = sales_train.groupby('item_id')['item_price'].mean().reset_index()"
   ]
  },
  {
   "cell_type": "code",
   "execution_count": 42,
   "metadata": {
    "collapsed": true
   },
   "outputs": [],
   "source": [
    "monthly_train = monthly_train.merge(item_price_mean, on=['item_id'], how='left')"
   ]
  },
  {
   "cell_type": "code",
   "execution_count": 43,
   "metadata": {
    "collapsed": true
   },
   "outputs": [],
   "source": [
    "def find_first_not_nan_price_lag(row):\n",
    "    \"\"\"\n",
    "    for every row in df find first not nan lag and return it, else return 0\n",
    "    \"\"\"\n",
    "    for i in lag_list:\n",
    "        if not np.isnan(row[\"mean_item_price_lag_\" + str(i)]):\n",
    "            return row[\"mean_item_price_lag_\" + str(i)]\n",
    "    return 0"
   ]
  },
  {
   "cell_type": "code",
   "execution_count": 44,
   "metadata": {},
   "outputs": [
    {
     "name": "stdout",
     "output_type": "stream",
     "text": [
      "Wall time: 3min 38s\n"
     ]
    }
   ],
   "source": [
    "%%time\n",
    "monthly_train['delta_price'] = monthly_train.apply(find_first_not_nan_price_lag, axis=1)"
   ]
  },
  {
   "cell_type": "code",
   "execution_count": 45,
   "metadata": {
    "collapsed": true
   },
   "outputs": [],
   "source": [
    "monthly_train.fillna(0, inplace=True)"
   ]
  },
  {
   "cell_type": "code",
   "execution_count": 46,
   "metadata": {},
   "outputs": [
    {
     "data": {
      "text/html": [
       "<div>\n",
       "<style>\n",
       "    .dataframe thead tr:only-child th {\n",
       "        text-align: right;\n",
       "    }\n",
       "\n",
       "    .dataframe thead th {\n",
       "        text-align: left;\n",
       "    }\n",
       "\n",
       "    .dataframe tbody tr th {\n",
       "        vertical-align: top;\n",
       "    }\n",
       "</style>\n",
       "<table border=\"1\" class=\"dataframe\">\n",
       "  <thead>\n",
       "    <tr style=\"text-align: right;\">\n",
       "      <th></th>\n",
       "      <th>date_block_num</th>\n",
       "      <th>item_cnt_month</th>\n",
       "      <th>item_id</th>\n",
       "      <th>shop_id</th>\n",
       "      <th>target_lag_1</th>\n",
       "      <th>target_lag_2</th>\n",
       "      <th>target_lag_3</th>\n",
       "      <th>target_lag_4</th>\n",
       "      <th>target_lag_12</th>\n",
       "      <th>rolling_mean_target_2</th>\n",
       "      <th>...</th>\n",
       "      <th>mean_item_price_lag_1</th>\n",
       "      <th>mean_item_price_lag_2</th>\n",
       "      <th>mean_item_price_lag_3</th>\n",
       "      <th>mean_item_price_lag_4</th>\n",
       "      <th>mean_item_price_lag_12</th>\n",
       "      <th>rolling_mean_mean_item_price_2</th>\n",
       "      <th>rolling_mean_mean_item_price_3</th>\n",
       "      <th>rolling_mean_mean_item_price_4</th>\n",
       "      <th>item_price</th>\n",
       "      <th>delta_price</th>\n",
       "    </tr>\n",
       "  </thead>\n",
       "  <tbody>\n",
       "    <tr>\n",
       "      <th>9211092</th>\n",
       "      <td>26</td>\n",
       "      <td>0.0</td>\n",
       "      <td>11767</td>\n",
       "      <td>47</td>\n",
       "      <td>0.0</td>\n",
       "      <td>0.0</td>\n",
       "      <td>0.0</td>\n",
       "      <td>0.0</td>\n",
       "      <td>0.0</td>\n",
       "      <td>0.0</td>\n",
       "      <td>...</td>\n",
       "      <td>0.0</td>\n",
       "      <td>0.0</td>\n",
       "      <td>0.0</td>\n",
       "      <td>0.0</td>\n",
       "      <td>0.0</td>\n",
       "      <td>0.0</td>\n",
       "      <td>0.0</td>\n",
       "      <td>0.0</td>\n",
       "      <td>197.771698</td>\n",
       "      <td>0.0</td>\n",
       "    </tr>\n",
       "    <tr>\n",
       "      <th>8168511</th>\n",
       "      <td>23</td>\n",
       "      <td>0.0</td>\n",
       "      <td>10347</td>\n",
       "      <td>18</td>\n",
       "      <td>0.0</td>\n",
       "      <td>0.0</td>\n",
       "      <td>0.0</td>\n",
       "      <td>0.0</td>\n",
       "      <td>0.0</td>\n",
       "      <td>0.0</td>\n",
       "      <td>...</td>\n",
       "      <td>0.0</td>\n",
       "      <td>0.0</td>\n",
       "      <td>0.0</td>\n",
       "      <td>0.0</td>\n",
       "      <td>0.0</td>\n",
       "      <td>0.0</td>\n",
       "      <td>0.0</td>\n",
       "      <td>0.0</td>\n",
       "      <td>149.900726</td>\n",
       "      <td>0.0</td>\n",
       "    </tr>\n",
       "    <tr>\n",
       "      <th>5089863</th>\n",
       "      <td>13</td>\n",
       "      <td>0.0</td>\n",
       "      <td>811</td>\n",
       "      <td>51</td>\n",
       "      <td>0.0</td>\n",
       "      <td>0.0</td>\n",
       "      <td>0.0</td>\n",
       "      <td>0.0</td>\n",
       "      <td>0.0</td>\n",
       "      <td>0.0</td>\n",
       "      <td>...</td>\n",
       "      <td>0.0</td>\n",
       "      <td>0.0</td>\n",
       "      <td>0.0</td>\n",
       "      <td>0.0</td>\n",
       "      <td>0.0</td>\n",
       "      <td>0.0</td>\n",
       "      <td>0.0</td>\n",
       "      <td>0.0</td>\n",
       "      <td>194.970001</td>\n",
       "      <td>0.0</td>\n",
       "    </tr>\n",
       "    <tr>\n",
       "      <th>8888955</th>\n",
       "      <td>25</td>\n",
       "      <td>0.0</td>\n",
       "      <td>9494</td>\n",
       "      <td>38</td>\n",
       "      <td>0.0</td>\n",
       "      <td>0.0</td>\n",
       "      <td>0.0</td>\n",
       "      <td>0.0</td>\n",
       "      <td>0.0</td>\n",
       "      <td>0.0</td>\n",
       "      <td>...</td>\n",
       "      <td>0.0</td>\n",
       "      <td>0.0</td>\n",
       "      <td>0.0</td>\n",
       "      <td>0.0</td>\n",
       "      <td>0.0</td>\n",
       "      <td>0.0</td>\n",
       "      <td>0.0</td>\n",
       "      <td>0.0</td>\n",
       "      <td>82.333336</td>\n",
       "      <td>0.0</td>\n",
       "    </tr>\n",
       "    <tr>\n",
       "      <th>10511385</th>\n",
       "      <td>32</td>\n",
       "      <td>0.0</td>\n",
       "      <td>9994</td>\n",
       "      <td>24</td>\n",
       "      <td>0.0</td>\n",
       "      <td>0.0</td>\n",
       "      <td>0.0</td>\n",
       "      <td>0.0</td>\n",
       "      <td>0.0</td>\n",
       "      <td>0.0</td>\n",
       "      <td>...</td>\n",
       "      <td>0.0</td>\n",
       "      <td>0.0</td>\n",
       "      <td>0.0</td>\n",
       "      <td>0.0</td>\n",
       "      <td>0.0</td>\n",
       "      <td>0.0</td>\n",
       "      <td>0.0</td>\n",
       "      <td>0.0</td>\n",
       "      <td>444.308685</td>\n",
       "      <td>0.0</td>\n",
       "    </tr>\n",
       "  </tbody>\n",
       "</table>\n",
       "<p>5 rows × 25 columns</p>\n",
       "</div>"
      ],
      "text/plain": [
       "          date_block_num  item_cnt_month  item_id  shop_id  target_lag_1  \\\n",
       "9211092               26             0.0    11767       47           0.0   \n",
       "8168511               23             0.0    10347       18           0.0   \n",
       "5089863               13             0.0      811       51           0.0   \n",
       "8888955               25             0.0     9494       38           0.0   \n",
       "10511385              32             0.0     9994       24           0.0   \n",
       "\n",
       "          target_lag_2  target_lag_3  target_lag_4  target_lag_12  \\\n",
       "9211092            0.0           0.0           0.0            0.0   \n",
       "8168511            0.0           0.0           0.0            0.0   \n",
       "5089863            0.0           0.0           0.0            0.0   \n",
       "8888955            0.0           0.0           0.0            0.0   \n",
       "10511385           0.0           0.0           0.0            0.0   \n",
       "\n",
       "          rolling_mean_target_2     ...       mean_item_price_lag_1  \\\n",
       "9211092                     0.0     ...                         0.0   \n",
       "8168511                     0.0     ...                         0.0   \n",
       "5089863                     0.0     ...                         0.0   \n",
       "8888955                     0.0     ...                         0.0   \n",
       "10511385                    0.0     ...                         0.0   \n",
       "\n",
       "          mean_item_price_lag_2  mean_item_price_lag_3  mean_item_price_lag_4  \\\n",
       "9211092                     0.0                    0.0                    0.0   \n",
       "8168511                     0.0                    0.0                    0.0   \n",
       "5089863                     0.0                    0.0                    0.0   \n",
       "8888955                     0.0                    0.0                    0.0   \n",
       "10511385                    0.0                    0.0                    0.0   \n",
       "\n",
       "          mean_item_price_lag_12  rolling_mean_mean_item_price_2  \\\n",
       "9211092                      0.0                             0.0   \n",
       "8168511                      0.0                             0.0   \n",
       "5089863                      0.0                             0.0   \n",
       "8888955                      0.0                             0.0   \n",
       "10511385                     0.0                             0.0   \n",
       "\n",
       "          rolling_mean_mean_item_price_3  rolling_mean_mean_item_price_4  \\\n",
       "9211092                              0.0                             0.0   \n",
       "8168511                              0.0                             0.0   \n",
       "5089863                              0.0                             0.0   \n",
       "8888955                              0.0                             0.0   \n",
       "10511385                             0.0                             0.0   \n",
       "\n",
       "          item_price  delta_price  \n",
       "9211092   197.771698          0.0  \n",
       "8168511   149.900726          0.0  \n",
       "5089863   194.970001          0.0  \n",
       "8888955    82.333336          0.0  \n",
       "10511385  444.308685          0.0  \n",
       "\n",
       "[5 rows x 25 columns]"
      ]
     },
     "execution_count": 46,
     "metadata": {},
     "output_type": "execute_result"
    }
   ],
   "source": [
    "monthly_train.sample(5)"
   ]
  },
  {
   "cell_type": "markdown",
   "metadata": {},
   "source": [
    "<h3>Find difference between mean item price lag and mean item price for the whole dates and shops</h3>"
   ]
  },
  {
   "cell_type": "code",
   "execution_count": 47,
   "metadata": {
    "collapsed": true
   },
   "outputs": [],
   "source": [
    "monthly_train['delta_price'] = (monthly_train['item_price'] - monthly_train['delta_price']) / monthly_train['item_price']"
   ]
  },
  {
   "cell_type": "code",
   "execution_count": 48,
   "metadata": {
    "collapsed": true
   },
   "outputs": [],
   "source": [
    "monthly_train.fillna(0, inplace=True)"
   ]
  },
  {
   "cell_type": "code",
   "execution_count": 49,
   "metadata": {
    "collapsed": true
   },
   "outputs": [],
   "source": [
    "# I don't need this column anymore\n",
    "monthly_train.drop('item_price', axis=1, inplace=True)"
   ]
  },
  {
   "cell_type": "code",
   "execution_count": 50,
   "metadata": {},
   "outputs": [
    {
     "data": {
      "text/html": [
       "<div>\n",
       "<style>\n",
       "    .dataframe thead tr:only-child th {\n",
       "        text-align: right;\n",
       "    }\n",
       "\n",
       "    .dataframe thead th {\n",
       "        text-align: left;\n",
       "    }\n",
       "\n",
       "    .dataframe tbody tr th {\n",
       "        vertical-align: top;\n",
       "    }\n",
       "</style>\n",
       "<table border=\"1\" class=\"dataframe\">\n",
       "  <thead>\n",
       "    <tr style=\"text-align: right;\">\n",
       "      <th></th>\n",
       "      <th>date_block_num</th>\n",
       "      <th>item_cnt_month</th>\n",
       "      <th>item_id</th>\n",
       "      <th>shop_id</th>\n",
       "      <th>target_lag_1</th>\n",
       "      <th>target_lag_2</th>\n",
       "      <th>target_lag_3</th>\n",
       "      <th>target_lag_4</th>\n",
       "      <th>target_lag_12</th>\n",
       "      <th>rolling_mean_target_2</th>\n",
       "      <th>...</th>\n",
       "      <th>rolling_std_target_4</th>\n",
       "      <th>mean_item_price_lag_1</th>\n",
       "      <th>mean_item_price_lag_2</th>\n",
       "      <th>mean_item_price_lag_3</th>\n",
       "      <th>mean_item_price_lag_4</th>\n",
       "      <th>mean_item_price_lag_12</th>\n",
       "      <th>rolling_mean_mean_item_price_2</th>\n",
       "      <th>rolling_mean_mean_item_price_3</th>\n",
       "      <th>rolling_mean_mean_item_price_4</th>\n",
       "      <th>delta_price</th>\n",
       "    </tr>\n",
       "  </thead>\n",
       "  <tbody>\n",
       "    <tr>\n",
       "      <th>10813032</th>\n",
       "      <td>33</td>\n",
       "      <td>0.0</td>\n",
       "      <td>17468</td>\n",
       "      <td>44</td>\n",
       "      <td>0.0</td>\n",
       "      <td>0.0</td>\n",
       "      <td>0.0</td>\n",
       "      <td>0.0</td>\n",
       "      <td>0.0</td>\n",
       "      <td>0.0</td>\n",
       "      <td>...</td>\n",
       "      <td>0.00</td>\n",
       "      <td>0.0</td>\n",
       "      <td>0.0</td>\n",
       "      <td>0.0</td>\n",
       "      <td>0.0</td>\n",
       "      <td>0.0</td>\n",
       "      <td>0.0</td>\n",
       "      <td>0.000000</td>\n",
       "      <td>0.00</td>\n",
       "      <td>1.0</td>\n",
       "    </tr>\n",
       "    <tr>\n",
       "      <th>789398</th>\n",
       "      <td>2</td>\n",
       "      <td>0.0</td>\n",
       "      <td>19168</td>\n",
       "      <td>7</td>\n",
       "      <td>0.0</td>\n",
       "      <td>0.0</td>\n",
       "      <td>0.0</td>\n",
       "      <td>0.0</td>\n",
       "      <td>0.0</td>\n",
       "      <td>0.0</td>\n",
       "      <td>...</td>\n",
       "      <td>0.00</td>\n",
       "      <td>0.0</td>\n",
       "      <td>0.0</td>\n",
       "      <td>0.0</td>\n",
       "      <td>0.0</td>\n",
       "      <td>0.0</td>\n",
       "      <td>0.0</td>\n",
       "      <td>0.000000</td>\n",
       "      <td>0.00</td>\n",
       "      <td>1.0</td>\n",
       "    </tr>\n",
       "    <tr>\n",
       "      <th>9692834</th>\n",
       "      <td>28</td>\n",
       "      <td>0.0</td>\n",
       "      <td>4551</td>\n",
       "      <td>45</td>\n",
       "      <td>0.0</td>\n",
       "      <td>0.0</td>\n",
       "      <td>0.0</td>\n",
       "      <td>0.0</td>\n",
       "      <td>0.0</td>\n",
       "      <td>0.0</td>\n",
       "      <td>...</td>\n",
       "      <td>0.00</td>\n",
       "      <td>0.0</td>\n",
       "      <td>0.0</td>\n",
       "      <td>0.0</td>\n",
       "      <td>0.0</td>\n",
       "      <td>0.0</td>\n",
       "      <td>0.0</td>\n",
       "      <td>0.000000</td>\n",
       "      <td>0.00</td>\n",
       "      <td>1.0</td>\n",
       "    </tr>\n",
       "    <tr>\n",
       "      <th>11019019</th>\n",
       "      <td>34</td>\n",
       "      <td>0.0</td>\n",
       "      <td>7499</td>\n",
       "      <td>48</td>\n",
       "      <td>0.0</td>\n",
       "      <td>0.0</td>\n",
       "      <td>0.0</td>\n",
       "      <td>0.0</td>\n",
       "      <td>0.0</td>\n",
       "      <td>0.0</td>\n",
       "      <td>...</td>\n",
       "      <td>0.00</td>\n",
       "      <td>0.0</td>\n",
       "      <td>0.0</td>\n",
       "      <td>0.0</td>\n",
       "      <td>0.0</td>\n",
       "      <td>0.0</td>\n",
       "      <td>0.0</td>\n",
       "      <td>0.000000</td>\n",
       "      <td>0.00</td>\n",
       "      <td>1.0</td>\n",
       "    </tr>\n",
       "    <tr>\n",
       "      <th>5213864</th>\n",
       "      <td>14</td>\n",
       "      <td>0.0</td>\n",
       "      <td>9788</td>\n",
       "      <td>13</td>\n",
       "      <td>0.0</td>\n",
       "      <td>1.0</td>\n",
       "      <td>0.0</td>\n",
       "      <td>0.0</td>\n",
       "      <td>0.0</td>\n",
       "      <td>0.5</td>\n",
       "      <td>...</td>\n",
       "      <td>0.25</td>\n",
       "      <td>0.0</td>\n",
       "      <td>325.0</td>\n",
       "      <td>0.0</td>\n",
       "      <td>0.0</td>\n",
       "      <td>0.0</td>\n",
       "      <td>162.5</td>\n",
       "      <td>108.333333</td>\n",
       "      <td>81.25</td>\n",
       "      <td>1.0</td>\n",
       "    </tr>\n",
       "  </tbody>\n",
       "</table>\n",
       "<p>5 rows × 24 columns</p>\n",
       "</div>"
      ],
      "text/plain": [
       "          date_block_num  item_cnt_month  item_id  shop_id  target_lag_1  \\\n",
       "10813032              33             0.0    17468       44           0.0   \n",
       "789398                 2             0.0    19168        7           0.0   \n",
       "9692834               28             0.0     4551       45           0.0   \n",
       "11019019              34             0.0     7499       48           0.0   \n",
       "5213864               14             0.0     9788       13           0.0   \n",
       "\n",
       "          target_lag_2  target_lag_3  target_lag_4  target_lag_12  \\\n",
       "10813032           0.0           0.0           0.0            0.0   \n",
       "789398             0.0           0.0           0.0            0.0   \n",
       "9692834            0.0           0.0           0.0            0.0   \n",
       "11019019           0.0           0.0           0.0            0.0   \n",
       "5213864            1.0           0.0           0.0            0.0   \n",
       "\n",
       "          rolling_mean_target_2     ...       rolling_std_target_4  \\\n",
       "10813032                    0.0     ...                       0.00   \n",
       "789398                      0.0     ...                       0.00   \n",
       "9692834                     0.0     ...                       0.00   \n",
       "11019019                    0.0     ...                       0.00   \n",
       "5213864                     0.5     ...                       0.25   \n",
       "\n",
       "          mean_item_price_lag_1  mean_item_price_lag_2  mean_item_price_lag_3  \\\n",
       "10813032                    0.0                    0.0                    0.0   \n",
       "789398                      0.0                    0.0                    0.0   \n",
       "9692834                     0.0                    0.0                    0.0   \n",
       "11019019                    0.0                    0.0                    0.0   \n",
       "5213864                     0.0                  325.0                    0.0   \n",
       "\n",
       "          mean_item_price_lag_4  mean_item_price_lag_12  \\\n",
       "10813032                    0.0                     0.0   \n",
       "789398                      0.0                     0.0   \n",
       "9692834                     0.0                     0.0   \n",
       "11019019                    0.0                     0.0   \n",
       "5213864                     0.0                     0.0   \n",
       "\n",
       "          rolling_mean_mean_item_price_2  rolling_mean_mean_item_price_3  \\\n",
       "10813032                             0.0                        0.000000   \n",
       "789398                               0.0                        0.000000   \n",
       "9692834                              0.0                        0.000000   \n",
       "11019019                             0.0                        0.000000   \n",
       "5213864                            162.5                      108.333333   \n",
       "\n",
       "          rolling_mean_mean_item_price_4  delta_price  \n",
       "10813032                            0.00          1.0  \n",
       "789398                              0.00          1.0  \n",
       "9692834                             0.00          1.0  \n",
       "11019019                            0.00          1.0  \n",
       "5213864                            81.25          1.0  \n",
       "\n",
       "[5 rows x 24 columns]"
      ]
     },
     "execution_count": 50,
     "metadata": {},
     "output_type": "execute_result"
    }
   ],
   "source": [
    "monthly_train.sample(5)"
   ]
  },
  {
   "cell_type": "code",
   "execution_count": 51,
   "metadata": {},
   "outputs": [
    {
     "data": {
      "text/plain": [
       "(11098708, 24)"
      ]
     },
     "execution_count": 51,
     "metadata": {},
     "output_type": "execute_result"
    }
   ],
   "source": [
    "monthly_train.shape"
   ]
  },
  {
   "cell_type": "code",
   "execution_count": 52,
   "metadata": {},
   "outputs": [
    {
     "data": {
      "text/plain": [
       "451"
      ]
     },
     "execution_count": 52,
     "metadata": {},
     "output_type": "execute_result"
    }
   ],
   "source": [
    "del mean_price_grouped\n",
    "gc.collect()"
   ]
  },
  {
   "cell_type": "markdown",
   "metadata": {},
   "source": [
    "<h2>Create income lags</h2>"
   ]
  },
  {
   "cell_type": "markdown",
   "metadata": {},
   "source": [
    "<h3>I create some \"income\" features. Simply item price multiplied by item count. And rolling means for it</h3>"
   ]
  },
  {
   "cell_type": "code",
   "execution_count": 53,
   "metadata": {
    "collapsed": true
   },
   "outputs": [],
   "source": [
    "from feature_engineering.utils import create_income_lags"
   ]
  },
  {
   "cell_type": "code",
   "execution_count": 54,
   "metadata": {
    "collapsed": true
   },
   "outputs": [],
   "source": [
    "sales_train['income'] = sales_train['item_price'] * sales_train['item_cnt_day']"
   ]
  },
  {
   "cell_type": "code",
   "execution_count": 55,
   "metadata": {},
   "outputs": [
    {
     "name": "stdout",
     "output_type": "stream",
     "text": [
      "Wall time: 27.3 s\n"
     ]
    }
   ],
   "source": [
    "%%time\n",
    "mean_income_stats = monthly_train.merge(sales_train[cols+['income']], on=cols, how='left').fillna(0)\n",
    "mean_income_stats = mean_income_stats.groupby(cols)['income'].mean().reset_index()\n",
    "\n",
    "mean_income_stats = create_income_lags(df=mean_income_stats, lag_list=lag_list, na_filler=0)"
   ]
  },
  {
   "cell_type": "code",
   "execution_count": 56,
   "metadata": {
    "collapsed": true
   },
   "outputs": [],
   "source": [
    "mean_income_stats = create_rolling_mean(df=mean_income_stats, windowlist=[2, 3, 4], na_filler=0, column='income')"
   ]
  },
  {
   "cell_type": "code",
   "execution_count": 57,
   "metadata": {
    "collapsed": true
   },
   "outputs": [],
   "source": [
    "monthly_train = monthly_train.merge(mean_income_stats.drop('income', axis=1),\n",
    "                                    on=['date_block_num', 'shop_id', 'item_id'], how='left')"
   ]
  },
  {
   "cell_type": "code",
   "execution_count": 58,
   "metadata": {
    "collapsed": true
   },
   "outputs": [],
   "source": [
    "monthly_train = downgrade_type(monthly_train)"
   ]
  },
  {
   "cell_type": "code",
   "execution_count": 59,
   "metadata": {},
   "outputs": [
    {
     "data": {
      "text/html": [
       "<div>\n",
       "<style>\n",
       "    .dataframe thead tr:only-child th {\n",
       "        text-align: right;\n",
       "    }\n",
       "\n",
       "    .dataframe thead th {\n",
       "        text-align: left;\n",
       "    }\n",
       "\n",
       "    .dataframe tbody tr th {\n",
       "        vertical-align: top;\n",
       "    }\n",
       "</style>\n",
       "<table border=\"1\" class=\"dataframe\">\n",
       "  <thead>\n",
       "    <tr style=\"text-align: right;\">\n",
       "      <th></th>\n",
       "      <th>date_block_num</th>\n",
       "      <th>item_cnt_month</th>\n",
       "      <th>item_id</th>\n",
       "      <th>shop_id</th>\n",
       "      <th>target_lag_1</th>\n",
       "      <th>target_lag_2</th>\n",
       "      <th>target_lag_3</th>\n",
       "      <th>target_lag_4</th>\n",
       "      <th>target_lag_12</th>\n",
       "      <th>rolling_mean_target_2</th>\n",
       "      <th>...</th>\n",
       "      <th>rolling_mean_mean_item_price_4</th>\n",
       "      <th>delta_price</th>\n",
       "      <th>income_lag_1</th>\n",
       "      <th>income_lag_2</th>\n",
       "      <th>income_lag_3</th>\n",
       "      <th>income_lag_4</th>\n",
       "      <th>income_lag_12</th>\n",
       "      <th>rolling_mean_income_2</th>\n",
       "      <th>rolling_mean_income_3</th>\n",
       "      <th>rolling_mean_income_4</th>\n",
       "    </tr>\n",
       "  </thead>\n",
       "  <tbody>\n",
       "    <tr>\n",
       "      <th>3896980</th>\n",
       "      <td>10</td>\n",
       "      <td>1.0</td>\n",
       "      <td>5625</td>\n",
       "      <td>28</td>\n",
       "      <td>8.0</td>\n",
       "      <td>7.0</td>\n",
       "      <td>8.0</td>\n",
       "      <td>4.0</td>\n",
       "      <td>0.0</td>\n",
       "      <td>7.5</td>\n",
       "      <td>...</td>\n",
       "      <td>2560.833252</td>\n",
       "      <td>-0.000021</td>\n",
       "      <td>3370.000000</td>\n",
       "      <td>3071.666748</td>\n",
       "      <td>2960.00000</td>\n",
       "      <td>3320.000000</td>\n",
       "      <td>0.0</td>\n",
       "      <td>3220.833496</td>\n",
       "      <td>3133.888916</td>\n",
       "      <td>3180.416748</td>\n",
       "    </tr>\n",
       "    <tr>\n",
       "      <th>2068884</th>\n",
       "      <td>5</td>\n",
       "      <td>12.0</td>\n",
       "      <td>5033</td>\n",
       "      <td>31</td>\n",
       "      <td>12.0</td>\n",
       "      <td>9.0</td>\n",
       "      <td>14.0</td>\n",
       "      <td>29.0</td>\n",
       "      <td>0.0</td>\n",
       "      <td>10.5</td>\n",
       "      <td>...</td>\n",
       "      <td>1239.193481</td>\n",
       "      <td>-0.075624</td>\n",
       "      <td>1598.611084</td>\n",
       "      <td>1448.875000</td>\n",
       "      <td>2177.50415</td>\n",
       "      <td>3241.052002</td>\n",
       "      <td>0.0</td>\n",
       "      <td>1523.743042</td>\n",
       "      <td>1741.663452</td>\n",
       "      <td>2116.510498</td>\n",
       "    </tr>\n",
       "    <tr>\n",
       "      <th>10133653</th>\n",
       "      <td>30</td>\n",
       "      <td>0.0</td>\n",
       "      <td>1211</td>\n",
       "      <td>42</td>\n",
       "      <td>0.0</td>\n",
       "      <td>0.0</td>\n",
       "      <td>0.0</td>\n",
       "      <td>0.0</td>\n",
       "      <td>0.0</td>\n",
       "      <td>0.0</td>\n",
       "      <td>...</td>\n",
       "      <td>0.000000</td>\n",
       "      <td>1.000000</td>\n",
       "      <td>0.000000</td>\n",
       "      <td>0.000000</td>\n",
       "      <td>0.00000</td>\n",
       "      <td>0.000000</td>\n",
       "      <td>0.0</td>\n",
       "      <td>0.000000</td>\n",
       "      <td>0.000000</td>\n",
       "      <td>0.000000</td>\n",
       "    </tr>\n",
       "    <tr>\n",
       "      <th>632899</th>\n",
       "      <td>1</td>\n",
       "      <td>0.0</td>\n",
       "      <td>17914</td>\n",
       "      <td>41</td>\n",
       "      <td>2.0</td>\n",
       "      <td>0.0</td>\n",
       "      <td>0.0</td>\n",
       "      <td>0.0</td>\n",
       "      <td>0.0</td>\n",
       "      <td>1.0</td>\n",
       "      <td>...</td>\n",
       "      <td>399.750000</td>\n",
       "      <td>-2.211433</td>\n",
       "      <td>1599.000000</td>\n",
       "      <td>0.000000</td>\n",
       "      <td>0.00000</td>\n",
       "      <td>0.000000</td>\n",
       "      <td>0.0</td>\n",
       "      <td>0.000000</td>\n",
       "      <td>0.000000</td>\n",
       "      <td>0.000000</td>\n",
       "    </tr>\n",
       "    <tr>\n",
       "      <th>10789173</th>\n",
       "      <td>33</td>\n",
       "      <td>2.0</td>\n",
       "      <td>8686</td>\n",
       "      <td>38</td>\n",
       "      <td>0.0</td>\n",
       "      <td>1.0</td>\n",
       "      <td>0.0</td>\n",
       "      <td>0.0</td>\n",
       "      <td>0.0</td>\n",
       "      <td>0.5</td>\n",
       "      <td>...</td>\n",
       "      <td>57.250000</td>\n",
       "      <td>1.000000</td>\n",
       "      <td>0.000000</td>\n",
       "      <td>229.000000</td>\n",
       "      <td>0.00000</td>\n",
       "      <td>0.000000</td>\n",
       "      <td>0.0</td>\n",
       "      <td>0.000000</td>\n",
       "      <td>0.000000</td>\n",
       "      <td>0.000000</td>\n",
       "    </tr>\n",
       "  </tbody>\n",
       "</table>\n",
       "<p>5 rows × 32 columns</p>\n",
       "</div>"
      ],
      "text/plain": [
       "          date_block_num  item_cnt_month  item_id  shop_id  target_lag_1  \\\n",
       "3896980               10             1.0     5625       28           8.0   \n",
       "2068884                5            12.0     5033       31          12.0   \n",
       "10133653              30             0.0     1211       42           0.0   \n",
       "632899                 1             0.0    17914       41           2.0   \n",
       "10789173              33             2.0     8686       38           0.0   \n",
       "\n",
       "          target_lag_2  target_lag_3  target_lag_4  target_lag_12  \\\n",
       "3896980            7.0           8.0           4.0            0.0   \n",
       "2068884            9.0          14.0          29.0            0.0   \n",
       "10133653           0.0           0.0           0.0            0.0   \n",
       "632899             0.0           0.0           0.0            0.0   \n",
       "10789173           1.0           0.0           0.0            0.0   \n",
       "\n",
       "          rolling_mean_target_2          ...            \\\n",
       "3896980                     7.5          ...             \n",
       "2068884                    10.5          ...             \n",
       "10133653                    0.0          ...             \n",
       "632899                      1.0          ...             \n",
       "10789173                    0.5          ...             \n",
       "\n",
       "          rolling_mean_mean_item_price_4  delta_price  income_lag_1  \\\n",
       "3896980                      2560.833252    -0.000021   3370.000000   \n",
       "2068884                      1239.193481    -0.075624   1598.611084   \n",
       "10133653                        0.000000     1.000000      0.000000   \n",
       "632899                        399.750000    -2.211433   1599.000000   \n",
       "10789173                       57.250000     1.000000      0.000000   \n",
       "\n",
       "          income_lag_2  income_lag_3  income_lag_4  income_lag_12  \\\n",
       "3896980    3071.666748    2960.00000   3320.000000            0.0   \n",
       "2068884    1448.875000    2177.50415   3241.052002            0.0   \n",
       "10133653      0.000000       0.00000      0.000000            0.0   \n",
       "632899        0.000000       0.00000      0.000000            0.0   \n",
       "10789173    229.000000       0.00000      0.000000            0.0   \n",
       "\n",
       "          rolling_mean_income_2  rolling_mean_income_3  rolling_mean_income_4  \n",
       "3896980             3220.833496            3133.888916            3180.416748  \n",
       "2068884             1523.743042            1741.663452            2116.510498  \n",
       "10133653               0.000000               0.000000               0.000000  \n",
       "632899                 0.000000               0.000000               0.000000  \n",
       "10789173               0.000000               0.000000               0.000000  \n",
       "\n",
       "[5 rows x 32 columns]"
      ]
     },
     "execution_count": 59,
     "metadata": {},
     "output_type": "execute_result"
    }
   ],
   "source": [
    "monthly_train.sample(5)"
   ]
  },
  {
   "cell_type": "code",
   "execution_count": 60,
   "metadata": {},
   "outputs": [
    {
     "data": {
      "text/plain": [
       "316"
      ]
     },
     "execution_count": 60,
     "metadata": {},
     "output_type": "execute_result"
    }
   ],
   "source": [
    "del mean_income_stats\n",
    "gc.collect()"
   ]
  },
  {
   "cell_type": "markdown",
   "metadata": {},
   "source": [
    "<h1>Time-based features</h1>"
   ]
  },
  {
   "cell_type": "markdown",
   "metadata": {},
   "source": [
    "<h3>Some features that I call time-based</h3>"
   ]
  },
  {
   "cell_type": "code",
   "execution_count": 62,
   "metadata": {},
   "outputs": [
    {
     "name": "stdout",
     "output_type": "stream",
     "text": [
      "Wall time: 269 ms\n"
     ]
    },
    {
     "name": "stderr",
     "output_type": "stream",
     "text": [
      "C:\\Program Files\\Anaconda3\\envs\\myEnv\\lib\\site-packages\\ipykernel_launcher.py:5: SettingWithCopyWarning: \n",
      "A value is trying to be set on a copy of a slice from a DataFrame.\n",
      "Try using .loc[row_indexer,col_indexer] = value instead\n",
      "\n",
      "See the caveats in the documentation: http://pandas.pydata.org/pandas-docs/stable/indexing.html#indexing-view-versus-copy\n",
      "  \"\"\"\n"
     ]
    }
   ],
   "source": [
    "%%time\n",
    "# I'll call holidays months 1st and 5th months\n",
    "\n",
    "dates_subset = sales_train[['date', 'date_block_num']]\n",
    "\n",
    "dates_subset['month'] = dates_subset.date.dt.month\n",
    "dates_subset = dates_subset[['date_block_num', 'month']].drop_duplicates().reset_index(drop=True)\n",
    "dates_subset = dates_subset.append({'date_block_num': 34, 'month': 11}, ignore_index=True)\n",
    "dates_subset['next_month_holidays'] = dates_subset['month'].isin([12, 4]).astype(int)\n",
    "dates_items = pd.concat([sales_train[['item_id', 'date_block_num']], test[['item_id', 'date_block_num']]], ignore_index=True)"
   ]
  },
  {
   "cell_type": "code",
   "execution_count": 63,
   "metadata": {
    "collapsed": true
   },
   "outputs": [],
   "source": [
    "# date block when each item has been sold for the first time\n",
    "first_sale_block = dates_items.groupby('item_id')['date_block_num'].min().reset_index()\\\n",
    ".rename(columns={'date_block_num':'first_sale'})"
   ]
  },
  {
   "cell_type": "code",
   "execution_count": 64,
   "metadata": {
    "collapsed": true
   },
   "outputs": [],
   "source": [
    "monthly_train = monthly_train.merge(first_sale_block, on='item_id', how='left')"
   ]
  },
  {
   "cell_type": "code",
   "execution_count": 65,
   "metadata": {
    "collapsed": true
   },
   "outputs": [],
   "source": [
    "monthly_train = monthly_train.merge(dates_subset[['date_block_num', 'next_month_holidays']], on='date_block_num', how='left')"
   ]
  },
  {
   "cell_type": "code",
   "execution_count": 66,
   "metadata": {},
   "outputs": [
    {
     "data": {
      "text/html": [
       "<div>\n",
       "<style>\n",
       "    .dataframe thead tr:only-child th {\n",
       "        text-align: right;\n",
       "    }\n",
       "\n",
       "    .dataframe thead th {\n",
       "        text-align: left;\n",
       "    }\n",
       "\n",
       "    .dataframe tbody tr th {\n",
       "        vertical-align: top;\n",
       "    }\n",
       "</style>\n",
       "<table border=\"1\" class=\"dataframe\">\n",
       "  <thead>\n",
       "    <tr style=\"text-align: right;\">\n",
       "      <th></th>\n",
       "      <th>date_block_num</th>\n",
       "      <th>item_cnt_month</th>\n",
       "      <th>item_id</th>\n",
       "      <th>shop_id</th>\n",
       "      <th>target_lag_1</th>\n",
       "      <th>target_lag_2</th>\n",
       "      <th>target_lag_3</th>\n",
       "      <th>target_lag_4</th>\n",
       "      <th>target_lag_12</th>\n",
       "      <th>rolling_mean_target_2</th>\n",
       "      <th>...</th>\n",
       "      <th>income_lag_1</th>\n",
       "      <th>income_lag_2</th>\n",
       "      <th>income_lag_3</th>\n",
       "      <th>income_lag_4</th>\n",
       "      <th>income_lag_12</th>\n",
       "      <th>rolling_mean_income_2</th>\n",
       "      <th>rolling_mean_income_3</th>\n",
       "      <th>rolling_mean_income_4</th>\n",
       "      <th>first_sale</th>\n",
       "      <th>next_month_holidays</th>\n",
       "    </tr>\n",
       "  </thead>\n",
       "  <tbody>\n",
       "    <tr>\n",
       "      <th>1731978</th>\n",
       "      <td>4</td>\n",
       "      <td>1.0</td>\n",
       "      <td>4691</td>\n",
       "      <td>42</td>\n",
       "      <td>1.0</td>\n",
       "      <td>0.0</td>\n",
       "      <td>1.0</td>\n",
       "      <td>2.0</td>\n",
       "      <td>0.0</td>\n",
       "      <td>0.5</td>\n",
       "      <td>...</td>\n",
       "      <td>699.0</td>\n",
       "      <td>0.0</td>\n",
       "      <td>699.0</td>\n",
       "      <td>629.0</td>\n",
       "      <td>0.0</td>\n",
       "      <td>0.0</td>\n",
       "      <td>0.0</td>\n",
       "      <td>0.0</td>\n",
       "      <td>0</td>\n",
       "      <td>0</td>\n",
       "    </tr>\n",
       "    <tr>\n",
       "      <th>778568</th>\n",
       "      <td>2</td>\n",
       "      <td>0.0</td>\n",
       "      <td>12754</td>\n",
       "      <td>6</td>\n",
       "      <td>0.0</td>\n",
       "      <td>0.0</td>\n",
       "      <td>0.0</td>\n",
       "      <td>0.0</td>\n",
       "      <td>0.0</td>\n",
       "      <td>0.0</td>\n",
       "      <td>...</td>\n",
       "      <td>0.0</td>\n",
       "      <td>0.0</td>\n",
       "      <td>0.0</td>\n",
       "      <td>0.0</td>\n",
       "      <td>0.0</td>\n",
       "      <td>0.0</td>\n",
       "      <td>0.0</td>\n",
       "      <td>0.0</td>\n",
       "      <td>0</td>\n",
       "      <td>0</td>\n",
       "    </tr>\n",
       "    <tr>\n",
       "      <th>2091185</th>\n",
       "      <td>5</td>\n",
       "      <td>0.0</td>\n",
       "      <td>18181</td>\n",
       "      <td>35</td>\n",
       "      <td>0.0</td>\n",
       "      <td>0.0</td>\n",
       "      <td>0.0</td>\n",
       "      <td>0.0</td>\n",
       "      <td>0.0</td>\n",
       "      <td>0.0</td>\n",
       "      <td>...</td>\n",
       "      <td>0.0</td>\n",
       "      <td>0.0</td>\n",
       "      <td>0.0</td>\n",
       "      <td>0.0</td>\n",
       "      <td>0.0</td>\n",
       "      <td>0.0</td>\n",
       "      <td>0.0</td>\n",
       "      <td>0.0</td>\n",
       "      <td>0</td>\n",
       "      <td>0</td>\n",
       "    </tr>\n",
       "    <tr>\n",
       "      <th>8610777</th>\n",
       "      <td>24</td>\n",
       "      <td>0.0</td>\n",
       "      <td>15342</td>\n",
       "      <td>41</td>\n",
       "      <td>0.0</td>\n",
       "      <td>0.0</td>\n",
       "      <td>0.0</td>\n",
       "      <td>0.0</td>\n",
       "      <td>0.0</td>\n",
       "      <td>0.0</td>\n",
       "      <td>...</td>\n",
       "      <td>0.0</td>\n",
       "      <td>0.0</td>\n",
       "      <td>0.0</td>\n",
       "      <td>0.0</td>\n",
       "      <td>0.0</td>\n",
       "      <td>0.0</td>\n",
       "      <td>0.0</td>\n",
       "      <td>0.0</td>\n",
       "      <td>9</td>\n",
       "      <td>0</td>\n",
       "    </tr>\n",
       "    <tr>\n",
       "      <th>5945491</th>\n",
       "      <td>16</td>\n",
       "      <td>1.0</td>\n",
       "      <td>12487</td>\n",
       "      <td>24</td>\n",
       "      <td>0.0</td>\n",
       "      <td>1.0</td>\n",
       "      <td>1.0</td>\n",
       "      <td>0.0</td>\n",
       "      <td>2.0</td>\n",
       "      <td>0.5</td>\n",
       "      <td>...</td>\n",
       "      <td>0.0</td>\n",
       "      <td>199.0</td>\n",
       "      <td>199.0</td>\n",
       "      <td>0.0</td>\n",
       "      <td>199.0</td>\n",
       "      <td>0.0</td>\n",
       "      <td>0.0</td>\n",
       "      <td>0.0</td>\n",
       "      <td>3</td>\n",
       "      <td>0</td>\n",
       "    </tr>\n",
       "  </tbody>\n",
       "</table>\n",
       "<p>5 rows × 34 columns</p>\n",
       "</div>"
      ],
      "text/plain": [
       "         date_block_num  item_cnt_month  item_id  shop_id  target_lag_1  \\\n",
       "1731978               4             1.0     4691       42           1.0   \n",
       "778568                2             0.0    12754        6           0.0   \n",
       "2091185               5             0.0    18181       35           0.0   \n",
       "8610777              24             0.0    15342       41           0.0   \n",
       "5945491              16             1.0    12487       24           0.0   \n",
       "\n",
       "         target_lag_2  target_lag_3  target_lag_4  target_lag_12  \\\n",
       "1731978           0.0           1.0           2.0            0.0   \n",
       "778568            0.0           0.0           0.0            0.0   \n",
       "2091185           0.0           0.0           0.0            0.0   \n",
       "8610777           0.0           0.0           0.0            0.0   \n",
       "5945491           1.0           1.0           0.0            2.0   \n",
       "\n",
       "         rolling_mean_target_2         ...           income_lag_1  \\\n",
       "1731978                    0.5         ...                  699.0   \n",
       "778568                     0.0         ...                    0.0   \n",
       "2091185                    0.0         ...                    0.0   \n",
       "8610777                    0.0         ...                    0.0   \n",
       "5945491                    0.5         ...                    0.0   \n",
       "\n",
       "         income_lag_2  income_lag_3  income_lag_4  income_lag_12  \\\n",
       "1731978           0.0         699.0         629.0            0.0   \n",
       "778568            0.0           0.0           0.0            0.0   \n",
       "2091185           0.0           0.0           0.0            0.0   \n",
       "8610777           0.0           0.0           0.0            0.0   \n",
       "5945491         199.0         199.0           0.0          199.0   \n",
       "\n",
       "         rolling_mean_income_2  rolling_mean_income_3  rolling_mean_income_4  \\\n",
       "1731978                    0.0                    0.0                    0.0   \n",
       "778568                     0.0                    0.0                    0.0   \n",
       "2091185                    0.0                    0.0                    0.0   \n",
       "8610777                    0.0                    0.0                    0.0   \n",
       "5945491                    0.0                    0.0                    0.0   \n",
       "\n",
       "         first_sale  next_month_holidays  \n",
       "1731978           0                    0  \n",
       "778568            0                    0  \n",
       "2091185           0                    0  \n",
       "8610777           9                    0  \n",
       "5945491           3                    0  \n",
       "\n",
       "[5 rows x 34 columns]"
      ]
     },
     "execution_count": 66,
     "metadata": {},
     "output_type": "execute_result"
    }
   ],
   "source": [
    "monthly_train.sample(5)"
   ]
  },
  {
   "cell_type": "code",
   "execution_count": 67,
   "metadata": {},
   "outputs": [
    {
     "data": {
      "text/plain": [
       "306"
      ]
     },
     "execution_count": 67,
     "metadata": {},
     "output_type": "execute_result"
    }
   ],
   "source": [
    "del dates_subset, dates_items, first_sale_block\n",
    "gc.collect()"
   ]
  },
  {
   "cell_type": "markdown",
   "metadata": {},
   "source": [
    "<h1>Categorical features</h1>"
   ]
  },
  {
   "cell_type": "markdown",
   "metadata": {},
   "source": [
    "<h3>Some categorical features, i.e. binary for Moscow of not and binary for shopping center</h3>"
   ]
  },
  {
   "cell_type": "code",
   "execution_count": 68,
   "metadata": {
    "collapsed": true
   },
   "outputs": [],
   "source": [
    "shops['is_in_Moscow'] = shops.shop_name.apply(lambda x: 'Москва' in x).astype(int)"
   ]
  },
  {
   "cell_type": "code",
   "execution_count": 69,
   "metadata": {
    "scrolled": false
   },
   "outputs": [
    {
     "data": {
      "text/html": [
       "<div>\n",
       "<style>\n",
       "    .dataframe thead tr:only-child th {\n",
       "        text-align: right;\n",
       "    }\n",
       "\n",
       "    .dataframe thead th {\n",
       "        text-align: left;\n",
       "    }\n",
       "\n",
       "    .dataframe tbody tr th {\n",
       "        vertical-align: top;\n",
       "    }\n",
       "</style>\n",
       "<table border=\"1\" class=\"dataframe\">\n",
       "  <thead>\n",
       "    <tr style=\"text-align: right;\">\n",
       "      <th></th>\n",
       "      <th>shop_name</th>\n",
       "      <th>shop_id</th>\n",
       "      <th>city</th>\n",
       "      <th>is_s_center</th>\n",
       "      <th>is_in_Moscow</th>\n",
       "    </tr>\n",
       "  </thead>\n",
       "  <tbody>\n",
       "    <tr>\n",
       "      <th>0</th>\n",
       "      <td>!Якутск Орджоникидзе, 56 фран</td>\n",
       "      <td>0</td>\n",
       "      <td>Якутск</td>\n",
       "      <td>0</td>\n",
       "      <td>0</td>\n",
       "    </tr>\n",
       "    <tr>\n",
       "      <th>1</th>\n",
       "      <td>!Якутск ТЦ \"Центральный\" фран</td>\n",
       "      <td>1</td>\n",
       "      <td>Якутск</td>\n",
       "      <td>1</td>\n",
       "      <td>0</td>\n",
       "    </tr>\n",
       "    <tr>\n",
       "      <th>2</th>\n",
       "      <td>Адыгея ТЦ \"Мега\"</td>\n",
       "      <td>2</td>\n",
       "      <td>Адыгея</td>\n",
       "      <td>1</td>\n",
       "      <td>0</td>\n",
       "    </tr>\n",
       "    <tr>\n",
       "      <th>3</th>\n",
       "      <td>Балашиха ТРК \"Октябрь-Киномир\"</td>\n",
       "      <td>3</td>\n",
       "      <td>Балашиха</td>\n",
       "      <td>0</td>\n",
       "      <td>0</td>\n",
       "    </tr>\n",
       "    <tr>\n",
       "      <th>4</th>\n",
       "      <td>Волжский ТЦ \"Волга Молл\"</td>\n",
       "      <td>4</td>\n",
       "      <td>Волжский</td>\n",
       "      <td>1</td>\n",
       "      <td>0</td>\n",
       "    </tr>\n",
       "    <tr>\n",
       "      <th>5</th>\n",
       "      <td>Вологда ТРЦ \"Мармелад\"</td>\n",
       "      <td>5</td>\n",
       "      <td>Вологда</td>\n",
       "      <td>0</td>\n",
       "      <td>0</td>\n",
       "    </tr>\n",
       "    <tr>\n",
       "      <th>6</th>\n",
       "      <td>Воронеж (Плехановская, 13)</td>\n",
       "      <td>6</td>\n",
       "      <td>Воронеж</td>\n",
       "      <td>0</td>\n",
       "      <td>0</td>\n",
       "    </tr>\n",
       "    <tr>\n",
       "      <th>7</th>\n",
       "      <td>Воронеж ТРЦ \"Максимир\"</td>\n",
       "      <td>7</td>\n",
       "      <td>Воронеж</td>\n",
       "      <td>0</td>\n",
       "      <td>0</td>\n",
       "    </tr>\n",
       "    <tr>\n",
       "      <th>8</th>\n",
       "      <td>Воронеж ТРЦ Сити-Парк \"Град\"</td>\n",
       "      <td>8</td>\n",
       "      <td>Воронеж</td>\n",
       "      <td>0</td>\n",
       "      <td>0</td>\n",
       "    </tr>\n",
       "    <tr>\n",
       "      <th>9</th>\n",
       "      <td>Выездная Торговля</td>\n",
       "      <td>9</td>\n",
       "      <td>Выездная</td>\n",
       "      <td>0</td>\n",
       "      <td>0</td>\n",
       "    </tr>\n",
       "    <tr>\n",
       "      <th>10</th>\n",
       "      <td>Жуковский ул. Чкалова 39м?</td>\n",
       "      <td>10</td>\n",
       "      <td>Жуковский</td>\n",
       "      <td>0</td>\n",
       "      <td>0</td>\n",
       "    </tr>\n",
       "    <tr>\n",
       "      <th>11</th>\n",
       "      <td>Жуковский ул. Чкалова 39м²</td>\n",
       "      <td>11</td>\n",
       "      <td>Жуковский</td>\n",
       "      <td>0</td>\n",
       "      <td>0</td>\n",
       "    </tr>\n",
       "    <tr>\n",
       "      <th>12</th>\n",
       "      <td>Интернет-магазин ЧС</td>\n",
       "      <td>12</td>\n",
       "      <td>Интернет-магазин</td>\n",
       "      <td>0</td>\n",
       "      <td>0</td>\n",
       "    </tr>\n",
       "    <tr>\n",
       "      <th>13</th>\n",
       "      <td>Казань ТЦ \"Бехетле\"</td>\n",
       "      <td>13</td>\n",
       "      <td>Казань</td>\n",
       "      <td>1</td>\n",
       "      <td>0</td>\n",
       "    </tr>\n",
       "    <tr>\n",
       "      <th>14</th>\n",
       "      <td>Казань ТЦ \"ПаркХаус\" II</td>\n",
       "      <td>14</td>\n",
       "      <td>Казань</td>\n",
       "      <td>1</td>\n",
       "      <td>0</td>\n",
       "    </tr>\n",
       "    <tr>\n",
       "      <th>15</th>\n",
       "      <td>Калуга ТРЦ \"XXI век\"</td>\n",
       "      <td>15</td>\n",
       "      <td>Калуга</td>\n",
       "      <td>0</td>\n",
       "      <td>0</td>\n",
       "    </tr>\n",
       "    <tr>\n",
       "      <th>16</th>\n",
       "      <td>Коломна ТЦ \"Рио\"</td>\n",
       "      <td>16</td>\n",
       "      <td>Коломна</td>\n",
       "      <td>1</td>\n",
       "      <td>0</td>\n",
       "    </tr>\n",
       "    <tr>\n",
       "      <th>17</th>\n",
       "      <td>Красноярск ТЦ \"Взлетка Плаза\"</td>\n",
       "      <td>17</td>\n",
       "      <td>Красноярск</td>\n",
       "      <td>1</td>\n",
       "      <td>0</td>\n",
       "    </tr>\n",
       "    <tr>\n",
       "      <th>18</th>\n",
       "      <td>Красноярск ТЦ \"Июнь\"</td>\n",
       "      <td>18</td>\n",
       "      <td>Красноярск</td>\n",
       "      <td>1</td>\n",
       "      <td>0</td>\n",
       "    </tr>\n",
       "    <tr>\n",
       "      <th>19</th>\n",
       "      <td>Курск ТЦ \"Пушкинский\"</td>\n",
       "      <td>19</td>\n",
       "      <td>Курск</td>\n",
       "      <td>1</td>\n",
       "      <td>0</td>\n",
       "    </tr>\n",
       "    <tr>\n",
       "      <th>20</th>\n",
       "      <td>Москва \"Распродажа\"</td>\n",
       "      <td>20</td>\n",
       "      <td>Москва</td>\n",
       "      <td>0</td>\n",
       "      <td>1</td>\n",
       "    </tr>\n",
       "    <tr>\n",
       "      <th>21</th>\n",
       "      <td>Москва МТРЦ \"Афи Молл\"</td>\n",
       "      <td>21</td>\n",
       "      <td>Москва</td>\n",
       "      <td>0</td>\n",
       "      <td>1</td>\n",
       "    </tr>\n",
       "    <tr>\n",
       "      <th>22</th>\n",
       "      <td>Москва Магазин С21</td>\n",
       "      <td>22</td>\n",
       "      <td>Москва</td>\n",
       "      <td>0</td>\n",
       "      <td>1</td>\n",
       "    </tr>\n",
       "    <tr>\n",
       "      <th>23</th>\n",
       "      <td>Москва ТК \"Буденовский\" (пав.А2)</td>\n",
       "      <td>23</td>\n",
       "      <td>Москва</td>\n",
       "      <td>0</td>\n",
       "      <td>1</td>\n",
       "    </tr>\n",
       "    <tr>\n",
       "      <th>24</th>\n",
       "      <td>Москва ТК \"Буденовский\" (пав.К7)</td>\n",
       "      <td>24</td>\n",
       "      <td>Москва</td>\n",
       "      <td>0</td>\n",
       "      <td>1</td>\n",
       "    </tr>\n",
       "    <tr>\n",
       "      <th>25</th>\n",
       "      <td>Москва ТРК \"Атриум\"</td>\n",
       "      <td>25</td>\n",
       "      <td>Москва</td>\n",
       "      <td>0</td>\n",
       "      <td>1</td>\n",
       "    </tr>\n",
       "    <tr>\n",
       "      <th>26</th>\n",
       "      <td>Москва ТЦ \"Ареал\" (Беляево)</td>\n",
       "      <td>26</td>\n",
       "      <td>Москва</td>\n",
       "      <td>1</td>\n",
       "      <td>1</td>\n",
       "    </tr>\n",
       "    <tr>\n",
       "      <th>27</th>\n",
       "      <td>Москва ТЦ \"МЕГА Белая Дача II\"</td>\n",
       "      <td>27</td>\n",
       "      <td>Москва</td>\n",
       "      <td>1</td>\n",
       "      <td>1</td>\n",
       "    </tr>\n",
       "    <tr>\n",
       "      <th>28</th>\n",
       "      <td>Москва ТЦ \"МЕГА Теплый Стан\" II</td>\n",
       "      <td>28</td>\n",
       "      <td>Москва</td>\n",
       "      <td>1</td>\n",
       "      <td>1</td>\n",
       "    </tr>\n",
       "    <tr>\n",
       "      <th>29</th>\n",
       "      <td>Москва ТЦ \"Новый век\" (Новокосино)</td>\n",
       "      <td>29</td>\n",
       "      <td>Москва</td>\n",
       "      <td>1</td>\n",
       "      <td>1</td>\n",
       "    </tr>\n",
       "    <tr>\n",
       "      <th>30</th>\n",
       "      <td>Москва ТЦ \"Перловский\"</td>\n",
       "      <td>30</td>\n",
       "      <td>Москва</td>\n",
       "      <td>1</td>\n",
       "      <td>1</td>\n",
       "    </tr>\n",
       "    <tr>\n",
       "      <th>31</th>\n",
       "      <td>Москва ТЦ \"Семеновский\"</td>\n",
       "      <td>31</td>\n",
       "      <td>Москва</td>\n",
       "      <td>1</td>\n",
       "      <td>1</td>\n",
       "    </tr>\n",
       "    <tr>\n",
       "      <th>32</th>\n",
       "      <td>Москва ТЦ \"Серебряный Дом\"</td>\n",
       "      <td>32</td>\n",
       "      <td>Москва</td>\n",
       "      <td>1</td>\n",
       "      <td>1</td>\n",
       "    </tr>\n",
       "    <tr>\n",
       "      <th>33</th>\n",
       "      <td>Мытищи ТРК \"XL-3\"</td>\n",
       "      <td>33</td>\n",
       "      <td>Мытищи</td>\n",
       "      <td>0</td>\n",
       "      <td>0</td>\n",
       "    </tr>\n",
       "    <tr>\n",
       "      <th>34</th>\n",
       "      <td>Н.Новгород ТРЦ \"РИО\"</td>\n",
       "      <td>34</td>\n",
       "      <td>Н.Новгород</td>\n",
       "      <td>0</td>\n",
       "      <td>0</td>\n",
       "    </tr>\n",
       "    <tr>\n",
       "      <th>35</th>\n",
       "      <td>Н.Новгород ТРЦ \"Фантастика\"</td>\n",
       "      <td>35</td>\n",
       "      <td>Н.Новгород</td>\n",
       "      <td>0</td>\n",
       "      <td>0</td>\n",
       "    </tr>\n",
       "    <tr>\n",
       "      <th>36</th>\n",
       "      <td>Новосибирск ТРЦ \"Галерея Новосибирск\"</td>\n",
       "      <td>36</td>\n",
       "      <td>Новосибирск</td>\n",
       "      <td>0</td>\n",
       "      <td>0</td>\n",
       "    </tr>\n",
       "    <tr>\n",
       "      <th>37</th>\n",
       "      <td>Новосибирск ТЦ \"Мега\"</td>\n",
       "      <td>37</td>\n",
       "      <td>Новосибирск</td>\n",
       "      <td>1</td>\n",
       "      <td>0</td>\n",
       "    </tr>\n",
       "    <tr>\n",
       "      <th>38</th>\n",
       "      <td>Омск ТЦ \"Мега\"</td>\n",
       "      <td>38</td>\n",
       "      <td>Омск</td>\n",
       "      <td>1</td>\n",
       "      <td>0</td>\n",
       "    </tr>\n",
       "    <tr>\n",
       "      <th>39</th>\n",
       "      <td>РостовНаДону ТРК \"Мегацентр Горизонт\"</td>\n",
       "      <td>39</td>\n",
       "      <td>РостовНаДону</td>\n",
       "      <td>0</td>\n",
       "      <td>0</td>\n",
       "    </tr>\n",
       "    <tr>\n",
       "      <th>40</th>\n",
       "      <td>РостовНаДону ТРК \"Мегацентр Горизонт\" Островной</td>\n",
       "      <td>40</td>\n",
       "      <td>РостовНаДону</td>\n",
       "      <td>0</td>\n",
       "      <td>0</td>\n",
       "    </tr>\n",
       "    <tr>\n",
       "      <th>41</th>\n",
       "      <td>РостовНаДону ТЦ \"Мега\"</td>\n",
       "      <td>41</td>\n",
       "      <td>РостовНаДону</td>\n",
       "      <td>1</td>\n",
       "      <td>0</td>\n",
       "    </tr>\n",
       "    <tr>\n",
       "      <th>42</th>\n",
       "      <td>СПб ТК \"Невский Центр\"</td>\n",
       "      <td>42</td>\n",
       "      <td>СПб</td>\n",
       "      <td>0</td>\n",
       "      <td>0</td>\n",
       "    </tr>\n",
       "    <tr>\n",
       "      <th>43</th>\n",
       "      <td>СПб ТК \"Сенная\"</td>\n",
       "      <td>43</td>\n",
       "      <td>СПб</td>\n",
       "      <td>0</td>\n",
       "      <td>0</td>\n",
       "    </tr>\n",
       "    <tr>\n",
       "      <th>44</th>\n",
       "      <td>Самара ТЦ \"Мелодия\"</td>\n",
       "      <td>44</td>\n",
       "      <td>Самара</td>\n",
       "      <td>1</td>\n",
       "      <td>0</td>\n",
       "    </tr>\n",
       "    <tr>\n",
       "      <th>45</th>\n",
       "      <td>Самара ТЦ \"ПаркХаус\"</td>\n",
       "      <td>45</td>\n",
       "      <td>Самара</td>\n",
       "      <td>1</td>\n",
       "      <td>0</td>\n",
       "    </tr>\n",
       "    <tr>\n",
       "      <th>46</th>\n",
       "      <td>Сергиев Посад ТЦ \"7Я\"</td>\n",
       "      <td>46</td>\n",
       "      <td>Сергиев</td>\n",
       "      <td>1</td>\n",
       "      <td>0</td>\n",
       "    </tr>\n",
       "    <tr>\n",
       "      <th>47</th>\n",
       "      <td>Сургут ТРЦ \"Сити Молл\"</td>\n",
       "      <td>47</td>\n",
       "      <td>Сургут</td>\n",
       "      <td>0</td>\n",
       "      <td>0</td>\n",
       "    </tr>\n",
       "    <tr>\n",
       "      <th>48</th>\n",
       "      <td>Томск ТРЦ \"Изумрудный Город\"</td>\n",
       "      <td>48</td>\n",
       "      <td>Томск</td>\n",
       "      <td>0</td>\n",
       "      <td>0</td>\n",
       "    </tr>\n",
       "    <tr>\n",
       "      <th>49</th>\n",
       "      <td>Тюмень ТРЦ \"Кристалл\"</td>\n",
       "      <td>49</td>\n",
       "      <td>Тюмень</td>\n",
       "      <td>0</td>\n",
       "      <td>0</td>\n",
       "    </tr>\n",
       "    <tr>\n",
       "      <th>50</th>\n",
       "      <td>Тюмень ТЦ \"Гудвин\"</td>\n",
       "      <td>50</td>\n",
       "      <td>Тюмень</td>\n",
       "      <td>1</td>\n",
       "      <td>0</td>\n",
       "    </tr>\n",
       "    <tr>\n",
       "      <th>51</th>\n",
       "      <td>Тюмень ТЦ \"Зеленый Берег\"</td>\n",
       "      <td>51</td>\n",
       "      <td>Тюмень</td>\n",
       "      <td>1</td>\n",
       "      <td>0</td>\n",
       "    </tr>\n",
       "    <tr>\n",
       "      <th>52</th>\n",
       "      <td>Уфа ТК \"Центральный\"</td>\n",
       "      <td>52</td>\n",
       "      <td>Уфа</td>\n",
       "      <td>0</td>\n",
       "      <td>0</td>\n",
       "    </tr>\n",
       "    <tr>\n",
       "      <th>53</th>\n",
       "      <td>Уфа ТЦ \"Семья\" 2</td>\n",
       "      <td>53</td>\n",
       "      <td>Уфа</td>\n",
       "      <td>1</td>\n",
       "      <td>0</td>\n",
       "    </tr>\n",
       "    <tr>\n",
       "      <th>54</th>\n",
       "      <td>Химки ТЦ \"Мега\"</td>\n",
       "      <td>54</td>\n",
       "      <td>Химки</td>\n",
       "      <td>1</td>\n",
       "      <td>0</td>\n",
       "    </tr>\n",
       "    <tr>\n",
       "      <th>55</th>\n",
       "      <td>Цифровой склад 1С-Онлайн</td>\n",
       "      <td>55</td>\n",
       "      <td>Цифровой</td>\n",
       "      <td>0</td>\n",
       "      <td>0</td>\n",
       "    </tr>\n",
       "    <tr>\n",
       "      <th>56</th>\n",
       "      <td>Чехов ТРЦ \"Карнавал\"</td>\n",
       "      <td>56</td>\n",
       "      <td>Чехов</td>\n",
       "      <td>0</td>\n",
       "      <td>0</td>\n",
       "    </tr>\n",
       "    <tr>\n",
       "      <th>57</th>\n",
       "      <td>Якутск Орджоникидзе, 56</td>\n",
       "      <td>57</td>\n",
       "      <td>Якутск</td>\n",
       "      <td>0</td>\n",
       "      <td>0</td>\n",
       "    </tr>\n",
       "    <tr>\n",
       "      <th>58</th>\n",
       "      <td>Якутск ТЦ \"Центральный\"</td>\n",
       "      <td>58</td>\n",
       "      <td>Якутск</td>\n",
       "      <td>1</td>\n",
       "      <td>0</td>\n",
       "    </tr>\n",
       "    <tr>\n",
       "      <th>59</th>\n",
       "      <td>Ярославль ТЦ \"Альтаир\"</td>\n",
       "      <td>59</td>\n",
       "      <td>Ярославль</td>\n",
       "      <td>1</td>\n",
       "      <td>0</td>\n",
       "    </tr>\n",
       "  </tbody>\n",
       "</table>\n",
       "</div>"
      ],
      "text/plain": [
       "                                          shop_name  shop_id  \\\n",
       "0                     !Якутск Орджоникидзе, 56 фран        0   \n",
       "1                     !Якутск ТЦ \"Центральный\" фран        1   \n",
       "2                                  Адыгея ТЦ \"Мега\"        2   \n",
       "3                    Балашиха ТРК \"Октябрь-Киномир\"        3   \n",
       "4                          Волжский ТЦ \"Волга Молл\"        4   \n",
       "5                            Вологда ТРЦ \"Мармелад\"        5   \n",
       "6                        Воронеж (Плехановская, 13)        6   \n",
       "7                            Воронеж ТРЦ \"Максимир\"        7   \n",
       "8                      Воронеж ТРЦ Сити-Парк \"Град\"        8   \n",
       "9                                 Выездная Торговля        9   \n",
       "10                       Жуковский ул. Чкалова 39м?       10   \n",
       "11                       Жуковский ул. Чкалова 39м²       11   \n",
       "12                              Интернет-магазин ЧС       12   \n",
       "13                              Казань ТЦ \"Бехетле\"       13   \n",
       "14                          Казань ТЦ \"ПаркХаус\" II       14   \n",
       "15                             Калуга ТРЦ \"XXI век\"       15   \n",
       "16                                 Коломна ТЦ \"Рио\"       16   \n",
       "17                    Красноярск ТЦ \"Взлетка Плаза\"       17   \n",
       "18                             Красноярск ТЦ \"Июнь\"       18   \n",
       "19                            Курск ТЦ \"Пушкинский\"       19   \n",
       "20                              Москва \"Распродажа\"       20   \n",
       "21                           Москва МТРЦ \"Афи Молл\"       21   \n",
       "22                               Москва Магазин С21       22   \n",
       "23                 Москва ТК \"Буденовский\" (пав.А2)       23   \n",
       "24                 Москва ТК \"Буденовский\" (пав.К7)       24   \n",
       "25                              Москва ТРК \"Атриум\"       25   \n",
       "26                      Москва ТЦ \"Ареал\" (Беляево)       26   \n",
       "27                   Москва ТЦ \"МЕГА Белая Дача II\"       27   \n",
       "28                  Москва ТЦ \"МЕГА Теплый Стан\" II       28   \n",
       "29               Москва ТЦ \"Новый век\" (Новокосино)       29   \n",
       "30                           Москва ТЦ \"Перловский\"       30   \n",
       "31                          Москва ТЦ \"Семеновский\"       31   \n",
       "32                       Москва ТЦ \"Серебряный Дом\"       32   \n",
       "33                                Мытищи ТРК \"XL-3\"       33   \n",
       "34                             Н.Новгород ТРЦ \"РИО\"       34   \n",
       "35                      Н.Новгород ТРЦ \"Фантастика\"       35   \n",
       "36            Новосибирск ТРЦ \"Галерея Новосибирск\"       36   \n",
       "37                            Новосибирск ТЦ \"Мега\"       37   \n",
       "38                                   Омск ТЦ \"Мега\"       38   \n",
       "39            РостовНаДону ТРК \"Мегацентр Горизонт\"       39   \n",
       "40  РостовНаДону ТРК \"Мегацентр Горизонт\" Островной       40   \n",
       "41                           РостовНаДону ТЦ \"Мега\"       41   \n",
       "42                           СПб ТК \"Невский Центр\"       42   \n",
       "43                                  СПб ТК \"Сенная\"       43   \n",
       "44                              Самара ТЦ \"Мелодия\"       44   \n",
       "45                             Самара ТЦ \"ПаркХаус\"       45   \n",
       "46                            Сергиев Посад ТЦ \"7Я\"       46   \n",
       "47                           Сургут ТРЦ \"Сити Молл\"       47   \n",
       "48                     Томск ТРЦ \"Изумрудный Город\"       48   \n",
       "49                            Тюмень ТРЦ \"Кристалл\"       49   \n",
       "50                               Тюмень ТЦ \"Гудвин\"       50   \n",
       "51                        Тюмень ТЦ \"Зеленый Берег\"       51   \n",
       "52                             Уфа ТК \"Центральный\"       52   \n",
       "53                                 Уфа ТЦ \"Семья\" 2       53   \n",
       "54                                  Химки ТЦ \"Мега\"       54   \n",
       "55                         Цифровой склад 1С-Онлайн       55   \n",
       "56                             Чехов ТРЦ \"Карнавал\"       56   \n",
       "57                          Якутск Орджоникидзе, 56       57   \n",
       "58                          Якутск ТЦ \"Центральный\"       58   \n",
       "59                           Ярославль ТЦ \"Альтаир\"       59   \n",
       "\n",
       "                city  is_s_center  is_in_Moscow  \n",
       "0             Якутск            0             0  \n",
       "1             Якутск            1             0  \n",
       "2             Адыгея            1             0  \n",
       "3           Балашиха            0             0  \n",
       "4           Волжский            1             0  \n",
       "5            Вологда            0             0  \n",
       "6            Воронеж            0             0  \n",
       "7            Воронеж            0             0  \n",
       "8            Воронеж            0             0  \n",
       "9           Выездная            0             0  \n",
       "10         Жуковский            0             0  \n",
       "11         Жуковский            0             0  \n",
       "12  Интернет-магазин            0             0  \n",
       "13            Казань            1             0  \n",
       "14            Казань            1             0  \n",
       "15            Калуга            0             0  \n",
       "16           Коломна            1             0  \n",
       "17        Красноярск            1             0  \n",
       "18        Красноярск            1             0  \n",
       "19             Курск            1             0  \n",
       "20            Москва            0             1  \n",
       "21            Москва            0             1  \n",
       "22            Москва            0             1  \n",
       "23            Москва            0             1  \n",
       "24            Москва            0             1  \n",
       "25            Москва            0             1  \n",
       "26            Москва            1             1  \n",
       "27            Москва            1             1  \n",
       "28            Москва            1             1  \n",
       "29            Москва            1             1  \n",
       "30            Москва            1             1  \n",
       "31            Москва            1             1  \n",
       "32            Москва            1             1  \n",
       "33            Мытищи            0             0  \n",
       "34        Н.Новгород            0             0  \n",
       "35        Н.Новгород            0             0  \n",
       "36       Новосибирск            0             0  \n",
       "37       Новосибирск            1             0  \n",
       "38              Омск            1             0  \n",
       "39      РостовНаДону            0             0  \n",
       "40      РостовНаДону            0             0  \n",
       "41      РостовНаДону            1             0  \n",
       "42               СПб            0             0  \n",
       "43               СПб            0             0  \n",
       "44            Самара            1             0  \n",
       "45            Самара            1             0  \n",
       "46           Сергиев            1             0  \n",
       "47            Сургут            0             0  \n",
       "48             Томск            0             0  \n",
       "49            Тюмень            0             0  \n",
       "50            Тюмень            1             0  \n",
       "51            Тюмень            1             0  \n",
       "52               Уфа            0             0  \n",
       "53               Уфа            1             0  \n",
       "54             Химки            1             0  \n",
       "55          Цифровой            0             0  \n",
       "56             Чехов            0             0  \n",
       "57            Якутск            0             0  \n",
       "58            Якутск            1             0  \n",
       "59         Ярославль            1             0  "
      ]
     },
     "execution_count": 69,
     "metadata": {},
     "output_type": "execute_result"
    }
   ],
   "source": [
    "shops"
   ]
  },
  {
   "cell_type": "code",
   "execution_count": 70,
   "metadata": {},
   "outputs": [
    {
     "name": "stdout",
     "output_type": "stream",
     "text": [
      "Wall time: 6.01 s\n"
     ]
    }
   ],
   "source": [
    "%%time\n",
    "monthly_train = monthly_train.merge(shops[['shop_id', 'is_in_Moscow', 'city', 'is_s_center']], on='shop_id', how='left')\n",
    "monthly_train = monthly_train.merge(items[['item_id', 'item_category_id']], on='item_id', how='left')\n",
    "monthly_train = monthly_train.merge(items[['item_id', 'item_category_id']].groupby('item_category_id')['item_id'].count().reset_index()\\\n",
    ".rename(columns={'item_id':'item_count_per_category'}), on='item_category_id', how='left')"
   ]
  },
  {
   "cell_type": "code",
   "execution_count": 71,
   "metadata": {},
   "outputs": [
    {
     "data": {
      "text/html": [
       "<div>\n",
       "<style>\n",
       "    .dataframe thead tr:only-child th {\n",
       "        text-align: right;\n",
       "    }\n",
       "\n",
       "    .dataframe thead th {\n",
       "        text-align: left;\n",
       "    }\n",
       "\n",
       "    .dataframe tbody tr th {\n",
       "        vertical-align: top;\n",
       "    }\n",
       "</style>\n",
       "<table border=\"1\" class=\"dataframe\">\n",
       "  <thead>\n",
       "    <tr style=\"text-align: right;\">\n",
       "      <th></th>\n",
       "      <th>date_block_num</th>\n",
       "      <th>item_cnt_month</th>\n",
       "      <th>item_id</th>\n",
       "      <th>shop_id</th>\n",
       "      <th>target_lag_1</th>\n",
       "      <th>target_lag_2</th>\n",
       "      <th>target_lag_3</th>\n",
       "      <th>target_lag_4</th>\n",
       "      <th>target_lag_12</th>\n",
       "      <th>rolling_mean_target_2</th>\n",
       "      <th>...</th>\n",
       "      <th>rolling_mean_income_2</th>\n",
       "      <th>rolling_mean_income_3</th>\n",
       "      <th>rolling_mean_income_4</th>\n",
       "      <th>first_sale</th>\n",
       "      <th>next_month_holidays</th>\n",
       "      <th>is_in_Moscow</th>\n",
       "      <th>city</th>\n",
       "      <th>is_s_center</th>\n",
       "      <th>item_category_id</th>\n",
       "      <th>item_count_per_category</th>\n",
       "    </tr>\n",
       "  </thead>\n",
       "  <tbody>\n",
       "    <tr>\n",
       "      <th>4687305</th>\n",
       "      <td>12</td>\n",
       "      <td>4.0</td>\n",
       "      <td>14229</td>\n",
       "      <td>38</td>\n",
       "      <td>6.0</td>\n",
       "      <td>0.0</td>\n",
       "      <td>0.0</td>\n",
       "      <td>0.0</td>\n",
       "      <td>0.0</td>\n",
       "      <td>3.0</td>\n",
       "      <td>...</td>\n",
       "      <td>0.0</td>\n",
       "      <td>0.0</td>\n",
       "      <td>0.0</td>\n",
       "      <td>10</td>\n",
       "      <td>0</td>\n",
       "      <td>0</td>\n",
       "      <td>Омск</td>\n",
       "      <td>1</td>\n",
       "      <td>30</td>\n",
       "      <td>756</td>\n",
       "    </tr>\n",
       "    <tr>\n",
       "      <th>10812604</th>\n",
       "      <td>33</td>\n",
       "      <td>1.0</td>\n",
       "      <td>15785</td>\n",
       "      <td>44</td>\n",
       "      <td>0.0</td>\n",
       "      <td>0.0</td>\n",
       "      <td>1.0</td>\n",
       "      <td>0.0</td>\n",
       "      <td>0.0</td>\n",
       "      <td>0.0</td>\n",
       "      <td>...</td>\n",
       "      <td>0.0</td>\n",
       "      <td>0.0</td>\n",
       "      <td>0.0</td>\n",
       "      <td>23</td>\n",
       "      <td>0</td>\n",
       "      <td>0</td>\n",
       "      <td>Самара</td>\n",
       "      <td>1</td>\n",
       "      <td>38</td>\n",
       "      <td>310</td>\n",
       "    </tr>\n",
       "    <tr>\n",
       "      <th>7335261</th>\n",
       "      <td>20</td>\n",
       "      <td>0.0</td>\n",
       "      <td>12485</td>\n",
       "      <td>42</td>\n",
       "      <td>1.0</td>\n",
       "      <td>0.0</td>\n",
       "      <td>0.0</td>\n",
       "      <td>1.0</td>\n",
       "      <td>0.0</td>\n",
       "      <td>0.5</td>\n",
       "      <td>...</td>\n",
       "      <td>0.0</td>\n",
       "      <td>0.0</td>\n",
       "      <td>0.0</td>\n",
       "      <td>0</td>\n",
       "      <td>0</td>\n",
       "      <td>0</td>\n",
       "      <td>СПб</td>\n",
       "      <td>0</td>\n",
       "      <td>55</td>\n",
       "      <td>2365</td>\n",
       "    </tr>\n",
       "    <tr>\n",
       "      <th>9160489</th>\n",
       "      <td>26</td>\n",
       "      <td>0.0</td>\n",
       "      <td>4332</td>\n",
       "      <td>37</td>\n",
       "      <td>0.0</td>\n",
       "      <td>0.0</td>\n",
       "      <td>0.0</td>\n",
       "      <td>0.0</td>\n",
       "      <td>0.0</td>\n",
       "      <td>0.0</td>\n",
       "      <td>...</td>\n",
       "      <td>0.0</td>\n",
       "      <td>0.0</td>\n",
       "      <td>0.0</td>\n",
       "      <td>0</td>\n",
       "      <td>0</td>\n",
       "      <td>0</td>\n",
       "      <td>Новосибирск</td>\n",
       "      <td>1</td>\n",
       "      <td>30</td>\n",
       "      <td>756</td>\n",
       "    </tr>\n",
       "    <tr>\n",
       "      <th>1506838</th>\n",
       "      <td>4</td>\n",
       "      <td>0.0</td>\n",
       "      <td>4579</td>\n",
       "      <td>4</td>\n",
       "      <td>0.0</td>\n",
       "      <td>0.0</td>\n",
       "      <td>0.0</td>\n",
       "      <td>0.0</td>\n",
       "      <td>0.0</td>\n",
       "      <td>0.0</td>\n",
       "      <td>...</td>\n",
       "      <td>0.0</td>\n",
       "      <td>0.0</td>\n",
       "      <td>0.0</td>\n",
       "      <td>0</td>\n",
       "      <td>0</td>\n",
       "      <td>0</td>\n",
       "      <td>Волжский</td>\n",
       "      <td>1</td>\n",
       "      <td>55</td>\n",
       "      <td>2365</td>\n",
       "    </tr>\n",
       "  </tbody>\n",
       "</table>\n",
       "<p>5 rows × 39 columns</p>\n",
       "</div>"
      ],
      "text/plain": [
       "          date_block_num  item_cnt_month  item_id  shop_id  target_lag_1  \\\n",
       "4687305               12             4.0    14229       38           6.0   \n",
       "10812604              33             1.0    15785       44           0.0   \n",
       "7335261               20             0.0    12485       42           1.0   \n",
       "9160489               26             0.0     4332       37           0.0   \n",
       "1506838                4             0.0     4579        4           0.0   \n",
       "\n",
       "          target_lag_2  target_lag_3  target_lag_4  target_lag_12  \\\n",
       "4687305            0.0           0.0           0.0            0.0   \n",
       "10812604           0.0           1.0           0.0            0.0   \n",
       "7335261            0.0           0.0           1.0            0.0   \n",
       "9160489            0.0           0.0           0.0            0.0   \n",
       "1506838            0.0           0.0           0.0            0.0   \n",
       "\n",
       "          rolling_mean_target_2           ...             \\\n",
       "4687305                     3.0           ...              \n",
       "10812604                    0.0           ...              \n",
       "7335261                     0.5           ...              \n",
       "9160489                     0.0           ...              \n",
       "1506838                     0.0           ...              \n",
       "\n",
       "          rolling_mean_income_2  rolling_mean_income_3  rolling_mean_income_4  \\\n",
       "4687305                     0.0                    0.0                    0.0   \n",
       "10812604                    0.0                    0.0                    0.0   \n",
       "7335261                     0.0                    0.0                    0.0   \n",
       "9160489                     0.0                    0.0                    0.0   \n",
       "1506838                     0.0                    0.0                    0.0   \n",
       "\n",
       "          first_sale  next_month_holidays  is_in_Moscow         city  \\\n",
       "4687305           10                    0             0         Омск   \n",
       "10812604          23                    0             0       Самара   \n",
       "7335261            0                    0             0          СПб   \n",
       "9160489            0                    0             0  Новосибирск   \n",
       "1506838            0                    0             0     Волжский   \n",
       "\n",
       "          is_s_center  item_category_id  item_count_per_category  \n",
       "4687305             1                30                      756  \n",
       "10812604            1                38                      310  \n",
       "7335261             0                55                     2365  \n",
       "9160489             1                30                      756  \n",
       "1506838             1                55                     2365  \n",
       "\n",
       "[5 rows x 39 columns]"
      ]
     },
     "execution_count": 71,
     "metadata": {},
     "output_type": "execute_result"
    }
   ],
   "source": [
    "monthly_train.sample(5)"
   ]
  },
  {
   "cell_type": "markdown",
   "metadata": {},
   "source": [
    "<h1>Text features</h1>"
   ]
  },
  {
   "cell_type": "markdown",
   "metadata": {},
   "source": [
    "<h3>Here I extract some features from texts, I haven't used lemmatization or stemming for this, I find it useless in that case. For creating features I join item name, shop name and item category name to be the one text. Then I tokenize created texts and join them back (for deleting useless symbols etc.)<br>Then I use TfidfVectorizer and n-grams with range [2, 3].<br>To create features from that I use TruncatedSVD with 30 components, I haven't time unfortunately to check which is optimal amount.</h3>"
   ]
  },
  {
   "cell_type": "code",
   "execution_count": 72,
   "metadata": {
    "collapsed": true
   },
   "outputs": [],
   "source": [
    "from data_preprocessing.text import tokenize_sentence, tokenize_corpus, join_tokenized_sentences"
   ]
  },
  {
   "cell_type": "code",
   "execution_count": 73,
   "metadata": {
    "collapsed": true
   },
   "outputs": [],
   "source": [
    "def extract_features_from_text(df):\n",
    "    print('Making corpuses...')\n",
    "    corpus_train = df[(df.date_block_num < 33) & (df.date_block_num != 34)]['text_united'].values\n",
    "    corpus_val = df[(df.date_block_num == 33)]['text_united'].values\n",
    "    corpus_test = df[(df.date_block_num == 34)]['text_united'].values\n",
    "    \n",
    "    print('Tokenizing and joining corpuses...')\n",
    "    sample_train = join_tokenized_sentences(tokenize_corpus(corpus_train))\n",
    "    sample_val = join_tokenized_sentences(tokenize_corpus(corpus_val))\n",
    "    sample_test = join_tokenized_sentences(tokenize_corpus(corpus_test))\n",
    "    \n",
    "    print('Fitting vectorizer...')\n",
    "    vectorizer = TfidfVectorizer(lowercase=False, analyzer='char', ngram_range=[2, 3])\n",
    "    vectorizer.fit(sample_train)\n",
    "    \n",
    "    print('Transforming...')\n",
    "    train_texts = vectorizer.transform(sample_train)\n",
    "    val_texts = vectorizer.transform(sample_val)\n",
    "    test_texts = vectorizer.transform(sample_test)\n",
    "    \n",
    "    print('Fitting SVD...')\n",
    "    svd = TruncatedSVD(n_components=30, random_state=0)\n",
    "    svd.fit(train_texts)\n",
    "    print(f'Explained variance: {svd.explained_variance_ratio_.sum()}')\n",
    "    \n",
    "    print('Transforming...')\n",
    "    train_text_features = svd.transform(train_texts)\n",
    "    val_text_features = svd.transform(val_texts)\n",
    "    test_text_features = svd.transform(test_texts)\n",
    "    \n",
    "    text_features = np.vstack([train_text_features, val_text_features, test_text_features])\n",
    "    \n",
    "    text_features = pd.DataFrame(text_features, columns=[f'text_feature_{i}' for i in range(text_features.shape[1])])\n",
    "    \n",
    "    return text_features"
   ]
  },
  {
   "cell_type": "code",
   "execution_count": 74,
   "metadata": {},
   "outputs": [
    {
     "name": "stdout",
     "output_type": "stream",
     "text": [
      "Wall time: 11 s\n"
     ]
    }
   ],
   "source": [
    "%%time\n",
    "text = monthly_train.merge(shops[['shop_name', 'shop_id']], on='shop_id', how='left')\n",
    "items = items.merge(item_categories, on='item_category_id', how='left')\n",
    "text = text.merge(items[['item_name', 'item_id', 'item_category_name']], on='item_id', how='left')\n",
    "\n",
    "text = text[['date_block_num', 'shop_id', 'item_id', 'item_cnt_month', 'shop_name', 'item_name', 'item_category_name']]\n",
    "text['text_united'] = text['shop_name'] + ' ' + text['item_name'] + ' ' + text['item_category_name']"
   ]
  },
  {
   "cell_type": "code",
   "execution_count": 75,
   "metadata": {},
   "outputs": [
    {
     "name": "stdout",
     "output_type": "stream",
     "text": [
      "Making corpuses...\n",
      "Tokenizing and joining corpuses...\n",
      "Fitting vectorizer...\n",
      "Transforming...\n",
      "Fitting SVD...\n",
      "Explained variance: 0.2629212113146042\n",
      "Transforming...\n",
      "Wall time: 33min 41s\n"
     ]
    }
   ],
   "source": [
    "%%time\n",
    "text_features = extract_features_from_text(text)"
   ]
  },
  {
   "cell_type": "code",
   "execution_count": 76,
   "metadata": {
    "collapsed": true
   },
   "outputs": [],
   "source": [
    "monthly_train = pd.concat([monthly_train, text_features], axis=1)"
   ]
  },
  {
   "cell_type": "code",
   "execution_count": 77,
   "metadata": {},
   "outputs": [
    {
     "data": {
      "text/plain": [
       "7"
      ]
     },
     "execution_count": 77,
     "metadata": {},
     "output_type": "execute_result"
    }
   ],
   "source": [
    "del text_features, text\n",
    "gc.collect()"
   ]
  },
  {
   "cell_type": "markdown",
   "metadata": {},
   "source": [
    "<h1>Categorical combinations</h1>"
   ]
  },
  {
   "cell_type": "markdown",
   "metadata": {},
   "source": [
    "<h3>Categorical features combinations, I could do more, but didn't have enough time</h3>"
   ]
  },
  {
   "cell_type": "code",
   "execution_count": 78,
   "metadata": {},
   "outputs": [
    {
     "name": "stdout",
     "output_type": "stream",
     "text": [
      "Wall time: 29 s\n"
     ]
    }
   ],
   "source": [
    "%%time\n",
    "monthly_train['item_shop_combination'] = monthly_train['item_id'].apply(str) + '_' + monthly_train['shop_id'].apply(str)\n",
    "\n",
    "monthly_train['item_category_combination'] = monthly_train['item_id'].apply(str) + '_'\\\n",
    "+ monthly_train['item_category_id'].apply(str)\n",
    "\n",
    "monthly_train['item_shop_category_combination'] = monthly_train['item_id'].apply(str) \\\n",
    "+ '_' + monthly_train['shop_id'].apply(str) + '_' + monthly_train['item_category_id'].apply(str)\n",
    "\n",
    "monthly_train['category_item_count_combination'] = monthly_train['item_category_id'].apply(str) + '_'\\\n",
    "+ monthly_train['item_count_per_category'].apply(str)\n",
    "\n",
    "monthly_train['holidays_in_moscow'] = monthly_train['next_month_holidays'].apply(str) + '_'\\\n",
    "+ monthly_train['is_in_Moscow'].apply(str)\n",
    "\n",
    "monthly_train['shop_city'] = monthly_train['shop_id'].apply(str) + '_'\\\n",
    "+ monthly_train['city'].apply(str)"
   ]
  },
  {
   "cell_type": "code",
   "execution_count": 79,
   "metadata": {},
   "outputs": [
    {
     "data": {
      "text/html": [
       "<div>\n",
       "<style>\n",
       "    .dataframe thead tr:only-child th {\n",
       "        text-align: right;\n",
       "    }\n",
       "\n",
       "    .dataframe thead th {\n",
       "        text-align: left;\n",
       "    }\n",
       "\n",
       "    .dataframe tbody tr th {\n",
       "        vertical-align: top;\n",
       "    }\n",
       "</style>\n",
       "<table border=\"1\" class=\"dataframe\">\n",
       "  <thead>\n",
       "    <tr style=\"text-align: right;\">\n",
       "      <th></th>\n",
       "      <th>date_block_num</th>\n",
       "      <th>item_cnt_month</th>\n",
       "      <th>item_id</th>\n",
       "      <th>shop_id</th>\n",
       "      <th>target_lag_1</th>\n",
       "      <th>target_lag_2</th>\n",
       "      <th>target_lag_3</th>\n",
       "      <th>target_lag_4</th>\n",
       "      <th>target_lag_12</th>\n",
       "      <th>rolling_mean_target_2</th>\n",
       "      <th>...</th>\n",
       "      <th>text_feature_26</th>\n",
       "      <th>text_feature_27</th>\n",
       "      <th>text_feature_28</th>\n",
       "      <th>text_feature_29</th>\n",
       "      <th>item_shop_combination</th>\n",
       "      <th>item_category_combination</th>\n",
       "      <th>item_shop_category_combination</th>\n",
       "      <th>category_item_count_combination</th>\n",
       "      <th>holidays_in_moscow</th>\n",
       "      <th>shop_city</th>\n",
       "    </tr>\n",
       "  </thead>\n",
       "  <tbody>\n",
       "    <tr>\n",
       "      <th>2102233</th>\n",
       "      <td>5</td>\n",
       "      <td>0.0</td>\n",
       "      <td>3388</td>\n",
       "      <td>38</td>\n",
       "      <td>0.0</td>\n",
       "      <td>0.0</td>\n",
       "      <td>0.0</td>\n",
       "      <td>0.0</td>\n",
       "      <td>0.0</td>\n",
       "      <td>0.0</td>\n",
       "      <td>...</td>\n",
       "      <td>0.075449</td>\n",
       "      <td>0.024629</td>\n",
       "      <td>0.012077</td>\n",
       "      <td>-0.015903</td>\n",
       "      <td>3388_38</td>\n",
       "      <td>3388_55</td>\n",
       "      <td>3388_38_55</td>\n",
       "      <td>55_2365</td>\n",
       "      <td>0_0</td>\n",
       "      <td>38_Омск</td>\n",
       "    </tr>\n",
       "    <tr>\n",
       "      <th>3631307</th>\n",
       "      <td>9</td>\n",
       "      <td>0.0</td>\n",
       "      <td>7672</td>\n",
       "      <td>46</td>\n",
       "      <td>0.0</td>\n",
       "      <td>0.0</td>\n",
       "      <td>0.0</td>\n",
       "      <td>0.0</td>\n",
       "      <td>0.0</td>\n",
       "      <td>0.0</td>\n",
       "      <td>...</td>\n",
       "      <td>-0.054724</td>\n",
       "      <td>0.250050</td>\n",
       "      <td>-0.060436</td>\n",
       "      <td>-0.037764</td>\n",
       "      <td>7672_46</td>\n",
       "      <td>7672_55</td>\n",
       "      <td>7672_46_55</td>\n",
       "      <td>55_2365</td>\n",
       "      <td>0_0</td>\n",
       "      <td>46_Сергиев</td>\n",
       "    </tr>\n",
       "    <tr>\n",
       "      <th>2890020</th>\n",
       "      <td>7</td>\n",
       "      <td>0.0</td>\n",
       "      <td>3527</td>\n",
       "      <td>44</td>\n",
       "      <td>0.0</td>\n",
       "      <td>0.0</td>\n",
       "      <td>0.0</td>\n",
       "      <td>1.0</td>\n",
       "      <td>0.0</td>\n",
       "      <td>0.0</td>\n",
       "      <td>...</td>\n",
       "      <td>0.014268</td>\n",
       "      <td>-0.009725</td>\n",
       "      <td>-0.121781</td>\n",
       "      <td>-0.023631</td>\n",
       "      <td>3527_44</td>\n",
       "      <td>3527_77</td>\n",
       "      <td>3527_44_77</td>\n",
       "      <td>77_220</td>\n",
       "      <td>0_0</td>\n",
       "      <td>44_Самара</td>\n",
       "    </tr>\n",
       "    <tr>\n",
       "      <th>5946837</th>\n",
       "      <td>16</td>\n",
       "      <td>0.0</td>\n",
       "      <td>16737</td>\n",
       "      <td>24</td>\n",
       "      <td>0.0</td>\n",
       "      <td>0.0</td>\n",
       "      <td>0.0</td>\n",
       "      <td>0.0</td>\n",
       "      <td>4.0</td>\n",
       "      <td>0.0</td>\n",
       "      <td>...</td>\n",
       "      <td>-0.128729</td>\n",
       "      <td>0.048539</td>\n",
       "      <td>-0.025562</td>\n",
       "      <td>-0.091178</td>\n",
       "      <td>16737_24</td>\n",
       "      <td>16737_37</td>\n",
       "      <td>16737_24_37</td>\n",
       "      <td>37_1780</td>\n",
       "      <td>0_1</td>\n",
       "      <td>24_Москва</td>\n",
       "    </tr>\n",
       "    <tr>\n",
       "      <th>9767819</th>\n",
       "      <td>29</td>\n",
       "      <td>0.0</td>\n",
       "      <td>9151</td>\n",
       "      <td>2</td>\n",
       "      <td>0.0</td>\n",
       "      <td>0.0</td>\n",
       "      <td>0.0</td>\n",
       "      <td>0.0</td>\n",
       "      <td>0.0</td>\n",
       "      <td>0.0</td>\n",
       "      <td>...</td>\n",
       "      <td>0.130457</td>\n",
       "      <td>0.043093</td>\n",
       "      <td>-0.024165</td>\n",
       "      <td>-0.006931</td>\n",
       "      <td>9151_2</td>\n",
       "      <td>9151_40</td>\n",
       "      <td>9151_2_40</td>\n",
       "      <td>40_5035</td>\n",
       "      <td>0_0</td>\n",
       "      <td>2_Адыгея</td>\n",
       "    </tr>\n",
       "  </tbody>\n",
       "</table>\n",
       "<p>5 rows × 75 columns</p>\n",
       "</div>"
      ],
      "text/plain": [
       "         date_block_num  item_cnt_month  item_id  shop_id  target_lag_1  \\\n",
       "2102233               5             0.0     3388       38           0.0   \n",
       "3631307               9             0.0     7672       46           0.0   \n",
       "2890020               7             0.0     3527       44           0.0   \n",
       "5946837              16             0.0    16737       24           0.0   \n",
       "9767819              29             0.0     9151        2           0.0   \n",
       "\n",
       "         target_lag_2  target_lag_3  target_lag_4  target_lag_12  \\\n",
       "2102233           0.0           0.0           0.0            0.0   \n",
       "3631307           0.0           0.0           0.0            0.0   \n",
       "2890020           0.0           0.0           1.0            0.0   \n",
       "5946837           0.0           0.0           0.0            4.0   \n",
       "9767819           0.0           0.0           0.0            0.0   \n",
       "\n",
       "         rolling_mean_target_2     ...      text_feature_26  text_feature_27  \\\n",
       "2102233                    0.0     ...             0.075449         0.024629   \n",
       "3631307                    0.0     ...            -0.054724         0.250050   \n",
       "2890020                    0.0     ...             0.014268        -0.009725   \n",
       "5946837                    0.0     ...            -0.128729         0.048539   \n",
       "9767819                    0.0     ...             0.130457         0.043093   \n",
       "\n",
       "         text_feature_28  text_feature_29  item_shop_combination  \\\n",
       "2102233         0.012077        -0.015903                3388_38   \n",
       "3631307        -0.060436        -0.037764                7672_46   \n",
       "2890020        -0.121781        -0.023631                3527_44   \n",
       "5946837        -0.025562        -0.091178               16737_24   \n",
       "9767819        -0.024165        -0.006931                 9151_2   \n",
       "\n",
       "         item_category_combination  item_shop_category_combination  \\\n",
       "2102233                    3388_55                      3388_38_55   \n",
       "3631307                    7672_55                      7672_46_55   \n",
       "2890020                    3527_77                      3527_44_77   \n",
       "5946837                   16737_37                     16737_24_37   \n",
       "9767819                    9151_40                       9151_2_40   \n",
       "\n",
       "         category_item_count_combination  holidays_in_moscow   shop_city  \n",
       "2102233                          55_2365                 0_0     38_Омск  \n",
       "3631307                          55_2365                 0_0  46_Сергиев  \n",
       "2890020                           77_220                 0_0   44_Самара  \n",
       "5946837                          37_1780                 0_1   24_Москва  \n",
       "9767819                          40_5035                 0_0    2_Адыгея  \n",
       "\n",
       "[5 rows x 75 columns]"
      ]
     },
     "execution_count": 79,
     "metadata": {},
     "output_type": "execute_result"
    }
   ],
   "source": [
    "monthly_train.sample(5)"
   ]
  },
  {
   "cell_type": "code",
   "execution_count": 80,
   "metadata": {
    "collapsed": true
   },
   "outputs": [],
   "source": [
    "combinations_list = ['item_shop_combination',\n",
    "                     'item_category_combination',\n",
    "                     'item_shop_category_combination',\n",
    "                     'category_item_count_combination',\n",
    "                     'holidays_in_moscow',\n",
    "                     'shop_city']"
   ]
  },
  {
   "cell_type": "code",
   "execution_count": 81,
   "metadata": {
    "collapsed": true
   },
   "outputs": [],
   "source": [
    "monthly_train = monthly_train.fillna(0)"
   ]
  },
  {
   "cell_type": "markdown",
   "metadata": {},
   "source": [
    "<h1>Mean Encodings</h1>"
   ]
  },
  {
   "cell_type": "markdown",
   "metadata": {},
   "source": [
    "<h3>Here I use mean encoding with expanding mean for each categorical feature except binary ones</h3>"
   ]
  },
  {
   "cell_type": "code",
   "execution_count": 82,
   "metadata": {
    "collapsed": true
   },
   "outputs": [],
   "source": [
    "monthly_train['item_cnt_month'] = monthly_train.item_cnt_month.astype(np.float64) # float16 do some infinite values"
   ]
  },
  {
   "cell_type": "code",
   "execution_count": 83,
   "metadata": {
    "collapsed": true
   },
   "outputs": [],
   "source": [
    "from feature_engineering.encodings import encode_with_expanding_mean"
   ]
  },
  {
   "cell_type": "code",
   "execution_count": 84,
   "metadata": {},
   "outputs": [
    {
     "name": "stdout",
     "output_type": "stream",
     "text": [
      "Wall time: 44.3 s\n"
     ]
    }
   ],
   "source": [
    "%%time\n",
    "monthly_train = encode_with_expanding_mean(monthly_train, 'item_id', 'item_cnt_month', 0.3343)\n",
    "monthly_train = encode_with_expanding_mean(monthly_train, 'shop_id', 'item_cnt_month', 0.3343)\n",
    "monthly_train = encode_with_expanding_mean(monthly_train, 'item_count_per_category', 'item_cnt_month', 0.3343)\n",
    "monthly_train = encode_with_expanding_mean(monthly_train, 'city', 'item_cnt_month', 0.3343)\n",
    "\n",
    "\n",
    "monthly_train = encode_with_expanding_mean(monthly_train, 'item_shop_combination', 'item_cnt_month', 0.3343)\n",
    "monthly_train = encode_with_expanding_mean(monthly_train, 'item_category_combination', 'item_cnt_month', 0.3343)\n",
    "monthly_train = encode_with_expanding_mean(monthly_train, 'item_shop_category_combination', 'item_cnt_month', 0.3343)\n",
    "monthly_train = encode_with_expanding_mean(monthly_train, 'category_item_count_combination', 'item_cnt_month', 0.3343)\n",
    "monthly_train = encode_with_expanding_mean(monthly_train, 'holidays_in_moscow', 'item_cnt_month', 0.3343)\n",
    "monthly_train = encode_with_expanding_mean(monthly_train, 'shop_city', 'item_cnt_month', 0.3343)"
   ]
  },
  {
   "cell_type": "code",
   "execution_count": 85,
   "metadata": {},
   "outputs": [
    {
     "data": {
      "text/html": [
       "<div>\n",
       "<style>\n",
       "    .dataframe thead tr:only-child th {\n",
       "        text-align: right;\n",
       "    }\n",
       "\n",
       "    .dataframe thead th {\n",
       "        text-align: left;\n",
       "    }\n",
       "\n",
       "    .dataframe tbody tr th {\n",
       "        vertical-align: top;\n",
       "    }\n",
       "</style>\n",
       "<table border=\"1\" class=\"dataframe\">\n",
       "  <thead>\n",
       "    <tr style=\"text-align: right;\">\n",
       "      <th></th>\n",
       "      <th>date_block_num</th>\n",
       "      <th>item_cnt_month</th>\n",
       "      <th>item_id</th>\n",
       "      <th>shop_id</th>\n",
       "      <th>target_lag_1</th>\n",
       "      <th>target_lag_2</th>\n",
       "      <th>target_lag_3</th>\n",
       "      <th>target_lag_4</th>\n",
       "      <th>target_lag_12</th>\n",
       "      <th>rolling_mean_target_2</th>\n",
       "      <th>...</th>\n",
       "      <th>item_id_target_enc</th>\n",
       "      <th>shop_id_target_enc</th>\n",
       "      <th>item_count_per_category_target_enc</th>\n",
       "      <th>city_target_enc</th>\n",
       "      <th>item_shop_combination_target_enc</th>\n",
       "      <th>item_category_combination_target_enc</th>\n",
       "      <th>item_shop_category_combination_target_enc</th>\n",
       "      <th>category_item_count_combination_target_enc</th>\n",
       "      <th>holidays_in_moscow_target_enc</th>\n",
       "      <th>shop_city_target_enc</th>\n",
       "    </tr>\n",
       "  </thead>\n",
       "  <tbody>\n",
       "    <tr>\n",
       "      <th>3851323</th>\n",
       "      <td>10</td>\n",
       "      <td>0.0</td>\n",
       "      <td>12998</td>\n",
       "      <td>21</td>\n",
       "      <td>0.0</td>\n",
       "      <td>0.0</td>\n",
       "      <td>0.0</td>\n",
       "      <td>0.0</td>\n",
       "      <td>0.0</td>\n",
       "      <td>0.0</td>\n",
       "      <td>...</td>\n",
       "      <td>0.029024</td>\n",
       "      <td>0.239336</td>\n",
       "      <td>0.256725</td>\n",
       "      <td>0.493537</td>\n",
       "      <td>0.0</td>\n",
       "      <td>0.029024</td>\n",
       "      <td>0.0</td>\n",
       "      <td>0.256725</td>\n",
       "      <td>0.501856</td>\n",
       "      <td>0.239336</td>\n",
       "    </tr>\n",
       "    <tr>\n",
       "      <th>4294175</th>\n",
       "      <td>11</td>\n",
       "      <td>0.0</td>\n",
       "      <td>4889</td>\n",
       "      <td>31</td>\n",
       "      <td>0.0</td>\n",
       "      <td>2.0</td>\n",
       "      <td>1.0</td>\n",
       "      <td>0.0</td>\n",
       "      <td>0.0</td>\n",
       "      <td>1.0</td>\n",
       "      <td>...</td>\n",
       "      <td>0.398406</td>\n",
       "      <td>1.311067</td>\n",
       "      <td>0.663804</td>\n",
       "      <td>0.513705</td>\n",
       "      <td>0.8</td>\n",
       "      <td>0.398406</td>\n",
       "      <td>0.8</td>\n",
       "      <td>0.663804</td>\n",
       "      <td>0.536030</td>\n",
       "      <td>1.311067</td>\n",
       "    </tr>\n",
       "    <tr>\n",
       "      <th>6085500</th>\n",
       "      <td>16</td>\n",
       "      <td>1.0</td>\n",
       "      <td>11607</td>\n",
       "      <td>49</td>\n",
       "      <td>0.0</td>\n",
       "      <td>0.0</td>\n",
       "      <td>0.0</td>\n",
       "      <td>0.0</td>\n",
       "      <td>0.0</td>\n",
       "      <td>0.0</td>\n",
       "      <td>...</td>\n",
       "      <td>0.294955</td>\n",
       "      <td>0.082694</td>\n",
       "      <td>0.190449</td>\n",
       "      <td>0.300445</td>\n",
       "      <td>0.0</td>\n",
       "      <td>0.294955</td>\n",
       "      <td>0.0</td>\n",
       "      <td>0.190449</td>\n",
       "      <td>0.284000</td>\n",
       "      <td>0.082694</td>\n",
       "    </tr>\n",
       "    <tr>\n",
       "      <th>990703</th>\n",
       "      <td>2</td>\n",
       "      <td>1.0</td>\n",
       "      <td>3738</td>\n",
       "      <td>41</td>\n",
       "      <td>0.0</td>\n",
       "      <td>0.0</td>\n",
       "      <td>0.0</td>\n",
       "      <td>0.0</td>\n",
       "      <td>0.0</td>\n",
       "      <td>0.0</td>\n",
       "      <td>...</td>\n",
       "      <td>1.500000</td>\n",
       "      <td>0.246478</td>\n",
       "      <td>0.951534</td>\n",
       "      <td>0.246478</td>\n",
       "      <td>0.0</td>\n",
       "      <td>1.500000</td>\n",
       "      <td>0.0</td>\n",
       "      <td>0.951534</td>\n",
       "      <td>0.294159</td>\n",
       "      <td>0.246478</td>\n",
       "    </tr>\n",
       "    <tr>\n",
       "      <th>7955469</th>\n",
       "      <td>22</td>\n",
       "      <td>0.0</td>\n",
       "      <td>6549</td>\n",
       "      <td>39</td>\n",
       "      <td>0.0</td>\n",
       "      <td>0.0</td>\n",
       "      <td>0.0</td>\n",
       "      <td>0.0</td>\n",
       "      <td>0.0</td>\n",
       "      <td>0.0</td>\n",
       "      <td>...</td>\n",
       "      <td>0.093805</td>\n",
       "      <td>0.117647</td>\n",
       "      <td>0.235899</td>\n",
       "      <td>0.173339</td>\n",
       "      <td>0.0</td>\n",
       "      <td>0.093805</td>\n",
       "      <td>0.0</td>\n",
       "      <td>0.235899</td>\n",
       "      <td>0.277235</td>\n",
       "      <td>0.117647</td>\n",
       "    </tr>\n",
       "  </tbody>\n",
       "</table>\n",
       "<p>5 rows × 85 columns</p>\n",
       "</div>"
      ],
      "text/plain": [
       "         date_block_num  item_cnt_month  item_id  shop_id  target_lag_1  \\\n",
       "3851323              10             0.0    12998       21           0.0   \n",
       "4294175              11             0.0     4889       31           0.0   \n",
       "6085500              16             1.0    11607       49           0.0   \n",
       "990703                2             1.0     3738       41           0.0   \n",
       "7955469              22             0.0     6549       39           0.0   \n",
       "\n",
       "         target_lag_2  target_lag_3  target_lag_4  target_lag_12  \\\n",
       "3851323           0.0           0.0           0.0            0.0   \n",
       "4294175           2.0           1.0           0.0            0.0   \n",
       "6085500           0.0           0.0           0.0            0.0   \n",
       "990703            0.0           0.0           0.0            0.0   \n",
       "7955469           0.0           0.0           0.0            0.0   \n",
       "\n",
       "         rolling_mean_target_2          ...           item_id_target_enc  \\\n",
       "3851323                    0.0          ...                     0.029024   \n",
       "4294175                    1.0          ...                     0.398406   \n",
       "6085500                    0.0          ...                     0.294955   \n",
       "990703                     0.0          ...                     1.500000   \n",
       "7955469                    0.0          ...                     0.093805   \n",
       "\n",
       "         shop_id_target_enc  item_count_per_category_target_enc  \\\n",
       "3851323            0.239336                            0.256725   \n",
       "4294175            1.311067                            0.663804   \n",
       "6085500            0.082694                            0.190449   \n",
       "990703             0.246478                            0.951534   \n",
       "7955469            0.117647                            0.235899   \n",
       "\n",
       "         city_target_enc  item_shop_combination_target_enc  \\\n",
       "3851323         0.493537                               0.0   \n",
       "4294175         0.513705                               0.8   \n",
       "6085500         0.300445                               0.0   \n",
       "990703          0.246478                               0.0   \n",
       "7955469         0.173339                               0.0   \n",
       "\n",
       "         item_category_combination_target_enc  \\\n",
       "3851323                              0.029024   \n",
       "4294175                              0.398406   \n",
       "6085500                              0.294955   \n",
       "990703                               1.500000   \n",
       "7955469                              0.093805   \n",
       "\n",
       "         item_shop_category_combination_target_enc  \\\n",
       "3851323                                        0.0   \n",
       "4294175                                        0.8   \n",
       "6085500                                        0.0   \n",
       "990703                                         0.0   \n",
       "7955469                                        0.0   \n",
       "\n",
       "         category_item_count_combination_target_enc  \\\n",
       "3851323                                    0.256725   \n",
       "4294175                                    0.663804   \n",
       "6085500                                    0.190449   \n",
       "990703                                     0.951534   \n",
       "7955469                                    0.235899   \n",
       "\n",
       "         holidays_in_moscow_target_enc  shop_city_target_enc  \n",
       "3851323                       0.501856              0.239336  \n",
       "4294175                       0.536030              1.311067  \n",
       "6085500                       0.284000              0.082694  \n",
       "990703                        0.294159              0.246478  \n",
       "7955469                       0.277235              0.117647  \n",
       "\n",
       "[5 rows x 85 columns]"
      ]
     },
     "execution_count": 85,
     "metadata": {},
     "output_type": "execute_result"
    }
   ],
   "source": [
    "monthly_train.sample(5)"
   ]
  },
  {
   "cell_type": "markdown",
   "metadata": {},
   "source": [
    "<h1>Feature selection</h1>"
   ]
  },
  {
   "cell_type": "markdown",
   "metadata": {},
   "source": [
    "<h3>With lots of tries I've created that list</h3>"
   ]
  },
  {
   "cell_type": "code",
   "execution_count": 86,
   "metadata": {
    "collapsed": true
   },
   "outputs": [],
   "source": [
    "columns_to_drop = ['item_cnt_month', 'city']\n",
    "columns_to_drop += combinations_list\n",
    "\n",
    "columns_to_drop += ['rolling_std_target_2',\n",
    "                    'target_lag_3',\n",
    "                    'rolling_mean_target_3',\n",
    "                    'mean_item_price_lag_2',\n",
    "                    'target_lag_4',\n",
    "                    'target_lag_12',\n",
    "                    'income_lag_4',\n",
    "                    'mean_item_price_lag_4',\n",
    "                    'income_lag_2',\n",
    "                    'income_lag_3',\n",
    "                    'mean_item_price_lag_3',\n",
    "                    'rolling_mean_income_2',\n",
    "                    'rolling_std_target_4',\n",
    "                    'rolling_mean_mean_item_price_2',\n",
    "                    'rolling_std_target_3',\n",
    "                    'rolling_mean_target_4',\n",
    "                    'mean_item_price_lag_12',\n",
    "                    'rolling_mean_mean_item_price_3',\n",
    "                    'rolling_mean_income_4',\n",
    "                    'rolling_mean_income_3',\n",
    "                    'rolling_mean_mean_item_price_4',\n",
    "                    'is_s_center',\n",
    "                    'is_in_Moscow',\n",
    "                    'income_lag_12']"
   ]
  },
  {
   "cell_type": "markdown",
   "metadata": {},
   "source": [
    "# Modeling"
   ]
  },
  {
   "cell_type": "markdown",
   "metadata": {},
   "source": [
    "<h3>I used simple weighted averaging of CatBoostRegressor and SGDRegressor</h3>"
   ]
  },
  {
   "cell_type": "code",
   "execution_count": 87,
   "metadata": {
    "collapsed": true
   },
   "outputs": [],
   "source": [
    "DATASET = monthly_train[monthly_train.date_block_num < 34]"
   ]
  },
  {
   "cell_type": "markdown",
   "metadata": {},
   "source": [
    "<h3>In some cases it was better to use the whole data, but sometimes from 12 month</h3>"
   ]
  },
  {
   "cell_type": "code",
   "execution_count": 88,
   "metadata": {
    "collapsed": true
   },
   "outputs": [],
   "source": [
    "# DATASET = DATASET[(DATASET.date_block_num >= 12) & (DATASET.date_block_num != 34)].reset_index(drop=True)\n",
    "DATASET = DATASET[(DATASET.date_block_num != 34)].reset_index(drop=True)"
   ]
  },
  {
   "cell_type": "markdown",
   "metadata": {},
   "source": [
    "<h3>Setting train/validation split, I guess there was some target leakage, but I haven't enough time to explore it unfortunately</h3>"
   ]
  },
  {
   "cell_type": "code",
   "execution_count": 89,
   "metadata": {
    "collapsed": true
   },
   "outputs": [],
   "source": [
    "val = DATASET[DATASET.date_block_num == 33]\n",
    "x_val = val.drop(columns_to_drop, axis=1)\n",
    "y_val = np.clip(val['item_cnt_month'], 0, 20) # in the submission we are expect to send answer clipped between 0 and 20\n",
    "\n",
    "train = DATASET[(DATASET.date_block_num < 33)]\n",
    "x_train = train.drop(columns_to_drop, axis=1)\n",
    "y_train = np.clip(train['item_cnt_month'], 0, 20)"
   ]
  },
  {
   "cell_type": "markdown",
   "metadata": {},
   "source": [
    "<h3>Plot target distributions</h3>"
   ]
  },
  {
   "cell_type": "code",
   "execution_count": 90,
   "metadata": {},
   "outputs": [
    {
     "data": {
      "image/png": "[encoded data removed]",
      "text/plain": [
       "<matplotlib.figure.Figure at 0x21d273fd6d8>"
      ]
     },
     "metadata": {},
     "output_type": "display_data"
    }
   ],
   "source": [
    "plt.figure(figsize=(19.20, 10.80))\n",
    "plt.hist(y_train, bins=15, alpha=0.5, label='train target distribution')\n",
    "plt.hist(y_val,bins=15, label='validation target distribution')\n",
    "plt.xlim([0, 20])\n",
    "plt.ylim([-5, 10000])\n",
    "plt.legend(loc='upper right')\n",
    "plt.show()"
   ]
  },
  {
   "cell_type": "code",
   "execution_count": 91,
   "metadata": {
    "collapsed": true
   },
   "outputs": [],
   "source": [
    "model = cb.CatBoostRegressor(\n",
    "    iterations=1000,\n",
    "    learning_rate=0.03,\n",
    "    max_ctr_complexity=6,\n",
    "    max_depth=10,\n",
    "    rsm=0.7,\n",
    "    boosting_type='Plain',\n",
    "    bootstrap_type='Bernoulli',\n",
    "    subsample=0.5,\n",
    "    one_hot_max_size=5,\n",
    "    random_seed=0\n",
    ")"
   ]
  },
  {
   "cell_type": "code",
   "execution_count": 92,
   "metadata": {
    "scrolled": true
   },
   "outputs": [
    {
     "name": "stdout",
     "output_type": "stream",
     "text": [
      "0:\tlearn: 1.2439379\ttest: 1.1509115\tbest: 1.1509115 (0)\ttotal: 3.39s\tremaining: 56m 27s\n",
      "50:\tlearn: 0.8612372\ttest: 0.8893747\tbest: 0.8893747 (50)\ttotal: 1m 45s\tremaining: 32m 40s\n",
      "100:\tlearn: 0.8118892\ttest: 0.8718813\tbest: 0.8718813 (100)\ttotal: 3m 21s\tremaining: 29m 53s\n",
      "150:\tlearn: 0.7952385\ttest: 0.8666095\tbest: 0.8666095 (150)\ttotal: 4m 58s\tremaining: 27m 56s\n",
      "200:\tlearn: 0.7849462\ttest: 0.8598659\tbest: 0.8598659 (200)\ttotal: 6m 36s\tremaining: 26m 17s\n",
      "250:\tlearn: 0.7770967\ttest: 0.8562954\tbest: 0.8562954 (250)\ttotal: 8m 15s\tremaining: 24m 38s\n",
      "300:\tlearn: 0.7706220\ttest: 0.8525714\tbest: 0.8525714 (300)\ttotal: 9m 53s\tremaining: 22m 58s\n",
      "350:\tlearn: 0.7650590\ttest: 0.8507049\tbest: 0.8505412 (349)\ttotal: 11m 31s\tremaining: 21m 18s\n",
      "400:\tlearn: 0.7599347\ttest: 0.8477989\tbest: 0.8477989 (400)\ttotal: 13m 9s\tremaining: 19m 39s\n",
      "450:\tlearn: 0.7557239\ttest: 0.8453820\tbest: 0.8453820 (450)\ttotal: 14m 48s\tremaining: 18m 1s\n",
      "500:\tlearn: 0.7519138\ttest: 0.8443691\tbest: 0.8443122 (491)\ttotal: 16m 28s\tremaining: 16m 24s\n",
      "550:\tlearn: 0.7482327\ttest: 0.8428619\tbest: 0.8428619 (550)\ttotal: 18m 9s\tremaining: 14m 47s\n",
      "600:\tlearn: 0.7452713\ttest: 0.8420046\tbest: 0.8419364 (599)\ttotal: 19m 49s\tremaining: 13m 9s\n",
      "650:\tlearn: 0.7425417\ttest: 0.8399678\tbest: 0.8399678 (650)\ttotal: 21m 29s\tremaining: 11m 31s\n",
      "700:\tlearn: 0.7400074\ttest: 0.8390273\tbest: 0.8390273 (700)\ttotal: 23m 8s\tremaining: 9m 52s\n",
      "750:\tlearn: 0.7372796\ttest: 0.8375319\tbest: 0.8375319 (750)\ttotal: 24m 52s\tremaining: 8m 14s\n",
      "800:\tlearn: 0.7349106\ttest: 0.8370068\tbest: 0.8370068 (800)\ttotal: 26m 41s\tremaining: 6m 37s\n",
      "850:\tlearn: 0.7327467\ttest: 0.8370670\tbest: 0.8369815 (801)\ttotal: 28m 20s\tremaining: 4m 57s\n",
      "900:\tlearn: 0.7307197\ttest: 0.8365283\tbest: 0.8365244 (899)\ttotal: 29m 59s\tremaining: 3m 17s\n",
      "950:\tlearn: 0.7289345\ttest: 0.8364597\tbest: 0.8364031 (926)\ttotal: 31m 37s\tremaining: 1m 37s\n",
      "999:\tlearn: 0.7270642\ttest: 0.8342829\tbest: 0.8342305 (997)\ttotal: 33m 14s\tremaining: 0us\n",
      "\n",
      "bestTest = 0.8342305496\n",
      "bestIteration = 997\n",
      "\n",
      "Shrink model to first 998 iterations.\n",
      "Wall time: 34min 28s\n"
     ]
    },
    {
     "data": {
      "text/plain": [
       "<catboost.core.CatBoostRegressor at 0x21e8870bb00>"
      ]
     },
     "execution_count": 92,
     "metadata": {},
     "output_type": "execute_result"
    }
   ],
   "source": [
    "%%time\n",
    "model.fit(\n",
    "    x_train, y_train,\n",
    "    eval_set=(x_val, y_val),\n",
    "    verbose=50\n",
    ")"
   ]
  },
  {
   "cell_type": "code",
   "execution_count": 93,
   "metadata": {},
   "outputs": [
    {
     "data": {
      "text/plain": [
       "{'learn': {'RMSE': 0.7270642273202438},\n",
       " 'validation': {'RMSE': 0.8342305496467042}}"
      ]
     },
     "execution_count": 93,
     "metadata": {},
     "output_type": "execute_result"
    }
   ],
   "source": [
    "model.best_score_"
   ]
  },
  {
   "cell_type": "code",
   "execution_count": 94,
   "metadata": {},
   "outputs": [
    {
     "data": {
      "text/plain": [
       "(0.7269408745723206, 0.834110679837102)"
      ]
     },
     "execution_count": 94,
     "metadata": {},
     "output_type": "execute_result"
    }
   ],
   "source": [
    "(mean_squared_error(y_train, np.clip(model.predict(x_train), 0, 20), squared=False),\n",
    "mean_squared_error(y_val, np.clip(model.predict(x_val), 0, 20), squared=False))"
   ]
  },
  {
   "cell_type": "markdown",
   "metadata": {},
   "source": [
    "<h3>CatBoost feature importances</h3>"
   ]
  },
  {
   "cell_type": "code",
   "execution_count": 95,
   "metadata": {},
   "outputs": [
    {
     "data": {
      "text/plain": [
       "<matplotlib.axes._subplots.AxesSubplot at 0x21d380829b0>"
      ]
     },
     "execution_count": 95,
     "metadata": {},
     "output_type": "execute_result"
    },
    {
     "data": {
      "image/png": "[encoded data removed]",
      "text/plain": [
       "<matplotlib.figure.Figure at 0x21d3803e550>"
      ]
     },
     "metadata": {},
     "output_type": "display_data"
    }
   ],
   "source": [
    "pd.DataFrame(model.feature_importances_, index=model.feature_names_)\\\n",
    ".reset_index().sort_values(0, ascending=False)\\\n",
    ".plot(x='index', y=0, kind='bar', legend=False, figsize=(19.20, 10.80))"
   ]
  },
  {
   "cell_type": "markdown",
   "metadata": {},
   "source": [
    "<h3>Fitting linear regression, I removed some categoricals and applied MinMaxScaler</h3>"
   ]
  },
  {
   "cell_type": "code",
   "execution_count": 96,
   "metadata": {},
   "outputs": [
    {
     "name": "stdout",
     "output_type": "stream",
     "text": [
      "Wall time: 6.36 s\n"
     ]
    }
   ],
   "source": [
    "%%time\n",
    "x_train_for_linreg = x_train.copy()\n",
    "x_val_for_linreg = x_val.copy()\n",
    "\n",
    "x_train_for_linreg.drop(['shop_id', 'item_id', 'item_category_id'], axis=1, inplace=True)\n",
    "x_val_for_linreg.drop(['shop_id', 'item_id', 'item_category_id'], axis=1, inplace=True)\n",
    "\n",
    "scaler = MinMaxScaler() # linear models are sensitive to features scale\n",
    "\n",
    "scaler.fit(x_train_for_linreg)\n",
    "\n",
    "x_train_for_linreg = scaler.transform(x_train_for_linreg)\n",
    "x_val_for_linreg = scaler.transform(x_val_for_linreg)"
   ]
  },
  {
   "cell_type": "code",
   "execution_count": 97,
   "metadata": {
    "collapsed": true
   },
   "outputs": [],
   "source": [
    "linreg = SGDRegressor(random_state=0, penalty='elasticnet', l1_ratio=0.3, verbose=100, learning_rate='adaptive', alpha=0)"
   ]
  },
  {
   "cell_type": "code",
   "execution_count": 98,
   "metadata": {},
   "outputs": [
    {
     "name": "stdout",
     "output_type": "stream",
     "text": [
      "-- Epoch 1\n",
      "Norm: 56.05, NNZs: 50, Bias: 7.514271, T: 10646424, Avg. loss: 0.548975\n",
      "Total training time: 4.88 seconds.\n",
      "-- Epoch 2\n",
      "Norm: 61.68, NNZs: 50, Bias: 7.458811, T: 21292848, Avg. loss: 0.539931\n",
      "Total training time: 9.76 seconds.\n",
      "-- Epoch 3\n",
      "Norm: 61.37, NNZs: 50, Bias: 7.385747, T: 31939272, Avg. loss: 0.539597\n",
      "Total training time: 14.61 seconds.\n",
      "-- Epoch 4\n",
      "Norm: 63.88, NNZs: 50, Bias: 7.206844, T: 42585696, Avg. loss: 0.539235\n",
      "Total training time: 19.42 seconds.\n",
      "-- Epoch 5\n",
      "Norm: 65.94, NNZs: 50, Bias: 7.510382, T: 53232120, Avg. loss: 0.539081\n",
      "Total training time: 24.25 seconds.\n",
      "-- Epoch 6\n",
      "Norm: 67.15, NNZs: 50, Bias: 7.160170, T: 63878544, Avg. loss: 0.538926\n",
      "Total training time: 29.09 seconds.\n",
      "-- Epoch 7\n",
      "Norm: 68.34, NNZs: 50, Bias: 7.398678, T: 74524968, Avg. loss: 0.538878\n",
      "Total training time: 33.97 seconds.\n",
      "-- Epoch 8\n",
      "Norm: 68.39, NNZs: 50, Bias: 7.294648, T: 85171392, Avg. loss: 0.519556\n",
      "Total training time: 38.80 seconds.\n",
      "-- Epoch 9\n",
      "Norm: 68.64, NNZs: 50, Bias: 7.331633, T: 95817816, Avg. loss: 0.519569\n",
      "Total training time: 43.65 seconds.\n",
      "-- Epoch 10\n",
      "Norm: 68.73, NNZs: 50, Bias: 7.306109, T: 106464240, Avg. loss: 0.519553\n",
      "Total training time: 48.49 seconds.\n",
      "-- Epoch 11\n",
      "Norm: 69.25, NNZs: 50, Bias: 7.291426, T: 117110664, Avg. loss: 0.519533\n",
      "Total training time: 53.34 seconds.\n",
      "-- Epoch 12\n",
      "Norm: 68.91, NNZs: 50, Bias: 7.254096, T: 127757088, Avg. loss: 0.519482\n",
      "Total training time: 58.19 seconds.\n",
      "-- Epoch 13\n",
      "Norm: 69.50, NNZs: 50, Bias: 7.256119, T: 138403512, Avg. loss: 0.519503\n",
      "Total training time: 63.02 seconds.\n",
      "-- Epoch 14\n",
      "Norm: 69.49, NNZs: 50, Bias: 7.254005, T: 149049936, Avg. loss: 0.515800\n",
      "Total training time: 67.89 seconds.\n",
      "-- Epoch 15\n",
      "Norm: 69.58, NNZs: 50, Bias: 7.261753, T: 159696360, Avg. loss: 0.515800\n",
      "Total training time: 72.84 seconds.\n",
      "-- Epoch 16\n",
      "Norm: 69.64, NNZs: 50, Bias: 7.270776, T: 170342784, Avg. loss: 0.515799\n",
      "Total training time: 77.78 seconds.\n",
      "-- Epoch 17\n",
      "Norm: 69.68, NNZs: 50, Bias: 7.261514, T: 180989208, Avg. loss: 0.515802\n",
      "Total training time: 82.70 seconds.\n",
      "-- Epoch 18\n",
      "Norm: 69.69, NNZs: 50, Bias: 7.248926, T: 191635632, Avg. loss: 0.515798\n",
      "Total training time: 87.55 seconds.\n",
      "-- Epoch 19\n",
      "Norm: 69.70, NNZs: 50, Bias: 7.225960, T: 202282056, Avg. loss: 0.515793\n",
      "Total training time: 92.39 seconds.\n",
      "-- Epoch 20\n",
      "Norm: 69.72, NNZs: 50, Bias: 7.247410, T: 212928480, Avg. loss: 0.515060\n",
      "Total training time: 97.22 seconds.\n",
      "-- Epoch 21\n",
      "Norm: 69.73, NNZs: 50, Bias: 7.245451, T: 223574904, Avg. loss: 0.515061\n",
      "Total training time: 102.01 seconds.\n",
      "-- Epoch 22\n",
      "Norm: 69.75, NNZs: 50, Bias: 7.248499, T: 234221328, Avg. loss: 0.515057\n",
      "Total training time: 106.80 seconds.\n",
      "-- Epoch 23\n",
      "Norm: 69.77, NNZs: 50, Bias: 7.249337, T: 244867752, Avg. loss: 0.515054\n",
      "Total training time: 111.59 seconds.\n",
      "-- Epoch 24\n",
      "Norm: 69.78, NNZs: 50, Bias: 7.247652, T: 255514176, Avg. loss: 0.515062\n",
      "Total training time: 116.38 seconds.\n",
      "-- Epoch 25\n",
      "Norm: 69.78, NNZs: 50, Bias: 7.247509, T: 266160600, Avg. loss: 0.514909\n",
      "Total training time: 121.19 seconds.\n",
      "-- Epoch 26\n",
      "Norm: 69.78, NNZs: 50, Bias: 7.248481, T: 276807024, Avg. loss: 0.514909\n",
      "Total training time: 126.02 seconds.\n",
      "-- Epoch 27\n",
      "Norm: 69.79, NNZs: 50, Bias: 7.247938, T: 287453448, Avg. loss: 0.514910\n",
      "Total training time: 130.85 seconds.\n",
      "-- Epoch 28\n",
      "Norm: 69.79, NNZs: 50, Bias: 7.250808, T: 298099872, Avg. loss: 0.514909\n",
      "Total training time: 135.70 seconds.\n",
      "-- Epoch 29\n",
      "Norm: 69.79, NNZs: 50, Bias: 7.248637, T: 308746296, Avg. loss: 0.514911\n",
      "Total training time: 140.55 seconds.\n",
      "-- Epoch 30\n",
      "Norm: 69.79, NNZs: 50, Bias: 7.248874, T: 319392720, Avg. loss: 0.514881\n",
      "Total training time: 145.38 seconds.\n",
      "-- Epoch 31\n",
      "Norm: 69.79, NNZs: 50, Bias: 7.249822, T: 330039144, Avg. loss: 0.514880\n",
      "Total training time: 150.21 seconds.\n",
      "-- Epoch 32\n",
      "Norm: 69.79, NNZs: 50, Bias: 7.249956, T: 340685568, Avg. loss: 0.514880\n",
      "Total training time: 155.05 seconds.\n",
      "-- Epoch 33\n",
      "Norm: 69.79, NNZs: 50, Bias: 7.248387, T: 351331992, Avg. loss: 0.514878\n",
      "Total training time: 159.88 seconds.\n",
      "-- Epoch 34\n",
      "Norm: 69.80, NNZs: 50, Bias: 7.248594, T: 361978416, Avg. loss: 0.514879\n",
      "Total training time: 164.72 seconds.\n",
      "-- Epoch 35\n",
      "Norm: 69.80, NNZs: 50, Bias: 7.249353, T: 372624840, Avg. loss: 0.514873\n",
      "Total training time: 169.56 seconds.\n",
      "-- Epoch 36\n",
      "Norm: 69.80, NNZs: 50, Bias: 7.249221, T: 383271264, Avg. loss: 0.514873\n",
      "Total training time: 174.40 seconds.\n",
      "-- Epoch 37\n",
      "Norm: 69.80, NNZs: 50, Bias: 7.249317, T: 393917688, Avg. loss: 0.514873\n",
      "Total training time: 179.31 seconds.\n",
      "-- Epoch 38\n",
      "Norm: 69.80, NNZs: 50, Bias: 7.249456, T: 404564112, Avg. loss: 0.514873\n",
      "Total training time: 184.18 seconds.\n",
      "-- Epoch 39\n",
      "Norm: 69.80, NNZs: 50, Bias: 7.249081, T: 415210536, Avg. loss: 0.514872\n",
      "Total training time: 189.18 seconds.\n",
      "Convergence after 39 epochs took 189.18 seconds\n",
      "Wall time: 3min 11s\n"
     ]
    },
    {
     "data": {
      "text/plain": [
       "SGDRegressor(alpha=0, l1_ratio=0.3, learning_rate='adaptive',\n",
       "             penalty='elasticnet', random_state=0, verbose=100)"
      ]
     },
     "execution_count": 98,
     "metadata": {},
     "output_type": "execute_result"
    }
   ],
   "source": [
    "%%time\n",
    "linreg.fit(x_train_for_linreg, y_train)"
   ]
  },
  {
   "cell_type": "code",
   "execution_count": 99,
   "metadata": {},
   "outputs": [
    {
     "data": {
      "text/plain": [
       "(0.995202395403477, 0.9793529273748369)"
      ]
     },
     "execution_count": 99,
     "metadata": {},
     "output_type": "execute_result"
    }
   ],
   "source": [
    "mean_squared_error(y_train, np.clip(linreg.predict(x_train_for_linreg), 0, 20), squared=False), \\\n",
    "mean_squared_error(y_val, np.clip(linreg.predict(x_val_for_linreg), 0, 20), squared=False)"
   ]
  },
  {
   "cell_type": "markdown",
   "metadata": {},
   "source": [
    "# Predicting and submission"
   ]
  },
  {
   "cell_type": "code",
   "execution_count": 100,
   "metadata": {
    "collapsed": true
   },
   "outputs": [],
   "source": [
    "test_preprocessed = monthly_train[monthly_train.date_block_num == 34].reset_index(drop=True)\n",
    "\n",
    "x_test = test_preprocessed.drop(columns_to_drop, axis=1)"
   ]
  },
  {
   "cell_type": "code",
   "execution_count": 101,
   "metadata": {
    "collapsed": true
   },
   "outputs": [],
   "source": [
    "cat_boost_answ = np.clip(model.predict(x_test), 0, 20)"
   ]
  },
  {
   "cell_type": "code",
   "execution_count": 102,
   "metadata": {
    "collapsed": true
   },
   "outputs": [],
   "source": [
    "x_test_for_linreg = x_test.drop(['shop_id', 'item_id', 'item_category_id'], axis=1).fillna(0)\n",
    "x_test_for_linreg = scaler.transform(x_test_for_linreg)\n",
    "\n",
    "\n",
    "linreg_answ = np.clip(linreg.predict(x_test_for_linreg), 0, 20)"
   ]
  },
  {
   "cell_type": "markdown",
   "metadata": {},
   "source": [
    "<h3>Finding the best alpha for averaging</h3>"
   ]
  },
  {
   "cell_type": "code",
   "execution_count": 103,
   "metadata": {
    "collapsed": true
   },
   "outputs": [],
   "source": [
    "alphas = []\n",
    "answ_cb_val = np.clip(model.predict(x_val), 0, 20)\n",
    "answ_lin_val = np.clip(linreg.predict(x_val_for_linreg), 0, 20)\n",
    "for alpha in np.arange(0, 1, 0.05):\n",
    "    result = answ_cb_val * alpha + answ_lin_val * (1 - alpha)\n",
    "    score = mean_squared_error(y_val, np.clip(result, 0, 20), squared=False)\n",
    "    alphas.append((alpha, score))"
   ]
  },
  {
   "cell_type": "code",
   "execution_count": 104,
   "metadata": {},
   "outputs": [
    {
     "data": {
      "text/plain": [
       "0.9"
      ]
     },
     "execution_count": 104,
     "metadata": {},
     "output_type": "execute_result"
    }
   ],
   "source": [
    "best_alpha = sorted(alphas, key=lambda x: x[1])[0][0]\n",
    "best_alpha"
   ]
  },
  {
   "cell_type": "markdown",
   "metadata": {},
   "source": [
    "<h3>Final answer and submission</h3>"
   ]
  },
  {
   "cell_type": "code",
   "execution_count": 105,
   "metadata": {
    "collapsed": true
   },
   "outputs": [],
   "source": [
    "answ = (cat_boost_answ * best_alpha + linreg_answ * (1 - best_alpha))\n",
    "# answ = (cat_boost_answ * 0.8 + linreg_answ * 0.2)\n",
    "# answ = cat_boost_answ"
   ]
  },
  {
   "cell_type": "code",
   "execution_count": 106,
   "metadata": {
    "collapsed": true
   },
   "outputs": [],
   "source": [
    "test_preprocessed['item_cnt_month'] = np.clip(answ, 0, 20)"
   ]
  },
  {
   "cell_type": "code",
   "execution_count": 107,
   "metadata": {
    "collapsed": true
   },
   "outputs": [],
   "source": [
    "answer = test.merge(test_preprocessed[['shop_id', 'item_id', 'item_cnt_month']], on=['shop_id', 'item_id'], how='left')"
   ]
  },
  {
   "cell_type": "code",
   "execution_count": 108,
   "metadata": {
    "collapsed": true
   },
   "outputs": [],
   "source": [
    "submission = answer[['ID', 'item_cnt_month']]"
   ]
  },
  {
   "cell_type": "code",
   "execution_count": 109,
   "metadata": {
    "collapsed": true
   },
   "outputs": [],
   "source": [
    "submission.to_csv('./submission.csv', index=False)"
   ]
  },
  {
   "cell_type": "markdown",
   "metadata": {},
   "source": [
    "<h3>As a result I got 0.985114 on public leaderboard, I can do better, I haven't tried a lot of things, i.e. stacking, KNNFeatures, different models, lots of features, word2vec etc. I just haven't enough time for it.</h3>"
   ]
  }
 ],
 "metadata": {
  "kernelspec": {
   "display_name": "Python 3",
   "language": "python",
   "name": "python3"
  },
  "language_info": {
   "codemirror_mode": {
    "name": "ipython",
    "version": 3
   },
   "file_extension": ".py",
   "mimetype": "text/x-python",
   "name": "python",
   "nbconvert_exporter": "python",
   "pygments_lexer": "ipython3",
   "version": "3.6.10"
  }
 },
 "nbformat": 4,
 "nbformat_minor": 4
}
